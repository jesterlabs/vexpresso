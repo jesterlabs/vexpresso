{
 "cells": [
  {
   "cell_type": "code",
   "execution_count": 1,
   "id": "667e9398-eb26-4b39-8281-77d8106e0298",
   "metadata": {},
   "outputs": [
    {
     "name": "stderr",
     "output_type": "stream",
     "text": [
      "/home/shyam/miniconda3/envs/py39/lib/python3.9/site-packages/tqdm/auto.py:21: TqdmWarning: IProgress not found. Please update jupyter and ipywidgets. See https://ipywidgets.readthedocs.io/en/stable/user_install.html\n",
      "  from .autonotebook import tqdm as notebook_tqdm\n"
     ]
    }
   ],
   "source": [
    "from langchain.vectorstores import Chroma\n",
    "from langchain.embeddings import OpenAIEmbeddings\n",
    "from langchain.text_splitter import RecursiveCharacterTextSplitter\n",
    "from langchain.llms import OpenAI\n",
    "from langchain.chains import VectorDBQA\n",
    "from langchain.document_loaders import TextLoader\n",
    "import vexpresso\n",
    "from vexpresso import transformation, DaftCollection\n",
    "import numpy as np"
   ]
  },
  {
   "cell_type": "code",
   "execution_count": 2,
   "id": "6e5aec3d-1cb0-4486-8f02-9ba8771a7acb",
   "metadata": {},
   "outputs": [],
   "source": [
    "loader = TextLoader('data/state_of_the_union.txt')\n",
    "documents = loader.load()"
   ]
  },
  {
   "cell_type": "code",
   "execution_count": 3,
   "id": "60e3d686-8f53-47a0-a82c-60017b8ab45c",
   "metadata": {},
   "outputs": [],
   "source": [
    "text_splitter = RecursiveCharacterTextSplitter(chunk_size=1000, chunk_overlap=0)\n",
    "texts = text_splitter.split_documents(documents)"
   ]
  },
  {
   "cell_type": "code",
   "execution_count": 4,
   "id": "4e22416a-759a-49a3-85a9-0287196d689d",
   "metadata": {},
   "outputs": [
    {
     "name": "stderr",
     "output_type": "stream",
     "text": [
      "\u001b[32m2023-06-07 01:14:54.216\u001b[0m | \u001b[1mINFO    \u001b[0m | \u001b[36mdaft.context\u001b[0m:\u001b[36mrunner\u001b[0m:\u001b[36m88\u001b[0m - \u001b[1mUsing PyRunner\u001b[0m\n"
     ]
    }
   ],
   "source": [
    "collection = DaftCollection.from_documents(texts)"
   ]
  },
  {
   "cell_type": "code",
   "execution_count": 5,
   "id": "d78f8b57-f954-4d32-ae19-0a400c6501c8",
   "metadata": {},
   "outputs": [
    {
     "data": {
      "text/html": [
       "<div>\n",
       "    <table class=\"dataframe\">\n",
       "<thead>\n",
       "<tr><th>source<br>Utf8             </th><th>text<br>Utf8                                                </th><th style=\"text-align: right;\">  vexpresso_index<br>Int64</th></tr>\n",
       "</thead>\n",
       "<tbody>\n",
       "<tr><td>data/state_of_the_union.txt</td><td>Madam Speaker, Madam Vice President, our First Lady and S...</td><td style=\"text-align: right;\">                         0</td></tr>\n",
       "<tr><td>data/state_of_the_union.txt</td><td>Groups of citizens blocking tanks with their bodies. Ever...</td><td style=\"text-align: right;\">                         1</td></tr>\n",
       "<tr><td>data/state_of_the_union.txt</td><td>Putin’s latest attack on Ukraine was premeditated and unp...</td><td style=\"text-align: right;\">                         2</td></tr>\n",
       "<tr><td>data/state_of_the_union.txt</td><td>We are inflicting pain on Russia and supporting the peopl...</td><td style=\"text-align: right;\">                         3</td></tr>\n",
       "<tr><td>data/state_of_the_union.txt</td><td>And tonight I am announcing that we will join our allies ...</td><td style=\"text-align: right;\">                         4</td></tr>\n",
       "</tbody>\n",
       "</table>\n",
       "    <small>(Showing first 5 rows)</small>\n",
       "</div>"
      ],
      "text/plain": [
       "+----------------------+----------------------+-------------------+\n",
       "| source               | text                 |   vexpresso_index |\n",
       "| Utf8                 | Utf8                 |             Int64 |\n",
       "+======================+======================+===================+\n",
       "| data/state_of_the_un | Madam Speaker, Madam |                 0 |\n",
       "| ion.txt              | Vice President, our  |                   |\n",
       "|                      | First Lady and S...  |                   |\n",
       "+----------------------+----------------------+-------------------+\n",
       "| data/state_of_the_un | Groups of citizens   |                 1 |\n",
       "| ion.txt              | blocking tanks with  |                   |\n",
       "|                      | their bodies.        |                   |\n",
       "|                      | Ever...              |                   |\n",
       "+----------------------+----------------------+-------------------+\n",
       "| data/state_of_the_un | Putin’s latest       |                 2 |\n",
       "| ion.txt              | attack on Ukraine    |                   |\n",
       "|                      | was premeditated and |                   |\n",
       "|                      | unp...               |                   |\n",
       "+----------------------+----------------------+-------------------+\n",
       "| data/state_of_the_un | We are inflicting    |                 3 |\n",
       "| ion.txt              | pain on Russia and   |                   |\n",
       "|                      | supporting the       |                   |\n",
       "|                      | peopl...             |                   |\n",
       "+----------------------+----------------------+-------------------+\n",
       "| data/state_of_the_un | And tonight I am     |                 4 |\n",
       "| ion.txt              | announcing that we   |                   |\n",
       "|                      | will join our allies |                   |\n",
       "|                      | ...                  |                   |\n",
       "+----------------------+----------------------+-------------------+\n",
       "(Showing first 5 rows)"
      ]
     },
     "execution_count": 5,
     "metadata": {},
     "output_type": "execute_result"
    }
   ],
   "source": [
    "collection.show(5)"
   ]
  },
  {
   "cell_type": "code",
   "execution_count": 6,
   "id": "03b3597d-e50a-4185-8e67-eb295f484b27",
   "metadata": {},
   "outputs": [],
   "source": [
    "embeddings = OpenAIEmbeddings()\n",
    "\n",
    "def embed_fn(content):\n",
    "    return np.array(embeddings.embed_documents(content))"
   ]
  },
  {
   "cell_type": "code",
   "execution_count": 7,
   "id": "0b0a83bd-084a-4cd6-abb3-0b5142dcd3f7",
   "metadata": {},
   "outputs": [],
   "source": [
    "collection = collection.embed(\"text\", embedding_fn=embed_fn,  to=\"text_embeddings\").execute()"
   ]
  },
  {
   "cell_type": "code",
   "execution_count": 8,
   "id": "c99b16ed-52ae-4f05-bace-a3bc2ce84eb1",
   "metadata": {},
   "outputs": [
    {
     "data": {
      "text/html": [
       "<div>\n",
       "    <table class=\"dataframe\">\n",
       "<thead>\n",
       "<tr><th>source<br>Utf8             </th><th>text<br>Utf8                                                </th><th style=\"text-align: right;\">  vexpresso_index<br>Int64</th><th>text_embeddings<br>Python                         </th></tr>\n",
       "</thead>\n",
       "<tbody>\n",
       "<tr><td>data/state_of_the_union.txt</td><td>Madam Speaker, Madam Vice President, our First Lady and S...</td><td style=\"text-align: right;\">                         0</td><td>&ltnp.ndarray<br>shape=(1536,)<br>dtype=float64&gt</td></tr>\n",
       "<tr><td>data/state_of_the_union.txt</td><td>Groups of citizens blocking tanks with their bodies. Ever...</td><td style=\"text-align: right;\">                         1</td><td>&ltnp.ndarray<br>shape=(1536,)<br>dtype=float64&gt</td></tr>\n",
       "<tr><td>data/state_of_the_union.txt</td><td>Putin’s latest attack on Ukraine was premeditated and unp...</td><td style=\"text-align: right;\">                         2</td><td>&ltnp.ndarray<br>shape=(1536,)<br>dtype=float64&gt</td></tr>\n",
       "<tr><td>data/state_of_the_union.txt</td><td>We are inflicting pain on Russia and supporting the peopl...</td><td style=\"text-align: right;\">                         3</td><td>&ltnp.ndarray<br>shape=(1536,)<br>dtype=float64&gt</td></tr>\n",
       "<tr><td>data/state_of_the_union.txt</td><td>And tonight I am announcing that we will join our allies ...</td><td style=\"text-align: right;\">                         4</td><td>&ltnp.ndarray<br>shape=(1536,)<br>dtype=float64&gt</td></tr>\n",
       "</tbody>\n",
       "</table>\n",
       "    <small>(Showing first 5 rows)</small>\n",
       "</div>"
      ],
      "text/plain": [
       "+----------------------+----------------------+-------------------+---------------------+\n",
       "| source               | text                 |   vexpresso_index | text_embeddings     |\n",
       "| Utf8                 | Utf8                 |             Int64 | Python              |\n",
       "+======================+======================+===================+=====================+\n",
       "| data/state_of_the_un | Madam Speaker, Madam |                 0 | [-0.00357387        |\n",
       "| ion.txt              | Vice President, our  |                   | -0.01034664         |\n",
       "|                      | First Lady and S...  |                   | -0.01850316 ...     |\n",
       "|                      |                      |                   | -0.02549826  0.0... |\n",
       "+----------------------+----------------------+-------------------+---------------------+\n",
       "| data/state_of_the_un | Groups of citizens   |                 1 | [-0.0051529         |\n",
       "| ion.txt              | blocking tanks with  |                   | -0.02353534         |\n",
       "|                      | their bodies.        |                   | 0.00292042 ...      |\n",
       "|                      | Ever...              |                   | -0.01090114  0.0... |\n",
       "+----------------------+----------------------+-------------------+---------------------+\n",
       "| data/state_of_the_un | Putin’s latest       |                 2 | [ 0.00837639        |\n",
       "| ion.txt              | attack on Ukraine    |                   | -0.00658239         |\n",
       "|                      | was premeditated and |                   | 0.00370672 ...      |\n",
       "|                      | unp...               |                   | -0.00087062  0.0... |\n",
       "+----------------------+----------------------+-------------------+---------------------+\n",
       "| data/state_of_the_un | We are inflicting    |                 3 | [-0.01177542        |\n",
       "| ion.txt              | pain on Russia and   |                   | -0.00406621         |\n",
       "|                      | supporting the       |                   | 0.00990652 ...      |\n",
       "|                      | peopl...             |                   | 0.00296078  0.0...  |\n",
       "+----------------------+----------------------+-------------------+---------------------+\n",
       "| data/state_of_the_un | And tonight I am     |                 4 | [-0.01979326        |\n",
       "| ion.txt              | announcing that we   |                   | -0.03171708         |\n",
       "|                      | will join our allies |                   | 0.01474193 ...      |\n",
       "|                      | ...                  |                   | 0.01322653  0.0...  |\n",
       "+----------------------+----------------------+-------------------+---------------------+\n",
       "(Showing first 5 rows)"
      ]
     },
     "execution_count": 8,
     "metadata": {},
     "output_type": "execute_result"
    }
   ],
   "source": [
    "collection.show(5)"
   ]
  },
  {
   "cell_type": "code",
   "execution_count": 9,
   "id": "0f5ee9b8-f52f-4e0d-9343-d271ea5c98d4",
   "metadata": {},
   "outputs": [],
   "source": [
    "vecdb = collection.to_langchain(\"text\", \"text_embeddings\")"
   ]
  },
  {
   "cell_type": "code",
   "execution_count": 10,
   "id": "87ccc96b-6094-4b9a-8386-ea131061674f",
   "metadata": {},
   "outputs": [
    {
     "name": "stderr",
     "output_type": "stream",
     "text": [
      "/home/shyam/miniconda3/envs/py39/lib/python3.9/site-packages/langchain/chains/retrieval_qa/base.py:201: UserWarning: `VectorDBQA` is deprecated - please use `from langchain.chains import RetrievalQA`\n",
      "  warnings.warn(\n"
     ]
    }
   ],
   "source": [
    "qa = VectorDBQA.from_chain_type(llm=OpenAI(), chain_type=\"stuff\", vectorstore=vecdb)"
   ]
  },
  {
   "cell_type": "code",
   "execution_count": 11,
   "id": "dd574002-caef-4973-9a4d-ca647fb18999",
   "metadata": {},
   "outputs": [
    {
     "name": "stderr",
     "output_type": "stream",
     "text": [
      "Retrying langchain.llms.openai.completion_with_retry.<locals>._completion_with_retry in 4.0 seconds as it raised RateLimitError: The server had an error while processing your request. Sorry about that!.\n"
     ]
    },
    {
     "data": {
      "text/plain": [
       "\" The president said that Ketanji Brown Jackson is one of the nation's top legal minds, a former top litigator in private practice, a former federal public defender, from a family of public school educators and police officers, a consensus builder, and has received a broad range of support since she was nominated.\""
      ]
     },
     "execution_count": 11,
     "metadata": {},
     "output_type": "execute_result"
    }
   ],
   "source": [
    "query = \"What did the president say about Ketanji Brown Jackson\"\n",
    "qa.run(query)"
   ]
  }
 ],
 "metadata": {
  "kernelspec": {
   "display_name": "Python [conda env:py39] *",
   "language": "python",
   "name": "conda-env-py39-py"
  },
  "language_info": {
   "codemirror_mode": {
    "name": "ipython",
    "version": 3
   },
   "file_extension": ".py",
   "mimetype": "text/x-python",
   "name": "python",
   "nbconvert_exporter": "python",
   "pygments_lexer": "ipython3",
   "version": "3.9.0"
  }
 },
 "nbformat": 4,
 "nbformat_minor": 5
}
