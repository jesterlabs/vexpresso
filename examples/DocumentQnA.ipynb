{
 "cells": [
  {
   "cell_type": "code",
   "execution_count": 1,
   "id": "667e9398-eb26-4b39-8281-77d8106e0298",
   "metadata": {},
   "outputs": [
    {
     "name": "stderr",
     "output_type": "stream",
     "text": [
      "/home/shyam/miniconda3/envs/py39/lib/python3.9/site-packages/tqdm/auto.py:21: TqdmWarning: IProgress not found. Please update jupyter and ipywidgets. See https://ipywidgets.readthedocs.io/en/stable/user_install.html\n",
      "  from .autonotebook import tqdm as notebook_tqdm\n"
     ]
    }
   ],
   "source": [
    "from langchain.vectorstores import Chroma\n",
    "from langchain.embeddings import OpenAIEmbeddings\n",
    "from langchain.text_splitter import RecursiveCharacterTextSplitter\n",
    "from langchain.llms import OpenAI\n",
    "from langchain.chains import VectorDBQA\n",
    "from langchain.document_loaders import TextLoader\n",
    "import daft\n",
    "import vexpresso\n",
    "from vexpresso import transformation\n",
    "from vexpresso.retriever import NumpyRetriever"
   ]
  },
  {
   "cell_type": "code",
   "execution_count": 2,
   "id": "6e5aec3d-1cb0-4486-8f02-9ba8771a7acb",
   "metadata": {},
   "outputs": [],
   "source": [
    "loader = TextLoader('data/state_of_the_union.txt')\n",
    "documents = loader.load()"
   ]
  },
  {
   "cell_type": "code",
   "execution_count": 3,
   "id": "60e3d686-8f53-47a0-a82c-60017b8ab45c",
   "metadata": {},
   "outputs": [],
   "source": [
    "text_splitter = RecursiveCharacterTextSplitter(chunk_size=1000, chunk_overlap=0)\n",
    "texts = text_splitter.split_documents(documents)"
   ]
  },
  {
   "cell_type": "code",
   "execution_count": 4,
   "id": "d25b8054-ea9f-431c-b5a6-61f241a81959",
   "metadata": {},
   "outputs": [],
   "source": [
    "raw = {\"texts\":[t.page_content for t in texts]}"
   ]
  },
  {
   "cell_type": "code",
   "execution_count": 5,
   "id": "e73e8dd5-3cc9-46c4-b557-ac1fd836a3b1",
   "metadata": {},
   "outputs": [
    {
     "data": {
      "text/plain": [
       "Document(page_content='Madam Speaker, Madam Vice President, our First Lady and Second Gentleman. Members of Congress and the Cabinet. Justices of the Supreme Court. My fellow Americans.  \\n\\nLast year COVID-19 kept us apart. This year we are finally together again. \\n\\nTonight, we meet as Democrats Republicans and Independents. But most importantly as Americans. \\n\\nWith a duty to one another to the American people to the Constitution. \\n\\nAnd with an unwavering resolve that freedom will always triumph over tyranny. \\n\\nSix days ago, Russia’s Vladimir Putin sought to shake the foundations of the free world thinking he could make it bend to his menacing ways. But he badly miscalculated. \\n\\nHe thought he could roll into Ukraine and the world would roll over. Instead he met a wall of strength he never imagined. \\n\\nHe met the Ukrainian people. \\n\\nFrom President Zelenskyy to every Ukrainian, their fearlessness, their courage, their determination, inspires the world.', metadata={'source': 'data/state_of_the_union.txt'})"
      ]
     },
     "execution_count": 5,
     "metadata": {},
     "output_type": "execute_result"
    }
   ],
   "source": [
    "texts[0]"
   ]
  },
  {
   "cell_type": "code",
   "execution_count": 6,
   "id": "4e22416a-759a-49a3-85a9-0287196d689d",
   "metadata": {},
   "outputs": [
    {
     "name": "stderr",
     "output_type": "stream",
     "text": [
      "\u001b[32m2023-06-07 00:57:46.113\u001b[0m | \u001b[1mINFO    \u001b[0m | \u001b[36mdaft.context\u001b[0m:\u001b[36mrunner\u001b[0m:\u001b[36m88\u001b[0m - \u001b[1mUsing PyRunner\u001b[0m\n"
     ]
    }
   ],
   "source": [
    "collection = vexpresso.create(data=raw)"
   ]
  },
  {
   "cell_type": "code",
   "execution_count": 7,
   "id": "d78f8b57-f954-4d32-ae19-0a400c6501c8",
   "metadata": {},
   "outputs": [
    {
     "data": {
      "text/html": [
       "<div>\n",
       "    <table class=\"dataframe\">\n",
       "<thead>\n",
       "<tr><th>texts<br>Utf8                                               </th><th style=\"text-align: right;\">  vexpresso_index<br>Int64</th></tr>\n",
       "</thead>\n",
       "<tbody>\n",
       "<tr><td>Madam Speaker, Madam Vice President, our First Lady and S...</td><td style=\"text-align: right;\">                         0</td></tr>\n",
       "<tr><td>Groups of citizens blocking tanks with their bodies. Ever...</td><td style=\"text-align: right;\">                         1</td></tr>\n",
       "<tr><td>Putin’s latest attack on Ukraine was premeditated and unp...</td><td style=\"text-align: right;\">                         2</td></tr>\n",
       "<tr><td>We are inflicting pain on Russia and supporting the peopl...</td><td style=\"text-align: right;\">                         3</td></tr>\n",
       "<tr><td>And tonight I am announcing that we will join our allies ...</td><td style=\"text-align: right;\">                         4</td></tr>\n",
       "</tbody>\n",
       "</table>\n",
       "    <small>(Showing first 5 rows)</small>\n",
       "</div>"
      ],
      "text/plain": [
       "+----------------------+-------------------+\n",
       "| texts                |   vexpresso_index |\n",
       "| Utf8                 |             Int64 |\n",
       "+======================+===================+\n",
       "| Madam Speaker, Madam |                 0 |\n",
       "| Vice President, our  |                   |\n",
       "| First Lady and S...  |                   |\n",
       "+----------------------+-------------------+\n",
       "| Groups of citizens   |                 1 |\n",
       "| blocking tanks with  |                   |\n",
       "| their bodies.        |                   |\n",
       "| Ever...              |                   |\n",
       "+----------------------+-------------------+\n",
       "| Putin’s latest       |                 2 |\n",
       "| attack on Ukraine    |                   |\n",
       "| was premeditated and |                   |\n",
       "| unp...               |                   |\n",
       "+----------------------+-------------------+\n",
       "| We are inflicting    |                 3 |\n",
       "| pain on Russia and   |                   |\n",
       "| supporting the       |                   |\n",
       "| peopl...             |                   |\n",
       "+----------------------+-------------------+\n",
       "| And tonight I am     |                 4 |\n",
       "| announcing that we   |                   |\n",
       "| will join our allies |                   |\n",
       "| ...                  |                   |\n",
       "+----------------------+-------------------+\n",
       "(Showing first 5 rows)"
      ]
     },
     "execution_count": 7,
     "metadata": {},
     "output_type": "execute_result"
    }
   ],
   "source": [
    "collection.show(5)"
   ]
  },
  {
   "cell_type": "code",
   "execution_count": 8,
   "id": "ed2869a3-0d76-4a63-8079-0e8cb7314308",
   "metadata": {},
   "outputs": [],
   "source": [
    "embeddings = OpenAIEmbeddings()"
   ]
  },
  {
   "cell_type": "code",
   "execution_count": 9,
   "id": "03b3597d-e50a-4185-8e67-eb295f484b27",
   "metadata": {},
   "outputs": [],
   "source": [
    "import numpy as np\n",
    "def embed_fn(content):\n",
    "    return np.array(embeddings.embed_documents(content))"
   ]
  },
  {
   "cell_type": "code",
   "execution_count": 10,
   "id": "0b0a83bd-084a-4cd6-abb3-0b5142dcd3f7",
   "metadata": {},
   "outputs": [],
   "source": [
    "collection = collection.embed(\"texts\", embedding_fn=embed_fn,  to=\"text_embeddings\").execute()"
   ]
  },
  {
   "cell_type": "code",
   "execution_count": 11,
   "id": "c99b16ed-52ae-4f05-bace-a3bc2ce84eb1",
   "metadata": {},
   "outputs": [
    {
     "data": {
      "text/html": [
       "<div>\n",
       "    <table class=\"dataframe\">\n",
       "<thead>\n",
       "<tr><th>texts<br>Utf8                                               </th><th style=\"text-align: right;\">  vexpresso_index<br>Int64</th><th>text_embeddings<br>Python                         </th></tr>\n",
       "</thead>\n",
       "<tbody>\n",
       "<tr><td>Madam Speaker, Madam Vice President, our First Lady and S...</td><td style=\"text-align: right;\">                         0</td><td>&ltnp.ndarray<br>shape=(1536,)<br>dtype=float64&gt</td></tr>\n",
       "<tr><td>Groups of citizens blocking tanks with their bodies. Ever...</td><td style=\"text-align: right;\">                         1</td><td>&ltnp.ndarray<br>shape=(1536,)<br>dtype=float64&gt</td></tr>\n",
       "<tr><td>Putin’s latest attack on Ukraine was premeditated and unp...</td><td style=\"text-align: right;\">                         2</td><td>&ltnp.ndarray<br>shape=(1536,)<br>dtype=float64&gt</td></tr>\n",
       "<tr><td>We are inflicting pain on Russia and supporting the peopl...</td><td style=\"text-align: right;\">                         3</td><td>&ltnp.ndarray<br>shape=(1536,)<br>dtype=float64&gt</td></tr>\n",
       "<tr><td>And tonight I am announcing that we will join our allies ...</td><td style=\"text-align: right;\">                         4</td><td>&ltnp.ndarray<br>shape=(1536,)<br>dtype=float64&gt</td></tr>\n",
       "</tbody>\n",
       "</table>\n",
       "    <small>(Showing first 5 rows)</small>\n",
       "</div>"
      ],
      "text/plain": [
       "+----------------------+-------------------+---------------------+\n",
       "| texts                |   vexpresso_index | text_embeddings     |\n",
       "| Utf8                 |             Int64 | Python              |\n",
       "+======================+===================+=====================+\n",
       "| Madam Speaker, Madam |                 0 | [-0.00353061        |\n",
       "| Vice President, our  |                   | -0.01037947         |\n",
       "| First Lady and S...  |                   | -0.018476   ...     |\n",
       "|                      |                   | -0.0255505   0.0... |\n",
       "+----------------------+-------------------+---------------------+\n",
       "| Groups of citizens   |                 1 | [-0.0051529         |\n",
       "| blocking tanks with  |                   | -0.02353534         |\n",
       "| their bodies.        |                   | 0.00292042 ...      |\n",
       "| Ever...              |                   | -0.01090114  0.0... |\n",
       "+----------------------+-------------------+---------------------+\n",
       "| Putin’s latest       |                 2 | [ 0.00837639        |\n",
       "| attack on Ukraine    |                   | -0.00658239         |\n",
       "| was premeditated and |                   | 0.00370672 ...      |\n",
       "| unp...               |                   | -0.00087062  0.0... |\n",
       "+----------------------+-------------------+---------------------+\n",
       "| We are inflicting    |                 3 | [-0.01177542        |\n",
       "| pain on Russia and   |                   | -0.00406621         |\n",
       "| supporting the       |                   | 0.00990652 ...      |\n",
       "| peopl...             |                   | 0.00296078  0.0...  |\n",
       "+----------------------+-------------------+---------------------+\n",
       "| And tonight I am     |                 4 | [-0.01979326        |\n",
       "| announcing that we   |                   | -0.03171708         |\n",
       "| will join our allies |                   | 0.01474193 ...      |\n",
       "| ...                  |                   | 0.01322653  0.0...  |\n",
       "+----------------------+-------------------+---------------------+\n",
       "(Showing first 5 rows)"
      ]
     },
     "execution_count": 11,
     "metadata": {},
     "output_type": "execute_result"
    }
   ],
   "source": [
    "collection.show(5)"
   ]
  },
  {
   "cell_type": "code",
   "execution_count": 12,
   "id": "0f5ee9b8-f52f-4e0d-9343-d271ea5c98d4",
   "metadata": {},
   "outputs": [],
   "source": [
    "vecdb = collection.to_langchain(\"texts\", \"text_embeddings\")"
   ]
  },
  {
   "cell_type": "code",
   "execution_count": 13,
   "id": "87ccc96b-6094-4b9a-8386-ea131061674f",
   "metadata": {},
   "outputs": [
    {
     "name": "stderr",
     "output_type": "stream",
     "text": [
      "/home/shyam/miniconda3/envs/py39/lib/python3.9/site-packages/langchain/chains/retrieval_qa/base.py:201: UserWarning: `VectorDBQA` is deprecated - please use `from langchain.chains import RetrievalQA`\n",
      "  warnings.warn(\n"
     ]
    }
   ],
   "source": [
    "qa = VectorDBQA.from_chain_type(llm=OpenAI(), chain_type=\"stuff\", vectorstore=vecdb)"
   ]
  },
  {
   "cell_type": "code",
   "execution_count": 14,
   "id": "dd574002-caef-4973-9a4d-ca647fb18999",
   "metadata": {},
   "outputs": [
    {
     "data": {
      "text/plain": [
       "' The president said that Ketanji Brown Jackson is one of the nation’s top legal minds, a former top litigator in private practice, a former federal public defender, from a family of public school educators and police officers, a consensus builder, and has received a broad range of support from the Fraternal Order of Police to former judges appointed by Democrats and Republicans.'"
      ]
     },
     "execution_count": 14,
     "metadata": {},
     "output_type": "execute_result"
    }
   ],
   "source": [
    "query = \"What did the president say about Ketanji Brown Jackson\"\n",
    "qa.run(query)"
   ]
  }
 ],
 "metadata": {
  "kernelspec": {
   "display_name": "Python [conda env:py39] *",
   "language": "python",
   "name": "conda-env-py39-py"
  },
  "language_info": {
   "codemirror_mode": {
    "name": "ipython",
    "version": 3
   },
   "file_extension": ".py",
   "mimetype": "text/x-python",
   "name": "python",
   "nbconvert_exporter": "python",
   "pygments_lexer": "ipython3",
   "version": "3.9.0"
  }
 },
 "nbformat": 4,
 "nbformat_minor": 5
}
