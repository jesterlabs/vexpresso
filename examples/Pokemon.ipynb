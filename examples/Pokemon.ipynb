{
 "cells": [
  {
   "cell_type": "markdown",
   "id": "c99cebcc-5d6d-4515-addc-d3def6f43716",
   "metadata": {},
   "source": [
    "# Vexpresso Walkthrough"
   ]
  },
  {
   "cell_type": "markdown",
   "id": "ed908b72-b76c-48ab-a83a-f3e1c15d0ff0",
   "metadata": {},
   "source": [
    "## In this walkthrough, we will be using a small dataset of Pokemon statistics to showcase vexpresso's capabilities"
   ]
  },
  {
   "cell_type": "markdown",
   "id": "b204b465-e3c1-4faa-ae05-f3441388ac73",
   "metadata": {},
   "source": [
    "### Imports"
   ]
  },
  {
   "cell_type": "code",
   "execution_count": 1,
   "id": "78b1ef26-51ba-4d99-a34a-2023d72472f8",
   "metadata": {},
   "outputs": [],
   "source": [
    "import json\n",
    "import pandas as pd\n",
    "from langchain.embeddings import HuggingFaceHubEmbeddings, HuggingFaceEmbeddings\n",
    "from vexpresso.collection import Collection\n",
    "from vexpresso.retrieval import FaissRetrievalStrategy, TopKRetrievalStrategy\n",
    "from vexpresso.embedding_function import LangChainEmbeddingsFunction"
   ]
  },
  {
   "cell_type": "markdown",
   "id": "0c978b24-056f-4996-8380-052ed826edfd",
   "metadata": {},
   "source": [
    "### Loading in data"
   ]
  },
  {
   "cell_type": "code",
   "execution_count": 2,
   "id": "3a3690f4-5406-4111-9221-e447b35f525f",
   "metadata": {},
   "outputs": [],
   "source": [
    "with open(\"./data/pokedex_processed.json\", \"r\") as f:\n",
    "    documents = json.load(f)"
   ]
  },
  {
   "cell_type": "code",
   "execution_count": 3,
   "id": "01e6d6e9-78c2-456d-95f1-789ad967db43",
   "metadata": {},
   "outputs": [],
   "source": [
    "df = pd.DataFrame(documents)"
   ]
  },
  {
   "cell_type": "code",
   "execution_count": 4,
   "id": "8568b879-b89b-4f91-8e16-9455e7e0f763",
   "metadata": {},
   "outputs": [
    {
     "data": {
      "text/html": [
       "<div>\n",
       "<style scoped>\n",
       "    .dataframe tbody tr th:only-of-type {\n",
       "        vertical-align: middle;\n",
       "    }\n",
       "\n",
       "    .dataframe tbody tr th {\n",
       "        vertical-align: top;\n",
       "    }\n",
       "\n",
       "    .dataframe thead th {\n",
       "        text-align: right;\n",
       "    }\n",
       "</style>\n",
       "<table border=\"1\" class=\"dataframe\">\n",
       "  <thead>\n",
       "    <tr style=\"text-align: right;\">\n",
       "      <th></th>\n",
       "      <th>id</th>\n",
       "      <th>type</th>\n",
       "      <th>info</th>\n",
       "      <th>profile</th>\n",
       "      <th>name</th>\n",
       "      <th>description</th>\n",
       "    </tr>\n",
       "  </thead>\n",
       "  <tbody>\n",
       "    <tr>\n",
       "      <th>0</th>\n",
       "      <td>1</td>\n",
       "      <td>['Grass', 'Poison']</td>\n",
       "      <td>{'HP': 45, 'Attack': 49, 'Defense': 49, 'Sp. A...</td>\n",
       "      <td>{'height': '0.7 m', 'weight': '6.9 kg', 'egg':...</td>\n",
       "      <td>Bulbasaur</td>\n",
       "      <td>Seed Pokémon: Bulbasaur can be seen napping in...</td>\n",
       "    </tr>\n",
       "    <tr>\n",
       "      <th>1</th>\n",
       "      <td>2</td>\n",
       "      <td>['Grass', 'Poison']</td>\n",
       "      <td>{'HP': 60, 'Attack': 62, 'Defense': 63, 'Sp. A...</td>\n",
       "      <td>{'height': '1 m', 'weight': '13 kg', 'egg': ['...</td>\n",
       "      <td>Ivysaur</td>\n",
       "      <td>Seed Pokémon: There is a bud on this Pokémon’s...</td>\n",
       "    </tr>\n",
       "    <tr>\n",
       "      <th>2</th>\n",
       "      <td>3</td>\n",
       "      <td>['Grass', 'Poison']</td>\n",
       "      <td>{'HP': 80, 'Attack': 82, 'Defense': 83, 'Sp. A...</td>\n",
       "      <td>{'height': '2 m', 'weight': '100 kg', 'egg': [...</td>\n",
       "      <td>Venusaur</td>\n",
       "      <td>Seed Pokémon: There is a large flower on Venus...</td>\n",
       "    </tr>\n",
       "    <tr>\n",
       "      <th>3</th>\n",
       "      <td>4</td>\n",
       "      <td>['Fire']</td>\n",
       "      <td>{'HP': 39, 'Attack': 52, 'Defense': 43, 'Sp. A...</td>\n",
       "      <td>{'height': '0.6 m', 'weight': '8.5 kg', 'egg':...</td>\n",
       "      <td>Charmander</td>\n",
       "      <td>Lizard Pokémon: The flame that burns at the ti...</td>\n",
       "    </tr>\n",
       "    <tr>\n",
       "      <th>4</th>\n",
       "      <td>5</td>\n",
       "      <td>['Fire']</td>\n",
       "      <td>{'HP': 58, 'Attack': 64, 'Defense': 58, 'Sp. A...</td>\n",
       "      <td>{'height': '1.1 m', 'weight': '19 kg', 'egg': ...</td>\n",
       "      <td>Charmeleon</td>\n",
       "      <td>Flame Pokémon: Charmeleon mercilessly destroys...</td>\n",
       "    </tr>\n",
       "    <tr>\n",
       "      <th>5</th>\n",
       "      <td>6</td>\n",
       "      <td>['Fire', 'Flying']</td>\n",
       "      <td>{'HP': 78, 'Attack': 84, 'Defense': 78, 'Sp. A...</td>\n",
       "      <td>{'height': '1.7 m', 'weight': '90.5 kg', 'egg'...</td>\n",
       "      <td>Charizard</td>\n",
       "      <td>Flame Pokémon: Charizard flies around the sky ...</td>\n",
       "    </tr>\n",
       "    <tr>\n",
       "      <th>6</th>\n",
       "      <td>7</td>\n",
       "      <td>['Water']</td>\n",
       "      <td>{'HP': 44, 'Attack': 48, 'Defense': 65, 'Sp. A...</td>\n",
       "      <td>{'height': '0.5 m', 'weight': '9 kg', 'egg': [...</td>\n",
       "      <td>Squirtle</td>\n",
       "      <td>Tiny Turtle Pokémon: Squirtle’s shell is not m...</td>\n",
       "    </tr>\n",
       "    <tr>\n",
       "      <th>7</th>\n",
       "      <td>8</td>\n",
       "      <td>['Water']</td>\n",
       "      <td>{'HP': 59, 'Attack': 63, 'Defense': 80, 'Sp. A...</td>\n",
       "      <td>{'height': '1 m', 'weight': '22.5 kg', 'egg': ...</td>\n",
       "      <td>Wartortle</td>\n",
       "      <td>Turtle Pokémon: Its tail is large and covered ...</td>\n",
       "    </tr>\n",
       "    <tr>\n",
       "      <th>8</th>\n",
       "      <td>9</td>\n",
       "      <td>['Water']</td>\n",
       "      <td>{'HP': 79, 'Attack': 83, 'Defense': 100, 'Sp. ...</td>\n",
       "      <td>{'height': '1.6 m', 'weight': '85.5 kg', 'egg'...</td>\n",
       "      <td>Blastoise</td>\n",
       "      <td>Shellfish Pokémon: Blastoise has water spouts ...</td>\n",
       "    </tr>\n",
       "    <tr>\n",
       "      <th>9</th>\n",
       "      <td>10</td>\n",
       "      <td>['Bug']</td>\n",
       "      <td>{'HP': 45, 'Attack': 30, 'Defense': 35, 'Sp. A...</td>\n",
       "      <td>{'height': '0.3 m', 'weight': '2.9 kg', 'egg':...</td>\n",
       "      <td>Caterpie</td>\n",
       "      <td>Worm Pokémon: Its body is soft and weak. In na...</td>\n",
       "    </tr>\n",
       "  </tbody>\n",
       "</table>\n",
       "</div>"
      ],
      "text/plain": [
       "   id                 type                                               info   \n",
       "0   1  ['Grass', 'Poison']  {'HP': 45, 'Attack': 49, 'Defense': 49, 'Sp. A...  \\\n",
       "1   2  ['Grass', 'Poison']  {'HP': 60, 'Attack': 62, 'Defense': 63, 'Sp. A...   \n",
       "2   3  ['Grass', 'Poison']  {'HP': 80, 'Attack': 82, 'Defense': 83, 'Sp. A...   \n",
       "3   4             ['Fire']  {'HP': 39, 'Attack': 52, 'Defense': 43, 'Sp. A...   \n",
       "4   5             ['Fire']  {'HP': 58, 'Attack': 64, 'Defense': 58, 'Sp. A...   \n",
       "5   6   ['Fire', 'Flying']  {'HP': 78, 'Attack': 84, 'Defense': 78, 'Sp. A...   \n",
       "6   7            ['Water']  {'HP': 44, 'Attack': 48, 'Defense': 65, 'Sp. A...   \n",
       "7   8            ['Water']  {'HP': 59, 'Attack': 63, 'Defense': 80, 'Sp. A...   \n",
       "8   9            ['Water']  {'HP': 79, 'Attack': 83, 'Defense': 100, 'Sp. ...   \n",
       "9  10              ['Bug']  {'HP': 45, 'Attack': 30, 'Defense': 35, 'Sp. A...   \n",
       "\n",
       "                                             profile        name   \n",
       "0  {'height': '0.7 m', 'weight': '6.9 kg', 'egg':...   Bulbasaur  \\\n",
       "1  {'height': '1 m', 'weight': '13 kg', 'egg': ['...     Ivysaur   \n",
       "2  {'height': '2 m', 'weight': '100 kg', 'egg': [...    Venusaur   \n",
       "3  {'height': '0.6 m', 'weight': '8.5 kg', 'egg':...  Charmander   \n",
       "4  {'height': '1.1 m', 'weight': '19 kg', 'egg': ...  Charmeleon   \n",
       "5  {'height': '1.7 m', 'weight': '90.5 kg', 'egg'...   Charizard   \n",
       "6  {'height': '0.5 m', 'weight': '9 kg', 'egg': [...    Squirtle   \n",
       "7  {'height': '1 m', 'weight': '22.5 kg', 'egg': ...   Wartortle   \n",
       "8  {'height': '1.6 m', 'weight': '85.5 kg', 'egg'...   Blastoise   \n",
       "9  {'height': '0.3 m', 'weight': '2.9 kg', 'egg':...    Caterpie   \n",
       "\n",
       "                                         description  \n",
       "0  Seed Pokémon: Bulbasaur can be seen napping in...  \n",
       "1  Seed Pokémon: There is a bud on this Pokémon’s...  \n",
       "2  Seed Pokémon: There is a large flower on Venus...  \n",
       "3  Lizard Pokémon: The flame that burns at the ti...  \n",
       "4  Flame Pokémon: Charmeleon mercilessly destroys...  \n",
       "5  Flame Pokémon: Charizard flies around the sky ...  \n",
       "6  Tiny Turtle Pokémon: Squirtle’s shell is not m...  \n",
       "7  Turtle Pokémon: Its tail is large and covered ...  \n",
       "8  Shellfish Pokémon: Blastoise has water spouts ...  \n",
       "9  Worm Pokémon: Its body is soft and weak. In na...  "
      ]
     },
     "execution_count": 4,
     "metadata": {},
     "output_type": "execute_result"
    }
   ],
   "source": [
    "df.head(10)"
   ]
  },
  {
   "cell_type": "code",
   "execution_count": 5,
   "id": "f79630d3-6ded-4598-bf9e-03c8cafef1e6",
   "metadata": {},
   "outputs": [
    {
     "data": {
      "text/plain": [
       "(809, 6)"
      ]
     },
     "execution_count": 5,
     "metadata": {},
     "output_type": "execute_result"
    }
   ],
   "source": [
    "df.shape"
   ]
  },
  {
   "cell_type": "markdown",
   "id": "f838eb3b-5727-46fb-992e-95a504110c0f",
   "metadata": {},
   "source": [
    "## Assemble content, metadata, embedding_fn"
   ]
  },
  {
   "cell_type": "code",
   "execution_count": 6,
   "id": "7f2de3df-1c58-4a92-836d-6ccb8fa008f8",
   "metadata": {},
   "outputs": [
    {
     "name": "stderr",
     "output_type": "stream",
     "text": [
      "/home/shyam/miniconda3/envs/py39/lib/python3.9/site-packages/tqdm/auto.py:21: TqdmWarning: IProgress not found. Please update jupyter and ipywidgets. See https://ipywidgets.readthedocs.io/en/stable/user_install.html\n",
      "  from .autonotebook import tqdm as notebook_tqdm\n"
     ]
    }
   ],
   "source": [
    "content = list(df[\"description\"])\n",
    "embeddings_fn = LangChainEmbeddingsFunction(HuggingFaceEmbeddings())"
   ]
  },
  {
   "cell_type": "markdown",
   "id": "ba0e7611-3eee-4327-9df4-f15149b892a4",
   "metadata": {},
   "source": [
    "## Create Collection\n",
    "### This may take some time because we are embedding 809 entries"
   ]
  },
  {
   "cell_type": "code",
   "execution_count": 7,
   "id": "da45eb34-e001-4c20-b09e-f42ce95c2c46",
   "metadata": {},
   "outputs": [],
   "source": [
    "# retrieval_strategy = FaissRetrievalStrategy() # this requires faiss, but is faster than numpy\n",
    "retrieval_strategy = TopKRetrievalStrategy()\n",
    "\n",
    "collection = Collection(\n",
    "    content = content,\n",
    "    embedding_fn = embeddings_fn,\n",
    "    metadata = df,\n",
    "    ids = list(df[\"name\"]),\n",
    "    retrieval_strategy=retrieval_strategy\n",
    ")"
   ]
  },
  {
   "cell_type": "markdown",
   "id": "308b595e-b300-414a-b027-78d3c750a359",
   "metadata": {},
   "source": [
    "### you can also create this without metadata or ids"
   ]
  },
  {
   "cell_type": "code",
   "execution_count": 8,
   "id": "996bab76-b806-48da-8969-5bdf609de8da",
   "metadata": {},
   "outputs": [],
   "source": [
    "without_metadata = Collection(\n",
    "    content,\n",
    "    embedding_fn = embeddings_fn,\n",
    "    retrieval_strategy=retrieval_strategy\n",
    ")"
   ]
  },
  {
   "cell_type": "markdown",
   "id": "3773bb4f-eb76-4120-9a0a-90b5331d3051",
   "metadata": {},
   "source": [
    "## Query by Pokemon description"
   ]
  },
  {
   "cell_type": "markdown",
   "id": "3c90e5f4-f545-4ed8-87c7-8e3d271414bf",
   "metadata": {},
   "source": [
    "### Let's find a pokemon that \"loves to sleep\""
   ]
  },
  {
   "cell_type": "code",
   "execution_count": 9,
   "id": "04e311da-9446-41ec-a26a-7bab0fb9f55c",
   "metadata": {},
   "outputs": [],
   "source": [
    "query = \"Loves to sleep\"\n",
    "sleepy_pokemon = collection.query(\"Loves to sleep\", k=10)"
   ]
  },
  {
   "cell_type": "code",
   "execution_count": 10,
   "id": "4f7fc1d3-6840-41d7-b6ec-5da524e54142",
   "metadata": {},
   "outputs": [
    {
     "data": {
      "text/html": [
       "<div>\n",
       "<style scoped>\n",
       "    .dataframe tbody tr th:only-of-type {\n",
       "        vertical-align: middle;\n",
       "    }\n",
       "\n",
       "    .dataframe tbody tr th {\n",
       "        vertical-align: top;\n",
       "    }\n",
       "\n",
       "    .dataframe thead th {\n",
       "        text-align: right;\n",
       "    }\n",
       "</style>\n",
       "<table border=\"1\" class=\"dataframe\">\n",
       "  <thead>\n",
       "    <tr style=\"text-align: right;\">\n",
       "      <th></th>\n",
       "      <th>id</th>\n",
       "      <th>type</th>\n",
       "      <th>info</th>\n",
       "      <th>profile</th>\n",
       "      <th>name</th>\n",
       "      <th>description</th>\n",
       "      <th>vexpresso_index</th>\n",
       "      <th>ids</th>\n",
       "      <th>content</th>\n",
       "    </tr>\n",
       "  </thead>\n",
       "  <tbody>\n",
       "    <tr>\n",
       "      <th>142</th>\n",
       "      <td>143</td>\n",
       "      <td>['Normal']</td>\n",
       "      <td>{'HP': 160, 'Attack': 110, 'Defense': 65, 'Sp....</td>\n",
       "      <td>{'height': '2.1 m', 'weight': '460 kg', 'egg':...</td>\n",
       "      <td>Snorlax</td>\n",
       "      <td>Sleeping Pokémon: It has no interest in anythi...</td>\n",
       "      <td>0</td>\n",
       "      <td>143</td>\n",
       "      <td>Sleeping Pokémon: It has no interest in anythi...</td>\n",
       "    </tr>\n",
       "    <tr>\n",
       "      <th>660</th>\n",
       "      <td>661</td>\n",
       "      <td>['Normal', 'Flying']</td>\n",
       "      <td>{'HP': 45, 'Attack': 50, 'Defense': 43, 'Sp. A...</td>\n",
       "      <td>{'height': '0.3 m', 'weight': '1.7 kg', 'egg':...</td>\n",
       "      <td>Fletchling</td>\n",
       "      <td>Tiny Robin Pokémon: Its body is always warm. T...</td>\n",
       "      <td>1</td>\n",
       "      <td>661</td>\n",
       "      <td>Tiny Robin Pokémon: Its body is always warm. T...</td>\n",
       "    </tr>\n",
       "    <tr>\n",
       "      <th>774</th>\n",
       "      <td>775</td>\n",
       "      <td>['Normal']</td>\n",
       "      <td>{'HP': 65, 'Attack': 115, 'Defense': 65, 'Sp. ...</td>\n",
       "      <td>{'height': '0.4 m', 'weight': '19.9 kg', 'egg'...</td>\n",
       "      <td>Komala</td>\n",
       "      <td>Drowsing Pokémon: It remains asleep from birth...</td>\n",
       "      <td>2</td>\n",
       "      <td>775</td>\n",
       "      <td>Drowsing Pokémon: It remains asleep from birth...</td>\n",
       "    </tr>\n",
       "    <tr>\n",
       "      <th>160</th>\n",
       "      <td>161</td>\n",
       "      <td>['Normal']</td>\n",
       "      <td>{'HP': 35, 'Attack': 46, 'Defense': 34, 'Sp. A...</td>\n",
       "      <td>{'height': '0.8 m', 'weight': '6 kg', 'egg': [...</td>\n",
       "      <td>Sentret</td>\n",
       "      <td>Scout Pokémon: When Sentret sleeps, it does so...</td>\n",
       "      <td>3</td>\n",
       "      <td>161</td>\n",
       "      <td>Scout Pokémon: When Sentret sleeps, it does so...</td>\n",
       "    </tr>\n",
       "    <tr>\n",
       "      <th>300</th>\n",
       "      <td>301</td>\n",
       "      <td>['Normal']</td>\n",
       "      <td>{'HP': 70, 'Attack': 65, 'Defense': 65, 'Sp. A...</td>\n",
       "      <td>{'height': '1.1 m', 'weight': '32.6 kg', 'egg'...</td>\n",
       "      <td>Delcatty</td>\n",
       "      <td>Prim Pokémon: Delcatty sleeps anywhere it want...</td>\n",
       "      <td>4</td>\n",
       "      <td>301</td>\n",
       "      <td>Prim Pokémon: Delcatty sleeps anywhere it want...</td>\n",
       "    </tr>\n",
       "    <tr>\n",
       "      <th>69</th>\n",
       "      <td>70</td>\n",
       "      <td>['Grass', 'Poison']</td>\n",
       "      <td>{'HP': 65, 'Attack': 90, 'Defense': 50, 'Sp. A...</td>\n",
       "      <td>{'height': '1 m', 'weight': '6.4 kg', 'egg': [...</td>\n",
       "      <td>Weepinbell</td>\n",
       "      <td>Flycatcher Pokémon: Weepinbell has a large hoo...</td>\n",
       "      <td>5</td>\n",
       "      <td>70</td>\n",
       "      <td>Flycatcher Pokémon: Weepinbell has a large hoo...</td>\n",
       "    </tr>\n",
       "    <tr>\n",
       "      <th>703</th>\n",
       "      <td>704</td>\n",
       "      <td>['Dragon']</td>\n",
       "      <td>{'HP': 45, 'Attack': 50, 'Defense': 35, 'Sp. A...</td>\n",
       "      <td>{'height': '0.3 m', 'weight': '2.8 kg', 'egg':...</td>\n",
       "      <td>Goomy</td>\n",
       "      <td>Soft Tissue Pokémon: Its body is mostly water....</td>\n",
       "      <td>6</td>\n",
       "      <td>704</td>\n",
       "      <td>Soft Tissue Pokémon: Its body is mostly water....</td>\n",
       "    </tr>\n",
       "    <tr>\n",
       "      <th>95</th>\n",
       "      <td>96</td>\n",
       "      <td>['Psychic']</td>\n",
       "      <td>{'HP': 60, 'Attack': 48, 'Defense': 45, 'Sp. A...</td>\n",
       "      <td>{'height': '1 m', 'weight': '32.4 kg', 'egg': ...</td>\n",
       "      <td>Drowzee</td>\n",
       "      <td>Hypnosis Pokémon: It puts its prey to sleep an...</td>\n",
       "      <td>7</td>\n",
       "      <td>96</td>\n",
       "      <td>Hypnosis Pokémon: It puts its prey to sleep an...</td>\n",
       "    </tr>\n",
       "    <tr>\n",
       "      <th>490</th>\n",
       "      <td>491</td>\n",
       "      <td>['Dark']</td>\n",
       "      <td>{'HP': 70, 'Attack': 90, 'Defense': 90, 'Sp. A...</td>\n",
       "      <td>{'height': '1.5 m', 'weight': '50.5 kg', 'egg'...</td>\n",
       "      <td>Darkrai</td>\n",
       "      <td>Pitch-Black Pokémon: It can lull people to sle...</td>\n",
       "      <td>8</td>\n",
       "      <td>491</td>\n",
       "      <td>Pitch-Black Pokémon: It can lull people to sle...</td>\n",
       "    </tr>\n",
       "    <tr>\n",
       "      <th>24</th>\n",
       "      <td>25</td>\n",
       "      <td>['Electric']</td>\n",
       "      <td>{'HP': 35, 'Attack': 55, 'Defense': 40, 'Sp. A...</td>\n",
       "      <td>{'height': '0.4 m', 'weight': '6 kg', 'egg': [...</td>\n",
       "      <td>Pikachu</td>\n",
       "      <td>Mouse Pokémon: While sleeping, it generates el...</td>\n",
       "      <td>9</td>\n",
       "      <td>25</td>\n",
       "      <td>Mouse Pokémon: While sleeping, it generates el...</td>\n",
       "    </tr>\n",
       "  </tbody>\n",
       "</table>\n",
       "</div>"
      ],
      "text/plain": [
       "      id                  type   \n",
       "142  143            ['Normal']  \\\n",
       "660  661  ['Normal', 'Flying']   \n",
       "774  775            ['Normal']   \n",
       "160  161            ['Normal']   \n",
       "300  301            ['Normal']   \n",
       "69    70   ['Grass', 'Poison']   \n",
       "703  704            ['Dragon']   \n",
       "95    96           ['Psychic']   \n",
       "490  491              ['Dark']   \n",
       "24    25          ['Electric']   \n",
       "\n",
       "                                                  info   \n",
       "142  {'HP': 160, 'Attack': 110, 'Defense': 65, 'Sp....  \\\n",
       "660  {'HP': 45, 'Attack': 50, 'Defense': 43, 'Sp. A...   \n",
       "774  {'HP': 65, 'Attack': 115, 'Defense': 65, 'Sp. ...   \n",
       "160  {'HP': 35, 'Attack': 46, 'Defense': 34, 'Sp. A...   \n",
       "300  {'HP': 70, 'Attack': 65, 'Defense': 65, 'Sp. A...   \n",
       "69   {'HP': 65, 'Attack': 90, 'Defense': 50, 'Sp. A...   \n",
       "703  {'HP': 45, 'Attack': 50, 'Defense': 35, 'Sp. A...   \n",
       "95   {'HP': 60, 'Attack': 48, 'Defense': 45, 'Sp. A...   \n",
       "490  {'HP': 70, 'Attack': 90, 'Defense': 90, 'Sp. A...   \n",
       "24   {'HP': 35, 'Attack': 55, 'Defense': 40, 'Sp. A...   \n",
       "\n",
       "                                               profile        name   \n",
       "142  {'height': '2.1 m', 'weight': '460 kg', 'egg':...     Snorlax  \\\n",
       "660  {'height': '0.3 m', 'weight': '1.7 kg', 'egg':...  Fletchling   \n",
       "774  {'height': '0.4 m', 'weight': '19.9 kg', 'egg'...      Komala   \n",
       "160  {'height': '0.8 m', 'weight': '6 kg', 'egg': [...     Sentret   \n",
       "300  {'height': '1.1 m', 'weight': '32.6 kg', 'egg'...    Delcatty   \n",
       "69   {'height': '1 m', 'weight': '6.4 kg', 'egg': [...  Weepinbell   \n",
       "703  {'height': '0.3 m', 'weight': '2.8 kg', 'egg':...       Goomy   \n",
       "95   {'height': '1 m', 'weight': '32.4 kg', 'egg': ...     Drowzee   \n",
       "490  {'height': '1.5 m', 'weight': '50.5 kg', 'egg'...     Darkrai   \n",
       "24   {'height': '0.4 m', 'weight': '6 kg', 'egg': [...     Pikachu   \n",
       "\n",
       "                                           description  vexpresso_index  ids   \n",
       "142  Sleeping Pokémon: It has no interest in anythi...                0  143  \\\n",
       "660  Tiny Robin Pokémon: Its body is always warm. T...                1  661   \n",
       "774  Drowsing Pokémon: It remains asleep from birth...                2  775   \n",
       "160  Scout Pokémon: When Sentret sleeps, it does so...                3  161   \n",
       "300  Prim Pokémon: Delcatty sleeps anywhere it want...                4  301   \n",
       "69   Flycatcher Pokémon: Weepinbell has a large hoo...                5   70   \n",
       "703  Soft Tissue Pokémon: Its body is mostly water....                6  704   \n",
       "95   Hypnosis Pokémon: It puts its prey to sleep an...                7   96   \n",
       "490  Pitch-Black Pokémon: It can lull people to sle...                8  491   \n",
       "24   Mouse Pokémon: While sleeping, it generates el...                9   25   \n",
       "\n",
       "                                               content  \n",
       "142  Sleeping Pokémon: It has no interest in anythi...  \n",
       "660  Tiny Robin Pokémon: Its body is always warm. T...  \n",
       "774  Drowsing Pokémon: It remains asleep from birth...  \n",
       "160  Scout Pokémon: When Sentret sleeps, it does so...  \n",
       "300  Prim Pokémon: Delcatty sleeps anywhere it want...  \n",
       "69   Flycatcher Pokémon: Weepinbell has a large hoo...  \n",
       "703  Soft Tissue Pokémon: Its body is mostly water....  \n",
       "95   Hypnosis Pokémon: It puts its prey to sleep an...  \n",
       "490  Pitch-Black Pokémon: It can lull people to sle...  \n",
       "24   Mouse Pokémon: While sleeping, it generates el...  "
      ]
     },
     "execution_count": 10,
     "metadata": {},
     "output_type": "execute_result"
    }
   ],
   "source": [
    "sleepy_pokemon.df()"
   ]
  },
  {
   "cell_type": "markdown",
   "id": "c85d3861-b2a5-4220-bc03-de597b4b10fd",
   "metadata": {},
   "source": [
    "## Grabbing metadata fields"
   ]
  },
  {
   "cell_type": "code",
   "execution_count": 11,
   "id": "2300bfbe-ec51-458e-b4cf-ae36584a212c",
   "metadata": {},
   "outputs": [
    {
     "name": "stdout",
     "output_type": "stream",
     "text": [
      "Snorlax: ['Normal'] -- Sleeping Pokémon: It has no interest in anything other than eating. Even if you climb up on its stomach while it’s napping, it doesn’t seem to mind at all!\n",
      "Fletchling: ['Normal', 'Flying'] -- Tiny Robin Pokémon: Its body is always warm. Trainers who live in cold areas apparently sleep with it in their bed.\n",
      "Komala: ['Normal'] -- Drowsing Pokémon: It remains asleep from birth to death as a result of the sedative properties of the leaves that form its diet.\n",
      "Sentret: ['Normal'] -- Scout Pokémon: When Sentret sleeps, it does so while another stands guard. The sentry wakes the others at the first sign of danger. When this Pokémon becomes separated from its pack, it becomes incapable of sleep due to fear.\n",
      "Delcatty: ['Normal'] -- Prim Pokémon: Delcatty sleeps anywhere it wants without keeping a permanent nest. If other Pokémon approach it as it sleeps, this Pokémon will never fight—it will just move away somewhere else.\n",
      "Weepinbell: ['Grass', 'Poison'] -- Flycatcher Pokémon: Weepinbell has a large hook on its rear end. At night, the Pokémon hooks on to a tree branch and goes to sleep. If it moves around in its sleep, it may wake up to find itself on the ground.\n",
      "Goomy: ['Dragon'] -- Soft Tissue Pokémon: Its body is mostly water. If it dries out, it will die, so it’s always sitting with perfect stillness in the shade.\n",
      "Drowzee: ['Psychic'] -- Hypnosis Pokémon: It puts its prey to sleep and devours their dreams. It seems that bad dreams taste sour, so Drowzee doesn’t particularly like eating them.\n",
      "Darkrai: ['Dark'] -- Pitch-Black Pokémon: It can lull people to sleep and make them dream. It is active during nights of the new moon.\n",
      "Pikachu: ['Electric'] -- Mouse Pokémon: While sleeping, it generates electricity in the sacs in its cheeks. If it’s not getting enough sleep, it will be able to use only weak electricity.\n"
     ]
    }
   ],
   "source": [
    "# get a single field\n",
    "names = sleepy_pokemon.get_field(\"name\")\n",
    "types = sleepy_pokemon.get_field(\"type\")\n",
    "descriptions = sleepy_pokemon.get_field(\"description\")\n",
    "\n",
    "# get multiple\n",
    "names, types, descriptions = sleepy_pokemon.get_fields([\"name\", \"type\", \"description\"])\n",
    "for n, t, d in zip(names, types, descriptions):\n",
    "    print(f\"{n}: {t} -- {d}\")"
   ]
  },
  {
   "cell_type": "markdown",
   "id": "4b0acbd1-0812-4753-9b46-346804a0c558",
   "metadata": {},
   "source": [
    "## Performing filters"
   ]
  },
  {
   "cell_type": "markdown",
   "id": "f193f348-d6c1-4ae4-a115-552648bc133e",
   "metadata": {
    "tags": []
   },
   "source": [
    "### With vexpresso we can leverage duckdb for powerful queries"
   ]
  },
  {
   "cell_type": "markdown",
   "id": "4fdd8a9f-9d43-40ba-bf71-cee074acc77d",
   "metadata": {},
   "source": [
    "#### In order to filter on metadata, you must supply a filter dictionary to the filter method. The dictionary must have the following structure:\n",
    "\n",
    "```python\n",
    "{\n",
    "    <field>: {\n",
    "        <filter_method>: <value>\n",
    "    },\n",
    "    <field>: {\n",
    "        <filter_method>: <value>\n",
    "    },\n",
    "}\n",
    "\n",
    "```"
   ]
  },
  {
   "cell_type": "markdown",
   "id": "ccf08b5f-6a41-40ee-8009-723a8d79455e",
   "metadata": {},
   "source": [
    "#### An example query to only get Pokemon with the name \"Snorlax\":\n"
   ]
  },
  {
   "cell_type": "code",
   "execution_count": 12,
   "id": "10b28c05-f097-4e70-822e-3ac24953f2e7",
   "metadata": {},
   "outputs": [],
   "source": [
    "filter_condition = {\n",
    "    \"name\": {\n",
    "        \"eq\":\"Snorlax\"\n",
    "    }\n",
    "}"
   ]
  },
  {
   "cell_type": "code",
   "execution_count": 13,
   "id": "cffcdde8-d6bc-4147-8213-3b25bb074d9d",
   "metadata": {},
   "outputs": [
    {
     "data": {
      "text/html": [
       "<div>\n",
       "<style scoped>\n",
       "    .dataframe tbody tr th:only-of-type {\n",
       "        vertical-align: middle;\n",
       "    }\n",
       "\n",
       "    .dataframe tbody tr th {\n",
       "        vertical-align: top;\n",
       "    }\n",
       "\n",
       "    .dataframe thead th {\n",
       "        text-align: right;\n",
       "    }\n",
       "</style>\n",
       "<table border=\"1\" class=\"dataframe\">\n",
       "  <thead>\n",
       "    <tr style=\"text-align: right;\">\n",
       "      <th></th>\n",
       "      <th>id</th>\n",
       "      <th>type</th>\n",
       "      <th>info</th>\n",
       "      <th>profile</th>\n",
       "      <th>name</th>\n",
       "      <th>description</th>\n",
       "      <th>vexpresso_index</th>\n",
       "      <th>ids</th>\n",
       "      <th>content</th>\n",
       "    </tr>\n",
       "  </thead>\n",
       "  <tbody>\n",
       "    <tr>\n",
       "      <th>142</th>\n",
       "      <td>143</td>\n",
       "      <td>['Normal']</td>\n",
       "      <td>{'HP': 160, 'Attack': 110, 'Defense': 65, 'Sp....</td>\n",
       "      <td>{'height': '2.1 m', 'weight': '460 kg', 'egg':...</td>\n",
       "      <td>Snorlax</td>\n",
       "      <td>Sleeping Pokémon: It has no interest in anythi...</td>\n",
       "      <td>0</td>\n",
       "      <td>143</td>\n",
       "      <td>Sleeping Pokémon: It has no interest in anythi...</td>\n",
       "    </tr>\n",
       "  </tbody>\n",
       "</table>\n",
       "</div>"
      ],
      "text/plain": [
       "      id        type                                               info   \n",
       "142  143  ['Normal']  {'HP': 160, 'Attack': 110, 'Defense': 65, 'Sp....  \\\n",
       "\n",
       "                                               profile     name   \n",
       "142  {'height': '2.1 m', 'weight': '460 kg', 'egg':...  Snorlax  \\\n",
       "\n",
       "                                           description  vexpresso_index  ids   \n",
       "142  Sleeping Pokémon: It has no interest in anythi...                0  143  \\\n",
       "\n",
       "                                               content  \n",
       "142  Sleeping Pokémon: It has no interest in anythi...  "
      ]
     },
     "execution_count": 13,
     "metadata": {},
     "output_type": "execute_result"
    }
   ],
   "source": [
    "sleepy_pokemon.filter(filter_condition).df()"
   ]
  },
  {
   "cell_type": "markdown",
   "id": "21139d29-6048-4f5f-9d4b-b0c67ce9650d",
   "metadata": {},
   "source": [
    "#### Here are the supported filter methods:"
   ]
  },
  {
   "cell_type": "code",
   "execution_count": 14,
   "id": "c2b9883c-7bfa-4eff-a1aa-8d003b54e2f2",
   "metadata": {},
   "outputs": [
    {
     "name": "stdout",
     "output_type": "stream",
     "text": [
      "contains: \n",
      "        {field} (str) contains {value} (str)\n",
      "        \n",
      "----------------------------------\n",
      "eq: \n",
      "        {field} equal to {value} (str, int, float)\n",
      "        \n",
      "----------------------------------\n",
      "gt: \n",
      "        {field} greater than {value} (int, float)\n",
      "        \n",
      "----------------------------------\n",
      "gte: \n",
      "        {field} greater than or equal to {value} (int, float)\n",
      "        \n",
      "----------------------------------\n",
      "isin: \n",
      "        {field} is in list of {values} (list of str, int, or float)\n",
      "        \n",
      "----------------------------------\n",
      "lt: \n",
      "        {field} less than {value} (int, float)\n",
      "        \n",
      "----------------------------------\n",
      "lte: \n",
      "        {field} less than or equal to {value} (int, float)\n",
      "        \n",
      "----------------------------------\n",
      "neq: \n",
      "        {field} not equal to {value} (str, int, float)\n",
      "        \n",
      "----------------------------------\n",
      "notcontains: \n",
      "        {field} (str) does not contains {value} (str)\n",
      "        \n",
      "----------------------------------\n",
      "notin: \n",
      "        {field} not in list of {values} (list of str, int, or float)\n",
      "        \n",
      "----------------------------------\n"
     ]
    }
   ],
   "source": [
    "sleepy_pokemon.metadata.print_filter_methods()"
   ]
  },
  {
   "cell_type": "markdown",
   "id": "c57df7dd-f370-42ae-b5ca-01f377105d42",
   "metadata": {},
   "source": [
    "#### Let's filter the above collection for \"Normal\" type Pokemon"
   ]
  },
  {
   "cell_type": "code",
   "execution_count": 15,
   "id": "08bad24d-77b1-4059-afad-0bf6aa8cea89",
   "metadata": {},
   "outputs": [],
   "source": [
    "filter_condition = {\"type\":{\"contains\":\"Normal\"}}\n",
    "normal_sleepy_pokemon = sleepy_pokemon.filter(filter_condition)"
   ]
  },
  {
   "cell_type": "code",
   "execution_count": 16,
   "id": "de32521a-34e5-4811-8ebd-4d6411f49067",
   "metadata": {},
   "outputs": [
    {
     "data": {
      "text/html": [
       "<div>\n",
       "<style scoped>\n",
       "    .dataframe tbody tr th:only-of-type {\n",
       "        vertical-align: middle;\n",
       "    }\n",
       "\n",
       "    .dataframe tbody tr th {\n",
       "        vertical-align: top;\n",
       "    }\n",
       "\n",
       "    .dataframe thead th {\n",
       "        text-align: right;\n",
       "    }\n",
       "</style>\n",
       "<table border=\"1\" class=\"dataframe\">\n",
       "  <thead>\n",
       "    <tr style=\"text-align: right;\">\n",
       "      <th></th>\n",
       "      <th>id</th>\n",
       "      <th>type</th>\n",
       "      <th>info</th>\n",
       "      <th>profile</th>\n",
       "      <th>name</th>\n",
       "      <th>description</th>\n",
       "      <th>vexpresso_index</th>\n",
       "      <th>ids</th>\n",
       "      <th>content</th>\n",
       "    </tr>\n",
       "  </thead>\n",
       "  <tbody>\n",
       "    <tr>\n",
       "      <th>142</th>\n",
       "      <td>143</td>\n",
       "      <td>['Normal']</td>\n",
       "      <td>{'HP': 160, 'Attack': 110, 'Defense': 65, 'Sp....</td>\n",
       "      <td>{'height': '2.1 m', 'weight': '460 kg', 'egg':...</td>\n",
       "      <td>Snorlax</td>\n",
       "      <td>Sleeping Pokémon: It has no interest in anythi...</td>\n",
       "      <td>0</td>\n",
       "      <td>143</td>\n",
       "      <td>Sleeping Pokémon: It has no interest in anythi...</td>\n",
       "    </tr>\n",
       "    <tr>\n",
       "      <th>660</th>\n",
       "      <td>661</td>\n",
       "      <td>['Normal', 'Flying']</td>\n",
       "      <td>{'HP': 45, 'Attack': 50, 'Defense': 43, 'Sp. A...</td>\n",
       "      <td>{'height': '0.3 m', 'weight': '1.7 kg', 'egg':...</td>\n",
       "      <td>Fletchling</td>\n",
       "      <td>Tiny Robin Pokémon: Its body is always warm. T...</td>\n",
       "      <td>1</td>\n",
       "      <td>661</td>\n",
       "      <td>Tiny Robin Pokémon: Its body is always warm. T...</td>\n",
       "    </tr>\n",
       "    <tr>\n",
       "      <th>774</th>\n",
       "      <td>775</td>\n",
       "      <td>['Normal']</td>\n",
       "      <td>{'HP': 65, 'Attack': 115, 'Defense': 65, 'Sp. ...</td>\n",
       "      <td>{'height': '0.4 m', 'weight': '19.9 kg', 'egg'...</td>\n",
       "      <td>Komala</td>\n",
       "      <td>Drowsing Pokémon: It remains asleep from birth...</td>\n",
       "      <td>2</td>\n",
       "      <td>775</td>\n",
       "      <td>Drowsing Pokémon: It remains asleep from birth...</td>\n",
       "    </tr>\n",
       "    <tr>\n",
       "      <th>160</th>\n",
       "      <td>161</td>\n",
       "      <td>['Normal']</td>\n",
       "      <td>{'HP': 35, 'Attack': 46, 'Defense': 34, 'Sp. A...</td>\n",
       "      <td>{'height': '0.8 m', 'weight': '6 kg', 'egg': [...</td>\n",
       "      <td>Sentret</td>\n",
       "      <td>Scout Pokémon: When Sentret sleeps, it does so...</td>\n",
       "      <td>3</td>\n",
       "      <td>161</td>\n",
       "      <td>Scout Pokémon: When Sentret sleeps, it does so...</td>\n",
       "    </tr>\n",
       "    <tr>\n",
       "      <th>300</th>\n",
       "      <td>301</td>\n",
       "      <td>['Normal']</td>\n",
       "      <td>{'HP': 70, 'Attack': 65, 'Defense': 65, 'Sp. A...</td>\n",
       "      <td>{'height': '1.1 m', 'weight': '32.6 kg', 'egg'...</td>\n",
       "      <td>Delcatty</td>\n",
       "      <td>Prim Pokémon: Delcatty sleeps anywhere it want...</td>\n",
       "      <td>4</td>\n",
       "      <td>301</td>\n",
       "      <td>Prim Pokémon: Delcatty sleeps anywhere it want...</td>\n",
       "    </tr>\n",
       "  </tbody>\n",
       "</table>\n",
       "</div>"
      ],
      "text/plain": [
       "      id                  type   \n",
       "142  143            ['Normal']  \\\n",
       "660  661  ['Normal', 'Flying']   \n",
       "774  775            ['Normal']   \n",
       "160  161            ['Normal']   \n",
       "300  301            ['Normal']   \n",
       "\n",
       "                                                  info   \n",
       "142  {'HP': 160, 'Attack': 110, 'Defense': 65, 'Sp....  \\\n",
       "660  {'HP': 45, 'Attack': 50, 'Defense': 43, 'Sp. A...   \n",
       "774  {'HP': 65, 'Attack': 115, 'Defense': 65, 'Sp. ...   \n",
       "160  {'HP': 35, 'Attack': 46, 'Defense': 34, 'Sp. A...   \n",
       "300  {'HP': 70, 'Attack': 65, 'Defense': 65, 'Sp. A...   \n",
       "\n",
       "                                               profile        name   \n",
       "142  {'height': '2.1 m', 'weight': '460 kg', 'egg':...     Snorlax  \\\n",
       "660  {'height': '0.3 m', 'weight': '1.7 kg', 'egg':...  Fletchling   \n",
       "774  {'height': '0.4 m', 'weight': '19.9 kg', 'egg'...      Komala   \n",
       "160  {'height': '0.8 m', 'weight': '6 kg', 'egg': [...     Sentret   \n",
       "300  {'height': '1.1 m', 'weight': '32.6 kg', 'egg'...    Delcatty   \n",
       "\n",
       "                                           description  vexpresso_index  ids   \n",
       "142  Sleeping Pokémon: It has no interest in anythi...                0  143  \\\n",
       "660  Tiny Robin Pokémon: Its body is always warm. T...                1  661   \n",
       "774  Drowsing Pokémon: It remains asleep from birth...                2  775   \n",
       "160  Scout Pokémon: When Sentret sleeps, it does so...                3  161   \n",
       "300  Prim Pokémon: Delcatty sleeps anywhere it want...                4  301   \n",
       "\n",
       "                                               content  \n",
       "142  Sleeping Pokémon: It has no interest in anythi...  \n",
       "660  Tiny Robin Pokémon: Its body is always warm. T...  \n",
       "774  Drowsing Pokémon: It remains asleep from birth...  \n",
       "160  Scout Pokémon: When Sentret sleeps, it does so...  \n",
       "300  Prim Pokémon: Delcatty sleeps anywhere it want...  "
      ]
     },
     "execution_count": 16,
     "metadata": {},
     "output_type": "execute_result"
    }
   ],
   "source": [
    "normal_sleepy_pokemon.df()"
   ]
  },
  {
   "cell_type": "markdown",
   "id": "701c3d54-e529-487e-b8ae-873d6cc73d55",
   "metadata": {},
   "source": [
    "### We can also filter for multiple conditions on nested data"
   ]
  },
  {
   "cell_type": "markdown",
   "id": "c199801a-b8ee-4498-9b01-6062f9dbbf8f",
   "metadata": {},
   "source": [
    "#### For example, let's filter the above collection for Pokemon with HP >= 35 and Defense < 45"
   ]
  },
  {
   "cell_type": "code",
   "execution_count": 17,
   "id": "452810df-a8d2-4735-ae22-c2caabe7d2d7",
   "metadata": {},
   "outputs": [],
   "source": [
    "filter_condition = {\"info.HP\": {\"gte\":35}, \"info.Defense\": {\"lt\":45}}\n",
    "filtered = normal_sleepy_pokemon.filter(filter_condition)"
   ]
  },
  {
   "cell_type": "code",
   "execution_count": 18,
   "id": "51b8acf4-a04d-472f-82ec-2f94c6e93dd7",
   "metadata": {},
   "outputs": [
    {
     "data": {
      "text/html": [
       "<div>\n",
       "<style scoped>\n",
       "    .dataframe tbody tr th:only-of-type {\n",
       "        vertical-align: middle;\n",
       "    }\n",
       "\n",
       "    .dataframe tbody tr th {\n",
       "        vertical-align: top;\n",
       "    }\n",
       "\n",
       "    .dataframe thead th {\n",
       "        text-align: right;\n",
       "    }\n",
       "</style>\n",
       "<table border=\"1\" class=\"dataframe\">\n",
       "  <thead>\n",
       "    <tr style=\"text-align: right;\">\n",
       "      <th></th>\n",
       "      <th>id</th>\n",
       "      <th>type</th>\n",
       "      <th>info</th>\n",
       "      <th>profile</th>\n",
       "      <th>name</th>\n",
       "      <th>description</th>\n",
       "      <th>vexpresso_index</th>\n",
       "      <th>ids</th>\n",
       "      <th>content</th>\n",
       "    </tr>\n",
       "  </thead>\n",
       "  <tbody>\n",
       "    <tr>\n",
       "      <th>660</th>\n",
       "      <td>661</td>\n",
       "      <td>['Normal', 'Flying']</td>\n",
       "      <td>{'HP': 45, 'Attack': 50, 'Defense': 43, 'Sp. A...</td>\n",
       "      <td>{'height': '0.3 m', 'weight': '1.7 kg', 'egg':...</td>\n",
       "      <td>Fletchling</td>\n",
       "      <td>Tiny Robin Pokémon: Its body is always warm. T...</td>\n",
       "      <td>0</td>\n",
       "      <td>661</td>\n",
       "      <td>Tiny Robin Pokémon: Its body is always warm. T...</td>\n",
       "    </tr>\n",
       "    <tr>\n",
       "      <th>160</th>\n",
       "      <td>161</td>\n",
       "      <td>['Normal']</td>\n",
       "      <td>{'HP': 35, 'Attack': 46, 'Defense': 34, 'Sp. A...</td>\n",
       "      <td>{'height': '0.8 m', 'weight': '6 kg', 'egg': [...</td>\n",
       "      <td>Sentret</td>\n",
       "      <td>Scout Pokémon: When Sentret sleeps, it does so...</td>\n",
       "      <td>1</td>\n",
       "      <td>161</td>\n",
       "      <td>Scout Pokémon: When Sentret sleeps, it does so...</td>\n",
       "    </tr>\n",
       "  </tbody>\n",
       "</table>\n",
       "</div>"
      ],
      "text/plain": [
       "      id                  type   \n",
       "660  661  ['Normal', 'Flying']  \\\n",
       "160  161            ['Normal']   \n",
       "\n",
       "                                                  info   \n",
       "660  {'HP': 45, 'Attack': 50, 'Defense': 43, 'Sp. A...  \\\n",
       "160  {'HP': 35, 'Attack': 46, 'Defense': 34, 'Sp. A...   \n",
       "\n",
       "                                               profile        name   \n",
       "660  {'height': '0.3 m', 'weight': '1.7 kg', 'egg':...  Fletchling  \\\n",
       "160  {'height': '0.8 m', 'weight': '6 kg', 'egg': [...     Sentret   \n",
       "\n",
       "                                           description  vexpresso_index  ids   \n",
       "660  Tiny Robin Pokémon: Its body is always warm. T...                0  661  \\\n",
       "160  Scout Pokémon: When Sentret sleeps, it does so...                1  161   \n",
       "\n",
       "                                               content  \n",
       "660  Tiny Robin Pokémon: Its body is always warm. T...  \n",
       "160  Scout Pokémon: When Sentret sleeps, it does so...  "
      ]
     },
     "execution_count": 18,
     "metadata": {},
     "output_type": "execute_result"
    }
   ],
   "source": [
    "filtered.df()"
   ]
  }
 ],
 "metadata": {
  "kernelspec": {
   "display_name": "Python [conda env:py39] *",
   "language": "python",
   "name": "conda-env-py39-py"
  },
  "language_info": {
   "codemirror_mode": {
    "name": "ipython",
    "version": 3
   },
   "file_extension": ".py",
   "mimetype": "text/x-python",
   "name": "python",
   "nbconvert_exporter": "python",
   "pygments_lexer": "ipython3",
   "version": "3.9.0"
  }
 },
 "nbformat": 4,
 "nbformat_minor": 5
}
