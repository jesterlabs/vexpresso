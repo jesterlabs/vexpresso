{
 "cells": [
  {
   "cell_type": "markdown",
   "id": "c99cebcc-5d6d-4515-addc-d3def6f43716",
   "metadata": {},
   "source": [
    "# Vexpresso Walkthrough"
   ]
  },
  {
   "cell_type": "markdown",
   "id": "ed908b72-b76c-48ab-a83a-f3e1c15d0ff0",
   "metadata": {},
   "source": [
    "## In this walkthrough, we will be using a small dataset of Pokemon statistics to showcase vexpresso's capabilities"
   ]
  },
  {
   "cell_type": "markdown",
   "id": "b204b465-e3c1-4faa-ae05-f3441388ac73",
   "metadata": {},
   "source": [
    "### Imports"
   ]
  },
  {
   "cell_type": "code",
   "execution_count": 1,
   "id": "78b1ef26-51ba-4d99-a34a-2023d72472f8",
   "metadata": {},
   "outputs": [
    {
     "name": "stderr",
     "output_type": "stream",
     "text": [
      "/home/shyam/miniconda3/envs/py39/lib/python3.9/site-packages/tqdm/auto.py:21: TqdmWarning: IProgress not found. Please update jupyter and ipywidgets. See https://ipywidgets.readthedocs.io/en/stable/user_install.html\n",
      "  from .autonotebook import tqdm as notebook_tqdm\n"
     ]
    }
   ],
   "source": [
    "import json\n",
    "import pandas as pd\n",
    "from langchain.embeddings import HuggingFaceHubEmbeddings, HuggingFaceEmbeddings\n",
    "import numpy as np\n",
    "import vexpresso\n",
    "from vexpresso.retriever import NumpyRetriever\n",
    "from vexpresso import transformation"
   ]
  },
  {
   "cell_type": "markdown",
   "id": "ba0e7611-3eee-4327-9df4-f15149b892a4",
   "metadata": {},
   "source": [
    "### Lets look at the Data: from https://github.com/Purukitto/pokemon-data.json"
   ]
  },
  {
   "cell_type": "code",
   "execution_count": 2,
   "id": "8ba5647c-04d8-4333-99e8-8fb4d4b05329",
   "metadata": {},
   "outputs": [],
   "source": [
    "with open(\"./data/pokedex.json\", 'r') as f:\n",
    "    stuff = json.load(f)\n",
    "\n",
    "df = pd.DataFrame(stuff)"
   ]
  },
  {
   "cell_type": "code",
   "execution_count": 3,
   "id": "5a96ee32-7406-49b6-bc7c-06d8d425d637",
   "metadata": {},
   "outputs": [
    {
     "data": {
      "text/html": [
       "<div>\n",
       "<style scoped>\n",
       "    .dataframe tbody tr th:only-of-type {\n",
       "        vertical-align: middle;\n",
       "    }\n",
       "\n",
       "    .dataframe tbody tr th {\n",
       "        vertical-align: top;\n",
       "    }\n",
       "\n",
       "    .dataframe thead th {\n",
       "        text-align: right;\n",
       "    }\n",
       "</style>\n",
       "<table border=\"1\" class=\"dataframe\">\n",
       "  <thead>\n",
       "    <tr style=\"text-align: right;\">\n",
       "      <th></th>\n",
       "      <th>id</th>\n",
       "      <th>name</th>\n",
       "      <th>type</th>\n",
       "      <th>base</th>\n",
       "      <th>species</th>\n",
       "      <th>description</th>\n",
       "      <th>evolution</th>\n",
       "      <th>profile</th>\n",
       "      <th>image</th>\n",
       "    </tr>\n",
       "  </thead>\n",
       "  <tbody>\n",
       "    <tr>\n",
       "      <th>0</th>\n",
       "      <td>1</td>\n",
       "      <td>{'english': 'Bulbasaur', 'japanese': 'フシギダネ', ...</td>\n",
       "      <td>[Grass, Poison]</td>\n",
       "      <td>{'HP': 45, 'Attack': 49, 'Defense': 49, 'Sp. A...</td>\n",
       "      <td>Seed Pokémon</td>\n",
       "      <td>Bulbasaur can be seen napping in bright sunlig...</td>\n",
       "      <td>{'next': [['2', 'Level 16']]}</td>\n",
       "      <td>{'height': '0.7 m', 'weight': '6.9 kg', 'egg':...</td>\n",
       "      <td>{'sprite': 'https://raw.githubusercontent.com/...</td>\n",
       "    </tr>\n",
       "    <tr>\n",
       "      <th>1</th>\n",
       "      <td>2</td>\n",
       "      <td>{'english': 'Ivysaur', 'japanese': 'フシギソウ', 'c...</td>\n",
       "      <td>[Grass, Poison]</td>\n",
       "      <td>{'HP': 60, 'Attack': 62, 'Defense': 63, 'Sp. A...</td>\n",
       "      <td>Seed Pokémon</td>\n",
       "      <td>There is a bud on this Pokémon’s back. To supp...</td>\n",
       "      <td>{'prev': ['1', 'Level 16'], 'next': [['3', 'Le...</td>\n",
       "      <td>{'height': '1 m', 'weight': '13 kg', 'egg': ['...</td>\n",
       "      <td>{'sprite': 'https://raw.githubusercontent.com/...</td>\n",
       "    </tr>\n",
       "    <tr>\n",
       "      <th>2</th>\n",
       "      <td>3</td>\n",
       "      <td>{'english': 'Venusaur', 'japanese': 'フシギバナ', '...</td>\n",
       "      <td>[Grass, Poison]</td>\n",
       "      <td>{'HP': 80, 'Attack': 82, 'Defense': 83, 'Sp. A...</td>\n",
       "      <td>Seed Pokémon</td>\n",
       "      <td>There is a large flower on Venusaur’s back. Th...</td>\n",
       "      <td>{'prev': ['2', 'Level 32']}</td>\n",
       "      <td>{'height': '2 m', 'weight': '100 kg', 'egg': [...</td>\n",
       "      <td>{'sprite': 'https://raw.githubusercontent.com/...</td>\n",
       "    </tr>\n",
       "    <tr>\n",
       "      <th>3</th>\n",
       "      <td>4</td>\n",
       "      <td>{'english': 'Charmander', 'japanese': 'ヒトカゲ', ...</td>\n",
       "      <td>[Fire]</td>\n",
       "      <td>{'HP': 39, 'Attack': 52, 'Defense': 43, 'Sp. A...</td>\n",
       "      <td>Lizard Pokémon</td>\n",
       "      <td>The flame that burns at the tip of its tail is...</td>\n",
       "      <td>{'next': [['5', 'Level 16']]}</td>\n",
       "      <td>{'height': '0.6 m', 'weight': '8.5 kg', 'egg':...</td>\n",
       "      <td>{'sprite': 'https://raw.githubusercontent.com/...</td>\n",
       "    </tr>\n",
       "    <tr>\n",
       "      <th>4</th>\n",
       "      <td>5</td>\n",
       "      <td>{'english': 'Charmeleon', 'japanese': 'リザード', ...</td>\n",
       "      <td>[Fire]</td>\n",
       "      <td>{'HP': 58, 'Attack': 64, 'Defense': 58, 'Sp. A...</td>\n",
       "      <td>Flame Pokémon</td>\n",
       "      <td>Charmeleon mercilessly destroys its foes using...</td>\n",
       "      <td>{'prev': ['4', 'Level 16'], 'next': [['6', 'Le...</td>\n",
       "      <td>{'height': '1.1 m', 'weight': '19 kg', 'egg': ...</td>\n",
       "      <td>{'sprite': 'https://raw.githubusercontent.com/...</td>\n",
       "    </tr>\n",
       "    <tr>\n",
       "      <th>5</th>\n",
       "      <td>6</td>\n",
       "      <td>{'english': 'Charizard', 'japanese': 'リザードン', ...</td>\n",
       "      <td>[Fire, Flying]</td>\n",
       "      <td>{'HP': 78, 'Attack': 84, 'Defense': 78, 'Sp. A...</td>\n",
       "      <td>Flame Pokémon</td>\n",
       "      <td>Charizard flies around the sky in search of po...</td>\n",
       "      <td>{'prev': ['5', 'Level 36']}</td>\n",
       "      <td>{'height': '1.7 m', 'weight': '90.5 kg', 'egg'...</td>\n",
       "      <td>{'sprite': 'https://raw.githubusercontent.com/...</td>\n",
       "    </tr>\n",
       "    <tr>\n",
       "      <th>6</th>\n",
       "      <td>7</td>\n",
       "      <td>{'english': 'Squirtle', 'japanese': 'ゼニガメ', 'c...</td>\n",
       "      <td>[Water]</td>\n",
       "      <td>{'HP': 44, 'Attack': 48, 'Defense': 65, 'Sp. A...</td>\n",
       "      <td>Tiny Turtle Pokémon</td>\n",
       "      <td>Squirtle’s shell is not merely used for protec...</td>\n",
       "      <td>{'next': [['8', 'Level 16']]}</td>\n",
       "      <td>{'height': '0.5 m', 'weight': '9 kg', 'egg': [...</td>\n",
       "      <td>{'sprite': 'https://raw.githubusercontent.com/...</td>\n",
       "    </tr>\n",
       "    <tr>\n",
       "      <th>7</th>\n",
       "      <td>8</td>\n",
       "      <td>{'english': 'Wartortle', 'japanese': 'カメール', '...</td>\n",
       "      <td>[Water]</td>\n",
       "      <td>{'HP': 59, 'Attack': 63, 'Defense': 80, 'Sp. A...</td>\n",
       "      <td>Turtle Pokémon</td>\n",
       "      <td>Its tail is large and covered with a rich, thi...</td>\n",
       "      <td>{'prev': ['7', 'Level 16'], 'next': [['9', 'Le...</td>\n",
       "      <td>{'height': '1 m', 'weight': '22.5 kg', 'egg': ...</td>\n",
       "      <td>{'sprite': 'https://raw.githubusercontent.com/...</td>\n",
       "    </tr>\n",
       "    <tr>\n",
       "      <th>8</th>\n",
       "      <td>9</td>\n",
       "      <td>{'english': 'Blastoise', 'japanese': 'カメックス', ...</td>\n",
       "      <td>[Water]</td>\n",
       "      <td>{'HP': 79, 'Attack': 83, 'Defense': 100, 'Sp. ...</td>\n",
       "      <td>Shellfish Pokémon</td>\n",
       "      <td>Blastoise has water spouts that protrude from ...</td>\n",
       "      <td>{'prev': ['8', 'Level 36']}</td>\n",
       "      <td>{'height': '1.6 m', 'weight': '85.5 kg', 'egg'...</td>\n",
       "      <td>{'sprite': 'https://raw.githubusercontent.com/...</td>\n",
       "    </tr>\n",
       "    <tr>\n",
       "      <th>9</th>\n",
       "      <td>10</td>\n",
       "      <td>{'english': 'Caterpie', 'japanese': 'キャタピー', '...</td>\n",
       "      <td>[Bug]</td>\n",
       "      <td>{'HP': 45, 'Attack': 30, 'Defense': 35, 'Sp. A...</td>\n",
       "      <td>Worm Pokémon</td>\n",
       "      <td>Its body is soft and weak. In nature, its perp...</td>\n",
       "      <td>{'next': [['11', 'Level 7']]}</td>\n",
       "      <td>{'height': '0.3 m', 'weight': '2.9 kg', 'egg':...</td>\n",
       "      <td>{'sprite': 'https://raw.githubusercontent.com/...</td>\n",
       "    </tr>\n",
       "  </tbody>\n",
       "</table>\n",
       "</div>"
      ],
      "text/plain": [
       "   id                                               name             type  \\\n",
       "0   1  {'english': 'Bulbasaur', 'japanese': 'フシギダネ', ...  [Grass, Poison]   \n",
       "1   2  {'english': 'Ivysaur', 'japanese': 'フシギソウ', 'c...  [Grass, Poison]   \n",
       "2   3  {'english': 'Venusaur', 'japanese': 'フシギバナ', '...  [Grass, Poison]   \n",
       "3   4  {'english': 'Charmander', 'japanese': 'ヒトカゲ', ...           [Fire]   \n",
       "4   5  {'english': 'Charmeleon', 'japanese': 'リザード', ...           [Fire]   \n",
       "5   6  {'english': 'Charizard', 'japanese': 'リザードン', ...   [Fire, Flying]   \n",
       "6   7  {'english': 'Squirtle', 'japanese': 'ゼニガメ', 'c...          [Water]   \n",
       "7   8  {'english': 'Wartortle', 'japanese': 'カメール', '...          [Water]   \n",
       "8   9  {'english': 'Blastoise', 'japanese': 'カメックス', ...          [Water]   \n",
       "9  10  {'english': 'Caterpie', 'japanese': 'キャタピー', '...            [Bug]   \n",
       "\n",
       "                                                base              species  \\\n",
       "0  {'HP': 45, 'Attack': 49, 'Defense': 49, 'Sp. A...         Seed Pokémon   \n",
       "1  {'HP': 60, 'Attack': 62, 'Defense': 63, 'Sp. A...         Seed Pokémon   \n",
       "2  {'HP': 80, 'Attack': 82, 'Defense': 83, 'Sp. A...         Seed Pokémon   \n",
       "3  {'HP': 39, 'Attack': 52, 'Defense': 43, 'Sp. A...       Lizard Pokémon   \n",
       "4  {'HP': 58, 'Attack': 64, 'Defense': 58, 'Sp. A...        Flame Pokémon   \n",
       "5  {'HP': 78, 'Attack': 84, 'Defense': 78, 'Sp. A...        Flame Pokémon   \n",
       "6  {'HP': 44, 'Attack': 48, 'Defense': 65, 'Sp. A...  Tiny Turtle Pokémon   \n",
       "7  {'HP': 59, 'Attack': 63, 'Defense': 80, 'Sp. A...       Turtle Pokémon   \n",
       "8  {'HP': 79, 'Attack': 83, 'Defense': 100, 'Sp. ...    Shellfish Pokémon   \n",
       "9  {'HP': 45, 'Attack': 30, 'Defense': 35, 'Sp. A...         Worm Pokémon   \n",
       "\n",
       "                                         description  \\\n",
       "0  Bulbasaur can be seen napping in bright sunlig...   \n",
       "1  There is a bud on this Pokémon’s back. To supp...   \n",
       "2  There is a large flower on Venusaur’s back. Th...   \n",
       "3  The flame that burns at the tip of its tail is...   \n",
       "4  Charmeleon mercilessly destroys its foes using...   \n",
       "5  Charizard flies around the sky in search of po...   \n",
       "6  Squirtle’s shell is not merely used for protec...   \n",
       "7  Its tail is large and covered with a rich, thi...   \n",
       "8  Blastoise has water spouts that protrude from ...   \n",
       "9  Its body is soft and weak. In nature, its perp...   \n",
       "\n",
       "                                           evolution  \\\n",
       "0                      {'next': [['2', 'Level 16']]}   \n",
       "1  {'prev': ['1', 'Level 16'], 'next': [['3', 'Le...   \n",
       "2                        {'prev': ['2', 'Level 32']}   \n",
       "3                      {'next': [['5', 'Level 16']]}   \n",
       "4  {'prev': ['4', 'Level 16'], 'next': [['6', 'Le...   \n",
       "5                        {'prev': ['5', 'Level 36']}   \n",
       "6                      {'next': [['8', 'Level 16']]}   \n",
       "7  {'prev': ['7', 'Level 16'], 'next': [['9', 'Le...   \n",
       "8                        {'prev': ['8', 'Level 36']}   \n",
       "9                      {'next': [['11', 'Level 7']]}   \n",
       "\n",
       "                                             profile  \\\n",
       "0  {'height': '0.7 m', 'weight': '6.9 kg', 'egg':...   \n",
       "1  {'height': '1 m', 'weight': '13 kg', 'egg': ['...   \n",
       "2  {'height': '2 m', 'weight': '100 kg', 'egg': [...   \n",
       "3  {'height': '0.6 m', 'weight': '8.5 kg', 'egg':...   \n",
       "4  {'height': '1.1 m', 'weight': '19 kg', 'egg': ...   \n",
       "5  {'height': '1.7 m', 'weight': '90.5 kg', 'egg'...   \n",
       "6  {'height': '0.5 m', 'weight': '9 kg', 'egg': [...   \n",
       "7  {'height': '1 m', 'weight': '22.5 kg', 'egg': ...   \n",
       "8  {'height': '1.6 m', 'weight': '85.5 kg', 'egg'...   \n",
       "9  {'height': '0.3 m', 'weight': '2.9 kg', 'egg':...   \n",
       "\n",
       "                                               image  \n",
       "0  {'sprite': 'https://raw.githubusercontent.com/...  \n",
       "1  {'sprite': 'https://raw.githubusercontent.com/...  \n",
       "2  {'sprite': 'https://raw.githubusercontent.com/...  \n",
       "3  {'sprite': 'https://raw.githubusercontent.com/...  \n",
       "4  {'sprite': 'https://raw.githubusercontent.com/...  \n",
       "5  {'sprite': 'https://raw.githubusercontent.com/...  \n",
       "6  {'sprite': 'https://raw.githubusercontent.com/...  \n",
       "7  {'sprite': 'https://raw.githubusercontent.com/...  \n",
       "8  {'sprite': 'https://raw.githubusercontent.com/...  \n",
       "9  {'sprite': 'https://raw.githubusercontent.com/...  "
      ]
     },
     "execution_count": 3,
     "metadata": {},
     "output_type": "execute_result"
    }
   ],
   "source": [
    "df.head(10)"
   ]
  },
  {
   "cell_type": "markdown",
   "id": "f8ca208a-ca2d-4e3f-8e3f-63075c8150fa",
   "metadata": {
    "tags": []
   },
   "source": [
    "## Create Collection"
   ]
  },
  {
   "cell_type": "code",
   "execution_count": 4,
   "id": "82ce5aa8-fa57-42be-9e17-8d79c4346805",
   "metadata": {},
   "outputs": [
    {
     "name": "stderr",
     "output_type": "stream",
     "text": [
      "\u001b[32m2023-06-06 17:26:55.073\u001b[0m | \u001b[1mINFO    \u001b[0m | \u001b[36mdaft.context\u001b[0m:\u001b[36mrunner\u001b[0m:\u001b[36m88\u001b[0m - \u001b[1mUsing PyRunner\u001b[0m\n"
     ]
    }
   ],
   "source": [
    "collection = vexpresso.create(\n",
    "    data=\"./data/pokedex.json\",\n",
    ")"
   ]
  },
  {
   "cell_type": "code",
   "execution_count": 5,
   "id": "ce99f85f-975c-4aff-9da6-8b39cad92510",
   "metadata": {},
   "outputs": [
    {
     "data": {
      "text/html": [
       "<div>\n",
       "    <table class=\"dataframe\">\n",
       "<thead>\n",
       "<tr><th style=\"text-align: right;\">  id<br>Int64</th><th>name<br>Struct[chinese: Utf8, english: Utf8, french: Utf8, japanese: Utf8]  </th><th>type<br>List[Utf8]  </th><th>base<br>Python                                                                                      </th><th>species<br>Utf8  </th><th>description<br>Utf8                                         </th><th>evolution<br>Struct[next: List[List[Utf8]], prev: List[Utf8]]  </th><th>profile<br>Struct[ability: List[List[Utf8]], egg: List[Utf8], gender: Utf8, height: Utf8, weight: Utf8]  </th><th>image<br>Struct[hires: Utf8, sprite: Utf8, thumbnail: Utf8]  </th><th style=\"text-align: right;\">  vexpresso_index<br>Int64</th></tr>\n",
       "</thead>\n",
       "<tbody>\n",
       "<tr><td style=\"text-align: right;\">            1</td><td>{'chinese': '妙蛙种子', 'english': 'Bulbasaur', 'french': 'Bu...            </td><td>['Grass', 'Poison'] </td><td>{&#x27;HP&#x27;: 45, &#x27;Attack&#x27;: 49, &#x27;Defense&#x27;: 49, &#x27;Sp. Attack&#x27;: 65,...</td><td>Seed Pokémon     </td><td>Bulbasaur can be seen napping in bright sunlight. There i...</td><td>{'next': [['2', 'Level 16']], 'prev': None}                    </td><td>{'ability': [['Overgrow', 'false'], ['Chlorophyll', 'true...                                             </td><td>{'hires': 'https://raw.githubusercontent.com/Purukitto/po... </td><td style=\"text-align: right;\">                         0</td></tr>\n",
       "<tr><td style=\"text-align: right;\">            2</td><td>{'chinese': '妙蛙草', 'english': 'Ivysaur', 'french': 'Herbi...             </td><td>['Grass', 'Poison'] </td><td>{&#x27;HP&#x27;: 60, &#x27;Attack&#x27;: 62, &#x27;Defense&#x27;: 63, &#x27;Sp. Attack&#x27;: 80,...</td><td>Seed Pokémon     </td><td>There is a bud on this Pokémon’s back. To support its wei...</td><td>{'next': [['3', 'Level 32']], 'prev': ['1', 'Level 16']}       </td><td>{'ability': [['Overgrow', 'false'], ['Chlorophyll', 'true...                                             </td><td>{'hires': 'https://raw.githubusercontent.com/Purukitto/po... </td><td style=\"text-align: right;\">                         1</td></tr>\n",
       "<tr><td style=\"text-align: right;\">            3</td><td>{'chinese': '妙蛙花', 'english': 'Venusaur', 'french': 'Flor...             </td><td>['Grass', 'Poison'] </td><td>{&#x27;HP&#x27;: 80, &#x27;Attack&#x27;: 82, &#x27;Defense&#x27;: 83, &#x27;Sp. Attack&#x27;: 100...</td><td>Seed Pokémon     </td><td>There is a large flower on Venusaur’s back. The flower is...</td><td>{'next': None, 'prev': ['2', 'Level 32']}                      </td><td>{'ability': [['Overgrow', 'false'], ['Chlorophyll', 'true...                                             </td><td>{'hires': 'https://raw.githubusercontent.com/Purukitto/po... </td><td style=\"text-align: right;\">                         2</td></tr>\n",
       "<tr><td style=\"text-align: right;\">            4</td><td>{'chinese': '小火龙', 'english': 'Charmander', 'french': 'Sa...             </td><td>['Fire']            </td><td>{&#x27;HP&#x27;: 39, &#x27;Attack&#x27;: 52, &#x27;Defense&#x27;: 43, &#x27;Sp. Attack&#x27;: 60,...</td><td>Lizard Pokémon   </td><td>The flame that burns at the tip of its tail is an indicat...</td><td>{'next': [['5', 'Level 16']], 'prev': None}                    </td><td>{'ability': [['Blaze', 'false'], ['Solar Power', 'true']]...                                             </td><td>{'hires': 'https://raw.githubusercontent.com/Purukitto/po... </td><td style=\"text-align: right;\">                         3</td></tr>\n",
       "<tr><td style=\"text-align: right;\">            5</td><td>{'chinese': '火恐龙', 'english': 'Charmeleon', 'french': 'Re...             </td><td>['Fire']            </td><td>{&#x27;HP&#x27;: 58, &#x27;Attack&#x27;: 64, &#x27;Defense&#x27;: 58, &#x27;Sp. Attack&#x27;: 80,...</td><td>Flame Pokémon    </td><td>Charmeleon mercilessly destroys its foes using its sharp ...</td><td>{'next': [['6', 'Level 36']], 'prev': ['4', 'Level 16']}       </td><td>{'ability': [['Blaze', 'false'], ['Solar Power', 'true']]...                                             </td><td>{'hires': 'https://raw.githubusercontent.com/Purukitto/po... </td><td style=\"text-align: right;\">                         4</td></tr>\n",
       "</tbody>\n",
       "</table>\n",
       "    <small>(Showing first 5 rows)</small>\n",
       "</div>"
      ],
      "text/plain": [
       "+---------+----------------------------------------------------------------------+---------------------+----------------------+----------------+----------------------+----------------------------------------------------+------------------------------------------------------------------------------------------------+------------------------------------------------------+-------------------+\n",
       "|      id | name                                                                 | type                | base                 | species        | description          | evolution                                          | profile                                                                                        | image                                                |   vexpresso_index |\n",
       "|   Int64 | Struct[chinese: Utf8, english: Utf8, french: Utf8, japanese: Utf8]   | List[Utf8]          | Python               | Utf8           | Utf8                 | Struct[next: List[List[Utf8]], prev: List[Utf8]]   | Struct[ability: List[List[Utf8]], egg: List[Utf8], gender: Utf8, height: Utf8, weight: Utf8]   | Struct[hires: Utf8, sprite: Utf8, thumbnail: Utf8]   |             Int64 |\n",
       "+=========+======================================================================+=====================+======================+================+======================+====================================================+================================================================================================+======================================================+===================+\n",
       "|       1 | {'chinese':                                                          | ['Grass', 'Poison'] | {'HP': 45, 'Attack': | Seed Pokémon   | Bulbasaur can be     | {'next': [['2',                                    | {'ability':                                                                                    | {'hires': 'https://r                                 |                 0 |\n",
       "|         | '妙蛙种子',                                                          |                     | 49, 'Defense': 49,   |                | seen napping in      | 'Level 16']],                                      | [['Overgrow',                                                                                  | aw.githubusercontent                                 |                   |\n",
       "|         | 'english':                                                           |                     | 'Sp. Attack': 65,... |                | bright sunlight.     | 'prev': None}                                      | 'false'],                                                                                      | .com/Purukitto/po...                                 |                   |\n",
       "|         | 'Bulbasaur',                                                         |                     |                      |                | There i...           |                                                    | ['Chlorophyll',                                                                                |                                                      |                   |\n",
       "|         | 'french': 'Bu...                                                     |                     |                      |                |                      |                                                    | 'true...                                                                                       |                                                      |                   |\n",
       "+---------+----------------------------------------------------------------------+---------------------+----------------------+----------------+----------------------+----------------------------------------------------+------------------------------------------------------------------------------------------------+------------------------------------------------------+-------------------+\n",
       "|       2 | {'chinese':                                                          | ['Grass', 'Poison'] | {'HP': 60, 'Attack': | Seed Pokémon   | There is a bud on    | {'next': [['3',                                    | {'ability':                                                                                    | {'hires': 'https://r                                 |                 1 |\n",
       "|         | '妙蛙草', 'english':                                                 |                     | 62, 'Defense': 63,   |                | this Pokémon’s back. | 'Level 32']],                                      | [['Overgrow',                                                                                  | aw.githubusercontent                                 |                   |\n",
       "|         | 'Ivysaur', 'french':                                                 |                     | 'Sp. Attack': 80,... |                | To support its       | 'prev': ['1', 'Level                               | 'false'],                                                                                      | .com/Purukitto/po...                                 |                   |\n",
       "|         | 'Herbi...                                                            |                     |                      |                | wei...               | 16']}                                              | ['Chlorophyll',                                                                                |                                                      |                   |\n",
       "|         |                                                                      |                     |                      |                |                      |                                                    | 'true...                                                                                       |                                                      |                   |\n",
       "+---------+----------------------------------------------------------------------+---------------------+----------------------+----------------+----------------------+----------------------------------------------------+------------------------------------------------------------------------------------------------+------------------------------------------------------+-------------------+\n",
       "|       3 | {'chinese':                                                          | ['Grass', 'Poison'] | {'HP': 80, 'Attack': | Seed Pokémon   | There is a large     | {'next': None,                                     | {'ability':                                                                                    | {'hires': 'https://r                                 |                 2 |\n",
       "|         | '妙蛙花', 'english':                                                 |                     | 82, 'Defense': 83,   |                | flower on Venusaur’s | 'prev': ['2', 'Level                               | [['Overgrow',                                                                                  | aw.githubusercontent                                 |                   |\n",
       "|         | 'Venusaur',                                                          |                     | 'Sp. Attack': 100... |                | back. The flower     | 32']}                                              | 'false'],                                                                                      | .com/Purukitto/po...                                 |                   |\n",
       "|         | 'french': 'Flor...                                                   |                     |                      |                | is...                |                                                    | ['Chlorophyll',                                                                                |                                                      |                   |\n",
       "|         |                                                                      |                     |                      |                |                      |                                                    | 'true...                                                                                       |                                                      |                   |\n",
       "+---------+----------------------------------------------------------------------+---------------------+----------------------+----------------+----------------------+----------------------------------------------------+------------------------------------------------------------------------------------------------+------------------------------------------------------+-------------------+\n",
       "|       4 | {'chinese':                                                          | ['Fire']            | {'HP': 39, 'Attack': | Lizard Pokémon | The flame that burns | {'next': [['5',                                    | {'ability':                                                                                    | {'hires': 'https://r                                 |                 3 |\n",
       "|         | '小火龙', 'english':                                                 |                     | 52, 'Defense': 43,   |                | at the tip of its    | 'Level 16']],                                      | [['Blaze', 'false'],                                                                           | aw.githubusercontent                                 |                   |\n",
       "|         | 'Charmander',                                                        |                     | 'Sp. Attack': 60,... |                | tail is an           | 'prev': None}                                      | ['Solar Power',                                                                                | .com/Purukitto/po...                                 |                   |\n",
       "|         | 'french': 'Sa...                                                     |                     |                      |                | indicat...           |                                                    | 'true']]...                                                                                    |                                                      |                   |\n",
       "+---------+----------------------------------------------------------------------+---------------------+----------------------+----------------+----------------------+----------------------------------------------------+------------------------------------------------------------------------------------------------+------------------------------------------------------+-------------------+\n",
       "|       5 | {'chinese':                                                          | ['Fire']            | {'HP': 58, 'Attack': | Flame Pokémon  | Charmeleon           | {'next': [['6',                                    | {'ability':                                                                                    | {'hires': 'https://r                                 |                 4 |\n",
       "|         | '火恐龙', 'english':                                                 |                     | 64, 'Defense': 58,   |                | mercilessly destroys | 'Level 36']],                                      | [['Blaze', 'false'],                                                                           | aw.githubusercontent                                 |                   |\n",
       "|         | 'Charmeleon',                                                        |                     | 'Sp. Attack': 80,... |                | its foes using its   | 'prev': ['4', 'Level                               | ['Solar Power',                                                                                | .com/Purukitto/po...                                 |                   |\n",
       "|         | 'french': 'Re...                                                     |                     |                      |                | sharp ...            | 16']}                                              | 'true']]...                                                                                    |                                                      |                   |\n",
       "+---------+----------------------------------------------------------------------+---------------------+----------------------+----------------+----------------------+----------------------------------------------------+------------------------------------------------------------------------------------------------+------------------------------------------------------+-------------------+\n",
       "(Showing first 5 rows)"
      ]
     },
     "execution_count": 5,
     "metadata": {},
     "output_type": "execute_result"
    }
   ],
   "source": [
    "collection.show(5)"
   ]
  },
  {
   "cell_type": "code",
   "execution_count": 6,
   "id": "bab6f499-d8b3-47be-9a78-46c05ffd88a7",
   "metadata": {},
   "outputs": [],
   "source": [
    "hf_embeddings = HuggingFaceEmbeddings()\n",
    "@transformation\n",
    "def hf_embedding_function(content):\n",
    "    return np.array(hf_embeddings.embed_documents(content))"
   ]
  },
  {
   "cell_type": "code",
   "execution_count": 7,
   "id": "d61f4341-c048-44db-bc6e-c0c98f345718",
   "metadata": {},
   "outputs": [],
   "source": [
    "collection = collection.embed(content=list(df[\"description\"]), column_name=\"description\", embedding_fn=hf_embedding_function).execute()"
   ]
  },
  {
   "cell_type": "code",
   "execution_count": 8,
   "id": "bc14eb8a-f27d-4835-9330-a097ed5b0d22",
   "metadata": {},
   "outputs": [
    {
     "data": {
      "text/html": [
       "<div>\n",
       "    <table class=\"dataframe\">\n",
       "<thead>\n",
       "<tr><th style=\"text-align: right;\">  id<br>Int64</th><th>name<br>Struct[chinese: Utf8, english: Utf8, french: Utf8, japanese: Utf8]  </th><th>type<br>List[Utf8]  </th><th>base<br>Python                                                                                      </th><th>species<br>Utf8  </th><th>evolution<br>Struct[next: List[List[Utf8]], prev: List[Utf8]]  </th><th>profile<br>Struct[ability: List[List[Utf8]], egg: List[Utf8], gender: Utf8, height: Utf8, weight: Utf8]  </th><th>image<br>Struct[hires: Utf8, sprite: Utf8, thumbnail: Utf8]  </th><th style=\"text-align: right;\">  vexpresso_index<br>Int64</th><th>description<br>Utf8                                         </th><th>embeddings_description<br>Python                 </th></tr>\n",
       "</thead>\n",
       "<tbody>\n",
       "<tr><td style=\"text-align: right;\">            1</td><td>{'chinese': '妙蛙种子', 'english': 'Bulbasaur', 'french': 'Bu...            </td><td>['Grass', 'Poison'] </td><td>{&#x27;HP&#x27;: 45, &#x27;Attack&#x27;: 49, &#x27;Defense&#x27;: 49, &#x27;Sp. Attack&#x27;: 65,...</td><td>Seed Pokémon     </td><td>{'next': [['2', 'Level 16']], 'prev': None}                    </td><td>{'ability': [['Overgrow', 'false'], ['Chlorophyll', 'true...                                             </td><td>{'hires': 'https://raw.githubusercontent.com/Purukitto/po... </td><td style=\"text-align: right;\">                         0</td><td>Bulbasaur can be seen napping in bright sunlight. There i...</td><td>&ltnp.ndarray<br>shape=(768,)<br>dtype=float64&gt</td></tr>\n",
       "<tr><td style=\"text-align: right;\">            2</td><td>{'chinese': '妙蛙草', 'english': 'Ivysaur', 'french': 'Herbi...             </td><td>['Grass', 'Poison'] </td><td>{&#x27;HP&#x27;: 60, &#x27;Attack&#x27;: 62, &#x27;Defense&#x27;: 63, &#x27;Sp. Attack&#x27;: 80,...</td><td>Seed Pokémon     </td><td>{'next': [['3', 'Level 32']], 'prev': ['1', 'Level 16']}       </td><td>{'ability': [['Overgrow', 'false'], ['Chlorophyll', 'true...                                             </td><td>{'hires': 'https://raw.githubusercontent.com/Purukitto/po... </td><td style=\"text-align: right;\">                         1</td><td>There is a bud on this Pokémon’s back. To support its wei...</td><td>&ltnp.ndarray<br>shape=(768,)<br>dtype=float64&gt</td></tr>\n",
       "<tr><td style=\"text-align: right;\">            3</td><td>{'chinese': '妙蛙花', 'english': 'Venusaur', 'french': 'Flor...             </td><td>['Grass', 'Poison'] </td><td>{&#x27;HP&#x27;: 80, &#x27;Attack&#x27;: 82, &#x27;Defense&#x27;: 83, &#x27;Sp. Attack&#x27;: 100...</td><td>Seed Pokémon     </td><td>{'next': None, 'prev': ['2', 'Level 32']}                      </td><td>{'ability': [['Overgrow', 'false'], ['Chlorophyll', 'true...                                             </td><td>{'hires': 'https://raw.githubusercontent.com/Purukitto/po... </td><td style=\"text-align: right;\">                         2</td><td>There is a large flower on Venusaur’s back. The flower is...</td><td>&ltnp.ndarray<br>shape=(768,)<br>dtype=float64&gt</td></tr>\n",
       "<tr><td style=\"text-align: right;\">            4</td><td>{'chinese': '小火龙', 'english': 'Charmander', 'french': 'Sa...             </td><td>['Fire']            </td><td>{&#x27;HP&#x27;: 39, &#x27;Attack&#x27;: 52, &#x27;Defense&#x27;: 43, &#x27;Sp. Attack&#x27;: 60,...</td><td>Lizard Pokémon   </td><td>{'next': [['5', 'Level 16']], 'prev': None}                    </td><td>{'ability': [['Blaze', 'false'], ['Solar Power', 'true']]...                                             </td><td>{'hires': 'https://raw.githubusercontent.com/Purukitto/po... </td><td style=\"text-align: right;\">                         3</td><td>The flame that burns at the tip of its tail is an indicat...</td><td>&ltnp.ndarray<br>shape=(768,)<br>dtype=float64&gt</td></tr>\n",
       "<tr><td style=\"text-align: right;\">            5</td><td>{'chinese': '火恐龙', 'english': 'Charmeleon', 'french': 'Re...             </td><td>['Fire']            </td><td>{&#x27;HP&#x27;: 58, &#x27;Attack&#x27;: 64, &#x27;Defense&#x27;: 58, &#x27;Sp. Attack&#x27;: 80,...</td><td>Flame Pokémon    </td><td>{'next': [['6', 'Level 36']], 'prev': ['4', 'Level 16']}       </td><td>{'ability': [['Blaze', 'false'], ['Solar Power', 'true']]...                                             </td><td>{'hires': 'https://raw.githubusercontent.com/Purukitto/po... </td><td style=\"text-align: right;\">                         4</td><td>Charmeleon mercilessly destroys its foes using its sharp ...</td><td>&ltnp.ndarray<br>shape=(768,)<br>dtype=float64&gt</td></tr>\n",
       "</tbody>\n",
       "</table>\n",
       "    <small>(Showing first 5 rows)</small>\n",
       "</div>"
      ],
      "text/plain": [
       "+---------+----------------------------------------------------------------------+---------------------+----------------------+----------------+----------------------------------------------------+------------------------------------------------------------------------------------------------+------------------------------------------------------+-------------------+----------------------+--------------------------+\n",
       "|      id | name                                                                 | type                | base                 | species        | evolution                                          | profile                                                                                        | image                                                |   vexpresso_index | description          | embeddings_description   |\n",
       "|   Int64 | Struct[chinese: Utf8, english: Utf8, french: Utf8, japanese: Utf8]   | List[Utf8]          | Python               | Utf8           | Struct[next: List[List[Utf8]], prev: List[Utf8]]   | Struct[ability: List[List[Utf8]], egg: List[Utf8], gender: Utf8, height: Utf8, weight: Utf8]   | Struct[hires: Utf8, sprite: Utf8, thumbnail: Utf8]   |             Int64 | Utf8                 | Python                   |\n",
       "+=========+======================================================================+=====================+======================+================+====================================================+================================================================================================+======================================================+===================+======================+==========================+\n",
       "|       1 | {'chinese':                                                          | ['Grass', 'Poison'] | {'HP': 45, 'Attack': | Seed Pokémon   | {'next': [['2',                                    | {'ability':                                                                                    | {'hires': 'https://r                                 |                 0 | Bulbasaur can be     | [ 2.65634004e-02         |\n",
       "|         | '妙蛙种子',                                                          |                     | 49, 'Defense': 49,   |                | 'Level 16']],                                      | [['Overgrow',                                                                                  | aw.githubusercontent                                 |                   | seen napping in      | -7.39785284e-02          |\n",
       "|         | 'english':                                                           |                     | 'Sp. Attack': 65,... |                | 'prev': None}                                      | 'false'],                                                                                      | .com/Purukitto/po...                                 |                   | bright sunlight.     | -4.05766331e-02          |\n",
       "|         | 'Bulbasaur',                                                         |                     |                      |                |                                                    | ['Chlorophyll',                                                                                |                                                      |                   | There i...           | 3.48234...               |\n",
       "|         | 'french': 'Bu...                                                     |                     |                      |                |                                                    | 'true...                                                                                       |                                                      |                   |                      |                          |\n",
       "+---------+----------------------------------------------------------------------+---------------------+----------------------+----------------+----------------------------------------------------+------------------------------------------------------------------------------------------------+------------------------------------------------------+-------------------+----------------------+--------------------------+\n",
       "|       2 | {'chinese':                                                          | ['Grass', 'Poison'] | {'HP': 60, 'Attack': | Seed Pokémon   | {'next': [['3',                                    | {'ability':                                                                                    | {'hires': 'https://r                                 |                 1 | There is a bud on    | [ 6.32228935e-03         |\n",
       "|         | '妙蛙草', 'english':                                                 |                     | 62, 'Defense': 63,   |                | 'Level 32']],                                      | [['Overgrow',                                                                                  | aw.githubusercontent                                 |                   | this Pokémon’s back. | -2.76780371e-02          |\n",
       "|         | 'Ivysaur', 'french':                                                 |                     | 'Sp. Attack': 80,... |                | 'prev': ['1', 'Level                               | 'false'],                                                                                      | .com/Purukitto/po...                                 |                   | To support its       | -3.25160958e-02          |\n",
       "|         | 'Herbi...                                                            |                     |                      |                | 16']}                                              | ['Chlorophyll',                                                                                |                                                      |                   | wei...               | 4.73934...               |\n",
       "|         |                                                                      |                     |                      |                |                                                    | 'true...                                                                                       |                                                      |                   |                      |                          |\n",
       "+---------+----------------------------------------------------------------------+---------------------+----------------------+----------------+----------------------------------------------------+------------------------------------------------------------------------------------------------+------------------------------------------------------+-------------------+----------------------+--------------------------+\n",
       "|       3 | {'chinese':                                                          | ['Grass', 'Poison'] | {'HP': 80, 'Attack': | Seed Pokémon   | {'next': None,                                     | {'ability':                                                                                    | {'hires': 'https://r                                 |                 2 | There is a large     | [ 7.05854222e-02         |\n",
       "|         | '妙蛙花', 'english':                                                 |                     | 82, 'Defense': 83,   |                | 'prev': ['2', 'Level                               | [['Overgrow',                                                                                  | aw.githubusercontent                                 |                   | flower on Venusaur’s | -3.05974595e-02          |\n",
       "|         | 'Venusaur',                                                          |                     | 'Sp. Attack': 100... |                | 32']}                                              | 'false'],                                                                                      | .com/Purukitto/po...                                 |                   | back. The flower     | -4.81109098e-02          |\n",
       "|         | 'french': 'Flor...                                                   |                     |                      |                |                                                    | ['Chlorophyll',                                                                                |                                                      |                   | is...                | 4.13946...               |\n",
       "|         |                                                                      |                     |                      |                |                                                    | 'true...                                                                                       |                                                      |                   |                      |                          |\n",
       "+---------+----------------------------------------------------------------------+---------------------+----------------------+----------------+----------------------------------------------------+------------------------------------------------------------------------------------------------+------------------------------------------------------+-------------------+----------------------+--------------------------+\n",
       "|       4 | {'chinese':                                                          | ['Fire']            | {'HP': 39, 'Attack': | Lizard Pokémon | {'next': [['5',                                    | {'ability':                                                                                    | {'hires': 'https://r                                 |                 3 | The flame that burns | [ 4.69246227e-03         |\n",
       "|         | '小火龙', 'english':                                                 |                     | 52, 'Defense': 43,   |                | 'Level 16']],                                      | [['Blaze', 'false'],                                                                           | aw.githubusercontent                                 |                   | at the tip of its    | -5.73708639e-02          |\n",
       "|         | 'Charmander',                                                        |                     | 'Sp. Attack': 60,... |                | 'prev': None}                                      | ['Solar Power',                                                                                | .com/Purukitto/po...                                 |                   | tail is an           | -2.81964485e-02          |\n",
       "|         | 'french': 'Sa...                                                     |                     |                      |                |                                                    | 'true']]...                                                                                    |                                                      |                   | indicat...           | 3.23143...               |\n",
       "+---------+----------------------------------------------------------------------+---------------------+----------------------+----------------+----------------------------------------------------+------------------------------------------------------------------------------------------------+------------------------------------------------------+-------------------+----------------------+--------------------------+\n",
       "|       5 | {'chinese':                                                          | ['Fire']            | {'HP': 58, 'Attack': | Flame Pokémon  | {'next': [['6',                                    | {'ability':                                                                                    | {'hires': 'https://r                                 |                 4 | Charmeleon           | [ 4.00689431e-02         |\n",
       "|         | '火恐龙', 'english':                                                 |                     | 64, 'Defense': 58,   |                | 'Level 36']],                                      | [['Blaze', 'false'],                                                                           | aw.githubusercontent                                 |                   | mercilessly destroys | -1.92695111e-02          |\n",
       "|         | 'Charmeleon',                                                        |                     | 'Sp. Attack': 80,... |                | 'prev': ['4', 'Level                               | ['Solar Power',                                                                                | .com/Purukitto/po...                                 |                   | its foes using its   | -6.65663974e-03          |\n",
       "|         | 'french': 'Re...                                                     |                     |                      |                | 16']}                                              | 'true']]...                                                                                    |                                                      |                   | sharp ...            | 2.13152...               |\n",
       "+---------+----------------------------------------------------------------------+---------------------+----------------------+----------------+----------------------------------------------------+------------------------------------------------------------------------------------------------+------------------------------------------------------+-------------------+----------------------+--------------------------+\n",
       "(Showing first 5 rows)"
      ]
     },
     "execution_count": 8,
     "metadata": {},
     "output_type": "execute_result"
    }
   ],
   "source": [
    "collection.show(5)"
   ]
  },
  {
   "cell_type": "markdown",
   "id": "5fa1857d-bc56-4de8-b5b0-572fbe0dd1d4",
   "metadata": {},
   "source": [
    "## Querying the collection's embeddings, lazy execution\n",
    "### This doesn't run anything until `execute()` is called"
   ]
  },
  {
   "cell_type": "code",
   "execution_count": 9,
   "id": "a408249c-b353-484e-8048-df5ffc4510bf",
   "metadata": {},
   "outputs": [
    {
     "data": {
      "text/html": [
       "<div>\n",
       "    <table class=\"dataframe\">\n",
       "<tbody>\n",
       "<tr><td>id<br>Int64</td><td>name<br>Struct[chinese: Utf8, english: Utf8, french: Utf8, japanese: Utf8]</td><td>type<br>List[Utf8]</td><td>base<br>Python</td><td>species<br>Utf8</td><td>evolution<br>Struct[next: List[List[Utf8]], prev: List[Utf8]]</td><td>profile<br>Struct[ability: List[List[Utf8]], egg: List[Utf8], gender: Utf8, height: Utf8, weight: Utf8]</td><td>image<br>Struct[hires: Utf8, sprite: Utf8, thumbnail: Utf8]</td><td>vexpresso_index<br>Int64</td><td>description<br>Utf8</td><td>embeddings_description<br>Python</td><td>embeddings_description_score<br>Float64</td></tr>\n",
       "</tbody>\n",
       "</table>\n",
       "    <small>(No data to display: Dataframe not materialized)</small>\n",
       "</div>"
      ],
      "text/plain": [
       "+---------+----------------------------------------------------------------------+--------------+----------+-----------+----------------------------------------------------+------------------------------------------------------------------------------------------------+------------------------------------------------------+-------------------+---------------+--------------------------+--------------------------------+\n",
       "| id      | name                                                                 | type         | base     | species   | evolution                                          | profile                                                                                        | image                                                | vexpresso_index   | description   | embeddings_description   | embeddings_description_score   |\n",
       "| Int64   | Struct[chinese: Utf8, english: Utf8, french: Utf8, japanese: Utf8]   | List[Utf8]   | Python   | Utf8      | Struct[next: List[List[Utf8]], prev: List[Utf8]]   | Struct[ability: List[List[Utf8]], egg: List[Utf8], gender: Utf8, height: Utf8, weight: Utf8]   | Struct[hires: Utf8, sprite: Utf8, thumbnail: Utf8]   | Int64             | Utf8          | Python                   | Float64                        |\n",
       "+=========+======================================================================+==============+==========+===========+====================================================+================================================================================================+======================================================+===================+===============+==========================+================================+\n",
       "+---------+----------------------------------------------------------------------+--------------+----------+-----------+----------------------------------------------------+------------------------------------------------------------------------------------------------+------------------------------------------------------+-------------------+---------------+--------------------------+--------------------------------+\n",
       "(No data to display: Dataframe not materialized)"
      ]
     },
     "execution_count": 9,
     "metadata": {},
     "output_type": "execute_result"
    }
   ],
   "source": [
    "sleepy_pokemon = collection.query(\"embeddings_description\", query=\"Loves to sleep\", k=10)\n",
    "sleepy_pokemon.df"
   ]
  },
  {
   "cell_type": "code",
   "execution_count": 13,
   "id": "719329f3-85f7-4c6b-bd80-9f67a34a6b7a",
   "metadata": {},
   "outputs": [
    {
     "data": {
      "text/html": [
       "<div>\n",
       "    <table class=\"dataframe\">\n",
       "<thead>\n",
       "<tr><th style=\"text-align: right;\">  id<br>Int64</th><th>name<br>Struct[chinese: Utf8, english: Utf8, french: Utf8, japanese: Utf8]  </th><th>type<br>List[Utf8]  </th><th>base<br>Python                                                                                      </th><th>species<br>Utf8    </th><th>evolution<br>Struct[next: List[List[Utf8]], prev: List[Utf8]]  </th><th>profile<br>Struct[ability: List[List[Utf8]], egg: List[Utf8], gender: Utf8, height: Utf8, weight: Utf8]  </th><th>image<br>Struct[hires: Utf8, sprite: Utf8, thumbnail: Utf8]  </th><th style=\"text-align: right;\">  vexpresso_index<br>Int64</th><th>description<br>Utf8                                         </th><th>embeddings_description<br>Python                 </th><th style=\"text-align: right;\">  embeddings_description_score<br>Float64</th></tr>\n",
       "</thead>\n",
       "<tbody>\n",
       "<tr><td style=\"text-align: right;\">          143</td><td>{'chinese': '卡比兽', 'english': 'Snorlax', 'french': 'Ronfl...             </td><td>['Normal']          </td><td>{&#x27;HP&#x27;: 160, &#x27;Attack&#x27;: 110, &#x27;Defense&#x27;: 65, &#x27;Sp. Attack&#x27;: 6...</td><td>Sleeping Pokémon   </td><td>{'next': None, 'prev': ['446', 'high Friendship']}             </td><td>{'ability': [['Immunity', 'false'], ['Thick Fat', 'false'...                                             </td><td>{'hires': 'https://raw.githubusercontent.com/Purukitto/po... </td><td style=\"text-align: right;\">                       142</td><td>It has no interest in anything other than eating. Even if...</td><td>&ltnp.ndarray<br>shape=(768,)<br>dtype=float64&gt</td><td style=\"text-align: right;\">                                 0.561686</td></tr>\n",
       "<tr><td style=\"text-align: right;\">           25</td><td>{'chinese': '皮卡丘', 'english': 'Pikachu', 'french': 'Pikac...             </td><td>['Electric']        </td><td>{&#x27;HP&#x27;: 35, &#x27;Attack&#x27;: 55, &#x27;Defense&#x27;: 40, &#x27;Sp. Attack&#x27;: 50,...</td><td>Mouse Pokémon      </td><td>{'next': [['26', 'use Thunder Stone']], 'prev': ['172', '...   </td><td>{'ability': [['Static', 'false'], ['Lightning Rod', 'true...                                             </td><td>{'hires': 'https://raw.githubusercontent.com/Purukitto/po... </td><td style=\"text-align: right;\">                        24</td><td>While sleeping, it generates electricity in the sacs in i...</td><td>&ltnp.ndarray<br>shape=(768,)<br>dtype=float64&gt</td><td style=\"text-align: right;\">                                 0.474437</td></tr>\n",
       "<tr><td style=\"text-align: right;\">          328</td><td>{'chinese': '大颚蚁', 'english': 'Trapinch', 'french': 'Krak...             </td><td>['Ground']          </td><td>{&#x27;HP&#x27;: 45, &#x27;Attack&#x27;: 100, &#x27;Defense&#x27;: 45, &#x27;Sp. Attack&#x27;: 45...</td><td>Ant Pit Pokémon    </td><td>{'next': [['329', 'Level 35']], 'prev': None}                  </td><td>{'ability': [['Hyper Cutter', 'false'], ['Arena Trap', 'f...                                             </td><td>{'hires': 'https://raw.githubusercontent.com/Purukitto/po... </td><td style=\"text-align: right;\">                       327</td><td>It builds nests that double as traps, lying in wait for i...</td><td>&ltnp.ndarray<br>shape=(768,)<br>dtype=float64&gt</td><td style=\"text-align: right;\">                                 0.450725</td></tr>\n",
       "<tr><td style=\"text-align: right;\">          722</td><td>{'chinese': '木木枭', 'english': 'Rowlet', 'french': 'Brindi...             </td><td>['Grass', 'Flying'] </td><td>{&#x27;HP&#x27;: 68, &#x27;Attack&#x27;: 55, &#x27;Defense&#x27;: 55, &#x27;Sp. Attack&#x27;: 50,...</td><td>Grass Quill Pokémon</td><td>{'next': [['723', 'Level 17']], 'prev': None}                  </td><td>{'ability': [['Overgrow', 'false'], ['Long Reach', 'true'...                                             </td><td>{'hires': 'https://raw.githubusercontent.com/Purukitto/po... </td><td style=\"text-align: right;\">                       721</td><td>It feels relaxed in tight, dark places and has been known...</td><td>&ltnp.ndarray<br>shape=(768,)<br>dtype=float64&gt</td><td style=\"text-align: right;\">                                 0.445208</td></tr>\n",
       "<tr><td style=\"text-align: right;\">          554</td><td>{'chinese': '火红不倒翁', 'english': 'Darumaka', 'french': 'Da...           </td><td>['Fire']            </td><td>{&#x27;HP&#x27;: 70, &#x27;Attack&#x27;: 90, &#x27;Defense&#x27;: 45, &#x27;Sp. Attack&#x27;: 15,...</td><td>Zen Charm Pokémon  </td><td>{'next': [['555', 'use Ice Stone']], 'prev': None}             </td><td>{'ability': [['Hustle', 'false'], ['Inner Focus', 'true']...                                             </td><td>{'hires': 'https://raw.githubusercontent.com/Purukitto/po... </td><td style=\"text-align: right;\">                       553</td><td>When it sleeps, it pulls its limbs into its body and its ...</td><td>&ltnp.ndarray<br>shape=(768,)<br>dtype=float64&gt</td><td style=\"text-align: right;\">                                 0.430829</td></tr>\n",
       "</tbody>\n",
       "</table>\n",
       "    <small>(Showing first 5 rows)</small>\n",
       "</div>"
      ],
      "text/plain": [
       "+---------+----------------------------------------------------------------------+---------------------+----------------------+---------------------+----------------------------------------------------+------------------------------------------------------------------------------------------------+------------------------------------------------------+-------------------+----------------------+--------------------------+--------------------------------+\n",
       "|      id | name                                                                 | type                | base                 | species             | evolution                                          | profile                                                                                        | image                                                |   vexpresso_index | description          | embeddings_description   |   embeddings_description_score |\n",
       "|   Int64 | Struct[chinese: Utf8, english: Utf8, french: Utf8, japanese: Utf8]   | List[Utf8]          | Python               | Utf8                | Struct[next: List[List[Utf8]], prev: List[Utf8]]   | Struct[ability: List[List[Utf8]], egg: List[Utf8], gender: Utf8, height: Utf8, weight: Utf8]   | Struct[hires: Utf8, sprite: Utf8, thumbnail: Utf8]   |             Int64 | Utf8                 | Python                   |                        Float64 |\n",
       "+=========+======================================================================+=====================+======================+=====================+====================================================+================================================================================================+======================================================+===================+======================+==========================+================================+\n",
       "|     143 | {'chinese':                                                          | ['Normal']          | {'HP': 160,          | Sleeping Pokémon    | {'next': None,                                     | {'ability':                                                                                    | {'hires': 'https://r                                 |               142 | It has no interest   | [ 3.05449287e-03         |                       0.561686 |\n",
       "|         | '卡比兽', 'english':                                                 |                     | 'Attack': 110,       |                     | 'prev': ['446',                                    | [['Immunity',                                                                                  | aw.githubusercontent                                 |                   | in anything other    | -1.00210998e-02          |                                |\n",
       "|         | 'Snorlax', 'french':                                                 |                     | 'Defense': 65, 'Sp.  |                     | 'high Friendship']}                                | 'false'], ['Thick                                                                              | .com/Purukitto/po...                                 |                   | than eating. Even    | -1.60641465e-02          |                                |\n",
       "|         | 'Ronfl...                                                            |                     | Attack': 6...        |                     |                                                    | Fat', 'false'...                                                                               |                                                      |                   | if...                | -2.31817...              |                                |\n",
       "+---------+----------------------------------------------------------------------+---------------------+----------------------+---------------------+----------------------------------------------------+------------------------------------------------------------------------------------------------+------------------------------------------------------+-------------------+----------------------+--------------------------+--------------------------------+\n",
       "|      25 | {'chinese':                                                          | ['Electric']        | {'HP': 35, 'Attack': | Mouse Pokémon       | {'next': [['26',                                   | {'ability':                                                                                    | {'hires': 'https://r                                 |                24 | While sleeping, it   | [ 3.69857028e-02         |                       0.474437 |\n",
       "|         | '皮卡丘', 'english':                                                 |                     | 55, 'Defense': 40,   |                     | 'use Thunder                                       | [['Static',                                                                                    | aw.githubusercontent                                 |                   | generates            | -6.59514144e-02          |                                |\n",
       "|         | 'Pikachu', 'french':                                                 |                     | 'Sp. Attack': 50,... |                     | Stone']], 'prev':                                  | 'false'],                                                                                      | .com/Purukitto/po...                                 |                   | electricity in the   | -2.28393096e-02          |                                |\n",
       "|         | 'Pikac...                                                            |                     |                      |                     | ['172', '...                                       | ['Lightning Rod',                                                                              |                                                      |                   | sacs in i...         | 1.62902...               |                                |\n",
       "|         |                                                                      |                     |                      |                     |                                                    | 'true...                                                                                       |                                                      |                   |                      |                          |                                |\n",
       "+---------+----------------------------------------------------------------------+---------------------+----------------------+---------------------+----------------------------------------------------+------------------------------------------------------------------------------------------------+------------------------------------------------------+-------------------+----------------------+--------------------------+--------------------------------+\n",
       "|     328 | {'chinese':                                                          | ['Ground']          | {'HP': 45, 'Attack': | Ant Pit Pokémon     | {'next': [['329',                                  | {'ability': [['Hyper                                                                           | {'hires': 'https://r                                 |               327 | It builds nests that | [ 9.05408151e-03         |                       0.450725 |\n",
       "|         | '大颚蚁', 'english':                                                 |                     | 100, 'Defense': 45,  |                     | 'Level 35']],                                      | Cutter', 'false'],                                                                             | aw.githubusercontent                                 |                   | double as traps,     | -4.08860259e-02          |                                |\n",
       "|         | 'Trapinch',                                                          |                     | 'Sp. Attack': 45...  |                     | 'prev': None}                                      | ['Arena Trap', 'f...                                                                           | .com/Purukitto/po...                                 |                   | lying in wait for    | -3.87813337e-02          |                                |\n",
       "|         | 'french': 'Krak...                                                   |                     |                      |                     |                                                    |                                                                                                |                                                      |                   | i...                 | 1.96780...               |                                |\n",
       "+---------+----------------------------------------------------------------------+---------------------+----------------------+---------------------+----------------------------------------------------+------------------------------------------------------------------------------------------------+------------------------------------------------------+-------------------+----------------------+--------------------------+--------------------------------+\n",
       "|     722 | {'chinese':                                                          | ['Grass', 'Flying'] | {'HP': 68, 'Attack': | Grass Quill Pokémon | {'next': [['723',                                  | {'ability':                                                                                    | {'hires': 'https://r                                 |               721 | It feels relaxed in  | [ 3.82023794e-03         |                       0.445208 |\n",
       "|         | '木木枭', 'english':                                                 |                     | 55, 'Defense': 55,   |                     | 'Level 17']],                                      | [['Overgrow',                                                                                  | aw.githubusercontent                                 |                   | tight, dark places   | -6.73920512e-02          |                                |\n",
       "|         | 'Rowlet', 'french':                                                  |                     | 'Sp. Attack': 50,... |                     | 'prev': None}                                      | 'false'], ['Long                                                                               | .com/Purukitto/po...                                 |                   | and has been         | -1.47744315e-02          |                                |\n",
       "|         | 'Brindi...                                                           |                     |                      |                     |                                                    | Reach', 'true'...                                                                              |                                                      |                   | known...             | 5.22084...               |                                |\n",
       "+---------+----------------------------------------------------------------------+---------------------+----------------------+---------------------+----------------------------------------------------+------------------------------------------------------------------------------------------------+------------------------------------------------------+-------------------+----------------------+--------------------------+--------------------------------+\n",
       "|     554 | {'chinese':                                                          | ['Fire']            | {'HP': 70, 'Attack': | Zen Charm Pokémon   | {'next': [['555',                                  | {'ability':                                                                                    | {'hires': 'https://r                                 |               553 | When it sleeps, it   | [-6.26431732e-03         |                       0.430829 |\n",
       "|         | '火红不倒翁',                                                        |                     | 90, 'Defense': 45,   |                     | 'use Ice Stone']],                                 | [['Hustle',                                                                                    | aw.githubusercontent                                 |                   | pulls its limbs into | -6.52114302e-02          |                                |\n",
       "|         | 'english':                                                           |                     | 'Sp. Attack': 15,... |                     | 'prev': None}                                      | 'false'], ['Inner                                                                              | .com/Purukitto/po...                                 |                   | its body and its ... | -1.75174105e-03          |                                |\n",
       "|         | 'Darumaka',                                                          |                     |                      |                     |                                                    | Focus', 'true']...                                                                             |                                                      |                   |                      | -3.05341...              |                                |\n",
       "|         | 'french': 'Da...                                                     |                     |                      |                     |                                                    |                                                                                                |                                                      |                   |                      |                          |                                |\n",
       "+---------+----------------------------------------------------------------------+---------------------+----------------------+---------------------+----------------------------------------------------+------------------------------------------------------------------------------------------------+------------------------------------------------------+-------------------+----------------------+--------------------------+--------------------------------+\n",
       "(Showing first 5 rows)"
      ]
     },
     "execution_count": 13,
     "metadata": {},
     "output_type": "execute_result"
    }
   ],
   "source": [
    "sleepy_pokemon.execute().show(5)"
   ]
  },
  {
   "cell_type": "markdown",
   "id": "34420f35-4123-444b-be98-3bbd86afbcbf",
   "metadata": {},
   "source": [
    "#### You can also pass in query embeddings directly"
   ]
  },
  {
   "cell_type": "code",
   "execution_count": 14,
   "id": "b029eca1-e482-43b2-93c3-ed00909219e5",
   "metadata": {},
   "outputs": [
    {
     "data": {
      "text/html": [
       "<div>\n",
       "    <table class=\"dataframe\">\n",
       "<thead>\n",
       "<tr><th style=\"text-align: right;\">  id<br>Int64</th><th>name<br>Struct[chinese: Utf8, english: Utf8, french: Utf8, japanese: Utf8]  </th><th>type<br>List[Utf8]  </th><th>base<br>Python                                                                                      </th><th>species<br>Utf8    </th><th>evolution<br>Struct[next: List[List[Utf8]], prev: List[Utf8]]  </th><th>profile<br>Struct[ability: List[List[Utf8]], egg: List[Utf8], gender: Utf8, height: Utf8, weight: Utf8]  </th><th>image<br>Struct[hires: Utf8, sprite: Utf8, thumbnail: Utf8]  </th><th style=\"text-align: right;\">  vexpresso_index<br>Int64</th><th>description<br>Utf8                                         </th><th>embeddings_description<br>Python                 </th><th style=\"text-align: right;\">  embeddings_description_score<br>Float64</th></tr>\n",
       "</thead>\n",
       "<tbody>\n",
       "<tr><td style=\"text-align: right;\">          143</td><td>{'chinese': '卡比兽', 'english': 'Snorlax', 'french': 'Ronfl...             </td><td>['Normal']          </td><td>{&#x27;HP&#x27;: 160, &#x27;Attack&#x27;: 110, &#x27;Defense&#x27;: 65, &#x27;Sp. Attack&#x27;: 6...</td><td>Sleeping Pokémon   </td><td>{'next': None, 'prev': ['446', 'high Friendship']}             </td><td>{'ability': [['Immunity', 'false'], ['Thick Fat', 'false'...                                             </td><td>{'hires': 'https://raw.githubusercontent.com/Purukitto/po... </td><td style=\"text-align: right;\">                       142</td><td>It has no interest in anything other than eating. Even if...</td><td>&ltnp.ndarray<br>shape=(768,)<br>dtype=float64&gt</td><td style=\"text-align: right;\">                                 0.561686</td></tr>\n",
       "<tr><td style=\"text-align: right;\">           25</td><td>{'chinese': '皮卡丘', 'english': 'Pikachu', 'french': 'Pikac...             </td><td>['Electric']        </td><td>{&#x27;HP&#x27;: 35, &#x27;Attack&#x27;: 55, &#x27;Defense&#x27;: 40, &#x27;Sp. Attack&#x27;: 50,...</td><td>Mouse Pokémon      </td><td>{'next': [['26', 'use Thunder Stone']], 'prev': ['172', '...   </td><td>{'ability': [['Static', 'false'], ['Lightning Rod', 'true...                                             </td><td>{'hires': 'https://raw.githubusercontent.com/Purukitto/po... </td><td style=\"text-align: right;\">                        24</td><td>While sleeping, it generates electricity in the sacs in i...</td><td>&ltnp.ndarray<br>shape=(768,)<br>dtype=float64&gt</td><td style=\"text-align: right;\">                                 0.474437</td></tr>\n",
       "<tr><td style=\"text-align: right;\">          328</td><td>{'chinese': '大颚蚁', 'english': 'Trapinch', 'french': 'Krak...             </td><td>['Ground']          </td><td>{&#x27;HP&#x27;: 45, &#x27;Attack&#x27;: 100, &#x27;Defense&#x27;: 45, &#x27;Sp. Attack&#x27;: 45...</td><td>Ant Pit Pokémon    </td><td>{'next': [['329', 'Level 35']], 'prev': None}                  </td><td>{'ability': [['Hyper Cutter', 'false'], ['Arena Trap', 'f...                                             </td><td>{'hires': 'https://raw.githubusercontent.com/Purukitto/po... </td><td style=\"text-align: right;\">                       327</td><td>It builds nests that double as traps, lying in wait for i...</td><td>&ltnp.ndarray<br>shape=(768,)<br>dtype=float64&gt</td><td style=\"text-align: right;\">                                 0.450725</td></tr>\n",
       "<tr><td style=\"text-align: right;\">          722</td><td>{'chinese': '木木枭', 'english': 'Rowlet', 'french': 'Brindi...             </td><td>['Grass', 'Flying'] </td><td>{&#x27;HP&#x27;: 68, &#x27;Attack&#x27;: 55, &#x27;Defense&#x27;: 55, &#x27;Sp. Attack&#x27;: 50,...</td><td>Grass Quill Pokémon</td><td>{'next': [['723', 'Level 17']], 'prev': None}                  </td><td>{'ability': [['Overgrow', 'false'], ['Long Reach', 'true'...                                             </td><td>{'hires': 'https://raw.githubusercontent.com/Purukitto/po... </td><td style=\"text-align: right;\">                       721</td><td>It feels relaxed in tight, dark places and has been known...</td><td>&ltnp.ndarray<br>shape=(768,)<br>dtype=float64&gt</td><td style=\"text-align: right;\">                                 0.445208</td></tr>\n",
       "<tr><td style=\"text-align: right;\">          554</td><td>{'chinese': '火红不倒翁', 'english': 'Darumaka', 'french': 'Da...           </td><td>['Fire']            </td><td>{&#x27;HP&#x27;: 70, &#x27;Attack&#x27;: 90, &#x27;Defense&#x27;: 45, &#x27;Sp. Attack&#x27;: 15,...</td><td>Zen Charm Pokémon  </td><td>{'next': [['555', 'use Ice Stone']], 'prev': None}             </td><td>{'ability': [['Hustle', 'false'], ['Inner Focus', 'true']...                                             </td><td>{'hires': 'https://raw.githubusercontent.com/Purukitto/po... </td><td style=\"text-align: right;\">                       553</td><td>When it sleeps, it pulls its limbs into its body and its ...</td><td>&ltnp.ndarray<br>shape=(768,)<br>dtype=float64&gt</td><td style=\"text-align: right;\">                                 0.430829</td></tr>\n",
       "</tbody>\n",
       "</table>\n",
       "    <small>(Showing first 5 rows)</small>\n",
       "</div>"
      ],
      "text/plain": [
       "+---------+----------------------------------------------------------------------+---------------------+----------------------+---------------------+----------------------------------------------------+------------------------------------------------------------------------------------------------+------------------------------------------------------+-------------------+----------------------+--------------------------+--------------------------------+\n",
       "|      id | name                                                                 | type                | base                 | species             | evolution                                          | profile                                                                                        | image                                                |   vexpresso_index | description          | embeddings_description   |   embeddings_description_score |\n",
       "|   Int64 | Struct[chinese: Utf8, english: Utf8, french: Utf8, japanese: Utf8]   | List[Utf8]          | Python               | Utf8                | Struct[next: List[List[Utf8]], prev: List[Utf8]]   | Struct[ability: List[List[Utf8]], egg: List[Utf8], gender: Utf8, height: Utf8, weight: Utf8]   | Struct[hires: Utf8, sprite: Utf8, thumbnail: Utf8]   |             Int64 | Utf8                 | Python                   |                        Float64 |\n",
       "+=========+======================================================================+=====================+======================+=====================+====================================================+================================================================================================+======================================================+===================+======================+==========================+================================+\n",
       "|     143 | {'chinese':                                                          | ['Normal']          | {'HP': 160,          | Sleeping Pokémon    | {'next': None,                                     | {'ability':                                                                                    | {'hires': 'https://r                                 |               142 | It has no interest   | [ 3.05449287e-03         |                       0.561686 |\n",
       "|         | '卡比兽', 'english':                                                 |                     | 'Attack': 110,       |                     | 'prev': ['446',                                    | [['Immunity',                                                                                  | aw.githubusercontent                                 |                   | in anything other    | -1.00210998e-02          |                                |\n",
       "|         | 'Snorlax', 'french':                                                 |                     | 'Defense': 65, 'Sp.  |                     | 'high Friendship']}                                | 'false'], ['Thick                                                                              | .com/Purukitto/po...                                 |                   | than eating. Even    | -1.60641465e-02          |                                |\n",
       "|         | 'Ronfl...                                                            |                     | Attack': 6...        |                     |                                                    | Fat', 'false'...                                                                               |                                                      |                   | if...                | -2.31817...              |                                |\n",
       "+---------+----------------------------------------------------------------------+---------------------+----------------------+---------------------+----------------------------------------------------+------------------------------------------------------------------------------------------------+------------------------------------------------------+-------------------+----------------------+--------------------------+--------------------------------+\n",
       "|      25 | {'chinese':                                                          | ['Electric']        | {'HP': 35, 'Attack': | Mouse Pokémon       | {'next': [['26',                                   | {'ability':                                                                                    | {'hires': 'https://r                                 |                24 | While sleeping, it   | [ 3.69857028e-02         |                       0.474437 |\n",
       "|         | '皮卡丘', 'english':                                                 |                     | 55, 'Defense': 40,   |                     | 'use Thunder                                       | [['Static',                                                                                    | aw.githubusercontent                                 |                   | generates            | -6.59514144e-02          |                                |\n",
       "|         | 'Pikachu', 'french':                                                 |                     | 'Sp. Attack': 50,... |                     | Stone']], 'prev':                                  | 'false'],                                                                                      | .com/Purukitto/po...                                 |                   | electricity in the   | -2.28393096e-02          |                                |\n",
       "|         | 'Pikac...                                                            |                     |                      |                     | ['172', '...                                       | ['Lightning Rod',                                                                              |                                                      |                   | sacs in i...         | 1.62902...               |                                |\n",
       "|         |                                                                      |                     |                      |                     |                                                    | 'true...                                                                                       |                                                      |                   |                      |                          |                                |\n",
       "+---------+----------------------------------------------------------------------+---------------------+----------------------+---------------------+----------------------------------------------------+------------------------------------------------------------------------------------------------+------------------------------------------------------+-------------------+----------------------+--------------------------+--------------------------------+\n",
       "|     328 | {'chinese':                                                          | ['Ground']          | {'HP': 45, 'Attack': | Ant Pit Pokémon     | {'next': [['329',                                  | {'ability': [['Hyper                                                                           | {'hires': 'https://r                                 |               327 | It builds nests that | [ 9.05408151e-03         |                       0.450725 |\n",
       "|         | '大颚蚁', 'english':                                                 |                     | 100, 'Defense': 45,  |                     | 'Level 35']],                                      | Cutter', 'false'],                                                                             | aw.githubusercontent                                 |                   | double as traps,     | -4.08860259e-02          |                                |\n",
       "|         | 'Trapinch',                                                          |                     | 'Sp. Attack': 45...  |                     | 'prev': None}                                      | ['Arena Trap', 'f...                                                                           | .com/Purukitto/po...                                 |                   | lying in wait for    | -3.87813337e-02          |                                |\n",
       "|         | 'french': 'Krak...                                                   |                     |                      |                     |                                                    |                                                                                                |                                                      |                   | i...                 | 1.96780...               |                                |\n",
       "+---------+----------------------------------------------------------------------+---------------------+----------------------+---------------------+----------------------------------------------------+------------------------------------------------------------------------------------------------+------------------------------------------------------+-------------------+----------------------+--------------------------+--------------------------------+\n",
       "|     722 | {'chinese':                                                          | ['Grass', 'Flying'] | {'HP': 68, 'Attack': | Grass Quill Pokémon | {'next': [['723',                                  | {'ability':                                                                                    | {'hires': 'https://r                                 |               721 | It feels relaxed in  | [ 3.82023794e-03         |                       0.445208 |\n",
       "|         | '木木枭', 'english':                                                 |                     | 55, 'Defense': 55,   |                     | 'Level 17']],                                      | [['Overgrow',                                                                                  | aw.githubusercontent                                 |                   | tight, dark places   | -6.73920512e-02          |                                |\n",
       "|         | 'Rowlet', 'french':                                                  |                     | 'Sp. Attack': 50,... |                     | 'prev': None}                                      | 'false'], ['Long                                                                               | .com/Purukitto/po...                                 |                   | and has been         | -1.47744315e-02          |                                |\n",
       "|         | 'Brindi...                                                           |                     |                      |                     |                                                    | Reach', 'true'...                                                                              |                                                      |                   | known...             | 5.22084...               |                                |\n",
       "+---------+----------------------------------------------------------------------+---------------------+----------------------+---------------------+----------------------------------------------------+------------------------------------------------------------------------------------------------+------------------------------------------------------+-------------------+----------------------+--------------------------+--------------------------------+\n",
       "|     554 | {'chinese':                                                          | ['Fire']            | {'HP': 70, 'Attack': | Zen Charm Pokémon   | {'next': [['555',                                  | {'ability':                                                                                    | {'hires': 'https://r                                 |               553 | When it sleeps, it   | [-6.26431732e-03         |                       0.430829 |\n",
       "|         | '火红不倒翁',                                                        |                     | 90, 'Defense': 45,   |                     | 'use Ice Stone']],                                 | [['Hustle',                                                                                    | aw.githubusercontent                                 |                   | pulls its limbs into | -6.52114302e-02          |                                |\n",
       "|         | 'english':                                                           |                     | 'Sp. Attack': 15,... |                     | 'prev': None}                                      | 'false'], ['Inner                                                                              | .com/Purukitto/po...                                 |                   | its body and its ... | -1.75174105e-03          |                                |\n",
       "|         | 'Darumaka',                                                          |                     |                      |                     |                                                    | Focus', 'true']...                                                                             |                                                      |                   |                      | -3.05341...              |                                |\n",
       "|         | 'french': 'Da...                                                     |                     |                      |                     |                                                    |                                                                                                |                                                      |                   |                      |                          |                                |\n",
       "+---------+----------------------------------------------------------------------+---------------------+----------------------+---------------------+----------------------------------------------------+------------------------------------------------------------------------------------------------+------------------------------------------------------+-------------------+----------------------+--------------------------+--------------------------------+\n",
       "(Showing first 5 rows)"
      ]
     },
     "execution_count": 14,
     "metadata": {},
     "output_type": "execute_result"
    }
   ],
   "source": [
    "embedding = hf_embedding_function.func([\"Loves to sleep\"])\n",
    "sleepy_pokemon = collection.query(\"embeddings_description\", query_embeddings=embedding, k=10)\n",
    "sleepy_pokemon.show(5)"
   ]
  },
  {
   "cell_type": "markdown",
   "id": "0c8f9fe3-a232-4da0-a5ca-b2e3779ff7b4",
   "metadata": {},
   "source": [
    "#### Batch querying -- return a list of collections for each query"
   ]
  },
  {
   "cell_type": "code",
   "execution_count": 20,
   "id": "4863de0a-9be3-43a1-93f1-4a8d5f158aa7",
   "metadata": {},
   "outputs": [],
   "source": [
    "sleepy_pokemon_batch = collection.batch_query(\n",
    "    [\"embeddings_description\", \"embeddings_description\", \"embeddings_description\"],\n",
    "    queries=[\"Loves to sleep\", \"Fire Pokemon\", \"Lives in water\"],\n",
    "    k=10,\n",
    "    sort=True\n",
    ")"
   ]
  },
  {
   "cell_type": "code",
   "execution_count": 21,
   "id": "f21885ad-2358-48f1-b1f5-b3936a912a1c",
   "metadata": {},
   "outputs": [
    {
     "data": {
      "text/html": [
       "<div>\n",
       "    <table class=\"dataframe\">\n",
       "<thead>\n",
       "<tr><th style=\"text-align: right;\">  id<br>Int64</th><th>name<br>Struct[chinese: Utf8, english: Utf8, french: Utf8, japanese: Utf8]  </th><th>type<br>List[Utf8]   </th><th>base<br>Python                                                                                      </th><th>species<br>Utf8     </th><th>evolution<br>Struct[next: List[List[Utf8]], prev: List[Utf8]]  </th><th>profile<br>Struct[ability: List[List[Utf8]], egg: List[Utf8], gender: Utf8, height: Utf8, weight: Utf8]  </th><th>image<br>Struct[hires: Utf8, sprite: Utf8, thumbnail: Utf8]  </th><th style=\"text-align: right;\">  vexpresso_index<br>Int64</th><th>description<br>Utf8                                         </th><th>embeddings_description<br>Python                 </th><th style=\"text-align: right;\">  embeddings_description_score<br>Float64</th></tr>\n",
       "</thead>\n",
       "<tbody>\n",
       "<tr><td style=\"text-align: right;\">          536</td><td>{'chinese': '蓝蟾蜍', 'english': 'Palpitoad', 'french': 'Bat...             </td><td>['Water', 'Ground']  </td><td>{&#x27;HP&#x27;: 75, &#x27;Attack&#x27;: 65, &#x27;Defense&#x27;: 55, &#x27;Sp. Attack&#x27;: 65,...</td><td>Vibration Pokémon   </td><td>{'next': [['537', 'Level 36']], 'prev': ['535', 'Level 25']}   </td><td>{'ability': [['Swift Swim', 'false'], ['Hydration', 'fals...                                             </td><td>{'hires': 'https://raw.githubusercontent.com/Purukitto/po... </td><td style=\"text-align: right;\">                       535</td><td>It lives in the water and on land. It uses its long, stic...</td><td>&ltnp.ndarray<br>shape=(768,)<br>dtype=float64&gt</td><td style=\"text-align: right;\">                                 0.709986</td></tr>\n",
       "<tr><td style=\"text-align: right;\">          751</td><td>{'chinese': '滴蛛', 'english': 'Dewpider', 'french': 'Araqu...              </td><td>['Water', 'Bug']     </td><td>{&#x27;HP&#x27;: 38, &#x27;Attack&#x27;: 40, &#x27;Defense&#x27;: 52, &#x27;Sp. Attack&#x27;: 40,...</td><td>Water Bubble Pokémon</td><td>{'next': [['752', 'Level 22']], 'prev': None}                  </td><td>{'ability': [['Water Bubble', 'false'], ['Water Absorb', ...                                             </td><td>{'hires': 'https://raw.githubusercontent.com/Purukitto/po... </td><td style=\"text-align: right;\">                       750</td><td>It can only breathe oxygen that has dissolved in water, s...</td><td>&ltnp.ndarray<br>shape=(768,)<br>dtype=float64&gt</td><td style=\"text-align: right;\">                                 0.654163</td></tr>\n",
       "<tr><td style=\"text-align: right;\">          171</td><td>{'chinese': '电灯怪', 'english': 'Lanturn', 'french': 'Lantu...             </td><td>['Water', 'Electric']</td><td>{&#x27;HP&#x27;: 125, &#x27;Attack&#x27;: 58, &#x27;Defense&#x27;: 58, &#x27;Sp. Attack&#x27;: 76...</td><td>Light Pokémon       </td><td>{'next': None, 'prev': ['170', 'Level 27']}                    </td><td>{'ability': [['Volt Absorb', 'false'], ['Illuminate', 'fa...                                             </td><td>{'hires': 'https://raw.githubusercontent.com/Purukitto/po... </td><td style=\"text-align: right;\">                       170</td><td>It lives far down in the depths of the ocean. It blinds i...</td><td>&ltnp.ndarray<br>shape=(768,)<br>dtype=float64&gt</td><td style=\"text-align: right;\">                                 0.64507 </td></tr>\n",
       "<tr><td style=\"text-align: right;\">          457</td><td>{'chinese': '霓虹鱼', 'english': 'Lumineon', 'french': 'Lumi...             </td><td>['Water']            </td><td>{&#x27;HP&#x27;: 69, &#x27;Attack&#x27;: 69, &#x27;Defense&#x27;: 76, &#x27;Sp. Attack&#x27;: 69,...</td><td>Neon Pokémon        </td><td>{'next': None, 'prev': ['456', 'Level 31']}                    </td><td>{'ability': [['Swift Swim', 'false'], ['Storm Drain', 'fa...                                             </td><td>{'hires': 'https://raw.githubusercontent.com/Purukitto/po... </td><td style=\"text-align: right;\">                       456</td><td>They traverse the deep waters as if crawling over the sea...</td><td>&ltnp.ndarray<br>shape=(768,)<br>dtype=float64&gt</td><td style=\"text-align: right;\">                                 0.623969</td></tr>\n",
       "<tr><td style=\"text-align: right;\">          121</td><td>{'chinese': '宝石海星', 'english': 'Starmie', 'french': 'Star...            </td><td>['Water', 'Psychic'] </td><td>{&#x27;HP&#x27;: 60, &#x27;Attack&#x27;: 75, &#x27;Defense&#x27;: 85, &#x27;Sp. Attack&#x27;: 100...</td><td>Mysterious Pokémon  </td><td>{'next': None, 'prev': ['120', 'use Water Stone']}             </td><td>{'ability': [['Illuminate', 'false'], ['Natural Cure', 'f...                                             </td><td>{'hires': 'https://raw.githubusercontent.com/Purukitto/po... </td><td style=\"text-align: right;\">                       120</td><td>It rotates its geometrically shaped body to swim through ...</td><td>&ltnp.ndarray<br>shape=(768,)<br>dtype=float64&gt</td><td style=\"text-align: right;\">                                 0.615116</td></tr>\n",
       "</tbody>\n",
       "</table>\n",
       "    <small>(Showing first 5 rows)</small>\n",
       "</div>"
      ],
      "text/plain": [
       "+---------+----------------------------------------------------------------------+----------------------+----------------------+----------------------+----------------------------------------------------+------------------------------------------------------------------------------------------------+------------------------------------------------------+-------------------+----------------------+--------------------------+--------------------------------+\n",
       "|      id | name                                                                 | type                 | base                 | species              | evolution                                          | profile                                                                                        | image                                                |   vexpresso_index | description          | embeddings_description   |   embeddings_description_score |\n",
       "|   Int64 | Struct[chinese: Utf8, english: Utf8, french: Utf8, japanese: Utf8]   | List[Utf8]           | Python               | Utf8                 | Struct[next: List[List[Utf8]], prev: List[Utf8]]   | Struct[ability: List[List[Utf8]], egg: List[Utf8], gender: Utf8, height: Utf8, weight: Utf8]   | Struct[hires: Utf8, sprite: Utf8, thumbnail: Utf8]   |             Int64 | Utf8                 | Python                   |                        Float64 |\n",
       "+=========+======================================================================+======================+======================+======================+====================================================+================================================================================================+======================================================+===================+======================+==========================+================================+\n",
       "|     536 | {'chinese':                                                          | ['Water', 'Ground']  | {'HP': 75, 'Attack': | Vibration Pokémon    | {'next': [['537',                                  | {'ability': [['Swift                                                                           | {'hires': 'https://r                                 |               535 | It lives in the      | [ 7.73790777e-02         |                       0.709986 |\n",
       "|         | '蓝蟾蜍', 'english':                                                 |                      | 65, 'Defense': 55,   |                      | 'Level 36']],                                      | Swim', 'false'],                                                                               | aw.githubusercontent                                 |                   | water and on land.   | -4.34824750e-02          |                                |\n",
       "|         | 'Palpitoad',                                                         |                      | 'Sp. Attack': 65,... |                      | 'prev': ['535',                                    | ['Hydration',                                                                                  | .com/Purukitto/po...                                 |                   | It uses its long,    | -1.47033678e-02          |                                |\n",
       "|         | 'french': 'Bat...                                                    |                      |                      |                      | 'Level 25']}                                       | 'fals...                                                                                       |                                                      |                   | stic...              | -6.50493...              |                                |\n",
       "+---------+----------------------------------------------------------------------+----------------------+----------------------+----------------------+----------------------------------------------------+------------------------------------------------------------------------------------------------+------------------------------------------------------+-------------------+----------------------+--------------------------+--------------------------------+\n",
       "|     751 | {'chinese': '滴蛛',                                                  | ['Water', 'Bug']     | {'HP': 38, 'Attack': | Water Bubble Pokémon | {'next': [['752',                                  | {'ability': [['Water                                                                           | {'hires': 'https://r                                 |               750 | It can only breathe  | [ 2.53775902e-02         |                       0.654163 |\n",
       "|         | 'english':                                                           |                      | 40, 'Defense': 52,   |                      | 'Level 22']],                                      | Bubble', 'false'],                                                                             | aw.githubusercontent                                 |                   | oxygen that has      | -4.70519662e-02          |                                |\n",
       "|         | 'Dewpider',                                                          |                      | 'Sp. Attack': 40,... |                      | 'prev': None}                                      | ['Water Absorb', ...                                                                           | .com/Purukitto/po...                                 |                   | dissolved in water,  | -4.26297821e-02          |                                |\n",
       "|         | 'french': 'Araqu...                                                  |                      |                      |                      |                                                    |                                                                                                |                                                      |                   | s...                 | -4.18702...              |                                |\n",
       "+---------+----------------------------------------------------------------------+----------------------+----------------------+----------------------+----------------------------------------------------+------------------------------------------------------------------------------------------------+------------------------------------------------------+-------------------+----------------------+--------------------------+--------------------------------+\n",
       "|     171 | {'chinese':                                                          | ['Water',            | {'HP': 125,          | Light Pokémon        | {'next': None,                                     | {'ability': [['Volt                                                                            | {'hires': 'https://r                                 |               170 | It lives far down in | [ 8.84881988e-02         |                       0.64507  |\n",
       "|         | '电灯怪', 'english':                                                 | 'Electric']          | 'Attack': 58,        |                      | 'prev': ['170',                                    | Absorb', 'false'],                                                                             | aw.githubusercontent                                 |                   | the depths of the    | -2.72425320e-02          |                                |\n",
       "|         | 'Lanturn', 'french':                                                 |                      | 'Defense': 58, 'Sp.  |                      | 'Level 27']}                                       | ['Illuminate',                                                                                 | .com/Purukitto/po...                                 |                   | ocean. It blinds     | -2.59764157e-02          |                                |\n",
       "|         | 'Lantu...                                                            |                      | Attack': 76...       |                      |                                                    | 'fa...                                                                                         |                                                      |                   | i...                 | -6.12504...              |                                |\n",
       "+---------+----------------------------------------------------------------------+----------------------+----------------------+----------------------+----------------------------------------------------+------------------------------------------------------------------------------------------------+------------------------------------------------------+-------------------+----------------------+--------------------------+--------------------------------+\n",
       "|     457 | {'chinese':                                                          | ['Water']            | {'HP': 69, 'Attack': | Neon Pokémon         | {'next': None,                                     | {'ability': [['Swift                                                                           | {'hires': 'https://r                                 |               456 | They traverse the    | [ 9.96698067e-03         |                       0.623969 |\n",
       "|         | '霓虹鱼', 'english':                                                 |                      | 69, 'Defense': 76,   |                      | 'prev': ['456',                                    | Swim', 'false'],                                                                               | aw.githubusercontent                                 |                   | deep waters as if    | -4.67323586e-02          |                                |\n",
       "|         | 'Lumineon',                                                          |                      | 'Sp. Attack': 69,... |                      | 'Level 31']}                                       | ['Storm Drain',                                                                                | .com/Purukitto/po...                                 |                   | crawling over the    | -5.04178703e-02          |                                |\n",
       "|         | 'french': 'Lumi...                                                   |                      |                      |                      |                                                    | 'fa...                                                                                         |                                                      |                   | sea...               | -8.03795...              |                                |\n",
       "+---------+----------------------------------------------------------------------+----------------------+----------------------+----------------------+----------------------------------------------------+------------------------------------------------------------------------------------------------+------------------------------------------------------+-------------------+----------------------+--------------------------+--------------------------------+\n",
       "|     121 | {'chinese':                                                          | ['Water', 'Psychic'] | {'HP': 60, 'Attack': | Mysterious Pokémon   | {'next': None,                                     | {'ability':                                                                                    | {'hires': 'https://r                                 |               120 | It rotates its       | [ 4.85494323e-02         |                       0.615116 |\n",
       "|         | '宝石海星',                                                          |                      | 75, 'Defense': 85,   |                      | 'prev': ['120', 'use                               | [['Illuminate',                                                                                | aw.githubusercontent                                 |                   | geometrically shaped | -6.30016327e-02          |                                |\n",
       "|         | 'english':                                                           |                      | 'Sp. Attack': 100... |                      | Water Stone']}                                     | 'false'], ['Natural                                                                            | .com/Purukitto/po...                                 |                   | body to swim through | -2.53655296e-02          |                                |\n",
       "|         | 'Starmie', 'french':                                                 |                      |                      |                      |                                                    | Cure', 'f...                                                                                   |                                                      |                   | ...                  | -7.19148...              |                                |\n",
       "|         | 'Star...                                                             |                      |                      |                      |                                                    |                                                                                                |                                                      |                   |                      |                          |                                |\n",
       "+---------+----------------------------------------------------------------------+----------------------+----------------------+----------------------+----------------------------------------------------+------------------------------------------------------------------------------------------------+------------------------------------------------------+-------------------+----------------------+--------------------------+--------------------------------+\n",
       "(Showing first 5 rows)"
      ]
     },
     "execution_count": 21,
     "metadata": {},
     "output_type": "execute_result"
    }
   ],
   "source": [
    "sleepy_pokemon_batch[2].show(5)"
   ]
  },
  {
   "cell_type": "markdown",
   "id": "071aeb52-de43-4ee6-bbe1-34a71f43a803",
   "metadata": {},
   "source": [
    "### This allows for query chaining"
   ]
  },
  {
   "cell_type": "code",
   "execution_count": null,
   "id": "3faa8397-f34c-4164-9d8d-8f530ab236bb",
   "metadata": {},
   "outputs": [],
   "source": [
    "sleepy_water_pokemon = collection.query(\"embeddings_description\", query=[\"Loves to sleep\"], k=10) \\\n",
    "                                 .query(\"embeddings_description\", query=[\"Lives in water\"], k=5) \\\n",
    "                                 .execute()"
   ]
  },
  {
   "cell_type": "markdown",
   "id": "18816d7f-4838-4bf3-8864-dbdca4a46ee9",
   "metadata": {},
   "source": [
    "#### Show daft DataFrame"
   ]
  },
  {
   "cell_type": "code",
   "execution_count": null,
   "id": "17060a41-ff3f-4cc6-841c-47fa3b766339",
   "metadata": {},
   "outputs": [],
   "source": [
    "sleepy_water_pokemon.show(5)"
   ]
  },
  {
   "cell_type": "markdown",
   "id": "b5221c9f-55d8-4f77-aaf9-4a5f14bf0f33",
   "metadata": {},
   "source": [
    "#### Show pandas"
   ]
  },
  {
   "cell_type": "code",
   "execution_count": null,
   "id": "2226c955-e128-4511-ae64-818ee4097c4f",
   "metadata": {},
   "outputs": [],
   "source": [
    "sleepy_water_pokemon.to_pandas()"
   ]
  },
  {
   "cell_type": "markdown",
   "id": "39e762a0-b5f7-41af-8aa1-5069dbf36f2c",
   "metadata": {},
   "source": [
    "## Querying the collection's embeddings, eager execution\n",
    "### This is useful if you don't need to chain calls together and just want to get the results back immediately"
   ]
  },
  {
   "cell_type": "code",
   "execution_count": null,
   "id": "f2ce25b3-bf7e-411f-bfcd-f2766e3d38b1",
   "metadata": {},
   "outputs": [],
   "source": [
    "sleepy_pokemon = collection.query(\"embeddings_description\", query=[\"Loves to sleep\"], k=10, lazy=False)\n",
    "sleepy_pokemon.show(5)"
   ]
  },
  {
   "cell_type": "markdown",
   "id": "4b0acbd1-0812-4753-9b46-346804a0c558",
   "metadata": {},
   "source": [
    "## Performing filters"
   ]
  },
  {
   "cell_type": "markdown",
   "id": "f193f348-d6c1-4ae4-a115-552648bc133e",
   "metadata": {
    "tags": []
   },
   "source": [
    "### With vexpresso we can leverage duckdb for powerful queries"
   ]
  },
  {
   "cell_type": "markdown",
   "id": "4fdd8a9f-9d43-40ba-bf71-cee074acc77d",
   "metadata": {},
   "source": [
    "#### In order to filter on metadata, you must supply a filter dictionary to the filter method. The dictionary must have the following structure:\n",
    "\n",
    "```python\n",
    "{\n",
    "    <field>: {\n",
    "        <filter_method>: <value>\n",
    "    },\n",
    "    <field>: {\n",
    "        <filter_method>: <value>\n",
    "    },\n",
    "}\n",
    "\n",
    "```"
   ]
  },
  {
   "cell_type": "markdown",
   "id": "ccf08b5f-6a41-40ee-8009-723a8d79455e",
   "metadata": {
    "tags": []
   },
   "source": [
    "#### Query to only get Pokemon with the name \"Snorlax\""
   ]
  },
  {
   "cell_type": "code",
   "execution_count": null,
   "id": "10b28c05-f097-4e70-822e-3ac24953f2e7",
   "metadata": {},
   "outputs": [],
   "source": [
    "filter_condition = {\n",
    "    \"name.english\": {\n",
    "        \"eq\":\"Snorlax\"\n",
    "    },\n",
    "}\n",
    "\n",
    "sleepy_pokemon.filter(filter_condition).to_pandas()"
   ]
  },
  {
   "cell_type": "markdown",
   "id": "b906bdad-15b1-41ed-96a7-cb5b1ba6da5a",
   "metadata": {},
   "source": [
    "#### Query to only get Pokemon with the name \"Snorlax\" or \"Pikachu\""
   ]
  },
  {
   "cell_type": "code",
   "execution_count": null,
   "id": "564ded1e-39e4-467c-afa2-9b11ac73f5b0",
   "metadata": {},
   "outputs": [],
   "source": [
    "filter_condition = {\n",
    "    \"name.english\": [\n",
    "        {\n",
    "            \"eq\":\"Snorlax\"\n",
    "        },\n",
    "        {\n",
    "            \"eq\":\"Pikachu\"\n",
    "        },\n",
    "    ],\n",
    "}\n",
    "sleepy_pokemon.filter(filter_condition).to_pandas()"
   ]
  },
  {
   "cell_type": "markdown",
   "id": "10c95289-01e3-4214-8f2f-6d70fbebb4d6",
   "metadata": {},
   "source": [
    "#### Query to only get Pokemon with the name \"Snorlax\" or \"Pikachu\" using a list"
   ]
  },
  {
   "cell_type": "code",
   "execution_count": null,
   "id": "90309da9-dfc9-43b1-90fe-ed675907e61f",
   "metadata": {},
   "outputs": [],
   "source": [
    "filter_condition = {\n",
    "    \"name.english\": {\n",
    "        \"isin\":[\"Snorlax\", \"Pikachu\"]\n",
    "    }\n",
    "}\n",
    "sleepy_pokemon.filter(filter_condition).to_pandas()"
   ]
  },
  {
   "cell_type": "markdown",
   "id": "ba8f98aa-cc2e-4c1e-93db-010e30f30085",
   "metadata": {},
   "source": [
    "#### Query to only get Pokemon with type Normal and attack > 100"
   ]
  },
  {
   "cell_type": "code",
   "execution_count": null,
   "id": "a6b1003c-ef82-4029-8e34-925ece8bcee1",
   "metadata": {},
   "outputs": [],
   "source": [
    "filter_condition = {\n",
    "    \"type\": {\n",
    "        \"contains\":\"Normal\"\n",
    "    },\n",
    "    \"base.Attack\": {\n",
    "        \"gt\":100\n",
    "    }\n",
    "}\n",
    "sleepy_pokemon.filter(filter_condition).to_pandas()"
   ]
  },
  {
   "cell_type": "markdown",
   "id": "fb7ab784-9564-4607-bc2a-80807fc708d2",
   "metadata": {},
   "source": [
    "## Query + Filter chaining"
   ]
  },
  {
   "cell_type": "markdown",
   "id": "559a3148-d5d3-442c-ba3a-a4c66728ea1a",
   "metadata": {
    "tags": []
   },
   "source": [
    "#### For example, let's filter the above collection for Pokemon with HP >= 35 and Defense > 45"
   ]
  },
  {
   "cell_type": "code",
   "execution_count": null,
   "id": "129a3c1e-8410-4301-b502-024df8380a1e",
   "metadata": {},
   "outputs": [],
   "source": [
    "filter_conditions = {\n",
    "    \"base.HP\": {\"gte\":35},\n",
    "    \"base.Defense\": {\"gt\":45}\n",
    "}\n",
    "sleepy_pokemon = collection.query(\"embeddings_description\", query=[\"Loves to sleep\"], k=10).filter(filter_conditions=filter_conditions).execute()\n",
    "sleepy_pokemon.show(5)"
   ]
  },
  {
   "cell_type": "markdown",
   "id": "15da34cd-656a-4a36-9273-f9958ed4930c",
   "metadata": {},
   "source": [
    "## Grab fields from metadata"
   ]
  },
  {
   "cell_type": "code",
   "execution_count": null,
   "id": "d8302b1c-76d8-4d14-bcc2-5685e781ff0b",
   "metadata": {},
   "outputs": [],
   "source": [
    "names, types, descriptions = sleepy_pokemon.select(\"name.english\", \"type\", \"description\").to_list()\n",
    "for n, t, d in zip(names, types, descriptions):\n",
    "    print(f\"{n}: {t} -- {d}\")"
   ]
  },
  {
   "cell_type": "markdown",
   "id": "7ef49dcd-3268-4faf-903e-cbdf50f90998",
   "metadata": {},
   "source": [
    "## Save collection"
   ]
  },
  {
   "cell_type": "code",
   "execution_count": null,
   "id": "d1f00557-c7bf-40a1-b857-9cbe3db0f89c",
   "metadata": {},
   "outputs": [],
   "source": [
    "sleepy_pokemon.save(\"./saved_filtered_pokemon\")"
   ]
  },
  {
   "cell_type": "markdown",
   "id": "8740e38f-18de-437c-8b79-87f0aa3f5b05",
   "metadata": {},
   "source": [
    "## Load collection"
   ]
  },
  {
   "cell_type": "code",
   "execution_count": null,
   "id": "9c39c16f-17fc-421b-aff1-9a22ac474e30",
   "metadata": {},
   "outputs": [],
   "source": [
    "loaded_collection = vexpresso.create(\n",
    "    directory_or_repo_id = \"saved_filtered_pokemon\",\n",
    "    embedding_functions = {\"embeddings_description\":hf_embedding_function}\n",
    ")"
   ]
  },
  {
   "cell_type": "code",
   "execution_count": null,
   "id": "c07b5062-4f2b-4e86-8596-0e24814d58b6",
   "metadata": {},
   "outputs": [],
   "source": [
    "loaded_collection.show(5)"
   ]
  },
  {
   "cell_type": "markdown",
   "id": "84ba6378-7b73-4140-81b7-ba958a5c298d",
   "metadata": {},
   "source": [
    "## Uploading to HFhub"
   ]
  },
  {
   "cell_type": "code",
   "execution_count": null,
   "id": "6fc51f15-53c8-45e1-b946-cf4f9cc42ab2",
   "metadata": {},
   "outputs": [],
   "source": [
    "# Automatically gets token from env variable\n",
    "# HUGGINGFACEHUB_API_TOKEN = ...\n",
    "# or you can pass in token directly via collection.save(token=...)\n",
    "# repo_id = {HF_USERNAME}/{REPO_NAME}\n",
    "repo_id = \"shyamsn97/pokemon_vexpresso_test\"\n",
    "loaded_collection.save(repo_id, to_hub=True, private=True)"
   ]
  },
  {
   "cell_type": "code",
   "execution_count": null,
   "id": "46becea1-3c40-4976-89f3-323ea3ab00f4",
   "metadata": {},
   "outputs": [],
   "source": [
    "# or upload with username + repo name\n",
    "loaded_collection.save(hf_username = \"shyamsn97\", repo_name = \"pokemon_vexpresso_test\", to_hub=True)"
   ]
  },
  {
   "cell_type": "markdown",
   "id": "7c3e4a66-3653-4978-8eaf-a6b0d23d7e08",
   "metadata": {},
   "source": [
    "## Load from HfHub"
   ]
  },
  {
   "cell_type": "code",
   "execution_count": null,
   "id": "5d165831-d81c-4c9e-8b7b-cf63339f96ca",
   "metadata": {},
   "outputs": [],
   "source": [
    "# Automatically gets token from env variable\n",
    "# HUGGINGFACEHUB_API_TOKEN = ...\n",
    "# or you can pass in token directly via Collection.load(token=...)\n",
    "# repo_id = {HF_USERNAME}/{REPO_NAME}\n",
    "repo_id = \"shyamsn97/pokemon_vexpresso_test\"\n",
    "\n",
    "collection = vexpresso.create(\n",
    "    directory_or_repo_id = repo_id,\n",
    "    embedding_functions = {\"embeddings_description\":hf_embedding_function}\n",
    ")\n",
    "collection.to_pandas()"
   ]
  },
  {
   "cell_type": "code",
   "execution_count": null,
   "id": "e86d8f80-c22a-45a0-9ead-03605965c220",
   "metadata": {},
   "outputs": [],
   "source": [
    "# or load with username + repo name\n",
    "collection = vexpresso.create(\n",
    "    hf_username = \"shyamsn97\",\n",
    "    repo_name = \"pokemon_vexpresso_test\",\n",
    "    embedding_functions = {\"embeddings_description\":hf_embedding_function}\n",
    ")\n",
    "collection.to_pandas()"
   ]
  }
 ],
 "metadata": {
  "kernelspec": {
   "display_name": "Python [conda env:py39] *",
   "language": "python",
   "name": "conda-env-py39-py"
  },
  "language_info": {
   "codemirror_mode": {
    "name": "ipython",
    "version": 3
   },
   "file_extension": ".py",
   "mimetype": "text/x-python",
   "name": "python",
   "nbconvert_exporter": "python",
   "pygments_lexer": "ipython3",
   "version": "3.9.0"
  }
 },
 "nbformat": 4,
 "nbformat_minor": 5
}
