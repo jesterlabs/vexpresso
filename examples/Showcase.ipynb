{
 "cells": [
  {
   "cell_type": "markdown",
   "id": "91012fd4-996e-4e93-ae1e-28b3eed2bee8",
   "metadata": {},
   "source": [
    "# Showcase"
   ]
  },
  {
   "cell_type": "markdown",
   "id": "e46f373f-6ac9-453b-a155-8f0ca7e0e076",
   "metadata": {},
   "source": [
    "#### This is a simple tutorial to go over vexpresso capabilities"
   ]
  },
  {
   "cell_type": "markdown",
   "id": "18a4e4fa-3cf6-4d61-8c8e-15294aac9588",
   "metadata": {},
   "source": [
    "Imports"
   ]
  },
  {
   "cell_type": "code",
   "execution_count": null,
   "id": "a8d496cb-1d9a-4c9c-b11c-4678245bed8d",
   "metadata": {},
   "outputs": [],
   "source": [
    "import vexpresso\n",
    "import numpy as np\n",
    "from vexpresso.retriever import Retriever, FaissRetriever"
   ]
  },
  {
   "cell_type": "code",
   "execution_count": null,
   "id": "ab845032-1cc8-4b6a-b986-7bedb3dc686e",
   "metadata": {},
   "outputs": [],
   "source": [
    "data = {\n",
    "    \"status\": [\"read\", \"unread\", \"read\", \"unread\", \"read\", \"unread\", \"read\", \"unread\"],\n",
    "    \"documents\": [\"A document that discusses domestic policy\", \"A document that discusses international affairs\", \"A document that discusses kittens\", \"A document that discusses dogs\", \"A document that discusses chocolate\", \"A document that is sixth that discusses government\", \"A document that discusses international affairs\", \"A document that discusses global affairs\"],\n",
    "    \"ids\": [\"id1\", \"id2\", \"id3\", \"id4\", \"id5\", \"id6\", \"id7\", \"id8\"]\n",
    "}\n",
    "embeddings=[\n",
    "        [1.1, 2.3, 3.2],\n",
    "        [4.5, 6.9, 4.4],\n",
    "        [1.1, 2.3, 3.2],\n",
    "        [4.5, 6.9, 4.4],\n",
    "        [1.1, 2.3, 3.2],\n",
    "        [4.5, 6.9, 4.4],\n",
    "        [1.1, 2.3, 3.2],\n",
    "        [4.5, 6.9, 4.4],\n",
    "    ]"
   ]
  },
  {
   "cell_type": "code",
   "execution_count": null,
   "id": "8a57e759-9f09-4c78-b82e-1a1e901a2c5b",
   "metadata": {},
   "outputs": [],
   "source": [
    "collection = vexpresso.create(data=data)\n",
    "collection = collection.add_column( 'embeddings', embeddings)"
   ]
  },
  {
   "cell_type": "code",
   "execution_count": null,
   "id": "9d99f067-e534-4904-ba85-f72b29a94c64",
   "metadata": {},
   "outputs": [],
   "source": [
    "collection.show(5)"
   ]
  },
  {
   "cell_type": "code",
   "execution_count": null,
   "id": "e754ca2d-9a10-4186-8f69-5f41a1cdba38",
   "metadata": {},
   "outputs": [],
   "source": [
    "collection.query(\"embeddings\", query_embedding=[0.0,0.0,0.0], retriever=FaissRetriever()).execute()"
   ]
  },
  {
   "cell_type": "markdown",
   "id": "8dc8e1e5-7b1e-452a-b33c-db41713e3fa0",
   "metadata": {},
   "source": [
    "## Collection Creation"
   ]
  },
  {
   "cell_type": "markdown",
   "id": "a3b15b8b-fc83-46ea-b35b-bb08118e8df3",
   "metadata": {},
   "source": [
    "#### First we'll create some sample data. Here we're using just strings, but because `vexpresso` uses `daft`, you can use any datatype!"
   ]
  },
  {
   "cell_type": "code",
   "execution_count": 2,
   "id": "66676b55-f095-4dff-a9b9-fab6d227bb31",
   "metadata": {},
   "outputs": [],
   "source": [
    "data = {\"numbers\":list(range(1, 100)), \"strings\":[f\"test_{i}\" for i in range(1, 100)]}"
   ]
  },
  {
   "cell_type": "markdown",
   "id": "a75b45dd-1802-43cf-aee8-f9a76150ff49",
   "metadata": {},
   "source": [
    "#### To create the collection, use the `create` method. Lets also use a NumpyRetriever that uses euclidian distance. This by default is lazy execution, meaning that we actually don't load in any data until `execute` or `show` is called. (Or if `lazy` is passed)"
   ]
  },
  {
   "cell_type": "code",
   "execution_count": 3,
   "id": "b3d5cdf1-d98c-441d-a77b-405f3c3f218e",
   "metadata": {},
   "outputs": [
    {
     "name": "stderr",
     "output_type": "stream",
     "text": [
      "2023-06-13 20:27:32.649 | INFO     | daft.context:runner:80 - Using PyRunner\n"
     ]
    },
    {
     "data": {
      "text/html": [
       "<div>\n",
       "    <table class=\"dataframe\">\n",
       "<tbody>\n",
       "<tr><td>numbers<br>Int64</td><td>strings<br>Utf8</td></tr>\n",
       "</tbody>\n",
       "</table>\n",
       "    <small>(No data to display: Dataframe not materialized)</small>\n",
       "</div>"
      ],
      "text/plain": [
       "+-----------+-----------+\n",
       "| numbers   | strings   |\n",
       "| Int64     | Utf8      |\n",
       "+===========+===========+\n",
       "+-----------+-----------+\n",
       "(No data to display: Dataframe not materialized)"
      ]
     },
     "execution_count": 3,
     "metadata": {},
     "output_type": "execute_result"
    }
   ],
   "source": [
    "collection = vexpresso.create(data=data, retriever=Retriever(similarity_fn=\"euclidian\"))\n",
    "collection"
   ]
  },
  {
   "cell_type": "markdown",
   "id": "a12fb923-3091-44c7-b0f9-897ca9923afd",
   "metadata": {},
   "source": [
    "### If you want to operate directly"
   ]
  },
  {
   "cell_type": "markdown",
   "id": "44f75668-5315-4c2f-8b5f-2e3601529071",
   "metadata": {},
   "source": [
    "### Vexpresso also works on clusters with Ray!"
   ]
  },
  {
   "cell_type": "markdown",
   "id": "494ccf9c-cd38-4651-948a-bd556b286667",
   "metadata": {},
   "source": [
    "```python\n",
    "collection = vexpresso.create(data=data, retriever=Retriever(similarity_fn=\"euclidian\"), backend=\"ray\", cluster_address=..., cluster_kwargs=...)\n",
    "```"
   ]
  },
  {
   "cell_type": "markdown",
   "id": "d74b0580-e479-4819-b826-3a556860dec3",
   "metadata": {},
   "source": [
    "#### Lets see what's in the collection now!"
   ]
  },
  {
   "cell_type": "code",
   "execution_count": 5,
   "id": "0ef583f7-3e47-4a3c-99cd-7560a77a19df",
   "metadata": {},
   "outputs": [
    {
     "data": {
      "text/html": [
       "<div>\n",
       "    <table class=\"dataframe\">\n",
       "<thead>\n",
       "<tr><th>status<br>Utf8  </th><th>documents<br>Utf8                              </th><th>ids<br>Utf8  </th></tr>\n",
       "</thead>\n",
       "<tbody>\n",
       "<tr><td>read            </td><td>A document that discusses domestic policy      </td><td>id1          </td></tr>\n",
       "<tr><td>unread          </td><td>A document that discusses international affairs</td><td>id2          </td></tr>\n",
       "<tr><td>read            </td><td>A document that discusses kittens              </td><td>id3          </td></tr>\n",
       "<tr><td>unread          </td><td>A document that discusses dogs                 </td><td>id4          </td></tr>\n",
       "<tr><td>read            </td><td>A document that discusses chocolate            </td><td>id5          </td></tr>\n",
       "</tbody>\n",
       "</table>\n",
       "    <small>(Showing first 5 rows)</small>\n",
       "</div>"
      ],
      "text/plain": [
       "+----------+---------------------+--------+\n",
       "| status   | documents           | ids    |\n",
       "| Utf8     | Utf8                | Utf8   |\n",
       "+==========+=====================+========+\n",
       "| read     | A document that     | id1    |\n",
       "|          | discusses domestic  |        |\n",
       "|          | policy              |        |\n",
       "+----------+---------------------+--------+\n",
       "| unread   | A document that     | id2    |\n",
       "|          | discusses           |        |\n",
       "|          | international       |        |\n",
       "|          | affairs             |        |\n",
       "+----------+---------------------+--------+\n",
       "| read     | A document that     | id3    |\n",
       "|          | discusses kittens   |        |\n",
       "+----------+---------------------+--------+\n",
       "| unread   | A document that     | id4    |\n",
       "|          | discusses dogs      |        |\n",
       "+----------+---------------------+--------+\n",
       "| read     | A document that     | id5    |\n",
       "|          | discusses chocolate |        |\n",
       "+----------+---------------------+--------+\n",
       "(Showing first 5 rows)"
      ]
     },
     "execution_count": 5,
     "metadata": {},
     "output_type": "execute_result"
    }
   ],
   "source": [
    "collection.show(5)"
   ]
  },
  {
   "cell_type": "markdown",
   "id": "c4381cc5-cf1a-446f-96e4-75b2e32c39dd",
   "metadata": {},
   "source": [
    "#### vexpresso's `Collection` methods return `Collection` objects, allowing for complex chaining of calls"
   ]
  },
  {
   "cell_type": "markdown",
   "id": "066d6c76-ddee-487e-b91c-0f5dcadc9b95",
   "metadata": {
    "tags": []
   },
   "source": [
    "## Embed Data"
   ]
  },
  {
   "cell_type": "markdown",
   "id": "61cbd1d3-2382-4add-bc8a-033c7465e7b5",
   "metadata": {},
   "source": [
    "#### Lets embed the data using a simple \"fake\" embedding function. This simply returns a vector of integers based on the row number. For example, row 1's embedding is an array of 1s of size 100"
   ]
  },
  {
   "cell_type": "code",
   "execution_count": 5,
   "id": "f7c96fc1-16db-40e9-b44f-f0a93b9302f5",
   "metadata": {},
   "outputs": [],
   "source": [
    "import numpy as np\n",
    "\n",
    "def embed_fn(strings):\n",
    "    return [np.array([i]*100) for i in range(len(strings))]"
   ]
  },
  {
   "cell_type": "code",
   "execution_count": 6,
   "id": "d4517ba8-f45a-419e-9ec8-200ecf45a3d9",
   "metadata": {},
   "outputs": [],
   "source": [
    "collection = collection.embed(\"strings\", embedding_fn=embed_fn) # returns a new collection"
   ]
  },
  {
   "cell_type": "markdown",
   "id": "6c7e28f5-5268-460b-9862-d5bb8134bc83",
   "metadata": {},
   "source": [
    "#### By default vexpresso is \"lazy\", meaning that nothing is executed until `.execute` is called\n",
    "Note: this can be bypassed by passing `lazy=False`\n",
    "\n",
    "```python\n",
    "collection = collection.embed(\"strings\", embedding_fn=embed_fn, lazy=False)\n",
    "```"
   ]
  },
  {
   "cell_type": "code",
   "execution_count": 7,
   "id": "1b802efa-e0b7-4aac-9d98-dbbd15cd59e1",
   "metadata": {},
   "outputs": [
    {
     "data": {
      "text/html": [
       "<div>\n",
       "    <table class=\"dataframe\">\n",
       "<tbody>\n",
       "<tr><td>numbers<br>Int64</td><td>strings<br>Utf8</td><td>embeddings_strings<br>Python</td></tr>\n",
       "</tbody>\n",
       "</table>\n",
       "    <small>(No data to display: Dataframe not materialized)</small>\n",
       "</div>"
      ],
      "text/plain": [
       "+-----------+-----------+----------------------+\n",
       "| numbers   | strings   | embeddings_strings   |\n",
       "| Int64     | Utf8      | Python               |\n",
       "+===========+===========+======================+\n",
       "+-----------+-----------+----------------------+\n",
       "(No data to display: Dataframe not materialized)"
      ]
     },
     "execution_count": 7,
     "metadata": {},
     "output_type": "execute_result"
    }
   ],
   "source": [
    "collection"
   ]
  },
  {
   "cell_type": "markdown",
   "id": "295a166f-41b6-4d02-80c2-2ba8c071f616",
   "metadata": {},
   "source": [
    "#### Let's execute it to get embeddings"
   ]
  },
  {
   "cell_type": "code",
   "execution_count": 8,
   "id": "f4fa93ca-c1a1-4b5e-98e0-1d588d20c8e0",
   "metadata": {},
   "outputs": [],
   "source": [
    "collection = collection.execute()"
   ]
  },
  {
   "cell_type": "code",
   "execution_count": 9,
   "id": "f7149975-ecc1-49d5-9d34-5e28a699adb4",
   "metadata": {},
   "outputs": [
    {
     "data": {
      "text/html": [
       "<div>\n",
       "    <table class=\"dataframe\">\n",
       "<thead>\n",
       "<tr><th style=\"text-align: right;\">  numbers<br>Int64</th><th>strings<br>Utf8  </th><th>embeddings_strings<br>Python                   </th></tr>\n",
       "</thead>\n",
       "<tbody>\n",
       "<tr><td style=\"text-align: right;\">                 1</td><td>test_1           </td><td>&ltnp.ndarray<br>shape=(100,)<br>dtype=int64&gt</td></tr>\n",
       "<tr><td style=\"text-align: right;\">                 2</td><td>test_2           </td><td>&ltnp.ndarray<br>shape=(100,)<br>dtype=int64&gt</td></tr>\n",
       "<tr><td style=\"text-align: right;\">                 3</td><td>test_3           </td><td>&ltnp.ndarray<br>shape=(100,)<br>dtype=int64&gt</td></tr>\n",
       "<tr><td style=\"text-align: right;\">                 4</td><td>test_4           </td><td>&ltnp.ndarray<br>shape=(100,)<br>dtype=int64&gt</td></tr>\n",
       "<tr><td style=\"text-align: right;\">                 5</td><td>test_5           </td><td>&ltnp.ndarray<br>shape=(100,)<br>dtype=int64&gt</td></tr>\n",
       "</tbody>\n",
       "</table>\n",
       "    <small>(Showing first 5 rows)</small>\n",
       "</div>"
      ],
      "text/plain": [
       "+-----------+-----------+----------------------+\n",
       "|   numbers | strings   | embeddings_strings   |\n",
       "|     Int64 | Utf8      | Python               |\n",
       "+===========+===========+======================+\n",
       "|         1 | test_1    | [0 0 0 0 0 0 0 0 0 0 |\n",
       "|           |           | 0 0 0 0 0 0 0 0 0 0  |\n",
       "|           |           | 0 0 0 0 0 0 0 0 ...  |\n",
       "+-----------+-----------+----------------------+\n",
       "|         2 | test_2    | [1 1 1 1 1 1 1 1 1 1 |\n",
       "|           |           | 1 1 1 1 1 1 1 1 1 1  |\n",
       "|           |           | 1 1 1 1 1 1 1 1 ...  |\n",
       "+-----------+-----------+----------------------+\n",
       "|         3 | test_3    | [2 2 2 2 2 2 2 2 2 2 |\n",
       "|           |           | 2 2 2 2 2 2 2 2 2 2  |\n",
       "|           |           | 2 2 2 2 2 2 2 2 ...  |\n",
       "+-----------+-----------+----------------------+\n",
       "|         4 | test_4    | [3 3 3 3 3 3 3 3 3 3 |\n",
       "|           |           | 3 3 3 3 3 3 3 3 3 3  |\n",
       "|           |           | 3 3 3 3 3 3 3 3 ...  |\n",
       "+-----------+-----------+----------------------+\n",
       "|         5 | test_5    | [4 4 4 4 4 4 4 4 4 4 |\n",
       "|           |           | 4 4 4 4 4 4 4 4 4 4  |\n",
       "|           |           | 4 4 4 4 4 4 4 4 ...  |\n",
       "+-----------+-----------+----------------------+\n",
       "(Showing first 5 rows)"
      ]
     },
     "execution_count": 9,
     "metadata": {},
     "output_type": "execute_result"
    }
   ],
   "source": [
    "collection.show(5)"
   ]
  },
  {
   "cell_type": "code",
   "execution_count": 10,
   "id": "3dfaa17a-b25e-4108-82fb-7695cb6342a8",
   "metadata": {},
   "outputs": [
    {
     "data": {
      "text/plain": [
       "[array([0, 0, 0, 0, 0, 0, 0, 0, 0, 0, 0, 0, 0, 0, 0, 0, 0, 0, 0, 0, 0, 0,\n",
       "        0, 0, 0, 0, 0, 0, 0, 0, 0, 0, 0, 0, 0, 0, 0, 0, 0, 0, 0, 0, 0, 0,\n",
       "        0, 0, 0, 0, 0, 0, 0, 0, 0, 0, 0, 0, 0, 0, 0, 0, 0, 0, 0, 0, 0, 0,\n",
       "        0, 0, 0, 0, 0, 0, 0, 0, 0, 0, 0, 0, 0, 0, 0, 0, 0, 0, 0, 0, 0, 0,\n",
       "        0, 0, 0, 0, 0, 0, 0, 0, 0, 0, 0, 0]),\n",
       " array([1, 1, 1, 1, 1, 1, 1, 1, 1, 1, 1, 1, 1, 1, 1, 1, 1, 1, 1, 1, 1, 1,\n",
       "        1, 1, 1, 1, 1, 1, 1, 1, 1, 1, 1, 1, 1, 1, 1, 1, 1, 1, 1, 1, 1, 1,\n",
       "        1, 1, 1, 1, 1, 1, 1, 1, 1, 1, 1, 1, 1, 1, 1, 1, 1, 1, 1, 1, 1, 1,\n",
       "        1, 1, 1, 1, 1, 1, 1, 1, 1, 1, 1, 1, 1, 1, 1, 1, 1, 1, 1, 1, 1, 1,\n",
       "        1, 1, 1, 1, 1, 1, 1, 1, 1, 1, 1, 1]),\n",
       " array([2, 2, 2, 2, 2, 2, 2, 2, 2, 2, 2, 2, 2, 2, 2, 2, 2, 2, 2, 2, 2, 2,\n",
       "        2, 2, 2, 2, 2, 2, 2, 2, 2, 2, 2, 2, 2, 2, 2, 2, 2, 2, 2, 2, 2, 2,\n",
       "        2, 2, 2, 2, 2, 2, 2, 2, 2, 2, 2, 2, 2, 2, 2, 2, 2, 2, 2, 2, 2, 2,\n",
       "        2, 2, 2, 2, 2, 2, 2, 2, 2, 2, 2, 2, 2, 2, 2, 2, 2, 2, 2, 2, 2, 2,\n",
       "        2, 2, 2, 2, 2, 2, 2, 2, 2, 2, 2, 2])]"
      ]
     },
     "execution_count": 10,
     "metadata": {},
     "output_type": "execute_result"
    }
   ],
   "source": [
    "collection.to_dict()[\"embeddings_strings\"][:3]"
   ]
  },
  {
   "cell_type": "code",
   "execution_count": 11,
   "id": "4184231b-82c3-4e1e-945b-16780415d87d",
   "metadata": {},
   "outputs": [
    {
     "data": {
      "text/plain": [
       "[array([0, 0, 0, 0, 0, 0, 0, 0, 0, 0, 0, 0, 0, 0, 0, 0, 0, 0, 0, 0, 0, 0,\n",
       "        0, 0, 0, 0, 0, 0, 0, 0, 0, 0, 0, 0, 0, 0, 0, 0, 0, 0, 0, 0, 0, 0,\n",
       "        0, 0, 0, 0, 0, 0, 0, 0, 0, 0, 0, 0, 0, 0, 0, 0, 0, 0, 0, 0, 0, 0,\n",
       "        0, 0, 0, 0, 0, 0, 0, 0, 0, 0, 0, 0, 0, 0, 0, 0, 0, 0, 0, 0, 0, 0,\n",
       "        0, 0, 0, 0, 0, 0, 0, 0, 0, 0, 0, 0])]"
      ]
     },
     "execution_count": 11,
     "metadata": {},
     "output_type": "execute_result"
    }
   ],
   "source": [
    "embed_fn([\"test_3\"])"
   ]
  },
  {
   "cell_type": "markdown",
   "id": "78d389fb-2f5d-49d4-98fd-f1f63f0a763c",
   "metadata": {},
   "source": [
    "## Query"
   ]
  },
  {
   "cell_type": "markdown",
   "id": "4030f69d-1159-47a9-aabb-3d2bda8adcb1",
   "metadata": {},
   "source": [
    "#### as you can see we now have an `embeddings_strings` column, let's query it and return the top 5 results!"
   ]
  },
  {
   "cell_type": "code",
   "execution_count": 12,
   "id": "25e74d81-1f4c-4c7c-96c9-0cc4cceb6d0d",
   "metadata": {},
   "outputs": [],
   "source": [
    "queried = collection.query(\"embeddings_strings\", query=\"test_3\", k=5).execute()"
   ]
  },
  {
   "cell_type": "markdown",
   "id": "8aa6fd4d-cad9-461c-a688-80c3657c00ff",
   "metadata": {},
   "source": [
    "#### As expected, the closest strings to `test_3` (according to our embedding function above) are `test_3`, `test_2`, `test_4`, `test_1`, `test_5`.\n",
    "#### In addition, we can see the actual similarity scores in `embeddings_strings_score` column"
   ]
  },
  {
   "cell_type": "code",
   "execution_count": 13,
   "id": "166c05ee-b4a0-4d72-a900-76597519fcc1",
   "metadata": {
    "scrolled": true
   },
   "outputs": [
    {
     "data": {
      "text/html": [
       "<div>\n",
       "    <table class=\"dataframe\">\n",
       "<thead>\n",
       "<tr><th style=\"text-align: right;\">  numbers<br>Int64</th><th>strings<br>Utf8  </th><th>embeddings_strings<br>Python                   </th><th style=\"text-align: right;\">  embeddings_strings_score<br>Float64</th></tr>\n",
       "</thead>\n",
       "<tbody>\n",
       "<tr><td style=\"text-align: right;\">                 1</td><td>test_1           </td><td>&ltnp.ndarray<br>shape=(100,)<br>dtype=int64&gt</td><td style=\"text-align: right;\">                            1        </td></tr>\n",
       "<tr><td style=\"text-align: right;\">                 2</td><td>test_2           </td><td>&ltnp.ndarray<br>shape=(100,)<br>dtype=int64&gt</td><td style=\"text-align: right;\">                            0.0909091</td></tr>\n",
       "<tr><td style=\"text-align: right;\">                 3</td><td>test_3           </td><td>&ltnp.ndarray<br>shape=(100,)<br>dtype=int64&gt</td><td style=\"text-align: right;\">                            0.047619 </td></tr>\n",
       "<tr><td style=\"text-align: right;\">                 4</td><td>test_4           </td><td>&ltnp.ndarray<br>shape=(100,)<br>dtype=int64&gt</td><td style=\"text-align: right;\">                            0.0322581</td></tr>\n",
       "<tr><td style=\"text-align: right;\">                 5</td><td>test_5           </td><td>&ltnp.ndarray<br>shape=(100,)<br>dtype=int64&gt</td><td style=\"text-align: right;\">                            0.0243902</td></tr>\n",
       "</tbody>\n",
       "</table>\n",
       "    <small>(Showing first 5 rows)</small>\n",
       "</div>"
      ],
      "text/plain": [
       "+-----------+-----------+----------------------+----------------------------+\n",
       "|   numbers | strings   | embeddings_strings   |   embeddings_strings_score |\n",
       "|     Int64 | Utf8      | Python               |                    Float64 |\n",
       "+===========+===========+======================+============================+\n",
       "|         1 | test_1    | [0 0 0 0 0 0 0 0 0 0 |                  1         |\n",
       "|           |           | 0 0 0 0 0 0 0 0 0 0  |                            |\n",
       "|           |           | 0 0 0 0 0 0 0 0 ...  |                            |\n",
       "+-----------+-----------+----------------------+----------------------------+\n",
       "|         2 | test_2    | [1 1 1 1 1 1 1 1 1 1 |                  0.0909091 |\n",
       "|           |           | 1 1 1 1 1 1 1 1 1 1  |                            |\n",
       "|           |           | 1 1 1 1 1 1 1 1 ...  |                            |\n",
       "+-----------+-----------+----------------------+----------------------------+\n",
       "|         3 | test_3    | [2 2 2 2 2 2 2 2 2 2 |                  0.047619  |\n",
       "|           |           | 2 2 2 2 2 2 2 2 2 2  |                            |\n",
       "|           |           | 2 2 2 2 2 2 2 2 ...  |                            |\n",
       "+-----------+-----------+----------------------+----------------------------+\n",
       "|         4 | test_4    | [3 3 3 3 3 3 3 3 3 3 |                  0.0322581 |\n",
       "|           |           | 3 3 3 3 3 3 3 3 3 3  |                            |\n",
       "|           |           | 3 3 3 3 3 3 3 3 ...  |                            |\n",
       "+-----------+-----------+----------------------+----------------------------+\n",
       "|         5 | test_5    | [4 4 4 4 4 4 4 4 4 4 |                  0.0243902 |\n",
       "|           |           | 4 4 4 4 4 4 4 4 4 4  |                            |\n",
       "|           |           | 4 4 4 4 4 4 4 4 ...  |                            |\n",
       "+-----------+-----------+----------------------+----------------------------+\n",
       "(Showing first 5 rows)"
      ]
     },
     "execution_count": 13,
     "metadata": {},
     "output_type": "execute_result"
    }
   ],
   "source": [
    "queried.show(5)"
   ]
  },
  {
   "cell_type": "markdown",
   "id": "c1725edd-f07f-411e-b3de-bf682b6f931b",
   "metadata": {},
   "source": [
    "#### Sometimes you will want to batch queries together into a single call. vexpresso has a convenient `batch_query` function. This will return a list of Collections"
   ]
  },
  {
   "cell_type": "code",
   "execution_count": 14,
   "id": "78701356-2427-44c0-94c2-356750959c63",
   "metadata": {},
   "outputs": [],
   "source": [
    "queries = [\"test_1\", \"test_5\", \"test_10\"]"
   ]
  },
  {
   "cell_type": "code",
   "execution_count": 15,
   "id": "8fc234be-e12a-469c-b58e-1d36525fe8db",
   "metadata": {},
   "outputs": [],
   "source": [
    "batch_queried = collection.batch_query(\"embeddings_strings\", queries=queries, k=2)"
   ]
  },
  {
   "cell_type": "markdown",
   "id": "954083c3-b524-48c4-a42e-93d6450f23e6",
   "metadata": {},
   "source": [
    "#### We now have collections for each query"
   ]
  },
  {
   "cell_type": "code",
   "execution_count": 16,
   "id": "bdb03e7e-6e69-4a72-be8c-732398b93296",
   "metadata": {},
   "outputs": [
    {
     "data": {
      "text/html": [
       "<div>\n",
       "    <table class=\"dataframe\">\n",
       "<thead>\n",
       "<tr><th style=\"text-align: right;\">  numbers<br>Int64</th><th>strings<br>Utf8  </th><th>embeddings_strings<br>Python                   </th><th style=\"text-align: right;\">  embeddings_strings_score<br>Float64</th></tr>\n",
       "</thead>\n",
       "<tbody>\n",
       "<tr><td style=\"text-align: right;\">                 3</td><td>test_3           </td><td>&ltnp.ndarray<br>shape=(100,)<br>dtype=int64&gt</td><td style=\"text-align: right;\">                            1        </td></tr>\n",
       "<tr><td style=\"text-align: right;\">                 2</td><td>test_2           </td><td>&ltnp.ndarray<br>shape=(100,)<br>dtype=int64&gt</td><td style=\"text-align: right;\">                            0.0909091</td></tr>\n",
       "</tbody>\n",
       "</table>\n",
       "    <small>(Showing first 2 rows)</small>\n",
       "</div>"
      ],
      "text/plain": [
       "+-----------+-----------+----------------------+----------------------------+\n",
       "|   numbers | strings   | embeddings_strings   |   embeddings_strings_score |\n",
       "|     Int64 | Utf8      | Python               |                    Float64 |\n",
       "+===========+===========+======================+============================+\n",
       "|         3 | test_3    | [2 2 2 2 2 2 2 2 2 2 |                  1         |\n",
       "|           |           | 2 2 2 2 2 2 2 2 2 2  |                            |\n",
       "|           |           | 2 2 2 2 2 2 2 2 ...  |                            |\n",
       "+-----------+-----------+----------------------+----------------------------+\n",
       "|         2 | test_2    | [1 1 1 1 1 1 1 1 1 1 |                  0.0909091 |\n",
       "|           |           | 1 1 1 1 1 1 1 1 1 1  |                            |\n",
       "|           |           | 1 1 1 1 1 1 1 1 ...  |                            |\n",
       "+-----------+-----------+----------------------+----------------------------+\n",
       "(Showing first 2 rows)"
      ]
     },
     "execution_count": 16,
     "metadata": {},
     "output_type": "execute_result"
    }
   ],
   "source": [
    "batch_queried[0].show(2)"
   ]
  },
  {
   "cell_type": "code",
   "execution_count": 17,
   "id": "76279a51-e215-444d-a6d9-ad0d34d3d7a1",
   "metadata": {},
   "outputs": [
    {
     "data": {
      "text/html": [
       "<div>\n",
       "    <table class=\"dataframe\">\n",
       "<thead>\n",
       "<tr><th style=\"text-align: right;\">  numbers<br>Int64</th><th>strings<br>Utf8  </th><th>embeddings_strings<br>Python                   </th><th style=\"text-align: right;\">  embeddings_strings_score<br>Float64</th></tr>\n",
       "</thead>\n",
       "<tbody>\n",
       "<tr><td style=\"text-align: right;\">                 3</td><td>test_3           </td><td>&ltnp.ndarray<br>shape=(100,)<br>dtype=int64&gt</td><td style=\"text-align: right;\">                            1        </td></tr>\n",
       "<tr><td style=\"text-align: right;\">                 2</td><td>test_2           </td><td>&ltnp.ndarray<br>shape=(100,)<br>dtype=int64&gt</td><td style=\"text-align: right;\">                            0.0909091</td></tr>\n",
       "</tbody>\n",
       "</table>\n",
       "    <small>(Showing first 2 rows)</small>\n",
       "</div>"
      ],
      "text/plain": [
       "+-----------+-----------+----------------------+----------------------------+\n",
       "|   numbers | strings   | embeddings_strings   |   embeddings_strings_score |\n",
       "|     Int64 | Utf8      | Python               |                    Float64 |\n",
       "+===========+===========+======================+============================+\n",
       "|         3 | test_3    | [2 2 2 2 2 2 2 2 2 2 |                  1         |\n",
       "|           |           | 2 2 2 2 2 2 2 2 2 2  |                            |\n",
       "|           |           | 2 2 2 2 2 2 2 2 ...  |                            |\n",
       "+-----------+-----------+----------------------+----------------------------+\n",
       "|         2 | test_2    | [1 1 1 1 1 1 1 1 1 1 |                  0.0909091 |\n",
       "|           |           | 1 1 1 1 1 1 1 1 1 1  |                            |\n",
       "|           |           | 1 1 1 1 1 1 1 1 ...  |                            |\n",
       "+-----------+-----------+----------------------+----------------------------+\n",
       "(Showing first 2 rows)"
      ]
     },
     "execution_count": 17,
     "metadata": {},
     "output_type": "execute_result"
    }
   ],
   "source": [
    "batch_queried[1].show(2)"
   ]
  },
  {
   "cell_type": "code",
   "execution_count": 18,
   "id": "ed654911-6575-4e10-a8b3-4d2cceb9da83",
   "metadata": {},
   "outputs": [
    {
     "data": {
      "text/html": [
       "<div>\n",
       "    <table class=\"dataframe\">\n",
       "<thead>\n",
       "<tr><th style=\"text-align: right;\">  numbers<br>Int64</th><th>strings<br>Utf8  </th><th>embeddings_strings<br>Python                   </th><th style=\"text-align: right;\">  embeddings_strings_score<br>Float64</th></tr>\n",
       "</thead>\n",
       "<tbody>\n",
       "<tr><td style=\"text-align: right;\">                 3</td><td>test_3           </td><td>&ltnp.ndarray<br>shape=(100,)<br>dtype=int64&gt</td><td style=\"text-align: right;\">                            1        </td></tr>\n",
       "<tr><td style=\"text-align: right;\">                 2</td><td>test_2           </td><td>&ltnp.ndarray<br>shape=(100,)<br>dtype=int64&gt</td><td style=\"text-align: right;\">                            0.0909091</td></tr>\n",
       "</tbody>\n",
       "</table>\n",
       "    <small>(Showing first 2 rows)</small>\n",
       "</div>"
      ],
      "text/plain": [
       "+-----------+-----------+----------------------+----------------------------+\n",
       "|   numbers | strings   | embeddings_strings   |   embeddings_strings_score |\n",
       "|     Int64 | Utf8      | Python               |                    Float64 |\n",
       "+===========+===========+======================+============================+\n",
       "|         3 | test_3    | [2 2 2 2 2 2 2 2 2 2 |                  1         |\n",
       "|           |           | 2 2 2 2 2 2 2 2 2 2  |                            |\n",
       "|           |           | 2 2 2 2 2 2 2 2 ...  |                            |\n",
       "+-----------+-----------+----------------------+----------------------------+\n",
       "|         2 | test_2    | [1 1 1 1 1 1 1 1 1 1 |                  0.0909091 |\n",
       "|           |           | 1 1 1 1 1 1 1 1 1 1  |                            |\n",
       "|           |           | 1 1 1 1 1 1 1 1 ...  |                            |\n",
       "+-----------+-----------+----------------------+----------------------------+\n",
       "(Showing first 2 rows)"
      ]
     },
     "execution_count": 18,
     "metadata": {},
     "output_type": "execute_result"
    }
   ],
   "source": [
    "batch_queried[2].show(2)"
   ]
  },
  {
   "cell_type": "markdown",
   "id": "8ebb5fef-d7a7-43f4-9578-a91f2352f82c",
   "metadata": {},
   "source": [
    "## Filtering"
   ]
  },
  {
   "cell_type": "markdown",
   "id": "043205c0-1c6c-4e2f-b58d-975453e654b8",
   "metadata": {},
   "source": [
    "#### With `vexpresso`, filtering is super easy. The syntax is similar to `chromadb`"
   ]
  },
  {
   "cell_type": "markdown",
   "id": "b7020999-96d4-4a0b-8544-e40355a7df4e",
   "metadata": {},
   "source": [
    "#### Filter dictionary must have the following structure:\n",
    "\n",
    "```python\n",
    "{\n",
    "    <field>: {\n",
    "        <filter_method>: <value>\n",
    "    },\n",
    "    <field>: {\n",
    "        <filter_method>: <value>\n",
    "    },\n",
    "}\n",
    "\n",
    "```"
   ]
  },
  {
   "cell_type": "markdown",
   "id": "1aa74a23-9250-45c2-9f4b-5518cfc56d14",
   "metadata": {},
   "source": [
    "Let's filter the original collection to only include rows with `numbers` > 95"
   ]
  },
  {
   "cell_type": "code",
   "execution_count": 19,
   "id": "4661ec34-9b33-47f4-afb4-daee997dc396",
   "metadata": {},
   "outputs": [],
   "source": [
    "filtered_collection = collection.filter(\n",
    "    {\n",
    "        \"numbers\":{\n",
    "            \"gt\":95\n",
    "        }\n",
    "    }\n",
    ").execute()"
   ]
  },
  {
   "cell_type": "code",
   "execution_count": 20,
   "id": "19f08b7e-768b-422a-bc17-93d5facccc14",
   "metadata": {},
   "outputs": [
    {
     "data": {
      "text/html": [
       "<div>\n",
       "    <table class=\"dataframe\">\n",
       "<thead>\n",
       "<tr><th style=\"text-align: right;\">  numbers<br>Int64</th><th>strings<br>Utf8  </th><th>embeddings_strings<br>Python                   </th></tr>\n",
       "</thead>\n",
       "<tbody>\n",
       "<tr><td style=\"text-align: right;\">                96</td><td>test_96          </td><td>&ltnp.ndarray<br>shape=(100,)<br>dtype=int64&gt</td></tr>\n",
       "<tr><td style=\"text-align: right;\">                97</td><td>test_97          </td><td>&ltnp.ndarray<br>shape=(100,)<br>dtype=int64&gt</td></tr>\n",
       "<tr><td style=\"text-align: right;\">                98</td><td>test_98          </td><td>&ltnp.ndarray<br>shape=(100,)<br>dtype=int64&gt</td></tr>\n",
       "<tr><td style=\"text-align: right;\">                99</td><td>test_99          </td><td>&ltnp.ndarray<br>shape=(100,)<br>dtype=int64&gt</td></tr>\n",
       "</tbody>\n",
       "</table>\n",
       "    <small>(Showing first 4 rows)</small>\n",
       "</div>"
      ],
      "text/plain": [
       "+-----------+-----------+----------------------+\n",
       "|   numbers | strings   | embeddings_strings   |\n",
       "|     Int64 | Utf8      | Python               |\n",
       "+===========+===========+======================+\n",
       "|        96 | test_96   | [95 95 95 95 95 95   |\n",
       "|           |           | 95 95 95 95 95 95 95 |\n",
       "|           |           | 95 95 95 95 95 95... |\n",
       "+-----------+-----------+----------------------+\n",
       "|        97 | test_97   | [96 96 96 96 96 96   |\n",
       "|           |           | 96 96 96 96 96 96 96 |\n",
       "|           |           | 96 96 96 96 96 96... |\n",
       "+-----------+-----------+----------------------+\n",
       "|        98 | test_98   | [97 97 97 97 97 97   |\n",
       "|           |           | 97 97 97 97 97 97 97 |\n",
       "|           |           | 97 97 97 97 97 97... |\n",
       "+-----------+-----------+----------------------+\n",
       "|        99 | test_99   | [98 98 98 98 98 98   |\n",
       "|           |           | 98 98 98 98 98 98 98 |\n",
       "|           |           | 98 98 98 98 98 98... |\n",
       "+-----------+-----------+----------------------+\n",
       "(Showing first 4 rows)"
      ]
     },
     "execution_count": 20,
     "metadata": {},
     "output_type": "execute_result"
    }
   ],
   "source": [
    "filtered_collection.show(5)"
   ]
  },
  {
   "cell_type": "markdown",
   "id": "b5efe6af-7068-46cc-9667-5ab441a62a30",
   "metadata": {
    "tags": []
   },
   "source": [
    "#### We can use multiple filter conditions as well\n",
    "Let's filter the collection to only return rows with numbers <= 50 and strings with \"0\" in them"
   ]
  },
  {
   "cell_type": "code",
   "execution_count": 21,
   "id": "52fc2bb5-516b-4e2b-b7f4-229a870b6859",
   "metadata": {},
   "outputs": [],
   "source": [
    "filtered_collection = collection.filter(\n",
    "    {\n",
    "        \"numbers\":{\n",
    "            \"lte\":50\n",
    "        },\n",
    "        \"strings\":{\n",
    "            \"contains\":\"0\"\n",
    "        }\n",
    "    }\n",
    ").execute()"
   ]
  },
  {
   "cell_type": "code",
   "execution_count": 22,
   "id": "89a30044-dcfd-4f31-be4b-d93f799586dc",
   "metadata": {},
   "outputs": [
    {
     "data": {
      "text/html": [
       "<div>\n",
       "    <table class=\"dataframe\">\n",
       "<thead>\n",
       "<tr><th style=\"text-align: right;\">  numbers<br>Int64</th><th>strings<br>Utf8  </th><th>embeddings_strings<br>Python                   </th></tr>\n",
       "</thead>\n",
       "<tbody>\n",
       "<tr><td style=\"text-align: right;\">                10</td><td>test_10          </td><td>&ltnp.ndarray<br>shape=(100,)<br>dtype=int64&gt</td></tr>\n",
       "<tr><td style=\"text-align: right;\">                20</td><td>test_20          </td><td>&ltnp.ndarray<br>shape=(100,)<br>dtype=int64&gt</td></tr>\n",
       "<tr><td style=\"text-align: right;\">                30</td><td>test_30          </td><td>&ltnp.ndarray<br>shape=(100,)<br>dtype=int64&gt</td></tr>\n",
       "<tr><td style=\"text-align: right;\">                40</td><td>test_40          </td><td>&ltnp.ndarray<br>shape=(100,)<br>dtype=int64&gt</td></tr>\n",
       "<tr><td style=\"text-align: right;\">                50</td><td>test_50          </td><td>&ltnp.ndarray<br>shape=(100,)<br>dtype=int64&gt</td></tr>\n",
       "</tbody>\n",
       "</table>\n",
       "    <small>(Showing first 5 rows)</small>\n",
       "</div>"
      ],
      "text/plain": [
       "+-----------+-----------+----------------------+\n",
       "|   numbers | strings   | embeddings_strings   |\n",
       "|     Int64 | Utf8      | Python               |\n",
       "+===========+===========+======================+\n",
       "|        10 | test_10   | [9 9 9 9 9 9 9 9 9 9 |\n",
       "|           |           | 9 9 9 9 9 9 9 9 9 9  |\n",
       "|           |           | 9 9 9 9 9 9 9 9 ...  |\n",
       "+-----------+-----------+----------------------+\n",
       "|        20 | test_20   | [19 19 19 19 19 19   |\n",
       "|           |           | 19 19 19 19 19 19 19 |\n",
       "|           |           | 19 19 19 19 19 19... |\n",
       "+-----------+-----------+----------------------+\n",
       "|        30 | test_30   | [29 29 29 29 29 29   |\n",
       "|           |           | 29 29 29 29 29 29 29 |\n",
       "|           |           | 29 29 29 29 29 29... |\n",
       "+-----------+-----------+----------------------+\n",
       "|        40 | test_40   | [39 39 39 39 39 39   |\n",
       "|           |           | 39 39 39 39 39 39 39 |\n",
       "|           |           | 39 39 39 39 39 39... |\n",
       "+-----------+-----------+----------------------+\n",
       "|        50 | test_50   | [49 49 49 49 49 49   |\n",
       "|           |           | 49 49 49 49 49 49 49 |\n",
       "|           |           | 49 49 49 49 49 49... |\n",
       "+-----------+-----------+----------------------+\n",
       "(Showing first 5 rows)"
      ]
     },
     "execution_count": 22,
     "metadata": {},
     "output_type": "execute_result"
    }
   ],
   "source": [
    "filtered_collection.show(5)"
   ]
  },
  {
   "cell_type": "markdown",
   "id": "f6974ddc-6ec1-4ca0-8534-8d0d48acf01b",
   "metadata": {},
   "source": [
    "#### Sometimes you need a custom filtering function, with vexpresso its easy to do that with the `custom` filter keyword!\n",
    "Lets filter a collection to only return rows with even `numbers` and `strings` that contain a \"3\""
   ]
  },
  {
   "cell_type": "code",
   "execution_count": 23,
   "id": "37abe8b8-90b6-4359-becd-63d950382e56",
   "metadata": {},
   "outputs": [],
   "source": [
    "def custom_filter(number, mod_val) -> bool:\n",
    "    return number % mod_val == 0"
   ]
  },
  {
   "cell_type": "code",
   "execution_count": 24,
   "id": "0f156fa8-8f4c-4a66-9d9a-df0c36278ac0",
   "metadata": {},
   "outputs": [],
   "source": [
    "filtered_collection = collection.filter(\n",
    "    {\n",
    "        \"numbers\":{\n",
    "            \"custom\":{\"function\":custom_filter, \"function_kwargs\":{\"mod_val\":2}}\n",
    "        },\n",
    "        \"strings\":{\n",
    "            \"contains\":\"3\"\n",
    "        }\n",
    "    }\n",
    ").execute()"
   ]
  },
  {
   "cell_type": "code",
   "execution_count": 25,
   "id": "1c3def61-f0bb-45cb-8d0d-b4950f552513",
   "metadata": {},
   "outputs": [
    {
     "data": {
      "text/html": [
       "<div>\n",
       "    <table class=\"dataframe\">\n",
       "<thead>\n",
       "<tr><th style=\"text-align: right;\">  numbers<br>Int64</th><th>strings<br>Utf8  </th><th>embeddings_strings<br>Python                   </th></tr>\n",
       "</thead>\n",
       "<tbody>\n",
       "<tr><td style=\"text-align: right;\">                30</td><td>test_30          </td><td>&ltnp.ndarray<br>shape=(100,)<br>dtype=int64&gt</td></tr>\n",
       "<tr><td style=\"text-align: right;\">                32</td><td>test_32          </td><td>&ltnp.ndarray<br>shape=(100,)<br>dtype=int64&gt</td></tr>\n",
       "<tr><td style=\"text-align: right;\">                34</td><td>test_34          </td><td>&ltnp.ndarray<br>shape=(100,)<br>dtype=int64&gt</td></tr>\n",
       "<tr><td style=\"text-align: right;\">                36</td><td>test_36          </td><td>&ltnp.ndarray<br>shape=(100,)<br>dtype=int64&gt</td></tr>\n",
       "<tr><td style=\"text-align: right;\">                38</td><td>test_38          </td><td>&ltnp.ndarray<br>shape=(100,)<br>dtype=int64&gt</td></tr>\n",
       "</tbody>\n",
       "</table>\n",
       "    <small>(Showing first 5 rows)</small>\n",
       "</div>"
      ],
      "text/plain": [
       "+-----------+-----------+----------------------+\n",
       "|   numbers | strings   | embeddings_strings   |\n",
       "|     Int64 | Utf8      | Python               |\n",
       "+===========+===========+======================+\n",
       "|        30 | test_30   | [29 29 29 29 29 29   |\n",
       "|           |           | 29 29 29 29 29 29 29 |\n",
       "|           |           | 29 29 29 29 29 29... |\n",
       "+-----------+-----------+----------------------+\n",
       "|        32 | test_32   | [31 31 31 31 31 31   |\n",
       "|           |           | 31 31 31 31 31 31 31 |\n",
       "|           |           | 31 31 31 31 31 31... |\n",
       "+-----------+-----------+----------------------+\n",
       "|        34 | test_34   | [33 33 33 33 33 33   |\n",
       "|           |           | 33 33 33 33 33 33 33 |\n",
       "|           |           | 33 33 33 33 33 33... |\n",
       "+-----------+-----------+----------------------+\n",
       "|        36 | test_36   | [35 35 35 35 35 35   |\n",
       "|           |           | 35 35 35 35 35 35 35 |\n",
       "|           |           | 35 35 35 35 35 35... |\n",
       "+-----------+-----------+----------------------+\n",
       "|        38 | test_38   | [37 37 37 37 37 37   |\n",
       "|           |           | 37 37 37 37 37 37 37 |\n",
       "|           |           | 37 37 37 37 37 37... |\n",
       "+-----------+-----------+----------------------+\n",
       "(Showing first 5 rows)"
      ]
     },
     "execution_count": 25,
     "metadata": {},
     "output_type": "execute_result"
    }
   ],
   "source": [
    "filtered_collection.show(5)"
   ]
  },
  {
   "cell_type": "markdown",
   "id": "e8b52c5e-e7d0-4365-af64-cc092ba9f6c2",
   "metadata": {},
   "source": [
    "#### You can also combine filters + queries in the same call"
   ]
  },
  {
   "cell_type": "markdown",
   "id": "4eefdc67-65fd-48d8-830b-80bd81dcbb8f",
   "metadata": {},
   "source": [
    " Lets query the collection with \"test_10\" and filter only even numbers"
   ]
  },
  {
   "cell_type": "code",
   "execution_count": 26,
   "id": "7e32734f-6c9a-47dc-812e-b69ea1a08e12",
   "metadata": {},
   "outputs": [],
   "source": [
    "even_filter = {\n",
    "    \"numbers\":{\n",
    "        \"custom\":{\"function\":custom_filter, \"function_kwargs\":{\"mod_val\":2}}\n",
    "    }\n",
    "}"
   ]
  },
  {
   "cell_type": "code",
   "execution_count": 27,
   "id": "880c7199-c1c1-4b41-ae59-137df633552b",
   "metadata": {},
   "outputs": [],
   "source": [
    "query_filtered_collection = collection.query(\"embeddings_strings\", \"test_10\", k=10, filter_conditions=even_filter).execute()"
   ]
  },
  {
   "cell_type": "code",
   "execution_count": 28,
   "id": "79c4886f-476f-4523-96be-bf8f0a0f1017",
   "metadata": {},
   "outputs": [
    {
     "data": {
      "text/html": [
       "<div>\n",
       "    <table class=\"dataframe\">\n",
       "<thead>\n",
       "<tr><th style=\"text-align: right;\">  numbers<br>Int64</th><th>strings<br>Utf8  </th><th>embeddings_strings<br>Python                   </th><th style=\"text-align: right;\">  embeddings_strings_score<br>Float64</th></tr>\n",
       "</thead>\n",
       "<tbody>\n",
       "<tr><td style=\"text-align: right;\">                 2</td><td>test_2           </td><td>&ltnp.ndarray<br>shape=(100,)<br>dtype=int64&gt</td><td style=\"text-align: right;\">                            0.0909091</td></tr>\n",
       "<tr><td style=\"text-align: right;\">                 4</td><td>test_4           </td><td>&ltnp.ndarray<br>shape=(100,)<br>dtype=int64&gt</td><td style=\"text-align: right;\">                            0.0322581</td></tr>\n",
       "<tr><td style=\"text-align: right;\">                 6</td><td>test_6           </td><td>&ltnp.ndarray<br>shape=(100,)<br>dtype=int64&gt</td><td style=\"text-align: right;\">                            0.0196078</td></tr>\n",
       "<tr><td style=\"text-align: right;\">                 8</td><td>test_8           </td><td>&ltnp.ndarray<br>shape=(100,)<br>dtype=int64&gt</td><td style=\"text-align: right;\">                            0.0140845</td></tr>\n",
       "<tr><td style=\"text-align: right;\">                10</td><td>test_10          </td><td>&ltnp.ndarray<br>shape=(100,)<br>dtype=int64&gt</td><td style=\"text-align: right;\">                            0.010989 </td></tr>\n",
       "</tbody>\n",
       "</table>\n",
       "    <small>(Showing first 5 rows)</small>\n",
       "</div>"
      ],
      "text/plain": [
       "+-----------+-----------+----------------------+----------------------------+\n",
       "|   numbers | strings   | embeddings_strings   |   embeddings_strings_score |\n",
       "|     Int64 | Utf8      | Python               |                    Float64 |\n",
       "+===========+===========+======================+============================+\n",
       "|         2 | test_2    | [1 1 1 1 1 1 1 1 1 1 |                  0.0909091 |\n",
       "|           |           | 1 1 1 1 1 1 1 1 1 1  |                            |\n",
       "|           |           | 1 1 1 1 1 1 1 1 ...  |                            |\n",
       "+-----------+-----------+----------------------+----------------------------+\n",
       "|         4 | test_4    | [3 3 3 3 3 3 3 3 3 3 |                  0.0322581 |\n",
       "|           |           | 3 3 3 3 3 3 3 3 3 3  |                            |\n",
       "|           |           | 3 3 3 3 3 3 3 3 ...  |                            |\n",
       "+-----------+-----------+----------------------+----------------------------+\n",
       "|         6 | test_6    | [5 5 5 5 5 5 5 5 5 5 |                  0.0196078 |\n",
       "|           |           | 5 5 5 5 5 5 5 5 5 5  |                            |\n",
       "|           |           | 5 5 5 5 5 5 5 5 ...  |                            |\n",
       "+-----------+-----------+----------------------+----------------------------+\n",
       "|         8 | test_8    | [7 7 7 7 7 7 7 7 7 7 |                  0.0140845 |\n",
       "|           |           | 7 7 7 7 7 7 7 7 7 7  |                            |\n",
       "|           |           | 7 7 7 7 7 7 7 7 ...  |                            |\n",
       "+-----------+-----------+----------------------+----------------------------+\n",
       "|        10 | test_10   | [9 9 9 9 9 9 9 9 9 9 |                  0.010989  |\n",
       "|           |           | 9 9 9 9 9 9 9 9 9 9  |                            |\n",
       "|           |           | 9 9 9 9 9 9 9 9 ...  |                            |\n",
       "+-----------+-----------+----------------------+----------------------------+\n",
       "(Showing first 5 rows)"
      ]
     },
     "execution_count": 28,
     "metadata": {},
     "output_type": "execute_result"
    }
   ],
   "source": [
    "query_filtered_collection.show(5)"
   ]
  },
  {
   "cell_type": "markdown",
   "id": "2490a31d-f48f-4924-97dc-affd98bb4bb5",
   "metadata": {},
   "source": [
    "## Chaining Functions"
   ]
  },
  {
   "cell_type": "markdown",
   "id": "698f37ad-3bf6-4bd1-b172-45f6525b3e2c",
   "metadata": {},
   "source": [
    "#### We can chain functions lazily easily"
   ]
  },
  {
   "cell_type": "markdown",
   "id": "c56f8599-4bf3-40bc-bb39-1f48790bb133",
   "metadata": {},
   "source": [
    "For instance, lets query and filter multiple times"
   ]
  },
  {
   "cell_type": "code",
   "execution_count": 29,
   "id": "fb31996c-9b94-4bfc-937d-99f7e5e4fac1",
   "metadata": {},
   "outputs": [],
   "source": [
    "even_filter = {\n",
    "    \"numbers\":{\n",
    "        \"custom\":{\"function\":custom_filter, \"function_kwargs\":{\"mod_val\":2}}\n",
    "    }\n",
    "}"
   ]
  },
  {
   "cell_type": "code",
   "execution_count": 30,
   "id": "a1d2b20e-14e4-4c5f-9dfc-109e27f34547",
   "metadata": {},
   "outputs": [],
   "source": [
    "chained_collection = collection.query(\"embeddings_strings\", \"test_10\", k=50) \\\n",
    "                               .filter(even_filter) \\\n",
    "                               .query(\"embeddings_strings\", \"test_30\", k=50) \\\n",
    "                               .filter({\"numbers\":{\"lte\":30}})"
   ]
  },
  {
   "cell_type": "code",
   "execution_count": 31,
   "id": "1ae68e53-0fd3-4db5-9059-3d5d708fb178",
   "metadata": {},
   "outputs": [
    {
     "data": {
      "text/html": [
       "<div>\n",
       "    <table class=\"dataframe\">\n",
       "<tbody>\n",
       "<tr><td>numbers<br>Int64</td><td>strings<br>Utf8</td><td>embeddings_strings<br>Python</td><td>embeddings_strings_score<br>Float64</td></tr>\n",
       "</tbody>\n",
       "</table>\n",
       "    <small>(No data to display: Dataframe not materialized)</small>\n",
       "</div>"
      ],
      "text/plain": [
       "+-----------+-----------+----------------------+----------------------------+\n",
       "| numbers   | strings   | embeddings_strings   | embeddings_strings_score   |\n",
       "| Int64     | Utf8      | Python               | Float64                    |\n",
       "+===========+===========+======================+============================+\n",
       "+-----------+-----------+----------------------+----------------------------+\n",
       "(No data to display: Dataframe not materialized)"
      ]
     },
     "execution_count": 31,
     "metadata": {},
     "output_type": "execute_result"
    }
   ],
   "source": [
    "chained_collection.daft_df"
   ]
  },
  {
   "cell_type": "markdown",
   "id": "4de2e2c9-482e-4818-bf7f-7af49e44190b",
   "metadata": {},
   "source": [
    "Here we queried for the closest 50 elements to \"test_10\", filtered for only even numbers, queried top 50 of \"test_30\", then filtered for numbers <= 30"
   ]
  },
  {
   "cell_type": "code",
   "execution_count": 32,
   "id": "c8288ec5-7ad9-4eb6-9f68-3be7f2716c7f",
   "metadata": {},
   "outputs": [],
   "source": [
    "chained_collection = chained_collection.execute()"
   ]
  },
  {
   "cell_type": "code",
   "execution_count": 33,
   "id": "e422a06f-c083-4a9c-948a-649b44e23bff",
   "metadata": {},
   "outputs": [
    {
     "data": {
      "text/html": [
       "<div>\n",
       "    <table class=\"dataframe\">\n",
       "<thead>\n",
       "<tr><th style=\"text-align: right;\">  numbers<br>Int64</th><th>strings<br>Utf8  </th><th>embeddings_strings<br>Python                   </th><th style=\"text-align: right;\">  embeddings_strings_score<br>Float64</th></tr>\n",
       "</thead>\n",
       "<tbody>\n",
       "<tr><td style=\"text-align: right;\">                 2</td><td>test_2           </td><td>&ltnp.ndarray<br>shape=(100,)<br>dtype=int64&gt</td><td style=\"text-align: right;\">                            0.0909091</td></tr>\n",
       "<tr><td style=\"text-align: right;\">                 4</td><td>test_4           </td><td>&ltnp.ndarray<br>shape=(100,)<br>dtype=int64&gt</td><td style=\"text-align: right;\">                            0.0322581</td></tr>\n",
       "<tr><td style=\"text-align: right;\">                 6</td><td>test_6           </td><td>&ltnp.ndarray<br>shape=(100,)<br>dtype=int64&gt</td><td style=\"text-align: right;\">                            0.0196078</td></tr>\n",
       "<tr><td style=\"text-align: right;\">                 8</td><td>test_8           </td><td>&ltnp.ndarray<br>shape=(100,)<br>dtype=int64&gt</td><td style=\"text-align: right;\">                            0.0140845</td></tr>\n",
       "<tr><td style=\"text-align: right;\">                10</td><td>test_10          </td><td>&ltnp.ndarray<br>shape=(100,)<br>dtype=int64&gt</td><td style=\"text-align: right;\">                            0.010989 </td></tr>\n",
       "</tbody>\n",
       "</table>\n",
       "    <small>(Showing first 5 rows)</small>\n",
       "</div>"
      ],
      "text/plain": [
       "+-----------+-----------+----------------------+----------------------------+\n",
       "|   numbers | strings   | embeddings_strings   |   embeddings_strings_score |\n",
       "|     Int64 | Utf8      | Python               |                    Float64 |\n",
       "+===========+===========+======================+============================+\n",
       "|         2 | test_2    | [1 1 1 1 1 1 1 1 1 1 |                  0.0909091 |\n",
       "|           |           | 1 1 1 1 1 1 1 1 1 1  |                            |\n",
       "|           |           | 1 1 1 1 1 1 1 1 ...  |                            |\n",
       "+-----------+-----------+----------------------+----------------------------+\n",
       "|         4 | test_4    | [3 3 3 3 3 3 3 3 3 3 |                  0.0322581 |\n",
       "|           |           | 3 3 3 3 3 3 3 3 3 3  |                            |\n",
       "|           |           | 3 3 3 3 3 3 3 3 ...  |                            |\n",
       "+-----------+-----------+----------------------+----------------------------+\n",
       "|         6 | test_6    | [5 5 5 5 5 5 5 5 5 5 |                  0.0196078 |\n",
       "|           |           | 5 5 5 5 5 5 5 5 5 5  |                            |\n",
       "|           |           | 5 5 5 5 5 5 5 5 ...  |                            |\n",
       "+-----------+-----------+----------------------+----------------------------+\n",
       "|         8 | test_8    | [7 7 7 7 7 7 7 7 7 7 |                  0.0140845 |\n",
       "|           |           | 7 7 7 7 7 7 7 7 7 7  |                            |\n",
       "|           |           | 7 7 7 7 7 7 7 7 ...  |                            |\n",
       "+-----------+-----------+----------------------+----------------------------+\n",
       "|        10 | test_10   | [9 9 9 9 9 9 9 9 9 9 |                  0.010989  |\n",
       "|           |           | 9 9 9 9 9 9 9 9 9 9  |                            |\n",
       "|           |           | 9 9 9 9 9 9 9 9 ...  |                            |\n",
       "+-----------+-----------+----------------------+----------------------------+\n",
       "(Showing first 5 rows)"
      ]
     },
     "execution_count": 33,
     "metadata": {},
     "output_type": "execute_result"
    }
   ],
   "source": [
    "chained_collection.show(5)"
   ]
  },
  {
   "cell_type": "markdown",
   "id": "811894d9-a8e9-4049-8af2-202051cb20dc",
   "metadata": {},
   "source": [
    "get_text_features## Transforms"
   ]
  },
  {
   "cell_type": "markdown",
   "id": "d68f5671-ecfe-45f6-a5b9-964c0a68d9d3",
   "metadata": {},
   "source": [
    "#### Sometimes you want to transform your data. Because of `daft`, you can use `vexpresso` to do this easily! "
   ]
  },
  {
   "cell_type": "markdown",
   "id": "e09c9056-c6e9-4502-8a35-5e9495106165",
   "metadata": {},
   "source": [
    "#### For example, lets add a new column where we change \"test\" to \"example\" in the strings column. Lets specify that this output is also a string type"
   ]
  },
  {
   "cell_type": "markdown",
   "id": "f3ec46ad-0ad7-4016-9c28-65f8caced3c1",
   "metadata": {},
   "source": [
    "For a full list of datatypes, visit daft documentation: https://www.getdaft.io/projects/docs/en/latest/api_docs/datatype.html"
   ]
  },
  {
   "cell_type": "code",
   "execution_count": 34,
   "id": "592a6426-ee92-4e45-a038-3b6ddd120bf2",
   "metadata": {},
   "outputs": [],
   "source": [
    "def simple_apply_fn(strings):\n",
    "    return [\n",
    "        s.replace(\"test\", \"example\") for s in strings\n",
    "    ]"
   ]
  },
  {
   "cell_type": "code",
   "execution_count": 35,
   "id": "7b4ccee7-d600-4d5c-82b0-2516ec2d1fbe",
   "metadata": {},
   "outputs": [],
   "source": [
    "transformed_collection = collection.apply(simple_apply_fn, collection[\"strings\"], datatype=vexpresso.DataType.string()).execute()"
   ]
  },
  {
   "cell_type": "code",
   "execution_count": 36,
   "id": "276333ff-efc3-4850-9807-ff49e03aa9c8",
   "metadata": {},
   "outputs": [
    {
     "data": {
      "text/html": [
       "<div>\n",
       "    <table class=\"dataframe\">\n",
       "<thead>\n",
       "<tr><th style=\"text-align: right;\">  numbers<br>Int64</th><th>strings<br>Utf8  </th><th>embeddings_strings<br>Python                   </th><th>tranformed_strings<br>Utf8  </th></tr>\n",
       "</thead>\n",
       "<tbody>\n",
       "<tr><td style=\"text-align: right;\">                 1</td><td>test_1           </td><td>&ltnp.ndarray<br>shape=(100,)<br>dtype=int64&gt</td><td>example_1                   </td></tr>\n",
       "<tr><td style=\"text-align: right;\">                 2</td><td>test_2           </td><td>&ltnp.ndarray<br>shape=(100,)<br>dtype=int64&gt</td><td>example_2                   </td></tr>\n",
       "<tr><td style=\"text-align: right;\">                 3</td><td>test_3           </td><td>&ltnp.ndarray<br>shape=(100,)<br>dtype=int64&gt</td><td>example_3                   </td></tr>\n",
       "<tr><td style=\"text-align: right;\">                 4</td><td>test_4           </td><td>&ltnp.ndarray<br>shape=(100,)<br>dtype=int64&gt</td><td>example_4                   </td></tr>\n",
       "<tr><td style=\"text-align: right;\">                 5</td><td>test_5           </td><td>&ltnp.ndarray<br>shape=(100,)<br>dtype=int64&gt</td><td>example_5                   </td></tr>\n",
       "</tbody>\n",
       "</table>\n",
       "    <small>(Showing first 5 rows)</small>\n",
       "</div>"
      ],
      "text/plain": [
       "+-----------+-----------+----------------------+----------------------+\n",
       "|   numbers | strings   | embeddings_strings   | tranformed_strings   |\n",
       "|     Int64 | Utf8      | Python               | Utf8                 |\n",
       "+===========+===========+======================+======================+\n",
       "|         1 | test_1    | [0 0 0 0 0 0 0 0 0 0 | example_1            |\n",
       "|           |           | 0 0 0 0 0 0 0 0 0 0  |                      |\n",
       "|           |           | 0 0 0 0 0 0 0 0 ...  |                      |\n",
       "+-----------+-----------+----------------------+----------------------+\n",
       "|         2 | test_2    | [1 1 1 1 1 1 1 1 1 1 | example_2            |\n",
       "|           |           | 1 1 1 1 1 1 1 1 1 1  |                      |\n",
       "|           |           | 1 1 1 1 1 1 1 1 ...  |                      |\n",
       "+-----------+-----------+----------------------+----------------------+\n",
       "|         3 | test_3    | [2 2 2 2 2 2 2 2 2 2 | example_3            |\n",
       "|           |           | 2 2 2 2 2 2 2 2 2 2  |                      |\n",
       "|           |           | 2 2 2 2 2 2 2 2 ...  |                      |\n",
       "+-----------+-----------+----------------------+----------------------+\n",
       "|         4 | test_4    | [3 3 3 3 3 3 3 3 3 3 | example_4            |\n",
       "|           |           | 3 3 3 3 3 3 3 3 3 3  |                      |\n",
       "|           |           | 3 3 3 3 3 3 3 3 ...  |                      |\n",
       "+-----------+-----------+----------------------+----------------------+\n",
       "|         5 | test_5    | [4 4 4 4 4 4 4 4 4 4 | example_5            |\n",
       "|           |           | 4 4 4 4 4 4 4 4 4 4  |                      |\n",
       "|           |           | 4 4 4 4 4 4 4 4 ...  |                      |\n",
       "+-----------+-----------+----------------------+----------------------+\n",
       "(Showing first 5 rows)"
      ]
     },
     "execution_count": 36,
     "metadata": {},
     "output_type": "execute_result"
    }
   ],
   "source": [
    "transformed_collection.show(5)"
   ]
  },
  {
   "cell_type": "markdown",
   "id": "e20fad8f-4e01-4acd-ba19-a54060043747",
   "metadata": {},
   "source": [
    "#### We can also pass in args, kwargs, and multiple columns into the apply function"
   ]
  },
  {
   "cell_type": "markdown",
   "id": "b3fc9539-8672-40ae-8955-4870d5b7c29e",
   "metadata": {},
   "source": [
    "For instance, lets replace the \"test\" chars in string column with \"modified\" and also replace the suffix with `number` times 1000. In addition lets name the column `modified`"
   ]
  },
  {
   "cell_type": "code",
   "execution_count": 37,
   "id": "70300929-dd00-45d0-b729-9adab1642b1d",
   "metadata": {},
   "outputs": [],
   "source": [
    "def multi_column_apply_fn(string_columns, numbers):\n",
    "    out = []\n",
    "    for string, num in zip(string_columns, numbers):\n",
    "        replaced = string.replace(\"test\", \"modified\").split(\"_\")[0]\n",
    "        modified = f\"{replaced}_{num*1000}\"\n",
    "        out.append(modified)\n",
    "    return out"
   ]
  },
  {
   "cell_type": "code",
   "execution_count": 38,
   "id": "1270196f-c751-4f87-a24e-dfaeaad2580c",
   "metadata": {},
   "outputs": [],
   "source": [
    "transformed_collection = collection.apply(\n",
    "    multi_column_apply_fn,\n",
    "    collection[\"strings\"],\n",
    "    numbers=collection[\"numbers\"],\n",
    "    to=\"modified\",\n",
    "    datatype=vexpresso.DataType.string()\n",
    ").execute()"
   ]
  },
  {
   "cell_type": "code",
   "execution_count": 39,
   "id": "479db610-61b6-442d-9991-5bd3e2597696",
   "metadata": {},
   "outputs": [
    {
     "data": {
      "text/html": [
       "<div>\n",
       "    <table class=\"dataframe\">\n",
       "<thead>\n",
       "<tr><th style=\"text-align: right;\">  numbers<br>Int64</th><th>strings<br>Utf8  </th><th>embeddings_strings<br>Python                   </th><th>modified<br>Utf8  </th></tr>\n",
       "</thead>\n",
       "<tbody>\n",
       "<tr><td style=\"text-align: right;\">                 1</td><td>test_1           </td><td>&ltnp.ndarray<br>shape=(100,)<br>dtype=int64&gt</td><td>modified_1000     </td></tr>\n",
       "<tr><td style=\"text-align: right;\">                 2</td><td>test_2           </td><td>&ltnp.ndarray<br>shape=(100,)<br>dtype=int64&gt</td><td>modified_2000     </td></tr>\n",
       "<tr><td style=\"text-align: right;\">                 3</td><td>test_3           </td><td>&ltnp.ndarray<br>shape=(100,)<br>dtype=int64&gt</td><td>modified_3000     </td></tr>\n",
       "<tr><td style=\"text-align: right;\">                 4</td><td>test_4           </td><td>&ltnp.ndarray<br>shape=(100,)<br>dtype=int64&gt</td><td>modified_4000     </td></tr>\n",
       "<tr><td style=\"text-align: right;\">                 5</td><td>test_5           </td><td>&ltnp.ndarray<br>shape=(100,)<br>dtype=int64&gt</td><td>modified_5000     </td></tr>\n",
       "</tbody>\n",
       "</table>\n",
       "    <small>(Showing first 5 rows)</small>\n",
       "</div>"
      ],
      "text/plain": [
       "+-----------+-----------+----------------------+---------------+\n",
       "|   numbers | strings   | embeddings_strings   | modified      |\n",
       "|     Int64 | Utf8      | Python               | Utf8          |\n",
       "+===========+===========+======================+===============+\n",
       "|         1 | test_1    | [0 0 0 0 0 0 0 0 0 0 | modified_1000 |\n",
       "|           |           | 0 0 0 0 0 0 0 0 0 0  |               |\n",
       "|           |           | 0 0 0 0 0 0 0 0 ...  |               |\n",
       "+-----------+-----------+----------------------+---------------+\n",
       "|         2 | test_2    | [1 1 1 1 1 1 1 1 1 1 | modified_2000 |\n",
       "|           |           | 1 1 1 1 1 1 1 1 1 1  |               |\n",
       "|           |           | 1 1 1 1 1 1 1 1 ...  |               |\n",
       "+-----------+-----------+----------------------+---------------+\n",
       "|         3 | test_3    | [2 2 2 2 2 2 2 2 2 2 | modified_3000 |\n",
       "|           |           | 2 2 2 2 2 2 2 2 2 2  |               |\n",
       "|           |           | 2 2 2 2 2 2 2 2 ...  |               |\n",
       "+-----------+-----------+----------------------+---------------+\n",
       "|         4 | test_4    | [3 3 3 3 3 3 3 3 3 3 | modified_4000 |\n",
       "|           |           | 3 3 3 3 3 3 3 3 3 3  |               |\n",
       "|           |           | 3 3 3 3 3 3 3 3 ...  |               |\n",
       "+-----------+-----------+----------------------+---------------+\n",
       "|         5 | test_5    | [4 4 4 4 4 4 4 4 4 4 | modified_5000 |\n",
       "|           |           | 4 4 4 4 4 4 4 4 4 4  |               |\n",
       "|           |           | 4 4 4 4 4 4 4 4 ...  |               |\n",
       "+-----------+-----------+----------------------+---------------+\n",
       "(Showing first 5 rows)"
      ]
     },
     "execution_count": 39,
     "metadata": {},
     "output_type": "execute_result"
    }
   ],
   "source": [
    "transformed_collection.show(5)"
   ]
  },
  {
   "cell_type": "markdown",
   "id": "7907d4fc-a914-4732-b88a-c4577d4f4120",
   "metadata": {
    "tags": []
   },
   "source": [
    "## Adding data"
   ]
  },
  {
   "cell_type": "markdown",
   "id": "d499f53a-bb93-448c-a63a-0cc687dc83d2",
   "metadata": {
    "tags": []
   },
   "source": [
    "## Saving + Loading"
   ]
  },
  {
   "cell_type": "markdown",
   "id": "f4d67517-97f3-4b76-af2a-893d53bf77d4",
   "metadata": {},
   "source": [
    "#### Once you've done a bunch of processing on a collection, you probably want to save it somewhere. Vexpresso supports local file saving + huggingface datasets"
   ]
  },
  {
   "cell_type": "markdown",
   "id": "cecee5b6-b4f5-4587-b15c-33c6fd54da8a",
   "metadata": {},
   "source": [
    "Lets save the `transformed_collection` above to a directory `saved_transformed_collection`"
   ]
  },
  {
   "cell_type": "code",
   "execution_count": 40,
   "id": "3e531b97-1077-49b3-8de0-d62bc93d2c46",
   "metadata": {},
   "outputs": [
    {
     "name": "stdout",
     "output_type": "stream",
     "text": [
      "saving to ./saved_collection/saved_transformed_collection\n"
     ]
    }
   ],
   "source": [
    "transformed_collection.save(\"./saved_collection/saved_transformed_collection\")"
   ]
  },
  {
   "cell_type": "markdown",
   "id": "f56aca6c-927a-433c-8cd6-7085c90d94a0",
   "metadata": {},
   "source": [
    "We can then load the collection with the same `create` function. Make sure to also include the embedding functions that were used on the original collection!"
   ]
  },
  {
   "cell_type": "code",
   "execution_count": 41,
   "id": "cb6f2ee7-2b38-4fa5-bd72-3a1da0f60d7a",
   "metadata": {},
   "outputs": [],
   "source": [
    "loaded_collection = vexpresso.create(\n",
    "    directory_or_repo_id = \"./saved_collection/saved_transformed_collection\",\n",
    "    embedding_functions = {\"embeddings_strings\":embed_fn}\n",
    ")"
   ]
  },
  {
   "cell_type": "code",
   "execution_count": 42,
   "id": "910f6aa4-c4c8-4a90-ba3d-d11db7af6752",
   "metadata": {},
   "outputs": [
    {
     "data": {
      "text/html": [
       "<div>\n",
       "    <table class=\"dataframe\">\n",
       "<thead>\n",
       "<tr><th style=\"text-align: right;\">  numbers<br>Int64</th><th>strings<br>Utf8  </th><th>embeddings_strings<br>Python                   </th><th>modified<br>Utf8  </th></tr>\n",
       "</thead>\n",
       "<tbody>\n",
       "<tr><td style=\"text-align: right;\">                 1</td><td>test_1           </td><td>&ltnp.ndarray<br>shape=(100,)<br>dtype=int64&gt</td><td>modified_1000     </td></tr>\n",
       "<tr><td style=\"text-align: right;\">                 2</td><td>test_2           </td><td>&ltnp.ndarray<br>shape=(100,)<br>dtype=int64&gt</td><td>modified_2000     </td></tr>\n",
       "<tr><td style=\"text-align: right;\">                 3</td><td>test_3           </td><td>&ltnp.ndarray<br>shape=(100,)<br>dtype=int64&gt</td><td>modified_3000     </td></tr>\n",
       "<tr><td style=\"text-align: right;\">                 4</td><td>test_4           </td><td>&ltnp.ndarray<br>shape=(100,)<br>dtype=int64&gt</td><td>modified_4000     </td></tr>\n",
       "<tr><td style=\"text-align: right;\">                 5</td><td>test_5           </td><td>&ltnp.ndarray<br>shape=(100,)<br>dtype=int64&gt</td><td>modified_5000     </td></tr>\n",
       "</tbody>\n",
       "</table>\n",
       "    <small>(Showing first 5 rows)</small>\n",
       "</div>"
      ],
      "text/plain": [
       "+-----------+-----------+----------------------+---------------+\n",
       "|   numbers | strings   | embeddings_strings   | modified      |\n",
       "|     Int64 | Utf8      | Python               | Utf8          |\n",
       "+===========+===========+======================+===============+\n",
       "|         1 | test_1    | [0 0 0 0 0 0 0 0 0 0 | modified_1000 |\n",
       "|           |           | 0 0 0 0 0 0 0 0 0 0  |               |\n",
       "|           |           | 0 0 0 0 0 0 0 0 ...  |               |\n",
       "+-----------+-----------+----------------------+---------------+\n",
       "|         2 | test_2    | [1 1 1 1 1 1 1 1 1 1 | modified_2000 |\n",
       "|           |           | 1 1 1 1 1 1 1 1 1 1  |               |\n",
       "|           |           | 1 1 1 1 1 1 1 1 ...  |               |\n",
       "+-----------+-----------+----------------------+---------------+\n",
       "|         3 | test_3    | [2 2 2 2 2 2 2 2 2 2 | modified_3000 |\n",
       "|           |           | 2 2 2 2 2 2 2 2 2 2  |               |\n",
       "|           |           | 2 2 2 2 2 2 2 2 ...  |               |\n",
       "+-----------+-----------+----------------------+---------------+\n",
       "|         4 | test_4    | [3 3 3 3 3 3 3 3 3 3 | modified_4000 |\n",
       "|           |           | 3 3 3 3 3 3 3 3 3 3  |               |\n",
       "|           |           | 3 3 3 3 3 3 3 3 ...  |               |\n",
       "+-----------+-----------+----------------------+---------------+\n",
       "|         5 | test_5    | [4 4 4 4 4 4 4 4 4 4 | modified_5000 |\n",
       "|           |           | 4 4 4 4 4 4 4 4 4 4  |               |\n",
       "|           |           | 4 4 4 4 4 4 4 4 ...  |               |\n",
       "+-----------+-----------+----------------------+---------------+\n",
       "(Showing first 5 rows)"
      ]
     },
     "execution_count": 42,
     "metadata": {},
     "output_type": "execute_result"
    }
   ],
   "source": [
    "loaded_collection.show(5)"
   ]
  },
  {
   "cell_type": "markdown",
   "id": "d69e6e7f-a4a3-445b-afb0-53610d28c4cf",
   "metadata": {},
   "source": [
    "#### Now let's upload to huggingface!"
   ]
  },
  {
   "cell_type": "markdown",
   "id": "932f7241-5de7-4312-9ae0-25d8096845c8",
   "metadata": {},
   "source": [
    "For this you'll need to install huggingfacehub"
   ]
  },
  {
   "cell_type": "code",
   "execution_count": 43,
   "id": "9d174c2d-23e3-4db6-9d3c-2b0ab54e3893",
   "metadata": {},
   "outputs": [],
   "source": [
    "# !pip install huggingface-hub"
   ]
  },
  {
   "cell_type": "markdown",
   "id": "53006031-6122-4338-ab34-a1e65663dd72",
   "metadata": {},
   "source": [
    "Automatically gets token from env variable: HUGGINGFACEHUB_API_TOKEN = ...\n",
    "\n",
    "or you can pass in token directly via `collection.save(token=...)`"
   ]
  },
  {
   "cell_type": "code",
   "execution_count": 44,
   "id": "0e1069d5-41c8-422e-b587-49a5ab0bcade",
   "metadata": {},
   "outputs": [],
   "source": [
    "username = \"shyamsn97\"\n",
    "repo_name = \"vexpresso_test_showcase\"\n",
    "# username = \"REPLACE\"\n",
    "# repo_name = \"REPLACE\""
   ]
  },
  {
   "cell_type": "code",
   "execution_count": 45,
   "id": "c693841a-97ab-4261-be00-c116d8625151",
   "metadata": {},
   "outputs": [
    {
     "name": "stdout",
     "output_type": "stream",
     "text": [
      "Uploading collection to None\n"
     ]
    },
    {
     "name": "stderr",
     "output_type": "stream",
     "text": [
      "/home/shyam/miniconda3/envs/py39/lib/python3.9/site-packages/tqdm/auto.py:21: TqdmWarning: IProgress not found. Please update jupyter and ipywidgets. See https://ipywidgets.readthedocs.io/en/stable/user_install.html\n",
      "  from .autonotebook import tqdm as notebook_tqdm\n",
      "\n",
      "content.parquet: 100%|█████████████████████████████████████████████| 4.55k/4.55k [00:00<00:00, 10.1kB/s]\u001b[A\n",
      "\n",
      "Upload 1 LFS files: 100%|█████████████████████████████████████████████████| 1/1 [00:00<00:00,  1.56it/s]\u001b[A\n"
     ]
    },
    {
     "name": "stdout",
     "output_type": "stream",
     "text": [
      "Upload to shyamsn97/vexpresso_test_showcase complete!\n"
     ]
    },
    {
     "data": {
      "text/plain": [
       "'shyamsn97/vexpresso_test_showcase'"
      ]
     },
     "execution_count": 45,
     "metadata": {},
     "output_type": "execute_result"
    }
   ],
   "source": [
    "loaded_collection.save(hf_username = username, repo_name = repo_name, to_hub=True, )"
   ]
  },
  {
   "cell_type": "markdown",
   "id": "9b13c1f3-c12b-4fb4-b636-5d883b4243f4",
   "metadata": {},
   "source": [
    "The example is private by default, but this can be changed by the `private` flag"
   ]
  },
  {
   "cell_type": "code",
   "execution_count": 46,
   "id": "9b38c5de-ba3b-4a03-beb2-350bf5be07df",
   "metadata": {},
   "outputs": [],
   "source": [
    "# loaded_collection.save(hf_username = username, repo_name = repo_name, to_hub=True, private=False)"
   ]
  },
  {
   "cell_type": "markdown",
   "id": "e23c7e12-5ed2-4c29-a159-11fe4aac8c92",
   "metadata": {},
   "source": [
    "You can see an example of the above data: https://huggingface.co/datasets/shyamsn97/vexpresso_test_showcase"
   ]
  },
  {
   "cell_type": "markdown",
   "id": "fdc91581-1699-4546-a8ae-3bf29716012c",
   "metadata": {},
   "source": [
    "#### Now lets load it!"
   ]
  },
  {
   "cell_type": "code",
   "execution_count": 47,
   "id": "65316f78-da24-409b-912f-d2b0f51f2c52",
   "metadata": {},
   "outputs": [
    {
     "name": "stdout",
     "output_type": "stream",
     "text": [
      "Retrieving from hf repo: shyamsn97/vexpresso_test_showcase\n"
     ]
    },
    {
     "name": "stderr",
     "output_type": "stream",
     "text": [
      "Fetching 2 files:  50%|█████████████████████████▌                         | 1/2 [00:00<00:00,  9.21it/s]\n",
      "Downloading content.parquet: 100%|██████████████████████████████████| 4.55k/4.55k [00:00<00:00, 535kB/s]\u001b[A\n",
      "Fetching 2 files: 100%|███████████████████████████████████████████████████| 2/2 [00:00<00:00,  3.21it/s]\n"
     ]
    }
   ],
   "source": [
    "loaded_collection = vexpresso.create(\n",
    "    hf_username = username,\n",
    "    repo_name = repo_name,\n",
    "    embedding_functions = {\"embeddings_strings\":embed_fn}\n",
    ")"
   ]
  },
  {
   "cell_type": "code",
   "execution_count": 48,
   "id": "ba5b8bfd-e01e-475d-88ed-b58f4c6c22bd",
   "metadata": {},
   "outputs": [
    {
     "data": {
      "text/html": [
       "<div>\n",
       "    <table class=\"dataframe\">\n",
       "<thead>\n",
       "<tr><th style=\"text-align: right;\">  numbers<br>Int64</th><th>strings<br>Utf8  </th><th>embeddings_strings<br>Python                   </th><th>modified<br>Utf8  </th></tr>\n",
       "</thead>\n",
       "<tbody>\n",
       "<tr><td style=\"text-align: right;\">                 1</td><td>test_1           </td><td>&ltnp.ndarray<br>shape=(100,)<br>dtype=int64&gt</td><td>modified_1000     </td></tr>\n",
       "<tr><td style=\"text-align: right;\">                 2</td><td>test_2           </td><td>&ltnp.ndarray<br>shape=(100,)<br>dtype=int64&gt</td><td>modified_2000     </td></tr>\n",
       "<tr><td style=\"text-align: right;\">                 3</td><td>test_3           </td><td>&ltnp.ndarray<br>shape=(100,)<br>dtype=int64&gt</td><td>modified_3000     </td></tr>\n",
       "<tr><td style=\"text-align: right;\">                 4</td><td>test_4           </td><td>&ltnp.ndarray<br>shape=(100,)<br>dtype=int64&gt</td><td>modified_4000     </td></tr>\n",
       "<tr><td style=\"text-align: right;\">                 5</td><td>test_5           </td><td>&ltnp.ndarray<br>shape=(100,)<br>dtype=int64&gt</td><td>modified_5000     </td></tr>\n",
       "</tbody>\n",
       "</table>\n",
       "    <small>(Showing first 5 rows)</small>\n",
       "</div>"
      ],
      "text/plain": [
       "+-----------+-----------+----------------------+---------------+\n",
       "|   numbers | strings   | embeddings_strings   | modified      |\n",
       "|     Int64 | Utf8      | Python               | Utf8          |\n",
       "+===========+===========+======================+===============+\n",
       "|         1 | test_1    | [0 0 0 0 0 0 0 0 0 0 | modified_1000 |\n",
       "|           |           | 0 0 0 0 0 0 0 0 0 0  |               |\n",
       "|           |           | 0 0 0 0 0 0 0 0 ...  |               |\n",
       "+-----------+-----------+----------------------+---------------+\n",
       "|         2 | test_2    | [1 1 1 1 1 1 1 1 1 1 | modified_2000 |\n",
       "|           |           | 1 1 1 1 1 1 1 1 1 1  |               |\n",
       "|           |           | 1 1 1 1 1 1 1 1 ...  |               |\n",
       "+-----------+-----------+----------------------+---------------+\n",
       "|         3 | test_3    | [2 2 2 2 2 2 2 2 2 2 | modified_3000 |\n",
       "|           |           | 2 2 2 2 2 2 2 2 2 2  |               |\n",
       "|           |           | 2 2 2 2 2 2 2 2 ...  |               |\n",
       "+-----------+-----------+----------------------+---------------+\n",
       "|         4 | test_4    | [3 3 3 3 3 3 3 3 3 3 | modified_4000 |\n",
       "|           |           | 3 3 3 3 3 3 3 3 3 3  |               |\n",
       "|           |           | 3 3 3 3 3 3 3 3 ...  |               |\n",
       "+-----------+-----------+----------------------+---------------+\n",
       "|         5 | test_5    | [4 4 4 4 4 4 4 4 4 4 | modified_5000 |\n",
       "|           |           | 4 4 4 4 4 4 4 4 4 4  |               |\n",
       "|           |           | 4 4 4 4 4 4 4 4 ...  |               |\n",
       "+-----------+-----------+----------------------+---------------+\n",
       "(Showing first 5 rows)"
      ]
     },
     "execution_count": 48,
     "metadata": {},
     "output_type": "execute_result"
    }
   ],
   "source": [
    "loaded_collection.show(5)"
   ]
  }
 ],
 "metadata": {
  "kernelspec": {
   "display_name": "Python [conda env:py39] *",
   "language": "python",
   "name": "conda-env-py39-py"
  },
  "language_info": {
   "codemirror_mode": {
    "name": "ipython",
    "version": 3
   },
   "file_extension": ".py",
   "mimetype": "text/x-python",
   "name": "python",
   "nbconvert_exporter": "python",
   "pygments_lexer": "ipython3",
   "version": "3.9.0"
  }
 },
 "nbformat": 4,
 "nbformat_minor": 5
}
