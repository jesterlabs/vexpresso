{
 "cells": [
  {
   "cell_type": "markdown",
   "id": "c88f5cb6-2b03-418a-b726-faca6dbe8427",
   "metadata": {},
   "source": [
    "# Querying Audio with CLAP embeddings"
   ]
  },
  {
   "cell_type": "markdown",
   "id": "8b21c7d4-859d-405f-a06e-8f00b898703e",
   "metadata": {},
   "source": [
    "## In this walkthrough, we will be using a dataset of audio files and embed them using the CLAP model (https://huggingface.co/docs/transformers/v4.30.0/en/model_doc/clap#transformers.ClapModel)"
   ]
  },
  {
   "cell_type": "markdown",
   "id": "2d19c592-79a2-46c4-807f-0288742cb1fc",
   "metadata": {},
   "source": [
    "## Installation Requirements"
   ]
  },
  {
   "cell_type": "code",
   "execution_count": 18,
   "id": "6be6d413-6a0d-45f8-99c2-1f4ad51eb870",
   "metadata": {},
   "outputs": [],
   "source": [
    "import json\n",
    "import os\n",
    "import vexpresso"
   ]
  },
  {
   "cell_type": "code",
   "execution_count": 6,
   "id": "721e0f37-748a-4a3e-a57e-b4bac95827d6",
   "metadata": {},
   "outputs": [],
   "source": [
    "with open(\"../data.json\", 'r') as f:\n",
    "    data = json.load(f)"
   ]
  },
  {
   "cell_type": "code",
   "execution_count": 14,
   "id": "6a25f9e7-4f88-437f-a7ea-a3e907570131",
   "metadata": {},
   "outputs": [],
   "source": [
    "tf = NamedTemporaryFile(delete=False, suffix=\".json\")"
   ]
  },
  {
   "cell_type": "code",
   "execution_count": 20,
   "id": "6b48e977-b8e6-499b-8129-06bdb0b4dfc3",
   "metadata": {},
   "outputs": [
    {
     "ename": "FileNotFoundError",
     "evalue": "[Errno 2] No such file or directory: '/tmp/tmp7drtde6e.json'",
     "output_type": "error",
     "traceback": [
      "\u001b[0;31m---------------------------------------------------------------------------\u001b[0m",
      "\u001b[0;31mFileNotFoundError\u001b[0m                         Traceback (most recent call last)",
      "Cell \u001b[0;32mIn[20], line 2\u001b[0m\n\u001b[1;32m      1\u001b[0m tf\u001b[38;5;241m.\u001b[39mclose()\n\u001b[0;32m----> 2\u001b[0m \u001b[43mos\u001b[49m\u001b[38;5;241;43m.\u001b[39;49m\u001b[43munlink\u001b[49m\u001b[43m(\u001b[49m\u001b[43mtf\u001b[49m\u001b[38;5;241;43m.\u001b[39;49m\u001b[43mname\u001b[49m\u001b[43m)\u001b[49m\n",
      "\u001b[0;31mFileNotFoundError\u001b[0m: [Errno 2] No such file or directory: '/tmp/tmp7drtde6e.json'"
     ]
    }
   ],
   "source": [
    "tf.close()\n",
    "os.unlink(tf.name)"
   ]
  },
  {
   "cell_type": "code",
   "execution_count": 16,
   "id": "86994389-9c67-4a89-a95a-d91bdac53797",
   "metadata": {},
   "outputs": [],
   "source": [
    "with open(tf.name, 'r') as f:\n",
    "    data = json.load(f)"
   ]
  },
  {
   "cell_type": "code",
   "execution_count": 12,
   "id": "05378a95-4140-4785-b682-094fbc821e8a",
   "metadata": {},
   "outputs": [
    {
     "ename": "JSONDecodeError",
     "evalue": "Expecting value: line 1 column 1 (char 0)",
     "output_type": "error",
     "traceback": [
      "\u001b[0;31m---------------------------------------------------------------------------\u001b[0m",
      "\u001b[0;31mJSONDecodeError\u001b[0m                           Traceback (most recent call last)",
      "Cell \u001b[0;32mIn[12], line 5\u001b[0m\n\u001b[1;32m      3\u001b[0m json\u001b[38;5;241m.\u001b[39mdump(data, jsonfile)\n\u001b[1;32m      4\u001b[0m \u001b[38;5;28;01mwith\u001b[39;00m \u001b[38;5;28mopen\u001b[39m(jsonfile\u001b[38;5;241m.\u001b[39mname, \u001b[38;5;124m'\u001b[39m\u001b[38;5;124mr\u001b[39m\u001b[38;5;124m'\u001b[39m) \u001b[38;5;28;01mas\u001b[39;00m f:\n\u001b[0;32m----> 5\u001b[0m     data \u001b[38;5;241m=\u001b[39m \u001b[43mjson\u001b[49m\u001b[38;5;241;43m.\u001b[39;49m\u001b[43mload\u001b[49m\u001b[43m(\u001b[49m\u001b[43mf\u001b[49m\u001b[43m)\u001b[49m\n",
      "File \u001b[0;32m~/miniconda3/envs/py39/lib/python3.9/json/__init__.py:293\u001b[0m, in \u001b[0;36mload\u001b[0;34m(fp, cls, object_hook, parse_float, parse_int, parse_constant, object_pairs_hook, **kw)\u001b[0m\n\u001b[1;32m    274\u001b[0m \u001b[38;5;28;01mdef\u001b[39;00m \u001b[38;5;21mload\u001b[39m(fp, \u001b[38;5;241m*\u001b[39m, \u001b[38;5;28mcls\u001b[39m\u001b[38;5;241m=\u001b[39m\u001b[38;5;28;01mNone\u001b[39;00m, object_hook\u001b[38;5;241m=\u001b[39m\u001b[38;5;28;01mNone\u001b[39;00m, parse_float\u001b[38;5;241m=\u001b[39m\u001b[38;5;28;01mNone\u001b[39;00m,\n\u001b[1;32m    275\u001b[0m         parse_int\u001b[38;5;241m=\u001b[39m\u001b[38;5;28;01mNone\u001b[39;00m, parse_constant\u001b[38;5;241m=\u001b[39m\u001b[38;5;28;01mNone\u001b[39;00m, object_pairs_hook\u001b[38;5;241m=\u001b[39m\u001b[38;5;28;01mNone\u001b[39;00m, \u001b[38;5;241m*\u001b[39m\u001b[38;5;241m*\u001b[39mkw):\n\u001b[1;32m    276\u001b[0m \u001b[38;5;250m    \u001b[39m\u001b[38;5;124;03m\"\"\"Deserialize ``fp`` (a ``.read()``-supporting file-like object containing\u001b[39;00m\n\u001b[1;32m    277\u001b[0m \u001b[38;5;124;03m    a JSON document) to a Python object.\u001b[39;00m\n\u001b[1;32m    278\u001b[0m \n\u001b[0;32m   (...)\u001b[0m\n\u001b[1;32m    291\u001b[0m \u001b[38;5;124;03m    kwarg; otherwise ``JSONDecoder`` is used.\u001b[39;00m\n\u001b[1;32m    292\u001b[0m \u001b[38;5;124;03m    \"\"\"\u001b[39;00m\n\u001b[0;32m--> 293\u001b[0m     \u001b[38;5;28;01mreturn\u001b[39;00m \u001b[43mloads\u001b[49m\u001b[43m(\u001b[49m\u001b[43mfp\u001b[49m\u001b[38;5;241;43m.\u001b[39;49m\u001b[43mread\u001b[49m\u001b[43m(\u001b[49m\u001b[43m)\u001b[49m\u001b[43m,\u001b[49m\n\u001b[1;32m    294\u001b[0m \u001b[43m        \u001b[49m\u001b[38;5;28;43mcls\u001b[39;49m\u001b[38;5;241;43m=\u001b[39;49m\u001b[38;5;28;43mcls\u001b[39;49m\u001b[43m,\u001b[49m\u001b[43m \u001b[49m\u001b[43mobject_hook\u001b[49m\u001b[38;5;241;43m=\u001b[39;49m\u001b[43mobject_hook\u001b[49m\u001b[43m,\u001b[49m\n\u001b[1;32m    295\u001b[0m \u001b[43m        \u001b[49m\u001b[43mparse_float\u001b[49m\u001b[38;5;241;43m=\u001b[39;49m\u001b[43mparse_float\u001b[49m\u001b[43m,\u001b[49m\u001b[43m \u001b[49m\u001b[43mparse_int\u001b[49m\u001b[38;5;241;43m=\u001b[39;49m\u001b[43mparse_int\u001b[49m\u001b[43m,\u001b[49m\n\u001b[1;32m    296\u001b[0m \u001b[43m        \u001b[49m\u001b[43mparse_constant\u001b[49m\u001b[38;5;241;43m=\u001b[39;49m\u001b[43mparse_constant\u001b[49m\u001b[43m,\u001b[49m\u001b[43m \u001b[49m\u001b[43mobject_pairs_hook\u001b[49m\u001b[38;5;241;43m=\u001b[39;49m\u001b[43mobject_pairs_hook\u001b[49m\u001b[43m,\u001b[49m\u001b[43m \u001b[49m\u001b[38;5;241;43m*\u001b[39;49m\u001b[38;5;241;43m*\u001b[39;49m\u001b[43mkw\u001b[49m\u001b[43m)\u001b[49m\n",
      "File \u001b[0;32m~/miniconda3/envs/py39/lib/python3.9/json/__init__.py:346\u001b[0m, in \u001b[0;36mloads\u001b[0;34m(s, cls, object_hook, parse_float, parse_int, parse_constant, object_pairs_hook, **kw)\u001b[0m\n\u001b[1;32m    341\u001b[0m     s \u001b[38;5;241m=\u001b[39m s\u001b[38;5;241m.\u001b[39mdecode(detect_encoding(s), \u001b[38;5;124m'\u001b[39m\u001b[38;5;124msurrogatepass\u001b[39m\u001b[38;5;124m'\u001b[39m)\n\u001b[1;32m    343\u001b[0m \u001b[38;5;28;01mif\u001b[39;00m (\u001b[38;5;28mcls\u001b[39m \u001b[38;5;129;01mis\u001b[39;00m \u001b[38;5;28;01mNone\u001b[39;00m \u001b[38;5;129;01mand\u001b[39;00m object_hook \u001b[38;5;129;01mis\u001b[39;00m \u001b[38;5;28;01mNone\u001b[39;00m \u001b[38;5;129;01mand\u001b[39;00m\n\u001b[1;32m    344\u001b[0m         parse_int \u001b[38;5;129;01mis\u001b[39;00m \u001b[38;5;28;01mNone\u001b[39;00m \u001b[38;5;129;01mand\u001b[39;00m parse_float \u001b[38;5;129;01mis\u001b[39;00m \u001b[38;5;28;01mNone\u001b[39;00m \u001b[38;5;129;01mand\u001b[39;00m\n\u001b[1;32m    345\u001b[0m         parse_constant \u001b[38;5;129;01mis\u001b[39;00m \u001b[38;5;28;01mNone\u001b[39;00m \u001b[38;5;129;01mand\u001b[39;00m object_pairs_hook \u001b[38;5;129;01mis\u001b[39;00m \u001b[38;5;28;01mNone\u001b[39;00m \u001b[38;5;129;01mand\u001b[39;00m \u001b[38;5;129;01mnot\u001b[39;00m kw):\n\u001b[0;32m--> 346\u001b[0m     \u001b[38;5;28;01mreturn\u001b[39;00m \u001b[43m_default_decoder\u001b[49m\u001b[38;5;241;43m.\u001b[39;49m\u001b[43mdecode\u001b[49m\u001b[43m(\u001b[49m\u001b[43ms\u001b[49m\u001b[43m)\u001b[49m\n\u001b[1;32m    347\u001b[0m \u001b[38;5;28;01mif\u001b[39;00m \u001b[38;5;28mcls\u001b[39m \u001b[38;5;129;01mis\u001b[39;00m \u001b[38;5;28;01mNone\u001b[39;00m:\n\u001b[1;32m    348\u001b[0m     \u001b[38;5;28mcls\u001b[39m \u001b[38;5;241m=\u001b[39m JSONDecoder\n",
      "File \u001b[0;32m~/miniconda3/envs/py39/lib/python3.9/json/decoder.py:337\u001b[0m, in \u001b[0;36mJSONDecoder.decode\u001b[0;34m(self, s, _w)\u001b[0m\n\u001b[1;32m    332\u001b[0m \u001b[38;5;28;01mdef\u001b[39;00m \u001b[38;5;21mdecode\u001b[39m(\u001b[38;5;28mself\u001b[39m, s, _w\u001b[38;5;241m=\u001b[39mWHITESPACE\u001b[38;5;241m.\u001b[39mmatch):\n\u001b[1;32m    333\u001b[0m \u001b[38;5;250m    \u001b[39m\u001b[38;5;124;03m\"\"\"Return the Python representation of ``s`` (a ``str`` instance\u001b[39;00m\n\u001b[1;32m    334\u001b[0m \u001b[38;5;124;03m    containing a JSON document).\u001b[39;00m\n\u001b[1;32m    335\u001b[0m \n\u001b[1;32m    336\u001b[0m \u001b[38;5;124;03m    \"\"\"\u001b[39;00m\n\u001b[0;32m--> 337\u001b[0m     obj, end \u001b[38;5;241m=\u001b[39m \u001b[38;5;28;43mself\u001b[39;49m\u001b[38;5;241;43m.\u001b[39;49m\u001b[43mraw_decode\u001b[49m\u001b[43m(\u001b[49m\u001b[43ms\u001b[49m\u001b[43m,\u001b[49m\u001b[43m \u001b[49m\u001b[43midx\u001b[49m\u001b[38;5;241;43m=\u001b[39;49m\u001b[43m_w\u001b[49m\u001b[43m(\u001b[49m\u001b[43ms\u001b[49m\u001b[43m,\u001b[49m\u001b[43m \u001b[49m\u001b[38;5;241;43m0\u001b[39;49m\u001b[43m)\u001b[49m\u001b[38;5;241;43m.\u001b[39;49m\u001b[43mend\u001b[49m\u001b[43m(\u001b[49m\u001b[43m)\u001b[49m\u001b[43m)\u001b[49m\n\u001b[1;32m    338\u001b[0m     end \u001b[38;5;241m=\u001b[39m _w(s, end)\u001b[38;5;241m.\u001b[39mend()\n\u001b[1;32m    339\u001b[0m     \u001b[38;5;28;01mif\u001b[39;00m end \u001b[38;5;241m!=\u001b[39m \u001b[38;5;28mlen\u001b[39m(s):\n",
      "File \u001b[0;32m~/miniconda3/envs/py39/lib/python3.9/json/decoder.py:355\u001b[0m, in \u001b[0;36mJSONDecoder.raw_decode\u001b[0;34m(self, s, idx)\u001b[0m\n\u001b[1;32m    353\u001b[0m     obj, end \u001b[38;5;241m=\u001b[39m \u001b[38;5;28mself\u001b[39m\u001b[38;5;241m.\u001b[39mscan_once(s, idx)\n\u001b[1;32m    354\u001b[0m \u001b[38;5;28;01mexcept\u001b[39;00m \u001b[38;5;167;01mStopIteration\u001b[39;00m \u001b[38;5;28;01mas\u001b[39;00m err:\n\u001b[0;32m--> 355\u001b[0m     \u001b[38;5;28;01mraise\u001b[39;00m JSONDecodeError(\u001b[38;5;124m\"\u001b[39m\u001b[38;5;124mExpecting value\u001b[39m\u001b[38;5;124m\"\u001b[39m, s, err\u001b[38;5;241m.\u001b[39mvalue) \u001b[38;5;28;01mfrom\u001b[39;00m \u001b[38;5;28;01mNone\u001b[39;00m\n\u001b[1;32m    356\u001b[0m \u001b[38;5;28;01mreturn\u001b[39;00m obj, end\n",
      "\u001b[0;31mJSONDecodeError\u001b[0m: Expecting value: line 1 column 1 (char 0)"
     ]
    }
   ],
   "source": [
    "from tempfile import NamedTemporaryFile\n",
    "with NamedTemporaryFile('w', suffix=\".json\") as jsonfile:\n",
    "    json.dump(data, jsonfile)\n",
    "    with open(jsonfile.name, 'r') as f:\n",
    "        data = json.load(f)"
   ]
  },
  {
   "cell_type": "code",
   "execution_count": null,
   "id": "3df173a2-a14d-4370-be67-b1c9cc765109",
   "metadata": {},
   "outputs": [
    {
     "name": "stderr",
     "output_type": "stream",
     "text": [
      "2023-06-15 14:47:29.728 | INFO     | daft.context:runner:80 - Using PyRunner\n"
     ]
    }
   ],
   "source": [
    "a = vexpresso.create(data=\"../data.json\")"
   ]
  },
  {
   "cell_type": "code",
   "execution_count": null,
   "id": "8a4a65f8-c051-4ff8-93c8-982caadf3059",
   "metadata": {},
   "outputs": [
    {
     "data": {
      "text/plain": [
       "+---------+\n",
       "| test    |\n",
       "| Int64   |\n",
       "+=========+\n",
       "+---------+\n",
       "(No data to display: Dataframe not materialized)"
      ]
     },
     "execution_count": 9,
     "metadata": {},
     "output_type": "execute_result"
    }
   ],
   "source": [
    "a"
   ]
  },
  {
   "cell_type": "code",
   "execution_count": 1,
   "id": "99533903-13bc-4103-95f4-f7becf02a27c",
   "metadata": {
    "scrolled": true,
    "tags": []
   },
   "outputs": [
    {
     "name": "stdout",
     "output_type": "stream",
     "text": [
      "Requirement already satisfied: librosa in /home/kokkgoblin/miniconda3/envs/py39/lib/python3.9/site-packages (0.10.0.post2)\n",
      "Requirement already satisfied: audioread>=2.1.9 in /home/kokkgoblin/miniconda3/envs/py39/lib/python3.9/site-packages (from librosa) (3.0.0)\n",
      "Requirement already satisfied: numba>=0.51.0 in /home/kokkgoblin/miniconda3/envs/py39/lib/python3.9/site-packages (from librosa) (0.56.4)\n",
      "Requirement already satisfied: lazy-loader>=0.1 in /home/kokkgoblin/miniconda3/envs/py39/lib/python3.9/site-packages (from librosa) (0.2)\n",
      "Requirement already satisfied: joblib>=0.14 in /home/kokkgoblin/miniconda3/envs/py39/lib/python3.9/site-packages (from librosa) (1.2.0)\n",
      "Requirement already satisfied: soxr>=0.3.2 in /home/kokkgoblin/miniconda3/envs/py39/lib/python3.9/site-packages (from librosa) (0.3.5)\n",
      "Requirement already satisfied: soundfile>=0.12.1 in /home/kokkgoblin/miniconda3/envs/py39/lib/python3.9/site-packages (from librosa) (0.12.1)\n",
      "Requirement already satisfied: scikit-learn>=0.20.0 in /home/kokkgoblin/miniconda3/envs/py39/lib/python3.9/site-packages (from librosa) (1.1.2)\n",
      "Requirement already satisfied: msgpack>=1.0 in /home/kokkgoblin/miniconda3/envs/py39/lib/python3.9/site-packages/msgpack-1.0.4rc1-py3.9-linux-x86_64.egg (from librosa) (1.0.4rc1)\n",
      "Requirement already satisfied: pooch<1.7,>=1.0 in /home/kokkgoblin/miniconda3/envs/py39/lib/python3.9/site-packages (from librosa) (1.6.0)\n",
      "Requirement already satisfied: numpy!=1.22.0,!=1.22.1,!=1.22.2,>=1.20.3 in /home/kokkgoblin/miniconda3/envs/py39/lib/python3.9/site-packages/numpy-1.22.4-py3.9-linux-x86_64.egg (from librosa) (1.22.4)\n",
      "Requirement already satisfied: decorator>=4.3.0 in /home/kokkgoblin/miniconda3/envs/py39/lib/python3.9/site-packages (from librosa) (4.4.2)\n",
      "Requirement already satisfied: scipy>=1.2.0 in /home/kokkgoblin/miniconda3/envs/py39/lib/python3.9/site-packages/scipy-1.8.1-py3.9-linux-x86_64.egg (from librosa) (1.8.1)\n",
      "Requirement already satisfied: typing-extensions>=4.1.1 in /home/kokkgoblin/miniconda3/envs/py39/lib/python3.9/site-packages (from librosa) (4.6.3)\n",
      "Requirement already satisfied: llvmlite<0.40,>=0.39.0dev0 in /home/kokkgoblin/miniconda3/envs/py39/lib/python3.9/site-packages (from numba>=0.51.0->librosa) (0.39.1)\n",
      "Requirement already satisfied: setuptools in /home/kokkgoblin/miniconda3/envs/py39/lib/python3.9/site-packages (from numba>=0.51.0->librosa) (61.2.0)\n",
      "Requirement already satisfied: appdirs>=1.3.0 in /home/kokkgoblin/miniconda3/envs/py39/lib/python3.9/site-packages (from pooch<1.7,>=1.0->librosa) (1.4.4)\n",
      "Requirement already satisfied: requests>=2.19.0 in /home/kokkgoblin/miniconda3/envs/py39/lib/python3.9/site-packages (from pooch<1.7,>=1.0->librosa) (2.27.1)\n",
      "Requirement already satisfied: packaging>=20.0 in /home/kokkgoblin/miniconda3/envs/py39/lib/python3.9/site-packages (from pooch<1.7,>=1.0->librosa) (21.3)\n",
      "Requirement already satisfied: pyparsing!=3.0.5,>=2.0.2 in /home/kokkgoblin/miniconda3/envs/py39/lib/python3.9/site-packages (from packaging>=20.0->pooch<1.7,>=1.0->librosa) (2.4.7)\n",
      "Requirement already satisfied: certifi>=2017.4.17 in /home/kokkgoblin/miniconda3/envs/py39/lib/python3.9/site-packages (from requests>=2.19.0->pooch<1.7,>=1.0->librosa) (2022.5.18.1)\n",
      "Requirement already satisfied: idna<4,>=2.5 in /home/kokkgoblin/miniconda3/envs/py39/lib/python3.9/site-packages (from requests>=2.19.0->pooch<1.7,>=1.0->librosa) (3.3)\n",
      "Requirement already satisfied: charset-normalizer~=2.0.0 in /home/kokkgoblin/miniconda3/envs/py39/lib/python3.9/site-packages (from requests>=2.19.0->pooch<1.7,>=1.0->librosa) (2.0.4)\n",
      "Requirement already satisfied: urllib3<1.27,>=1.21.1 in /home/kokkgoblin/miniconda3/envs/py39/lib/python3.9/site-packages (from requests>=2.19.0->pooch<1.7,>=1.0->librosa) (1.26.9)\n",
      "Requirement already satisfied: threadpoolctl>=2.0.0 in /home/kokkgoblin/miniconda3/envs/py39/lib/python3.9/site-packages (from scikit-learn>=0.20.0->librosa) (3.1.0)\n",
      "Requirement already satisfied: cffi>=1.0 in /home/kokkgoblin/miniconda3/envs/py39/lib/python3.9/site-packages (from soundfile>=0.12.1->librosa) (1.15.0)\n",
      "Requirement already satisfied: pycparser in /home/kokkgoblin/miniconda3/envs/py39/lib/python3.9/site-packages (from cffi>=1.0->soundfile>=0.12.1->librosa) (2.21)\n",
      "Requirement already satisfied: datasets in /home/kokkgoblin/miniconda3/envs/py39/lib/python3.9/site-packages (2.9.0)\n",
      "Requirement already satisfied: dill<0.3.7 in /home/kokkgoblin/miniconda3/envs/py39/lib/python3.9/site-packages (from datasets) (0.3.6)\n",
      "Requirement already satisfied: requests>=2.19.0 in /home/kokkgoblin/miniconda3/envs/py39/lib/python3.9/site-packages (from datasets) (2.27.1)\n",
      "Requirement already satisfied: responses<0.19 in /home/kokkgoblin/miniconda3/envs/py39/lib/python3.9/site-packages (from datasets) (0.18.0)\n",
      "Requirement already satisfied: pyarrow>=6.0.0 in /home/kokkgoblin/miniconda3/envs/py39/lib/python3.9/site-packages (from datasets) (11.0.0)\n",
      "Requirement already satisfied: packaging in /home/kokkgoblin/miniconda3/envs/py39/lib/python3.9/site-packages (from datasets) (21.3)\n",
      "Requirement already satisfied: pandas in /home/kokkgoblin/miniconda3/envs/py39/lib/python3.9/site-packages/pandas-1.5.0rc0-py3.9-linux-x86_64.egg (from datasets) (1.5.0rc0)\n",
      "Requirement already satisfied: multiprocess in /home/kokkgoblin/miniconda3/envs/py39/lib/python3.9/site-packages (from datasets) (0.70.14)\n",
      "Requirement already satisfied: aiohttp in /home/kokkgoblin/miniconda3/envs/py39/lib/python3.9/site-packages (from datasets) (3.8.3)\n",
      "Requirement already satisfied: pyyaml>=5.1 in /home/kokkgoblin/miniconda3/envs/py39/lib/python3.9/site-packages (from datasets) (6.0)\n",
      "Requirement already satisfied: xxhash in /home/kokkgoblin/miniconda3/envs/py39/lib/python3.9/site-packages (from datasets) (3.2.0)\n",
      "Requirement already satisfied: huggingface-hub<1.0.0,>=0.2.0 in /home/kokkgoblin/miniconda3/envs/py39/lib/python3.9/site-packages (from datasets) (0.15.1)\n",
      "Requirement already satisfied: tqdm>=4.62.1 in /home/kokkgoblin/miniconda3/envs/py39/lib/python3.9/site-packages (from datasets) (4.64.0)\n",
      "Requirement already satisfied: numpy>=1.17 in /home/kokkgoblin/miniconda3/envs/py39/lib/python3.9/site-packages/numpy-1.22.4-py3.9-linux-x86_64.egg (from datasets) (1.22.4)\n",
      "Requirement already satisfied: fsspec[http]>=2021.11.1 in /home/kokkgoblin/miniconda3/envs/py39/lib/python3.9/site-packages/fsspec-2022.8.2-py3.9.egg (from datasets) (2022.8.2)\n",
      "Requirement already satisfied: charset-normalizer<3.0,>=2.0 in /home/kokkgoblin/miniconda3/envs/py39/lib/python3.9/site-packages (from aiohttp->datasets) (2.0.4)\n",
      "Requirement already satisfied: frozenlist>=1.1.1 in /home/kokkgoblin/miniconda3/envs/py39/lib/python3.9/site-packages (from aiohttp->datasets) (1.3.0)\n",
      "Requirement already satisfied: aiosignal>=1.1.2 in /home/kokkgoblin/miniconda3/envs/py39/lib/python3.9/site-packages (from aiohttp->datasets) (1.2.0)\n",
      "Requirement already satisfied: attrs>=17.3.0 in /home/kokkgoblin/miniconda3/envs/py39/lib/python3.9/site-packages (from aiohttp->datasets) (21.4.0)\n",
      "Requirement already satisfied: multidict<7.0,>=4.5 in /home/kokkgoblin/miniconda3/envs/py39/lib/python3.9/site-packages/multidict-4.7.6-py3.9-linux-x86_64.egg (from aiohttp->datasets) (4.7.6)\n",
      "Requirement already satisfied: async-timeout<5.0,>=4.0.0a3 in /home/kokkgoblin/miniconda3/envs/py39/lib/python3.9/site-packages (from aiohttp->datasets) (4.0.2)\n",
      "Requirement already satisfied: yarl<2.0,>=1.0 in /home/kokkgoblin/miniconda3/envs/py39/lib/python3.9/site-packages/yarl-1.8.1-py3.9-linux-x86_64.egg (from aiohttp->datasets) (1.8.1)\n",
      "Requirement already satisfied: filelock in /home/kokkgoblin/miniconda3/envs/py39/lib/python3.9/site-packages (from huggingface-hub<1.0.0,>=0.2.0->datasets) (3.7.0)\n",
      "Requirement already satisfied: typing-extensions>=3.7.4.3 in /home/kokkgoblin/miniconda3/envs/py39/lib/python3.9/site-packages (from huggingface-hub<1.0.0,>=0.2.0->datasets) (4.6.3)\n",
      "Requirement already satisfied: pyparsing!=3.0.5,>=2.0.2 in /home/kokkgoblin/miniconda3/envs/py39/lib/python3.9/site-packages (from packaging->datasets) (2.4.7)\n",
      "Requirement already satisfied: certifi>=2017.4.17 in /home/kokkgoblin/miniconda3/envs/py39/lib/python3.9/site-packages (from requests>=2.19.0->datasets) (2022.5.18.1)\n",
      "Requirement already satisfied: idna<4,>=2.5 in /home/kokkgoblin/miniconda3/envs/py39/lib/python3.9/site-packages (from requests>=2.19.0->datasets) (3.3)\n",
      "Requirement already satisfied: urllib3<1.27,>=1.21.1 in /home/kokkgoblin/miniconda3/envs/py39/lib/python3.9/site-packages (from requests>=2.19.0->datasets) (1.26.9)\n",
      "Requirement already satisfied: python-dateutil>=2.8.1 in /home/kokkgoblin/miniconda3/envs/py39/lib/python3.9/site-packages (from pandas->datasets) (2.8.2)\n",
      "Requirement already satisfied: pytz>=2020.1 in /home/kokkgoblin/miniconda3/envs/py39/lib/python3.9/site-packages (from pandas->datasets) (2021.3)\n",
      "Requirement already satisfied: six>=1.5 in /home/kokkgoblin/miniconda3/envs/py39/lib/python3.9/site-packages (from python-dateutil>=2.8.1->pandas->datasets) (1.16.0)\n",
      "Requirement already satisfied: transformers in /home/kokkgoblin/miniconda3/envs/py39/lib/python3.9/site-packages (4.30.1)\n",
      "Requirement already satisfied: numpy>=1.17 in /home/kokkgoblin/miniconda3/envs/py39/lib/python3.9/site-packages/numpy-1.22.4-py3.9-linux-x86_64.egg (from transformers) (1.22.4)\n",
      "Requirement already satisfied: regex!=2019.12.17 in /home/kokkgoblin/miniconda3/envs/py39/lib/python3.9/site-packages (from transformers) (2022.10.31)\n",
      "Requirement already satisfied: safetensors>=0.3.1 in /home/kokkgoblin/miniconda3/envs/py39/lib/python3.9/site-packages (from transformers) (0.3.1)\n",
      "Requirement already satisfied: packaging>=20.0 in /home/kokkgoblin/miniconda3/envs/py39/lib/python3.9/site-packages (from transformers) (21.3)\n",
      "Requirement already satisfied: tqdm>=4.27 in /home/kokkgoblin/miniconda3/envs/py39/lib/python3.9/site-packages (from transformers) (4.64.0)\n",
      "Requirement already satisfied: requests in /home/kokkgoblin/miniconda3/envs/py39/lib/python3.9/site-packages (from transformers) (2.27.1)\n",
      "Requirement already satisfied: huggingface-hub<1.0,>=0.14.1 in /home/kokkgoblin/miniconda3/envs/py39/lib/python3.9/site-packages (from transformers) (0.15.1)\n",
      "Requirement already satisfied: pyyaml>=5.1 in /home/kokkgoblin/miniconda3/envs/py39/lib/python3.9/site-packages (from transformers) (6.0)\n",
      "Requirement already satisfied: tokenizers!=0.11.3,<0.14,>=0.11.1 in /home/kokkgoblin/miniconda3/envs/py39/lib/python3.9/site-packages (from transformers) (0.13.2)\n",
      "Requirement already satisfied: filelock in /home/kokkgoblin/miniconda3/envs/py39/lib/python3.9/site-packages (from transformers) (3.7.0)\n",
      "Requirement already satisfied: typing-extensions>=3.7.4.3 in /home/kokkgoblin/miniconda3/envs/py39/lib/python3.9/site-packages (from huggingface-hub<1.0,>=0.14.1->transformers) (4.6.3)\n",
      "Requirement already satisfied: fsspec in /home/kokkgoblin/miniconda3/envs/py39/lib/python3.9/site-packages/fsspec-2022.8.2-py3.9.egg (from huggingface-hub<1.0,>=0.14.1->transformers) (2022.8.2)\n",
      "Requirement already satisfied: pyparsing!=3.0.5,>=2.0.2 in /home/kokkgoblin/miniconda3/envs/py39/lib/python3.9/site-packages (from packaging>=20.0->transformers) (2.4.7)\n",
      "Requirement already satisfied: charset-normalizer~=2.0.0 in /home/kokkgoblin/miniconda3/envs/py39/lib/python3.9/site-packages (from requests->transformers) (2.0.4)\n",
      "Requirement already satisfied: idna<4,>=2.5 in /home/kokkgoblin/miniconda3/envs/py39/lib/python3.9/site-packages (from requests->transformers) (3.3)\n",
      "Requirement already satisfied: urllib3<1.27,>=1.21.1 in /home/kokkgoblin/miniconda3/envs/py39/lib/python3.9/site-packages (from requests->transformers) (1.26.9)\n",
      "Requirement already satisfied: certifi>=2017.4.17 in /home/kokkgoblin/miniconda3/envs/py39/lib/python3.9/site-packages (from requests->transformers) (2022.5.18.1)\n",
      "Requirement already satisfied: torch in /home/kokkgoblin/miniconda3/envs/py39/lib/python3.9/site-packages (1.13.0)\n",
      "Requirement already satisfied: nvidia-cudnn-cu11==8.5.0.96 in /home/kokkgoblin/miniconda3/envs/py39/lib/python3.9/site-packages (from torch) (8.5.0.96)\n",
      "Requirement already satisfied: nvidia-cuda-nvrtc-cu11==11.7.99 in /home/kokkgoblin/miniconda3/envs/py39/lib/python3.9/site-packages (from torch) (11.7.99)\n",
      "Requirement already satisfied: typing-extensions in /home/kokkgoblin/miniconda3/envs/py39/lib/python3.9/site-packages (from torch) (4.6.3)\n",
      "Requirement already satisfied: nvidia-cuda-runtime-cu11==11.7.99 in /home/kokkgoblin/miniconda3/envs/py39/lib/python3.9/site-packages (from torch) (11.7.99)\n",
      "Requirement already satisfied: nvidia-cublas-cu11==11.10.3.66 in /home/kokkgoblin/miniconda3/envs/py39/lib/python3.9/site-packages (from torch) (11.10.3.66)\n",
      "Requirement already satisfied: setuptools in /home/kokkgoblin/miniconda3/envs/py39/lib/python3.9/site-packages (from nvidia-cublas-cu11==11.10.3.66->torch) (61.2.0)\n",
      "Requirement already satisfied: wheel in /home/kokkgoblin/miniconda3/envs/py39/lib/python3.9/site-packages (from nvidia-cublas-cu11==11.10.3.66->torch) (0.37.1)\n"
     ]
    }
   ],
   "source": [
    "!pip install librosa\n",
    "!pip install datasets\n",
    "!pip install transformers\n",
    "!pip install torch"
   ]
  },
  {
   "cell_type": "code",
   "execution_count": 3,
   "id": "0abc2f21-388b-419f-a26f-2619c262e672",
   "metadata": {},
   "outputs": [
    {
     "name": "stderr",
     "output_type": "stream",
     "text": [
      "/home/shyam/miniconda3/envs/py39/lib/python3.9/site-packages/tqdm/auto.py:21: TqdmWarning: IProgress not found. Please update jupyter and ipywidgets. See https://ipywidgets.readthedocs.io/en/stable/user_install.html\n",
      "  from .autonotebook import tqdm as notebook_tqdm\n"
     ]
    }
   ],
   "source": [
    "from datasets import load_dataset\n",
    "from transformers import AutoProcessor, ClapModel, AutoTokenizer\n",
    "import numpy as np\n",
    "import torch\n",
    "import vexpresso\n",
    "from vexpresso.utils import ResourceRequest, DataType"
   ]
  },
  {
   "cell_type": "markdown",
   "id": "1b775fd6-a215-464b-a22e-1963865e32b2",
   "metadata": {
    "tags": []
   },
   "source": [
    "## Load Data"
   ]
  },
  {
   "cell_type": "markdown",
   "id": "248f8cff-0a6f-47b6-8438-5bde8d8f6c8e",
   "metadata": {},
   "source": [
    "Here we load a dataset of audio files from https://huggingface.co/datasets/ashraq/esc50"
   ]
  },
  {
   "cell_type": "code",
   "execution_count": 3,
   "id": "4e44af8a-8a2b-45a3-9e6f-9aabc16833a9",
   "metadata": {
    "scrolled": true,
    "tags": []
   },
   "outputs": [
    {
     "name": "stderr",
     "output_type": "stream",
     "text": [
      "Using custom data configuration ashraq--esc50-1000c3b73cc1500f\n",
      "Found cached dataset parquet (/home/kokkgoblin/.cache/huggingface/datasets/ashraq___parquet/ashraq--esc50-1000c3b73cc1500f/0.0.0/2a3b91fbd88a2c90d1dbbb32b460cf621d31bd5b05b934492fdef7d8d6f236ec)\n"
     ]
    },
    {
     "data": {
      "application/vnd.jupyter.widget-view+json": {
       "model_id": "7de3055dee3c4c1e84f432bd9290a41e",
       "version_major": 2,
       "version_minor": 0
      },
      "text/plain": [
       "  0%|          | 0/1 [00:00<?, ?it/s]"
      ]
     },
     "metadata": {},
     "output_type": "display_data"
    }
   ],
   "source": [
    "dataset = load_dataset(\"ashraq/esc50\")"
   ]
  },
  {
   "cell_type": "markdown",
   "id": "b6344986-2a05-4ad6-a725-39d126a54465",
   "metadata": {},
   "source": [
    "Convert to dictionary"
   ]
  },
  {
   "cell_type": "code",
   "execution_count": 4,
   "id": "d88d35f8-294b-45cb-b060-a42f7fbfdb08",
   "metadata": {},
   "outputs": [],
   "source": [
    "dictionary = dataset['train'].to_dict()\n",
    "audios = dataset['train']['audio']\n",
    "dictionary['audio'] = audios"
   ]
  },
  {
   "cell_type": "markdown",
   "id": "2b69bb4f-441e-4194-badc-c0911541b5b9",
   "metadata": {
    "tags": []
   },
   "source": [
    "## Create Collection"
   ]
  },
  {
   "cell_type": "markdown",
   "id": "53a4e094-c89b-4639-9b37-afbba213fbf0",
   "metadata": {},
   "source": [
    "Lets create a collection with the audios that we downloaded!"
   ]
  },
  {
   "cell_type": "code",
   "execution_count": 5,
   "id": "3edcaf55-588b-4939-bf71-26f52f409574",
   "metadata": {},
   "outputs": [
    {
     "name": "stderr",
     "output_type": "stream",
     "text": [
      "\u001b[32m2023-06-13 13:41:30.375\u001b[0m | \u001b[1mINFO    \u001b[0m | \u001b[36mdaft.context\u001b[0m:\u001b[36mrunner\u001b[0m:\u001b[36m71\u001b[0m - \u001b[1mUsing RayRunner\u001b[0m\n",
      "\u001b[32m2023-06-13 13:41:30.376\u001b[0m | \u001b[33m\u001b[1mWARNING \u001b[0m | \u001b[36mdaft.runners.ray_runner\u001b[0m:\u001b[36m__init__\u001b[0m:\u001b[36m552\u001b[0m - \u001b[33m\u001b[1mRay has already been initialized, Daft will reuse the existing Ray context.\u001b[0m\n",
      "2023-06-13 13:41:30,377\tINFO worker.py:946 -- Connecting to existing Ray cluster at address: 10.0.0.118:57158\n",
      "2023-06-13 13:41:30,377\tINFO worker.py:963 -- Calling ray.init() again after it has already been called.\n"
     ]
    }
   ],
   "source": [
    "collection = vexpresso.create(data=dictionary, backend=\"ray\")"
   ]
  },
  {
   "cell_type": "code",
   "execution_count": 6,
   "id": "311da8f6-41e9-4a18-a3c6-770a0724ca8b",
   "metadata": {},
   "outputs": [
    {
     "data": {
      "text/html": [
       "<div>\n",
       "    <table class=\"dataframe\">\n",
       "<thead>\n",
       "<tr><th>filename<br>Utf8  </th><th style=\"text-align: right;\">  fold<br>Int64</th><th style=\"text-align: right;\">  target<br>Int64</th><th>category<br>Utf8  </th><th>esc10<br>Boolean  </th><th style=\"text-align: right;\">  src_file<br>Int64</th><th>take<br>Utf8  </th><th>audio<br>Struct[array: List[item:Float64], path: Null, sampling_rate: Int64]  </th></tr>\n",
       "</thead>\n",
       "<tbody>\n",
       "<tr><td>1-100032-A-0.wav  </td><td style=\"text-align: right;\">              1</td><td style=\"text-align: right;\">                0</td><td>dog               </td><td>true              </td><td style=\"text-align: right;\">             100032</td><td>A             </td><td>{&#x27;array&#x27;: [0.0, 0.0, 0.0, 0.0, 0.0, 0.0, 0.0, 0.0, 0.0, 0...        </td></tr>\n",
       "<tr><td>1-100038-A-14.wav </td><td style=\"text-align: right;\">              1</td><td style=\"text-align: right;\">               14</td><td>chirping_birds    </td><td>false             </td><td style=\"text-align: right;\">             100038</td><td>A             </td><td>{&#x27;array&#x27;: [-0.0118408203125, -0.103363037109375, -0.14141...        </td></tr>\n",
       "<tr><td>1-100210-A-36.wav </td><td style=\"text-align: right;\">              1</td><td style=\"text-align: right;\">               36</td><td>vacuum_cleaner    </td><td>false             </td><td style=\"text-align: right;\">             100210</td><td>A             </td><td>{&#x27;array&#x27;: [-0.0069580078125, -0.01251220703125, -0.011260...        </td></tr>\n",
       "<tr><td>1-100210-B-36.wav </td><td style=\"text-align: right;\">              1</td><td style=\"text-align: right;\">               36</td><td>vacuum_cleaner    </td><td>false             </td><td style=\"text-align: right;\">             100210</td><td>B             </td><td>{&#x27;array&#x27;: [0.538970947265625, 0.396270751953125, 0.267395...        </td></tr>\n",
       "<tr><td>1-101296-A-19.wav </td><td style=\"text-align: right;\">              1</td><td style=\"text-align: right;\">               19</td><td>thunderstorm      </td><td>false             </td><td style=\"text-align: right;\">             101296</td><td>A             </td><td>{&#x27;array&#x27;: [-0.0003662109375, -0.000701904296875, -0.00079...        </td></tr>\n",
       "</tbody>\n",
       "</table>\n",
       "    <small>(Showing first 5 rows)</small>\n",
       "</div>"
      ],
      "text/plain": [
       "+-------------------+---------+----------+----------------+-----------+------------+--------+-----------------------------------------------------------------------+\n",
       "| filename          |    fold |   target | category       | esc10     |   src_file | take   | audio                                                                 |\n",
       "| Utf8              |   Int64 |    Int64 | Utf8           | Boolean   |      Int64 | Utf8   | Struct[array: List[item:Float64], path: Null, sampling_rate: Int64]   |\n",
       "+===================+=========+==========+================+===========+============+========+=======================================================================+\n",
       "| 1-100032-A-0.wav  |       1 |        0 | dog            | true      |     100032 | A      | {'array': [0.0, 0.0,                                                  |\n",
       "|                   |         |          |                |           |            |        | 0.0, 0.0, 0.0, 0.0,                                                   |\n",
       "|                   |         |          |                |           |            |        | 0.0, 0.0, 0.0, 0...                                                   |\n",
       "+-------------------+---------+----------+----------------+-----------+------------+--------+-----------------------------------------------------------------------+\n",
       "| 1-100038-A-14.wav |       1 |       14 | chirping_birds | false     |     100038 | A      | {'array':                                                             |\n",
       "|                   |         |          |                |           |            |        | [-0.0118408203125,                                                    |\n",
       "|                   |         |          |                |           |            |        | -0.103363037109375,                                                   |\n",
       "|                   |         |          |                |           |            |        | -0.14141...                                                           |\n",
       "+-------------------+---------+----------+----------------+-----------+------------+--------+-----------------------------------------------------------------------+\n",
       "| 1-100210-A-36.wav |       1 |       36 | vacuum_cleaner | false     |     100210 | A      | {'array':                                                             |\n",
       "|                   |         |          |                |           |            |        | [-0.0069580078125,                                                    |\n",
       "|                   |         |          |                |           |            |        | -0.01251220703125,                                                    |\n",
       "|                   |         |          |                |           |            |        | -0.011260...                                                          |\n",
       "+-------------------+---------+----------+----------------+-----------+------------+--------+-----------------------------------------------------------------------+\n",
       "| 1-100210-B-36.wav |       1 |       36 | vacuum_cleaner | false     |     100210 | B      | {'array':                                                             |\n",
       "|                   |         |          |                |           |            |        | [0.538970947265625,                                                   |\n",
       "|                   |         |          |                |           |            |        | 0.396270751953125,                                                    |\n",
       "|                   |         |          |                |           |            |        | 0.267395...                                                           |\n",
       "+-------------------+---------+----------+----------------+-----------+------------+--------+-----------------------------------------------------------------------+\n",
       "| 1-101296-A-19.wav |       1 |       19 | thunderstorm   | false     |     101296 | A      | {'array':                                                             |\n",
       "|                   |         |          |                |           |            |        | [-0.0003662109375,                                                    |\n",
       "|                   |         |          |                |           |            |        | -0.000701904296875,                                                   |\n",
       "|                   |         |          |                |           |            |        | -0.00079...                                                           |\n",
       "+-------------------+---------+----------+----------------+-----------+------------+--------+-----------------------------------------------------------------------+\n",
       "(Showing first 5 rows)"
      ]
     },
     "execution_count": 6,
     "metadata": {},
     "output_type": "execute_result"
    }
   ],
   "source": [
    "collection.show(5)"
   ]
  },
  {
   "cell_type": "markdown",
   "id": "d556bf3e-668f-4dd3-9c04-0de75c5ad656",
   "metadata": {},
   "source": [
    "Let's filter out the B takes"
   ]
  },
  {
   "cell_type": "code",
   "execution_count": 7,
   "id": "4095bece-4d17-40da-b804-8230d0d16c41",
   "metadata": {},
   "outputs": [],
   "source": [
    "collection = collection.filter({\"take\":{\"eq\":\"A\"}}).execute()"
   ]
  },
  {
   "cell_type": "code",
   "execution_count": 8,
   "id": "0fb33df4-aa0f-47e1-885d-d018fb72869f",
   "metadata": {},
   "outputs": [
    {
     "data": {
      "text/html": [
       "<div>\n",
       "    <table class=\"dataframe\">\n",
       "<thead>\n",
       "<tr><th>filename<br>Utf8  </th><th style=\"text-align: right;\">  fold<br>Int64</th><th style=\"text-align: right;\">  target<br>Int64</th><th>category<br>Utf8  </th><th>esc10<br>Boolean  </th><th style=\"text-align: right;\">  src_file<br>Int64</th><th>take<br>Utf8  </th><th>audio<br>Struct[array: List[item:Float64], path: Null, sampling_rate: Int64]  </th></tr>\n",
       "</thead>\n",
       "<tbody>\n",
       "<tr><td>1-100032-A-0.wav  </td><td style=\"text-align: right;\">              1</td><td style=\"text-align: right;\">                0</td><td>dog               </td><td>true              </td><td style=\"text-align: right;\">             100032</td><td>A             </td><td>{&#x27;array&#x27;: [0.0, 0.0, 0.0, 0.0, 0.0, 0.0, 0.0, 0.0, 0.0, 0...        </td></tr>\n",
       "<tr><td>1-100038-A-14.wav </td><td style=\"text-align: right;\">              1</td><td style=\"text-align: right;\">               14</td><td>chirping_birds    </td><td>false             </td><td style=\"text-align: right;\">             100038</td><td>A             </td><td>{&#x27;array&#x27;: [-0.0118408203125, -0.103363037109375, -0.14141...        </td></tr>\n",
       "<tr><td>1-100210-A-36.wav </td><td style=\"text-align: right;\">              1</td><td style=\"text-align: right;\">               36</td><td>vacuum_cleaner    </td><td>false             </td><td style=\"text-align: right;\">             100210</td><td>A             </td><td>{&#x27;array&#x27;: [-0.0069580078125, -0.01251220703125, -0.011260...        </td></tr>\n",
       "<tr><td>1-101296-A-19.wav </td><td style=\"text-align: right;\">              1</td><td style=\"text-align: right;\">               19</td><td>thunderstorm      </td><td>false             </td><td style=\"text-align: right;\">             101296</td><td>A             </td><td>{&#x27;array&#x27;: [-0.0003662109375, -0.000701904296875, -0.00079...        </td></tr>\n",
       "<tr><td>1-101336-A-30.wav </td><td style=\"text-align: right;\">              1</td><td style=\"text-align: right;\">               30</td><td>door_wood_knock   </td><td>false             </td><td style=\"text-align: right;\">             101336</td><td>A             </td><td>{&#x27;array&#x27;: [0.0001220703125, 0.00018310546875, 0.000122070...        </td></tr>\n",
       "</tbody>\n",
       "</table>\n",
       "    <small>(Showing first 5 rows)</small>\n",
       "</div>"
      ],
      "text/plain": [
       "+-------------------+---------+----------+-----------------+-----------+------------+--------+-----------------------------------------------------------------------+\n",
       "| filename          |    fold |   target | category        | esc10     |   src_file | take   | audio                                                                 |\n",
       "| Utf8              |   Int64 |    Int64 | Utf8            | Boolean   |      Int64 | Utf8   | Struct[array: List[item:Float64], path: Null, sampling_rate: Int64]   |\n",
       "+===================+=========+==========+=================+===========+============+========+=======================================================================+\n",
       "| 1-100032-A-0.wav  |       1 |        0 | dog             | true      |     100032 | A      | {'array': [0.0, 0.0,                                                  |\n",
       "|                   |         |          |                 |           |            |        | 0.0, 0.0, 0.0, 0.0,                                                   |\n",
       "|                   |         |          |                 |           |            |        | 0.0, 0.0, 0.0, 0...                                                   |\n",
       "+-------------------+---------+----------+-----------------+-----------+------------+--------+-----------------------------------------------------------------------+\n",
       "| 1-100038-A-14.wav |       1 |       14 | chirping_birds  | false     |     100038 | A      | {'array':                                                             |\n",
       "|                   |         |          |                 |           |            |        | [-0.0118408203125,                                                    |\n",
       "|                   |         |          |                 |           |            |        | -0.103363037109375,                                                   |\n",
       "|                   |         |          |                 |           |            |        | -0.14141...                                                           |\n",
       "+-------------------+---------+----------+-----------------+-----------+------------+--------+-----------------------------------------------------------------------+\n",
       "| 1-100210-A-36.wav |       1 |       36 | vacuum_cleaner  | false     |     100210 | A      | {'array':                                                             |\n",
       "|                   |         |          |                 |           |            |        | [-0.0069580078125,                                                    |\n",
       "|                   |         |          |                 |           |            |        | -0.01251220703125,                                                    |\n",
       "|                   |         |          |                 |           |            |        | -0.011260...                                                          |\n",
       "+-------------------+---------+----------+-----------------+-----------+------------+--------+-----------------------------------------------------------------------+\n",
       "| 1-101296-A-19.wav |       1 |       19 | thunderstorm    | false     |     101296 | A      | {'array':                                                             |\n",
       "|                   |         |          |                 |           |            |        | [-0.0003662109375,                                                    |\n",
       "|                   |         |          |                 |           |            |        | -0.000701904296875,                                                   |\n",
       "|                   |         |          |                 |           |            |        | -0.00079...                                                           |\n",
       "+-------------------+---------+----------+-----------------+-----------+------------+--------+-----------------------------------------------------------------------+\n",
       "| 1-101336-A-30.wav |       1 |       30 | door_wood_knock | false     |     101336 | A      | {'array':                                                             |\n",
       "|                   |         |          |                 |           |            |        | [0.0001220703125,                                                     |\n",
       "|                   |         |          |                 |           |            |        | 0.00018310546875,                                                     |\n",
       "|                   |         |          |                 |           |            |        | 0.000122070...                                                        |\n",
       "+-------------------+---------+----------+-----------------+-----------+------------+--------+-----------------------------------------------------------------------+\n",
       "(Showing first 5 rows)"
      ]
     },
     "execution_count": 8,
     "metadata": {},
     "output_type": "execute_result"
    }
   ],
   "source": [
    "collection.show(5)"
   ]
  },
  {
   "cell_type": "markdown",
   "id": "5fcb25ea-491d-4827-8e51-82834588c994",
   "metadata": {},
   "source": [
    "Lets take a look at the different categories!"
   ]
  },
  {
   "cell_type": "code",
   "execution_count": 9,
   "id": "f8cedca8-8274-4f62-9bde-e0e05c538b6f",
   "metadata": {},
   "outputs": [
    {
     "data": {
      "text/plain": [
       "array(['airplane', 'breathing', 'brushing_teeth', 'can_opening',\n",
       "       'car_horn', 'cat', 'chainsaw', 'chirping_birds', 'church_bells',\n",
       "       'clapping', 'clock_alarm', 'clock_tick', 'coughing', 'cow',\n",
       "       'crackling_fire', 'crickets', 'crow', 'crying_baby', 'dog',\n",
       "       'door_wood_creaks', 'door_wood_knock', 'drinking_sipping',\n",
       "       'engine', 'fireworks', 'footsteps', 'frog', 'glass_breaking',\n",
       "       'hand_saw', 'helicopter', 'hen', 'insects', 'keyboard_typing',\n",
       "       'laughing', 'mouse_click', 'pig', 'pouring_water', 'rain',\n",
       "       'rooster', 'sea_waves', 'sheep', 'siren', 'sneezing', 'snoring',\n",
       "       'thunderstorm', 'toilet_flush', 'train', 'vacuum_cleaner',\n",
       "       'washing_machine', 'water_drops', 'wind'], dtype='<U16')"
      ]
     },
     "execution_count": 9,
     "metadata": {},
     "output_type": "execute_result"
    }
   ],
   "source": [
    "np.unique(collection[\"category\"].to_list())"
   ]
  },
  {
   "cell_type": "markdown",
   "id": "59cccdf9-cc7d-41ad-8a34-20440ca924aa",
   "metadata": {},
   "source": [
    "Because this is a demo, let's only get one sound from each category"
   ]
  },
  {
   "cell_type": "code",
   "execution_count": 10,
   "id": "6d583e79-57a4-4235-99f9-3760693494db",
   "metadata": {},
   "outputs": [],
   "source": [
    "def unique_filter(category):\n",
    "    unique_set = set([])\n",
    "    out = []\n",
    "    for c in category:\n",
    "        if c not in unique_set:\n",
    "            out.append(\"valid\")\n",
    "            unique_set.add(c)\n",
    "        else:\n",
    "            out.append(None)\n",
    "    return out"
   ]
  },
  {
   "cell_type": "code",
   "execution_count": 11,
   "id": "a67bb4d2-add2-49cd-b6aa-381d6f29d6a8",
   "metadata": {},
   "outputs": [],
   "source": [
    "collection = collection.apply(unique_filter, collection[\"category\"], to=\"filter_valid\").filter({\"filter_valid\":{\"eq\":\"valid\"}}).execute()"
   ]
  },
  {
   "cell_type": "code",
   "execution_count": 12,
   "id": "b2abe269-86f3-4283-b45c-6887d07c93b1",
   "metadata": {},
   "outputs": [
    {
     "data": {
      "text/html": [
       "<div>\n",
       "    <table class=\"dataframe\">\n",
       "<thead>\n",
       "<tr><th>filename<br>Utf8  </th><th style=\"text-align: right;\">  fold<br>Int64</th><th style=\"text-align: right;\">  target<br>Int64</th><th>category<br>Utf8  </th><th>esc10<br>Boolean  </th><th style=\"text-align: right;\">  src_file<br>Int64</th><th>take<br>Utf8  </th><th>audio<br>Struct[array: List[item:Float64], path: Null, sampling_rate: Int64]  </th><th>filter_valid<br>Python  </th></tr>\n",
       "</thead>\n",
       "<tbody>\n",
       "<tr><td>1-100032-A-0.wav  </td><td style=\"text-align: right;\">              1</td><td style=\"text-align: right;\">                0</td><td>dog               </td><td>true              </td><td style=\"text-align: right;\">             100032</td><td>A             </td><td>{&#x27;array&#x27;: [0.0, 0.0, 0.0, 0.0, 0.0, 0.0, 0.0, 0.0, 0.0, 0...        </td><td>valid                   </td></tr>\n",
       "<tr><td>1-100038-A-14.wav </td><td style=\"text-align: right;\">              1</td><td style=\"text-align: right;\">               14</td><td>chirping_birds    </td><td>false             </td><td style=\"text-align: right;\">             100038</td><td>A             </td><td>{&#x27;array&#x27;: [-0.0118408203125, -0.103363037109375, -0.14141...        </td><td>valid                   </td></tr>\n",
       "<tr><td>1-100210-A-36.wav </td><td style=\"text-align: right;\">              1</td><td style=\"text-align: right;\">               36</td><td>vacuum_cleaner    </td><td>false             </td><td style=\"text-align: right;\">             100210</td><td>A             </td><td>{&#x27;array&#x27;: [-0.0069580078125, -0.01251220703125, -0.011260...        </td><td>valid                   </td></tr>\n",
       "<tr><td>1-101296-A-19.wav </td><td style=\"text-align: right;\">              1</td><td style=\"text-align: right;\">               19</td><td>thunderstorm      </td><td>false             </td><td style=\"text-align: right;\">             101296</td><td>A             </td><td>{&#x27;array&#x27;: [-0.0003662109375, -0.000701904296875, -0.00079...        </td><td>valid                   </td></tr>\n",
       "<tr><td>1-101336-A-30.wav </td><td style=\"text-align: right;\">              1</td><td style=\"text-align: right;\">               30</td><td>door_wood_knock   </td><td>false             </td><td style=\"text-align: right;\">             101336</td><td>A             </td><td>{&#x27;array&#x27;: [0.0001220703125, 0.00018310546875, 0.000122070...        </td><td>valid                   </td></tr>\n",
       "</tbody>\n",
       "</table>\n",
       "    <small>(Showing first 5 rows)</small>\n",
       "</div>"
      ],
      "text/plain": [
       "+-------------------+---------+----------+-----------------+-----------+------------+--------+-----------------------------------------------------------------------+----------------+\n",
       "| filename          |    fold |   target | category        | esc10     |   src_file | take   | audio                                                                 | filter_valid   |\n",
       "| Utf8              |   Int64 |    Int64 | Utf8            | Boolean   |      Int64 | Utf8   | Struct[array: List[item:Float64], path: Null, sampling_rate: Int64]   | Python         |\n",
       "+===================+=========+==========+=================+===========+============+========+=======================================================================+================+\n",
       "| 1-100032-A-0.wav  |       1 |        0 | dog             | true      |     100032 | A      | {'array': [0.0, 0.0,                                                  | valid          |\n",
       "|                   |         |          |                 |           |            |        | 0.0, 0.0, 0.0, 0.0,                                                   |                |\n",
       "|                   |         |          |                 |           |            |        | 0.0, 0.0, 0.0, 0...                                                   |                |\n",
       "+-------------------+---------+----------+-----------------+-----------+------------+--------+-----------------------------------------------------------------------+----------------+\n",
       "| 1-100038-A-14.wav |       1 |       14 | chirping_birds  | false     |     100038 | A      | {'array':                                                             | valid          |\n",
       "|                   |         |          |                 |           |            |        | [-0.0118408203125,                                                    |                |\n",
       "|                   |         |          |                 |           |            |        | -0.103363037109375,                                                   |                |\n",
       "|                   |         |          |                 |           |            |        | -0.14141...                                                           |                |\n",
       "+-------------------+---------+----------+-----------------+-----------+------------+--------+-----------------------------------------------------------------------+----------------+\n",
       "| 1-100210-A-36.wav |       1 |       36 | vacuum_cleaner  | false     |     100210 | A      | {'array':                                                             | valid          |\n",
       "|                   |         |          |                 |           |            |        | [-0.0069580078125,                                                    |                |\n",
       "|                   |         |          |                 |           |            |        | -0.01251220703125,                                                    |                |\n",
       "|                   |         |          |                 |           |            |        | -0.011260...                                                          |                |\n",
       "+-------------------+---------+----------+-----------------+-----------+------------+--------+-----------------------------------------------------------------------+----------------+\n",
       "| 1-101296-A-19.wav |       1 |       19 | thunderstorm    | false     |     101296 | A      | {'array':                                                             | valid          |\n",
       "|                   |         |          |                 |           |            |        | [-0.0003662109375,                                                    |                |\n",
       "|                   |         |          |                 |           |            |        | -0.000701904296875,                                                   |                |\n",
       "|                   |         |          |                 |           |            |        | -0.00079...                                                           |                |\n",
       "+-------------------+---------+----------+-----------------+-----------+------------+--------+-----------------------------------------------------------------------+----------------+\n",
       "| 1-101336-A-30.wav |       1 |       30 | door_wood_knock | false     |     101336 | A      | {'array':                                                             | valid          |\n",
       "|                   |         |          |                 |           |            |        | [0.0001220703125,                                                     |                |\n",
       "|                   |         |          |                 |           |            |        | 0.00018310546875,                                                     |                |\n",
       "|                   |         |          |                 |           |            |        | 0.000122070...                                                        |                |\n",
       "+-------------------+---------+----------+-----------------+-----------+------------+--------+-----------------------------------------------------------------------+----------------+\n",
       "(Showing first 5 rows)"
      ]
     },
     "execution_count": 12,
     "metadata": {},
     "output_type": "execute_result"
    }
   ],
   "source": [
    "collection.show(5)"
   ]
  },
  {
   "cell_type": "markdown",
   "id": "7540216d-edef-42f5-89b8-703271c500f4",
   "metadata": {
    "tags": []
   },
   "source": [
    "## Multimodal CLAP Embedding function"
   ]
  },
  {
   "cell_type": "code",
   "execution_count": 13,
   "id": "902202bf-1650-4c0e-b0ce-5862cf24e25d",
   "metadata": {},
   "outputs": [],
   "source": [
    "class ClAPEmbeddingsFunction:\n",
    "    def __init__(self):\n",
    "\n",
    "        self.model = ClapModel.from_pretrained(\"laion/clap-htsat-unfused\")\n",
    "        self.processor = AutoProcessor.from_pretrained(\"laion/clap-htsat-unfused\")\n",
    "        self.tokenizer = AutoTokenizer.from_pretrained(\"laion/clap-htsat-unfused\")\n",
    "        self.device = torch.device('cpu')\n",
    "\n",
    "        if torch.cuda.is_available():\n",
    "            self.device = torch.device('cuda')\n",
    "            self.model = self.model.to(self.device)\n",
    "\n",
    "    def __call__(self, inp, inp_type):\n",
    "        if inp_type == \"audio\":\n",
    "            inputs = self.processor(audios=inp, return_tensors=\"pt\", padding=True)\n",
    "            print(inputs.keys())\n",
    "            for k in inputs:\n",
    "                inputs[k] = inputs[k].to(self.device)\n",
    "            return self.model.get_audio_features(**inputs).detach().cpu().numpy()\n",
    "        if inp_type == \"text\":\n",
    "            inputs = self.tokenizer(inp, padding=True, return_tensors=\"pt\")\n",
    "            inputs[\"input_ids\"] = inputs[\"input_ids\"].to(self.device)\n",
    "            inputs[\"attention_mask\"] = inputs[\"attention_mask\"].to(self.device)\n",
    "            return self.model.get_text_features(**inputs).detach().cpu().numpy()"
   ]
  },
  {
   "cell_type": "markdown",
   "id": "61e0b839-3b50-4c81-a8e7-349a29d55201",
   "metadata": {},
   "source": [
    "## Now lets embed the audio arrays!"
   ]
  },
  {
   "cell_type": "markdown",
   "id": "3cd9410a-bf46-4d45-8422-fbb7d389863c",
   "metadata": {},
   "source": [
    "This may take a while because we're embedding 2000 audio files"
   ]
  },
  {
   "cell_type": "code",
   "execution_count": 14,
   "id": "6e6dd029-7b13-4d91-8fed-58b548e9367d",
   "metadata": {},
   "outputs": [
    {
     "name": "stderr",
     "output_type": "stream",
     "text": [
      "\u001b[2m\u001b[36m(single_partition_pipeline pid=34698)\u001b[0m It is strongly recommended to pass the `sampling_rate` argument to this function. Failing to do so can result in silent errors that might be hard to debug.\n"
     ]
    },
    {
     "name": "stdout",
     "output_type": "stream",
     "text": [
      "\u001b[2m\u001b[36m(single_partition_pipeline pid=34698)\u001b[0m dict_keys(['input_features', 'is_longer'])\n"
     ]
    }
   ],
   "source": [
    "collection = collection.embed(collection[\"audio.array\"], inp_type=\"audio\", embedding_fn=ClAPEmbeddingsFunction, to=\"audio_embeddings\", resource_request=ResourceRequest(num_gpus=1)).execute()"
   ]
  },
  {
   "cell_type": "code",
   "execution_count": 15,
   "id": "511cd6c4-4a8c-4178-931f-52f3b074c634",
   "metadata": {},
   "outputs": [
    {
     "data": {
      "text/html": [
       "<div>\n",
       "    <table class=\"dataframe\">\n",
       "<thead>\n",
       "<tr><th>filename<br>Utf8  </th><th style=\"text-align: right;\">  fold<br>Int64</th><th style=\"text-align: right;\">  target<br>Int64</th><th>category<br>Utf8  </th><th>esc10<br>Boolean  </th><th style=\"text-align: right;\">  src_file<br>Int64</th><th>take<br>Utf8  </th><th>audio<br>Struct[array: List[item:Float64], path: Null, sampling_rate: Int64]  </th><th>filter_valid<br>Python  </th><th>audio.array<br>Python                                       </th><th>audio_embeddings<br>Python                       </th></tr>\n",
       "</thead>\n",
       "<tbody>\n",
       "<tr><td>1-100032-A-0.wav  </td><td style=\"text-align: right;\">              1</td><td style=\"text-align: right;\">                0</td><td>dog               </td><td>true              </td><td style=\"text-align: right;\">             100032</td><td>A             </td><td>{&#x27;array&#x27;: [0.0, 0.0, 0.0, 0.0, 0.0, 0.0, 0.0, 0.0, 0.0, 0...        </td><td>valid                   </td><td>[0.0, 0.0, 0.0, 0.0, 0.0, 0.0, 0.0, 0.0, 0.0, 0.0, 0.0, 0...</td><td>&ltnp.ndarray<br>shape=(512,)<br>dtype=float32&gt</td></tr>\n",
       "<tr><td>1-100038-A-14.wav </td><td style=\"text-align: right;\">              1</td><td style=\"text-align: right;\">               14</td><td>chirping_birds    </td><td>false             </td><td style=\"text-align: right;\">             100038</td><td>A             </td><td>{&#x27;array&#x27;: [-0.0118408203125, -0.103363037109375, -0.14141...        </td><td>valid                   </td><td>[-0.0118408203125, -0.103363037109375, -0.14141845703125,...</td><td>&ltnp.ndarray<br>shape=(512,)<br>dtype=float32&gt</td></tr>\n",
       "<tr><td>1-100210-A-36.wav </td><td style=\"text-align: right;\">              1</td><td style=\"text-align: right;\">               36</td><td>vacuum_cleaner    </td><td>false             </td><td style=\"text-align: right;\">             100210</td><td>A             </td><td>{&#x27;array&#x27;: [-0.0069580078125, -0.01251220703125, -0.011260...        </td><td>valid                   </td><td>[-0.0069580078125, -0.01251220703125, -0.011260986328125,...</td><td>&ltnp.ndarray<br>shape=(512,)<br>dtype=float32&gt</td></tr>\n",
       "<tr><td>1-101296-A-19.wav </td><td style=\"text-align: right;\">              1</td><td style=\"text-align: right;\">               19</td><td>thunderstorm      </td><td>false             </td><td style=\"text-align: right;\">             101296</td><td>A             </td><td>{&#x27;array&#x27;: [-0.0003662109375, -0.000701904296875, -0.00079...        </td><td>valid                   </td><td>[-0.0003662109375, -0.000701904296875, -0.00079345703125,...</td><td>&ltnp.ndarray<br>shape=(512,)<br>dtype=float32&gt</td></tr>\n",
       "<tr><td>1-101336-A-30.wav </td><td style=\"text-align: right;\">              1</td><td style=\"text-align: right;\">               30</td><td>door_wood_knock   </td><td>false             </td><td style=\"text-align: right;\">             101336</td><td>A             </td><td>{&#x27;array&#x27;: [0.0001220703125, 0.00018310546875, 0.000122070...        </td><td>valid                   </td><td>[0.0001220703125, 0.00018310546875, 0.0001220703125, 0.00...</td><td>&ltnp.ndarray<br>shape=(512,)<br>dtype=float32&gt</td></tr>\n",
       "</tbody>\n",
       "</table>\n",
       "    <small>(Showing first 5 rows)</small>\n",
       "</div>"
      ],
      "text/plain": [
       "+-------------------+---------+----------+-----------------+-----------+------------+--------+-----------------------------------------------------------------------+----------------+----------------------+--------------------+\n",
       "| filename          |    fold |   target | category        | esc10     |   src_file | take   | audio                                                                 | filter_valid   | audio.array          | audio_embeddings   |\n",
       "| Utf8              |   Int64 |    Int64 | Utf8            | Boolean   |      Int64 | Utf8   | Struct[array: List[item:Float64], path: Null, sampling_rate: Int64]   | Python         | Python               | Python             |\n",
       "+===================+=========+==========+=================+===========+============+========+=======================================================================+================+======================+====================+\n",
       "| 1-100032-A-0.wav  |       1 |        0 | dog             | true      |     100032 | A      | {'array': [0.0, 0.0,                                                  | valid          | [0.0, 0.0, 0.0, 0.0, | [-3.89748476e-02   |\n",
       "|                   |         |          |                 |           |            |        | 0.0, 0.0, 0.0, 0.0,                                                   |                | 0.0, 0.0, 0.0, 0.0,  | 1.18532395e-02     |\n",
       "|                   |         |          |                 |           |            |        | 0.0, 0.0, 0.0, 0...                                                   |                | 0.0, 0.0, 0.0, 0...  | 7.45069906e-02     |\n",
       "|                   |         |          |                 |           |            |        |                                                                       |                |                      | -2.74426...        |\n",
       "+-------------------+---------+----------+-----------------+-----------+------------+--------+-----------------------------------------------------------------------+----------------+----------------------+--------------------+\n",
       "| 1-100038-A-14.wav |       1 |       14 | chirping_birds  | false     |     100038 | A      | {'array':                                                             | valid          | [-0.0118408203125,   | [ 6.18404336e-02   |\n",
       "|                   |         |          |                 |           |            |        | [-0.0118408203125,                                                    |                | -0.103363037109375,  | 2.44916957e-02     |\n",
       "|                   |         |          |                 |           |            |        | -0.103363037109375,                                                   |                | -0.14141845703125,.. | 5.35655133e-02     |\n",
       "|                   |         |          |                 |           |            |        | -0.14141...                                                           |                | .                    | -7.53017...        |\n",
       "+-------------------+---------+----------+-----------------+-----------+------------+--------+-----------------------------------------------------------------------+----------------+----------------------+--------------------+\n",
       "| 1-100210-A-36.wav |       1 |       36 | vacuum_cleaner  | false     |     100210 | A      | {'array':                                                             | valid          | [-0.0069580078125,   | [ 8.97200219e-03   |\n",
       "|                   |         |          |                 |           |            |        | [-0.0069580078125,                                                    |                | -0.01251220703125, - | 1.57943703e-02     |\n",
       "|                   |         |          |                 |           |            |        | -0.01251220703125,                                                    |                | 0.011260986328125,.. | 2.83111371e-02     |\n",
       "|                   |         |          |                 |           |            |        | -0.011260...                                                          |                | .                    | -5.68278...        |\n",
       "+-------------------+---------+----------+-----------------+-----------+------------+--------+-----------------------------------------------------------------------+----------------+----------------------+--------------------+\n",
       "| 1-101296-A-19.wav |       1 |       19 | thunderstorm    | false     |     101296 | A      | {'array':                                                             | valid          | [-0.0003662109375,   | [ 7.02805370e-02   |\n",
       "|                   |         |          |                 |           |            |        | [-0.0003662109375,                                                    |                | -0.000701904296875,  | -5.48441336e-02    |\n",
       "|                   |         |          |                 |           |            |        | -0.000701904296875,                                                   |                | -0.00079345703125,.. | 3.27407308e-02     |\n",
       "|                   |         |          |                 |           |            |        | -0.00079...                                                           |                | .                    | -3.50705...        |\n",
       "+-------------------+---------+----------+-----------------+-----------+------------+--------+-----------------------------------------------------------------------+----------------+----------------------+--------------------+\n",
       "| 1-101336-A-30.wav |       1 |       30 | door_wood_knock | false     |     101336 | A      | {'array':                                                             | valid          | [0.0001220703125,    | [ 3.55972573e-02   |\n",
       "|                   |         |          |                 |           |            |        | [0.0001220703125,                                                     |                | 0.00018310546875,    | 4.18310054e-02     |\n",
       "|                   |         |          |                 |           |            |        | 0.00018310546875,                                                     |                | 0.0001220703125,     | -4.27270029e-03    |\n",
       "|                   |         |          |                 |           |            |        | 0.000122070...                                                        |                | 0.00...              | 6.17777...         |\n",
       "+-------------------+---------+----------+-----------------+-----------+------------+--------+-----------------------------------------------------------------------+----------------+----------------------+--------------------+\n",
       "(Showing first 5 rows)"
      ]
     },
     "execution_count": 15,
     "metadata": {},
     "output_type": "execute_result"
    }
   ],
   "source": [
    "collection.show(5)"
   ]
  }
 ],
 "metadata": {
  "kernelspec": {
   "display_name": "Python [conda env:py39] *",
   "language": "python",
   "name": "conda-env-py39-py"
  },
  "language_info": {
   "codemirror_mode": {
    "name": "ipython",
    "version": 3
   },
   "file_extension": ".py",
   "mimetype": "text/x-python",
   "name": "python",
   "nbconvert_exporter": "python",
   "pygments_lexer": "ipython3",
   "version": "3.9.0"
  }
 },
 "nbformat": 4,
 "nbformat_minor": 5
}
