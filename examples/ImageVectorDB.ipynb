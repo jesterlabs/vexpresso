{
 "cells": [
  {
   "cell_type": "markdown",
   "id": "7adf9e8b-7e27-4467-8912-2a954639a8f4",
   "metadata": {},
   "source": [
    "# Vexpresso image vector db using CLIP"
   ]
  },
  {
   "cell_type": "markdown",
   "id": "24a14497-01c3-4963-8011-05116c5b03b1",
   "metadata": {},
   "source": [
    "## In this walkthrough, we will be using a small dataset of Pokemon images and clip to embed"
   ]
  },
  {
   "cell_type": "code",
   "execution_count": 1,
   "id": "52859850-8a79-4f1b-9fbf-3b1b3e2552f5",
   "metadata": {},
   "outputs": [
    {
     "name": "stderr",
     "output_type": "stream",
     "text": [
      "/home/shyam/miniconda3/envs/py39/lib/python3.9/site-packages/tqdm/auto.py:21: TqdmWarning: IProgress not found. Please update jupyter and ipywidgets. See https://ipywidgets.readthedocs.io/en/stable/user_install.html\n",
      "  from .autonotebook import tqdm as notebook_tqdm\n"
     ]
    }
   ],
   "source": [
    "import json\n",
    "import pandas as pd\n",
    "from langchain.embeddings import HuggingFaceHubEmbeddings, HuggingFaceEmbeddings\n",
    "import numpy as np\n",
    "import daft\n",
    "import vexpresso\n",
    "from vexpresso import transformation\n",
    "from vexpresso.retriever import NumpyRetriever"
   ]
  },
  {
   "cell_type": "markdown",
   "id": "5e0977b0-171f-487e-b857-f52fcac23118",
   "metadata": {},
   "source": [
    "### Lets look at the Data: from https://github.com/Purukitto/pokemon-data.json"
   ]
  },
  {
   "cell_type": "code",
   "execution_count": 2,
   "id": "70e4844a-3fdf-48e5-910a-72674be201bb",
   "metadata": {},
   "outputs": [],
   "source": [
    "with open(\"./data/pokedex.json\", 'r') as f:\n",
    "    stuff = json.load(f)\n",
    "\n",
    "df = pd.DataFrame(stuff)"
   ]
  },
  {
   "cell_type": "code",
   "execution_count": 3,
   "id": "1a239d1d-8ac0-43a9-9643-48ad56056eb8",
   "metadata": {},
   "outputs": [
    {
     "data": {
      "text/html": [
       "<div>\n",
       "<style scoped>\n",
       "    .dataframe tbody tr th:only-of-type {\n",
       "        vertical-align: middle;\n",
       "    }\n",
       "\n",
       "    .dataframe tbody tr th {\n",
       "        vertical-align: top;\n",
       "    }\n",
       "\n",
       "    .dataframe thead th {\n",
       "        text-align: right;\n",
       "    }\n",
       "</style>\n",
       "<table border=\"1\" class=\"dataframe\">\n",
       "  <thead>\n",
       "    <tr style=\"text-align: right;\">\n",
       "      <th></th>\n",
       "      <th>id</th>\n",
       "      <th>name</th>\n",
       "      <th>type</th>\n",
       "      <th>base</th>\n",
       "      <th>species</th>\n",
       "      <th>description</th>\n",
       "      <th>evolution</th>\n",
       "      <th>profile</th>\n",
       "      <th>image</th>\n",
       "    </tr>\n",
       "  </thead>\n",
       "  <tbody>\n",
       "    <tr>\n",
       "      <th>0</th>\n",
       "      <td>1</td>\n",
       "      <td>{'english': 'Bulbasaur', 'japanese': 'フシギダネ', ...</td>\n",
       "      <td>[Grass, Poison]</td>\n",
       "      <td>{'HP': 45, 'Attack': 49, 'Defense': 49, 'Sp. A...</td>\n",
       "      <td>Seed Pokémon</td>\n",
       "      <td>Bulbasaur can be seen napping in bright sunlig...</td>\n",
       "      <td>{'next': [['2', 'Level 16']]}</td>\n",
       "      <td>{'height': '0.7 m', 'weight': '6.9 kg', 'egg':...</td>\n",
       "      <td>{'sprite': 'https://raw.githubusercontent.com/...</td>\n",
       "    </tr>\n",
       "    <tr>\n",
       "      <th>1</th>\n",
       "      <td>2</td>\n",
       "      <td>{'english': 'Ivysaur', 'japanese': 'フシギソウ', 'c...</td>\n",
       "      <td>[Grass, Poison]</td>\n",
       "      <td>{'HP': 60, 'Attack': 62, 'Defense': 63, 'Sp. A...</td>\n",
       "      <td>Seed Pokémon</td>\n",
       "      <td>There is a bud on this Pokémon’s back. To supp...</td>\n",
       "      <td>{'prev': ['1', 'Level 16'], 'next': [['3', 'Le...</td>\n",
       "      <td>{'height': '1 m', 'weight': '13 kg', 'egg': ['...</td>\n",
       "      <td>{'sprite': 'https://raw.githubusercontent.com/...</td>\n",
       "    </tr>\n",
       "    <tr>\n",
       "      <th>2</th>\n",
       "      <td>3</td>\n",
       "      <td>{'english': 'Venusaur', 'japanese': 'フシギバナ', '...</td>\n",
       "      <td>[Grass, Poison]</td>\n",
       "      <td>{'HP': 80, 'Attack': 82, 'Defense': 83, 'Sp. A...</td>\n",
       "      <td>Seed Pokémon</td>\n",
       "      <td>There is a large flower on Venusaur’s back. Th...</td>\n",
       "      <td>{'prev': ['2', 'Level 32']}</td>\n",
       "      <td>{'height': '2 m', 'weight': '100 kg', 'egg': [...</td>\n",
       "      <td>{'sprite': 'https://raw.githubusercontent.com/...</td>\n",
       "    </tr>\n",
       "    <tr>\n",
       "      <th>3</th>\n",
       "      <td>4</td>\n",
       "      <td>{'english': 'Charmander', 'japanese': 'ヒトカゲ', ...</td>\n",
       "      <td>[Fire]</td>\n",
       "      <td>{'HP': 39, 'Attack': 52, 'Defense': 43, 'Sp. A...</td>\n",
       "      <td>Lizard Pokémon</td>\n",
       "      <td>The flame that burns at the tip of its tail is...</td>\n",
       "      <td>{'next': [['5', 'Level 16']]}</td>\n",
       "      <td>{'height': '0.6 m', 'weight': '8.5 kg', 'egg':...</td>\n",
       "      <td>{'sprite': 'https://raw.githubusercontent.com/...</td>\n",
       "    </tr>\n",
       "    <tr>\n",
       "      <th>4</th>\n",
       "      <td>5</td>\n",
       "      <td>{'english': 'Charmeleon', 'japanese': 'リザード', ...</td>\n",
       "      <td>[Fire]</td>\n",
       "      <td>{'HP': 58, 'Attack': 64, 'Defense': 58, 'Sp. A...</td>\n",
       "      <td>Flame Pokémon</td>\n",
       "      <td>Charmeleon mercilessly destroys its foes using...</td>\n",
       "      <td>{'prev': ['4', 'Level 16'], 'next': [['6', 'Le...</td>\n",
       "      <td>{'height': '1.1 m', 'weight': '19 kg', 'egg': ...</td>\n",
       "      <td>{'sprite': 'https://raw.githubusercontent.com/...</td>\n",
       "    </tr>\n",
       "    <tr>\n",
       "      <th>5</th>\n",
       "      <td>6</td>\n",
       "      <td>{'english': 'Charizard', 'japanese': 'リザードン', ...</td>\n",
       "      <td>[Fire, Flying]</td>\n",
       "      <td>{'HP': 78, 'Attack': 84, 'Defense': 78, 'Sp. A...</td>\n",
       "      <td>Flame Pokémon</td>\n",
       "      <td>Charizard flies around the sky in search of po...</td>\n",
       "      <td>{'prev': ['5', 'Level 36']}</td>\n",
       "      <td>{'height': '1.7 m', 'weight': '90.5 kg', 'egg'...</td>\n",
       "      <td>{'sprite': 'https://raw.githubusercontent.com/...</td>\n",
       "    </tr>\n",
       "    <tr>\n",
       "      <th>6</th>\n",
       "      <td>7</td>\n",
       "      <td>{'english': 'Squirtle', 'japanese': 'ゼニガメ', 'c...</td>\n",
       "      <td>[Water]</td>\n",
       "      <td>{'HP': 44, 'Attack': 48, 'Defense': 65, 'Sp. A...</td>\n",
       "      <td>Tiny Turtle Pokémon</td>\n",
       "      <td>Squirtle’s shell is not merely used for protec...</td>\n",
       "      <td>{'next': [['8', 'Level 16']]}</td>\n",
       "      <td>{'height': '0.5 m', 'weight': '9 kg', 'egg': [...</td>\n",
       "      <td>{'sprite': 'https://raw.githubusercontent.com/...</td>\n",
       "    </tr>\n",
       "    <tr>\n",
       "      <th>7</th>\n",
       "      <td>8</td>\n",
       "      <td>{'english': 'Wartortle', 'japanese': 'カメール', '...</td>\n",
       "      <td>[Water]</td>\n",
       "      <td>{'HP': 59, 'Attack': 63, 'Defense': 80, 'Sp. A...</td>\n",
       "      <td>Turtle Pokémon</td>\n",
       "      <td>Its tail is large and covered with a rich, thi...</td>\n",
       "      <td>{'prev': ['7', 'Level 16'], 'next': [['9', 'Le...</td>\n",
       "      <td>{'height': '1 m', 'weight': '22.5 kg', 'egg': ...</td>\n",
       "      <td>{'sprite': 'https://raw.githubusercontent.com/...</td>\n",
       "    </tr>\n",
       "    <tr>\n",
       "      <th>8</th>\n",
       "      <td>9</td>\n",
       "      <td>{'english': 'Blastoise', 'japanese': 'カメックス', ...</td>\n",
       "      <td>[Water]</td>\n",
       "      <td>{'HP': 79, 'Attack': 83, 'Defense': 100, 'Sp. ...</td>\n",
       "      <td>Shellfish Pokémon</td>\n",
       "      <td>Blastoise has water spouts that protrude from ...</td>\n",
       "      <td>{'prev': ['8', 'Level 36']}</td>\n",
       "      <td>{'height': '1.6 m', 'weight': '85.5 kg', 'egg'...</td>\n",
       "      <td>{'sprite': 'https://raw.githubusercontent.com/...</td>\n",
       "    </tr>\n",
       "    <tr>\n",
       "      <th>9</th>\n",
       "      <td>10</td>\n",
       "      <td>{'english': 'Caterpie', 'japanese': 'キャタピー', '...</td>\n",
       "      <td>[Bug]</td>\n",
       "      <td>{'HP': 45, 'Attack': 30, 'Defense': 35, 'Sp. A...</td>\n",
       "      <td>Worm Pokémon</td>\n",
       "      <td>Its body is soft and weak. In nature, its perp...</td>\n",
       "      <td>{'next': [['11', 'Level 7']]}</td>\n",
       "      <td>{'height': '0.3 m', 'weight': '2.9 kg', 'egg':...</td>\n",
       "      <td>{'sprite': 'https://raw.githubusercontent.com/...</td>\n",
       "    </tr>\n",
       "  </tbody>\n",
       "</table>\n",
       "</div>"
      ],
      "text/plain": [
       "   id                                               name             type  \\\n",
       "0   1  {'english': 'Bulbasaur', 'japanese': 'フシギダネ', ...  [Grass, Poison]   \n",
       "1   2  {'english': 'Ivysaur', 'japanese': 'フシギソウ', 'c...  [Grass, Poison]   \n",
       "2   3  {'english': 'Venusaur', 'japanese': 'フシギバナ', '...  [Grass, Poison]   \n",
       "3   4  {'english': 'Charmander', 'japanese': 'ヒトカゲ', ...           [Fire]   \n",
       "4   5  {'english': 'Charmeleon', 'japanese': 'リザード', ...           [Fire]   \n",
       "5   6  {'english': 'Charizard', 'japanese': 'リザードン', ...   [Fire, Flying]   \n",
       "6   7  {'english': 'Squirtle', 'japanese': 'ゼニガメ', 'c...          [Water]   \n",
       "7   8  {'english': 'Wartortle', 'japanese': 'カメール', '...          [Water]   \n",
       "8   9  {'english': 'Blastoise', 'japanese': 'カメックス', ...          [Water]   \n",
       "9  10  {'english': 'Caterpie', 'japanese': 'キャタピー', '...            [Bug]   \n",
       "\n",
       "                                                base              species  \\\n",
       "0  {'HP': 45, 'Attack': 49, 'Defense': 49, 'Sp. A...         Seed Pokémon   \n",
       "1  {'HP': 60, 'Attack': 62, 'Defense': 63, 'Sp. A...         Seed Pokémon   \n",
       "2  {'HP': 80, 'Attack': 82, 'Defense': 83, 'Sp. A...         Seed Pokémon   \n",
       "3  {'HP': 39, 'Attack': 52, 'Defense': 43, 'Sp. A...       Lizard Pokémon   \n",
       "4  {'HP': 58, 'Attack': 64, 'Defense': 58, 'Sp. A...        Flame Pokémon   \n",
       "5  {'HP': 78, 'Attack': 84, 'Defense': 78, 'Sp. A...        Flame Pokémon   \n",
       "6  {'HP': 44, 'Attack': 48, 'Defense': 65, 'Sp. A...  Tiny Turtle Pokémon   \n",
       "7  {'HP': 59, 'Attack': 63, 'Defense': 80, 'Sp. A...       Turtle Pokémon   \n",
       "8  {'HP': 79, 'Attack': 83, 'Defense': 100, 'Sp. ...    Shellfish Pokémon   \n",
       "9  {'HP': 45, 'Attack': 30, 'Defense': 35, 'Sp. A...         Worm Pokémon   \n",
       "\n",
       "                                         description  \\\n",
       "0  Bulbasaur can be seen napping in bright sunlig...   \n",
       "1  There is a bud on this Pokémon’s back. To supp...   \n",
       "2  There is a large flower on Venusaur’s back. Th...   \n",
       "3  The flame that burns at the tip of its tail is...   \n",
       "4  Charmeleon mercilessly destroys its foes using...   \n",
       "5  Charizard flies around the sky in search of po...   \n",
       "6  Squirtle’s shell is not merely used for protec...   \n",
       "7  Its tail is large and covered with a rich, thi...   \n",
       "8  Blastoise has water spouts that protrude from ...   \n",
       "9  Its body is soft and weak. In nature, its perp...   \n",
       "\n",
       "                                           evolution  \\\n",
       "0                      {'next': [['2', 'Level 16']]}   \n",
       "1  {'prev': ['1', 'Level 16'], 'next': [['3', 'Le...   \n",
       "2                        {'prev': ['2', 'Level 32']}   \n",
       "3                      {'next': [['5', 'Level 16']]}   \n",
       "4  {'prev': ['4', 'Level 16'], 'next': [['6', 'Le...   \n",
       "5                        {'prev': ['5', 'Level 36']}   \n",
       "6                      {'next': [['8', 'Level 16']]}   \n",
       "7  {'prev': ['7', 'Level 16'], 'next': [['9', 'Le...   \n",
       "8                        {'prev': ['8', 'Level 36']}   \n",
       "9                      {'next': [['11', 'Level 7']]}   \n",
       "\n",
       "                                             profile  \\\n",
       "0  {'height': '0.7 m', 'weight': '6.9 kg', 'egg':...   \n",
       "1  {'height': '1 m', 'weight': '13 kg', 'egg': ['...   \n",
       "2  {'height': '2 m', 'weight': '100 kg', 'egg': [...   \n",
       "3  {'height': '0.6 m', 'weight': '8.5 kg', 'egg':...   \n",
       "4  {'height': '1.1 m', 'weight': '19 kg', 'egg': ...   \n",
       "5  {'height': '1.7 m', 'weight': '90.5 kg', 'egg'...   \n",
       "6  {'height': '0.5 m', 'weight': '9 kg', 'egg': [...   \n",
       "7  {'height': '1 m', 'weight': '22.5 kg', 'egg': ...   \n",
       "8  {'height': '1.6 m', 'weight': '85.5 kg', 'egg'...   \n",
       "9  {'height': '0.3 m', 'weight': '2.9 kg', 'egg':...   \n",
       "\n",
       "                                               image  \n",
       "0  {'sprite': 'https://raw.githubusercontent.com/...  \n",
       "1  {'sprite': 'https://raw.githubusercontent.com/...  \n",
       "2  {'sprite': 'https://raw.githubusercontent.com/...  \n",
       "3  {'sprite': 'https://raw.githubusercontent.com/...  \n",
       "4  {'sprite': 'https://raw.githubusercontent.com/...  \n",
       "5  {'sprite': 'https://raw.githubusercontent.com/...  \n",
       "6  {'sprite': 'https://raw.githubusercontent.com/...  \n",
       "7  {'sprite': 'https://raw.githubusercontent.com/...  \n",
       "8  {'sprite': 'https://raw.githubusercontent.com/...  \n",
       "9  {'sprite': 'https://raw.githubusercontent.com/...  "
      ]
     },
     "execution_count": 3,
     "metadata": {},
     "output_type": "execute_result"
    }
   ],
   "source": [
    "df.head(10)"
   ]
  },
  {
   "cell_type": "markdown",
   "id": "17fcf8dc-0bb1-4855-a6b0-f8defd0f34bc",
   "metadata": {},
   "source": [
    "#### Because this is a simple example, lets only use the first 151 Pokemon"
   ]
  },
  {
   "cell_type": "code",
   "execution_count": 4,
   "id": "831b9858-9baf-49d5-9231-10f20db1ae80",
   "metadata": {},
   "outputs": [],
   "source": [
    "df = df.iloc[:151]"
   ]
  },
  {
   "cell_type": "code",
   "execution_count": 5,
   "id": "3f128d4f-9832-44fe-8e74-adfbcc8a9901",
   "metadata": {},
   "outputs": [
    {
     "data": {
      "text/plain": [
       "{'sprite': 'https://raw.githubusercontent.com/Purukitto/pokemon-data.json/master/images/pokedex/sprites/001.png',\n",
       " 'thumbnail': 'https://raw.githubusercontent.com/Purukitto/pokemon-data.json/master/images/pokedex/thumbnails/001.png',\n",
       " 'hires': 'https://raw.githubusercontent.com/Purukitto/pokemon-data.json/master/images/pokedex/hires/001.png'}"
      ]
     },
     "execution_count": 5,
     "metadata": {},
     "output_type": "execute_result"
    }
   ],
   "source": [
    "df.iloc[0][\"image\"]"
   ]
  },
  {
   "cell_type": "code",
   "execution_count": 6,
   "id": "a2bad545-6ff2-446f-8d23-cd5603fefc63",
   "metadata": {},
   "outputs": [
    {
     "data": {
      "image/png": "[encoded data removed]",
      "text/plain": [
       "<PIL.PngImagePlugin.PngImageFile image mode=RGBA size=100x100>"
      ]
     },
     "execution_count": 6,
     "metadata": {},
     "output_type": "execute_result"
    }
   ],
   "source": [
    "from PIL import Image\n",
    "import requests\n",
    "\n",
    "im = Image.open(requests.get(\"https://raw.githubusercontent.com/Purukitto/pokemon-data.json/master/images/pokedex/thumbnails/001.png\", stream=True).raw)\n",
    "im"
   ]
  },
  {
   "cell_type": "markdown",
   "id": "319f20ed-20d7-46f8-847e-c912e71803e4",
   "metadata": {},
   "source": [
    "### Super simple download function!"
   ]
  },
  {
   "cell_type": "code",
   "execution_count": 7,
   "id": "b90cedb0-85d6-4d89-b943-5d9305b062f0",
   "metadata": {},
   "outputs": [],
   "source": [
    "@transformation\n",
    "def download_images(images, image_type):\n",
    "    return [Image.open(requests.get(im[\"thumbnail\"], stream=True).raw).convert(image_type) for im in images]"
   ]
  },
  {
   "cell_type": "markdown",
   "id": "95779adb-d192-46a4-95ed-5d9e98c02eb9",
   "metadata": {},
   "source": [
    "### Create the collection, and use a custom transformation function to download images."
   ]
  },
  {
   "cell_type": "code",
   "execution_count": 8,
   "id": "7bca7aa8-7742-40b2-9359-d1eb5e25257d",
   "metadata": {},
   "outputs": [
    {
     "name": "stderr",
     "output_type": "stream",
     "text": [
      "\u001b[32m2023-06-05 18:41:32.886\u001b[0m | \u001b[1mINFO    \u001b[0m | \u001b[36mdaft.context\u001b[0m:\u001b[36mrunner\u001b[0m:\u001b[36m88\u001b[0m - \u001b[1mUsing PyRunner\u001b[0m\n"
     ]
    }
   ],
   "source": [
    "collection = vexpresso.create(\n",
    "    data=df,\n",
    ")"
   ]
  },
  {
   "cell_type": "markdown",
   "id": "375811e6-4424-402c-b435-def48026593b",
   "metadata": {},
   "source": [
    "\n",
    "#### For the call below, we want to pass in the image dictionaries in the column `image`, but we also want to specify `image_type` to be RGB"
   ]
  },
  {
   "cell_type": "code",
   "execution_count": 9,
   "id": "5b5762a5-ad0d-4f2b-ba51-437258f731fa",
   "metadata": {},
   "outputs": [],
   "source": [
    "collection = collection.apply(download_images, collection[\"image\"], image_type=\"RGB\", to=\"downloaded_image\").execute()"
   ]
  },
  {
   "cell_type": "code",
   "execution_count": 10,
   "id": "11def9fa-a8f9-434d-9b6a-b6ba2dfb6fd7",
   "metadata": {},
   "outputs": [
    {
     "data": {
      "text/html": [
       "<div>\n",
       "    <table class=\"dataframe\">\n",
       "<thead>\n",
       "<tr><th style=\"text-align: right;\">  id<br>Int64</th><th>name<br>Struct[chinese: Utf8, english: Utf8, french: Utf8, japanese: Utf8]  </th><th>type<br>List[Utf8]  </th><th>base<br>Struct[Attack: Int64, Defense: Int64, HP: Int64, Sp. Attack: Int64, Sp. Defense: Int64, Speed: Int64]  </th><th>species<br>Utf8  </th><th>description<br>Utf8                                         </th><th>evolution<br>Struct[next: List[List[Utf8]], prev: List[Utf8]]  </th><th>profile<br>Struct[ability: List[List[Utf8]], egg: List[Utf8], gender: Utf8, height: Utf8, weight: Utf8]  </th><th>image<br>Struct[hires: Utf8, sprite: Utf8, thumbnail: Utf8]  </th><th style=\"text-align: right;\">  vexpresso_index<br>Int64</th><th>downloaded_image<br>Python                                                                                                                                                                                                                                                                                                                                                                                                                                                                                                                                                                                                                                                                                                                                                                                                                                                                                                                                                                                                                                                                                                                                                                                                                                                                                                                                                                                                                                                                                                                                                                                                                                                                                                                                                                                                                                                                                                                                                                                                                                                                                                                                                                                                                                                                                                                                                                                                                                                                                                                                                                                                                                                                                                                                                                                                                                                                                                                                                                                                                                                                                                                                                                                                                                                                                                                                                                                                                                                                                                                                                                                                                                                                                                                                                                                                                                                                                                                                                                                                                                                                                                                                                                                                                                                                                                                                                                                                                                                                                                                                                                                                                                                                                                                                                                                                                                                                                                                                                                                                                                                                                                                                                                                                                                                                                                                                                                                                                         </th></tr>\n",
       "</thead>\n",
       "<tbody>\n",
       "<tr><td style=\"text-align: right;\">            1</td><td>{'chinese': '妙蛙种子', 'english': 'Bulbasaur', 'french': 'Bu...            </td><td>['Grass', 'Poison'] </td><td>{'Attack': 49, 'Defense': 49, 'HP': 45, 'Sp. Attack': 65,...                                                   </td><td>Seed Pokémon     </td><td>Bulbasaur can be seen napping in bright sunlight. There i...</td><td>{'next': [['2', 'Level 16']], 'prev': None}                    </td><td>{'ability': [['Overgrow', 'false'], ['Chlorophyll', 'true...                                             </td><td>{'hires': 'https://raw.githubusercontent.com/Purukitto/po... </td><td style=\"text-align: right;\">                         0</td><td><img style=\"max-height:128px;width:auto\" src=\"data:image/png;base64, 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\" alt=\"<PIL.Image.Image image mode=RGB size=100x100 at 0x7F0B6CF8F8B0>\" />                                                                                                                                                                                                                                                                                                                            </td></tr>\n",
       "<tr><td style=\"text-align: right;\">            2</td><td>{'chinese': '妙蛙草', 'english': 'Ivysaur', 'french': 'Herbi...             </td><td>['Grass', 'Poison'] </td><td>{'Attack': 62, 'Defense': 63, 'HP': 60, 'Sp. Attack': 80,...                                                   </td><td>Seed Pokémon     </td><td>There is a bud on this Pokémon’s back. To support its wei...</td><td>{'next': [['3', 'Level 32']], 'prev': ['1', 'Level 16']}       </td><td>{'ability': [['Overgrow', 'false'], ['Chlorophyll', 'true...                                             </td><td>{'hires': 'https://raw.githubusercontent.com/Purukitto/po... </td><td style=\"text-align: right;\">                         1</td><td><img style=\"max-height:128px;width:auto\" src=\"data:image/png;base64, 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\" alt=\"<PIL.Image.Image image mode=RGB size=100x100 at 0x7F0B6CF8FE80>\" /></td></tr>\n",
       "<tr><td style=\"text-align: right;\">            3</td><td>{'chinese': '妙蛙花', 'english': 'Venusaur', 'french': 'Flor...             </td><td>['Grass', 'Poison'] </td><td>{'Attack': 82, 'Defense': 83, 'HP': 80, 'Sp. Attack': 100...                                                   </td><td>Seed Pokémon     </td><td>There is a large flower on Venusaur’s back. The flower is...</td><td>{'next': None, 'prev': ['2', 'Level 32']}                      </td><td>{'ability': [['Overgrow', 'false'], ['Chlorophyll', 'true...                                             </td><td>{'hires': 'https://raw.githubusercontent.com/Purukitto/po... </td><td style=\"text-align: right;\">                         2</td><td><img style=\"max-height:128px;width:auto\" src=\"data:image/png;base64, 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\" alt=\"<PIL.Image.Image image mode=RGB size=100x100 at 0x7F0B6CFEE2B0>\" />                                                                                                                                                                                                                                                                                                                                                                                                                                            </td></tr>\n",
       "<tr><td style=\"text-align: right;\">            4</td><td>{'chinese': '小火龙', 'english': 'Charmander', 'french': 'Sa...             </td><td>['Fire']            </td><td>{'Attack': 52, 'Defense': 43, 'HP': 39, 'Sp. Attack': 60,...                                                   </td><td>Lizard Pokémon   </td><td>The flame that burns at the tip of its tail is an indicat...</td><td>{'next': [['5', 'Level 16']], 'prev': None}                    </td><td>{'ability': [['Blaze', 'false'], ['Solar Power', 'true']]...                                             </td><td>{'hires': 'https://raw.githubusercontent.com/Purukitto/po... </td><td style=\"text-align: right;\">                         3</td><td><img style=\"max-height:128px;width:auto\" src=\"data:image/png;base64, /9j/4AAQSkZJRgABAQAAAQABAAD/2wBDAAgGBgcGBQgHBwcJCQgKDBQNDAsLDBkSEw8UHRofHh0aHBwgJC4nICIsIxwcKDcpLDAxNDQ0Hyc5PTgyPC4zNDL/2wBDAQkJCQwLDBgNDRgyIRwhMjIyMjIyMjIyMjIyMjIyMjIyMjIyMjIyMjIyMjIyMjIyMjIyMjIyMjIyMjIyMjIyMjL/wAARCABkAGQDASIAAhEBAxEB/8QAHwAAAQUBAQEBAQEAAAAAAAAAAAECAwQFBgcICQoL/8QAtRAAAgEDAwIEAwUFBAQAAAF9AQIDAAQRBRIhMUEGE1FhByJxFDKBkaEII0KxwRVS0fAkM2JyggkKFhcYGRolJicoKSo0NTY3ODk6Q0RFRkdISUpTVFVWV1hZWmNkZWZnaGlqc3R1dnd4eXqDhIWGh4iJipKTlJWWl5iZmqKjpKWmp6ipqrKztLW2t7i5usLDxMXGx8jJytLT1NXW19jZ2uHi4+Tl5ufo6erx8vP09fb3+Pn6/8QAHwEAAwEBAQEBAQEBAQAAAAAAAAECAwQFBgcICQoL/8QAtREAAgECBAQDBAcFBAQAAQJ3AAECAxEEBSExBhJBUQdhcRMiMoEIFEKRobHBCSMzUvAVYnLRChYkNOEl8RcYGRomJygpKjU2Nzg5OkNERUZHSElKU1RVVldYWVpjZGVmZ2hpanN0dXZ3eHl6goOEhYaHiImKkpOUlZaXmJmaoqOkpaanqKmqsrO0tba3uLm6wsPExcbHyMnK0tPU1dbX2Nna4uPk5ebn6Onq8vP09fb3+Pn6/9oADAMBAAIRAxEAPwD5/pQCzBVBJJwAO9JWnoenQalqEEFxcxQxSTxxOWbDBTkllHc4XHQ8sB3pN2VxpXdjvfh18OpPEEX2y63WsMF0c3UUoZpQmMLERwo3AkyAtnAC7cMW9g0/wtoWhwmDT9MtYgAFL+WGdserHk1bsmhsrKO1sokigSNREqjACY4wPwqQNlea8urWcz16NBQMvVPD2k61aPbX2n28qEHDGMBlOMZBHINeB+PPCU/h/VmnWZ57W5dmEsrZcP1IYnqe4PU/WvomWfyV3bfkALMfYCuL8ZWct/Pqfh67jSHUVtUvbVkkOGHO1gcZBDKQavDSnF36EYmMJK3U+e6KknEYlPlMpUgN8oICkgErzzwcj8Kjr0jygooooAKKKKACiiigArY8Ly+R4htJ1tzPLDIs8SA4O6Mh/wBQpHPrWPXpPw00KOTU4LnUYoFtmtHnil5EmXkMQ57YMT4PbJ9eJlNQXMyowc/djue06Zqtnrtgup2Jc2lw7vFvXaQu48EVdABHtVLTtNg0jT47OB28lCSDIR3Of61bZ1jUlmAA6k9q8eo05Nx2ue3TTUEpb2KWrxl9Gv403bzbybSOoO04xXm0Wtat4k8d2Wr6lbR288VtFaZjJCSqA5JGfUnOO2Bya9XdVZGVsbSMH6Vyn2XTLO7SK2RTIq7ULOXcKPr0FdOGqxhGSkrtnJi6NSc4Si7Jb/ev+CeFeLoGtdeurV51fyJpEjjCYKIW8wc98mRvfj0xWDXW/EE2p8WamUbM2+LIwf7h3f8AstclXfD4UcFRWkwoooqiAorV03QL7VLcz26FlCykBQSzeWELADucSLWdPBJbTGKVGVgAfmUrkEZBwecEEEexpKSbsinCSipNaEdFFFMkK6Twp4lk0K+iZYnmZmWIhrgJH5RzlSG4HzEMGyAPmzndlebqc2dyokLwSIIyFcuu0KSCQCT0JCkgdTjilJJqzKi2ndHv2l+IjqVqk2jXKMsa4msZE/eRnP8AEucgjkcYB961YdT1W9fy7aOEMPvEITt+uTxXjPhLwX4j1YtcWEEltERiK/aQwqOVJYcbnBUHA6c167Y6Rf6XbiK81ObULnIBmVPLOeyjbyfxJrkfsoytJXPQpyqON9i3d6dftbvNfaidijJXJC/TAxn6c1nSXB03Spr28fKW0JIXA+SNeQvA5/Hn8q07i1vLcLLeRNtONshbeFPvydp/zmopdFh1y0ksrxHNrJgSBXKEgHOMilVqq3KlZDhFy1vdnztrF3PdXzm5QpcBmacEtzIWJbKt90jhcf7A+tZ9e2+IPhG08bPpV3BKwRlSO9TawLPuLeamC7DJAMm7g47DHmereENS0eQpexG0kMixok+Qr7mYArKB5eAAMliv3umATW9OtCS0Zx1aNSLvJHPVe0jTjqmpQW28RRvJGsspGfLVnVN2BycFhwMmo7qxktILWZm3JcR+YpCOoHJBXLKAT0Py5HI5zkDR8MTNFqRRMb5jCignlj58TYHqflrST926M4RvJJnqvhXwi2jS2WpPHHEbrSYtqrvBjYn94CGY8k4JxgZJwB0rz/x7atb38pWMpAb6ZE/CKAkfgGX86941C/eXD3GCYscAYHXpXC/FbwfYW8q6vJJFbrezxwl3IB5HDA9flGcjoVHqAR5GHxDde8+p7mKouOFVPr/X/APEaKKK9k8A0tAihn16ygn+1eXNIIv9EiEkuW4GxT1bJGMc+nOK+gdA8M+E/stvqWl2FlcBxvS5CZycYJAP3enTsc183xP5UySbFfawba4yDjsR6V0dn4617TNGttN06++ywQbvkjhXnJzuLHJJJJ44A4/DCvSlP4WdOHrRh8SufTG4beSBirvhuBZ/tF+w3K0zpFkdh8pP6Y/A+tfLsXj7xG7kXGtXCJsYgxwRsd207R24LYBOeAScHGD9daXara6PZQoMBIEGM5/hGea5o4d03dm1TFKouWJI9rbOrI8KFWGCCMgiubvbU6bP5P8AyxYFoWPoOqn3H6j8a6Zqp6pam8050Cgyx/vIs/3h2/EZH40TjzKxFKo4Sv0MAk8HtVW9uYYLVzMI2B6JJjDe2D1rG1rQry50yU6FetZ3JTfAQ3y56hSDkYPTpXhN/wCLfEpMttf6ndBuVKRyLGysGwQ20Z6g8cflWVKh7TVM7K1f2e6PQfiA+jTiGS+u0W6ysBZblt9rC5wzpACN3BORxkDGag+EcOhX/i1pBm3kEbXVtYs4KJKZHUbTks+yPbjfzlmOOcnydryffclJHjW5BEqI7YddwbacnLDcqnnPIB6ils7uWzn8yGTypONsoXLIQQwKnqpyByOcZ9a7J0Oai6ae5wKterzM+u59DguLqGEKRDEmZGJ++STgfXqa4r4o3Gny20d1cvbmW1uIra1juGZYmLMDJvxztKjDY52hgCMmtLw/8S9M1Dw79sljuoZoLc3F15kLEBASpdWHDDcpHHofSvIPH/iW21SazSzmu40SGSQs8bIJvMGAQD1GCRnpgnHpXlYTD1o1bNWt1/ruelOop025S22177s4GXy/Ofyd4i3HZvxu29s470UyivePFbuwooqSCNXk+c4jUFmPPQdsgHBJwAcYyRmgRf07w/qeqwiWytXlDy+TGFHMr8EhR32ggseigrkjcuftm2ZZLOAoflMakY9MCvOvCHhj/hHtAtmujEb94lD7FwsSZJESeigsSf7zFmOSxNdHpWqNE8lkJAfL5QH+6f8ADp+Vcjq80uU6/YcsOY6CQEDmmowH3jj0qlLfTMMcD8Ko3csiQySlywRSxH4UrEFEhEmniQ5EUrKMemcj9CK8g+L3hx4imrWwka3nkxNH5mEinO1fMwRgBlUK3IyVQnOK9mMSQWqpndIeS3cnuay9WsrbUNJu7S6QPDPEyOp965Iy9nUuj0ZQ9pS5WfJtSQwtO5RDGCEZ/nkVBhVLHliBnA4HUnAGSQK9DHw3aawihFzZpIrEvcCOTzG5PykF9uPoAeB756HRfBumaKy3Eha7uFYsryABEY4yVQcDoPevSdaK2PNWHl1KdtZw+Fvhdrc91B5d3qMKxhMDcit8qKcAZIHJOOue9eTTLGk8iwyGSIMQjsu0sueCRk4+ma9O+JetSxwWthCkyGGctNOpKhZQoKxq3cqGVmxnBZBkGvLqKUWk2+pNaSbSWyCiiitTIK0tDmS21BbiW6WGGJo3ljJbM6iVCUAAOT/Fg4HyHvgHNr034deDNH1+7mS71GEm33gxRTEPMOjuxGCkIBwOhctyQMAFrgnZnsFzq8lyMxHAPIb29qz1Zg4kVmWRTlWHUGq2rTaX4ZtFnnvrK3snOLaJHGdmPlKoOcEdhn8iK43W/iHp8NpJbw2N5I08JaN5V8lGBXIIJ5PBB465HrXnexmnax6ntoON76HozeOdLsGSLVbu3il6BkkGW/4BnOfpmr9t4p8N6xDJDaa9p8jSxn5ROoYAjGSDz3r5Uv783zQ4t4IViijjCxRImdqBSxIAJJIyScnJNSPreozX8t9dXH227l2+ZNeotwzYGBkyBuwA+grrVLTVnBKor6I+m4tYWVSCFdkYoxjcMu4deaiur1rhdoG1fSvE/BHip7bxAouGijjvphHNHEgjjLN9x1jRQq4IwcYBDDjgmvYWYKwDEA+9cU6KhI9GnWc43ZnGPyVuJpZIYLdJGJlnlCKO5/nXIeIPH9hY2ssWiTC6u1YRm8wAkOc8xoxy5G0/NjaMj1GYviB4a1C8nn1u0j8y1t0VLkPES0AKkeYFPVCCMuASCox0ry+7nuLq8mnu53nuHctJLJJvZ27ktk5+tdtOmrJs4KtV3cU9Bs8pnneU7sucksxYk+pJ6k9TUdFFbGAUUUUAFalrr97b2aWjCK4hiUiFJ13CP51fpnDqGBIR9yAu525YmiigCCfVbqeRZN+yQEHzFyZCdgUkucscgZxnAJOAOlUqKKctwCiiikBJDM0Em9cHsQehHp/n69a9D8JeNNZtdWi0Gadb3T9QjiSVLoFmXKbsqwIIILcHPGBRRSS940bfs16v9DG8Q+Odb1OM6ZfzR3CWszok5TZKyZIKMyYypHUY5x61yNFFXIyQUUUVIwooooA//9k=\" alt=\"<PIL.Image.Image image mode=RGB size=100x100 at 0x7F0B6CFEE700>\" />                                                                                                                                                                </td></tr>\n",
       "<tr><td style=\"text-align: right;\">            5</td><td>{'chinese': '火恐龙', 'english': 'Charmeleon', 'french': 'Re...             </td><td>['Fire']            </td><td>{'Attack': 64, 'Defense': 58, 'HP': 58, 'Sp. Attack': 80,...                                                   </td><td>Flame Pokémon    </td><td>Charmeleon mercilessly destroys its foes using its sharp ...</td><td>{'next': [['6', 'Level 36']], 'prev': ['4', 'Level 16']}       </td><td>{'ability': [['Blaze', 'false'], ['Solar Power', 'true']]...                                             </td><td>{'hires': 'https://raw.githubusercontent.com/Purukitto/po... </td><td style=\"text-align: right;\">                         4</td><td><img style=\"max-height:128px;width:auto\" src=\"data:image/png;base64, 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\" alt=\"<PIL.Image.Image image mode=RGB size=100x100 at 0x7F0B6CFEE640>\" />                                                                                                                                                                                    </td></tr>\n",
       "</tbody>\n",
       "</table>\n",
       "    <small>(Showing first 5 rows)</small>\n",
       "</div>"
      ],
      "text/plain": [
       "+---------+----------------------------------------------------------------------+---------------------+---------------------------------------------------------------------------------------------------------+----------------+----------------------+----------------------------------------------------+------------------------------------------------------------------------------------------------+------------------------------------------------------+-------------------+--------------------+\n",
       "|      id | name                                                                 | type                | base                                                                                                    | species        | description          | evolution                                          | profile                                                                                        | image                                                |   vexpresso_index | downloaded_image   |\n",
       "|   Int64 | Struct[chinese: Utf8, english: Utf8, french: Utf8, japanese: Utf8]   | List[Utf8]          | Struct[Attack: Int64, Defense: Int64, HP: Int64, Sp. Attack: Int64, Sp. Defense: Int64, Speed: Int64]   | Utf8           | Utf8                 | Struct[next: List[List[Utf8]], prev: List[Utf8]]   | Struct[ability: List[List[Utf8]], egg: List[Utf8], gender: Utf8, height: Utf8, weight: Utf8]   | Struct[hires: Utf8, sprite: Utf8, thumbnail: Utf8]   |             Int64 | Python             |\n",
       "+=========+======================================================================+=====================+=========================================================================================================+================+======================+====================================================+================================================================================================+======================================================+===================+====================+\n",
       "|       1 | {'chinese':                                                          | ['Grass', 'Poison'] | {'Attack': 49,                                                                                          | Seed Pokémon   | Bulbasaur can be     | {'next': [['2',                                    | {'ability':                                                                                    | {'hires': 'https://r                                 |                 0 | <PIL.Image.Image   |\n",
       "|         | '妙蛙种子',                                                          |                     | 'Defense': 49, 'HP':                                                                                    |                | seen napping in      | 'Level 16']],                                      | [['Overgrow',                                                                                  | aw.githubusercontent                                 |                   | image mode=RGB     |\n",
       "|         | 'english':                                                           |                     | 45, 'Sp. Attack':                                                                                       |                | bright sunlight.     | 'prev': None}                                      | 'false'],                                                                                      | .com/Purukitto/po...                                 |                   | size=100x100 at    |\n",
       "|         | 'Bulbasaur',                                                         |                     | 65,...                                                                                                  |                | There i...           |                                                    | ['Chlorophyll',                                                                                |                                                      |                   | 0x7F0B6CF...       |\n",
       "|         | 'french': 'Bu...                                                     |                     |                                                                                                         |                |                      |                                                    | 'true...                                                                                       |                                                      |                   |                    |\n",
       "+---------+----------------------------------------------------------------------+---------------------+---------------------------------------------------------------------------------------------------------+----------------+----------------------+----------------------------------------------------+------------------------------------------------------------------------------------------------+------------------------------------------------------+-------------------+--------------------+\n",
       "|       2 | {'chinese':                                                          | ['Grass', 'Poison'] | {'Attack': 62,                                                                                          | Seed Pokémon   | There is a bud on    | {'next': [['3',                                    | {'ability':                                                                                    | {'hires': 'https://r                                 |                 1 | <PIL.Image.Image   |\n",
       "|         | '妙蛙草', 'english':                                                 |                     | 'Defense': 63, 'HP':                                                                                    |                | this Pokémon’s back. | 'Level 32']],                                      | [['Overgrow',                                                                                  | aw.githubusercontent                                 |                   | image mode=RGB     |\n",
       "|         | 'Ivysaur', 'french':                                                 |                     | 60, 'Sp. Attack':                                                                                       |                | To support its       | 'prev': ['1', 'Level                               | 'false'],                                                                                      | .com/Purukitto/po...                                 |                   | size=100x100 at    |\n",
       "|         | 'Herbi...                                                            |                     | 80,...                                                                                                  |                | wei...               | 16']}                                              | ['Chlorophyll',                                                                                |                                                      |                   | 0x7F0B6CF...       |\n",
       "|         |                                                                      |                     |                                                                                                         |                |                      |                                                    | 'true...                                                                                       |                                                      |                   |                    |\n",
       "+---------+----------------------------------------------------------------------+---------------------+---------------------------------------------------------------------------------------------------------+----------------+----------------------+----------------------------------------------------+------------------------------------------------------------------------------------------------+------------------------------------------------------+-------------------+--------------------+\n",
       "|       3 | {'chinese':                                                          | ['Grass', 'Poison'] | {'Attack': 82,                                                                                          | Seed Pokémon   | There is a large     | {'next': None,                                     | {'ability':                                                                                    | {'hires': 'https://r                                 |                 2 | <PIL.Image.Image   |\n",
       "|         | '妙蛙花', 'english':                                                 |                     | 'Defense': 83, 'HP':                                                                                    |                | flower on Venusaur’s | 'prev': ['2', 'Level                               | [['Overgrow',                                                                                  | aw.githubusercontent                                 |                   | image mode=RGB     |\n",
       "|         | 'Venusaur',                                                          |                     | 80, 'Sp. Attack':                                                                                       |                | back. The flower     | 32']}                                              | 'false'],                                                                                      | .com/Purukitto/po...                                 |                   | size=100x100 at    |\n",
       "|         | 'french': 'Flor...                                                   |                     | 100...                                                                                                  |                | is...                |                                                    | ['Chlorophyll',                                                                                |                                                      |                   | 0x7F0B6CF...       |\n",
       "|         |                                                                      |                     |                                                                                                         |                |                      |                                                    | 'true...                                                                                       |                                                      |                   |                    |\n",
       "+---------+----------------------------------------------------------------------+---------------------+---------------------------------------------------------------------------------------------------------+----------------+----------------------+----------------------------------------------------+------------------------------------------------------------------------------------------------+------------------------------------------------------+-------------------+--------------------+\n",
       "|       4 | {'chinese':                                                          | ['Fire']            | {'Attack': 52,                                                                                          | Lizard Pokémon | The flame that burns | {'next': [['5',                                    | {'ability':                                                                                    | {'hires': 'https://r                                 |                 3 | <PIL.Image.Image   |\n",
       "|         | '小火龙', 'english':                                                 |                     | 'Defense': 43, 'HP':                                                                                    |                | at the tip of its    | 'Level 16']],                                      | [['Blaze', 'false'],                                                                           | aw.githubusercontent                                 |                   | image mode=RGB     |\n",
       "|         | 'Charmander',                                                        |                     | 39, 'Sp. Attack':                                                                                       |                | tail is an           | 'prev': None}                                      | ['Solar Power',                                                                                | .com/Purukitto/po...                                 |                   | size=100x100 at    |\n",
       "|         | 'french': 'Sa...                                                     |                     | 60,...                                                                                                  |                | indicat...           |                                                    | 'true']]...                                                                                    |                                                      |                   | 0x7F0B6CF...       |\n",
       "+---------+----------------------------------------------------------------------+---------------------+---------------------------------------------------------------------------------------------------------+----------------+----------------------+----------------------------------------------------+------------------------------------------------------------------------------------------------+------------------------------------------------------+-------------------+--------------------+\n",
       "|       5 | {'chinese':                                                          | ['Fire']            | {'Attack': 64,                                                                                          | Flame Pokémon  | Charmeleon           | {'next': [['6',                                    | {'ability':                                                                                    | {'hires': 'https://r                                 |                 4 | <PIL.Image.Image   |\n",
       "|         | '火恐龙', 'english':                                                 |                     | 'Defense': 58, 'HP':                                                                                    |                | mercilessly destroys | 'Level 36']],                                      | [['Blaze', 'false'],                                                                           | aw.githubusercontent                                 |                   | image mode=RGB     |\n",
       "|         | 'Charmeleon',                                                        |                     | 58, 'Sp. Attack':                                                                                       |                | its foes using its   | 'prev': ['4', 'Level                               | ['Solar Power',                                                                                | .com/Purukitto/po...                                 |                   | size=100x100 at    |\n",
       "|         | 'french': 'Re...                                                     |                     | 80,...                                                                                                  |                | sharp ...            | 16']}                                              | 'true']]...                                                                                    |                                                      |                   | 0x7F0B6CF...       |\n",
       "+---------+----------------------------------------------------------------------+---------------------+---------------------------------------------------------------------------------------------------------+----------------+----------------------+----------------------------------------------------+------------------------------------------------------------------------------------------------+------------------------------------------------------+-------------------+--------------------+\n",
       "(Showing first 5 rows)"
      ]
     },
     "execution_count": 10,
     "metadata": {},
     "output_type": "execute_result"
    }
   ],
   "source": [
    "collection.show(5)"
   ]
  },
  {
   "cell_type": "markdown",
   "id": "cded4902-e38d-45a8-83db-ccc76d52f315",
   "metadata": {},
   "source": [
    "### Lets use a multimodal Clip Embeddings model to query images, implemented as a simple function"
   ]
  },
  {
   "cell_type": "code",
   "execution_count": 11,
   "id": "6201cc15-b47b-4777-b237-321c5865edc8",
   "metadata": {},
   "outputs": [],
   "source": [
    "from PIL import Image\n",
    "import requests\n",
    "from transformers import CLIPProcessor, CLIPModel\n",
    "\n",
    "model = CLIPModel.from_pretrained(\"openai/clip-vit-base-patch32\")\n",
    "processor = CLIPProcessor.from_pretrained(\"openai/clip-vit-base-patch32\")\n",
    "\n",
    "@transformation\n",
    "def clip_embeddings_fn(inp, inp_type):\n",
    "    if inp_type == \"image\":\n",
    "        inputs = processor(images=inp, return_tensors=\"pt\", padding=True)\n",
    "        return model.get_image_features(**inputs).detach().cpu().numpy()\n",
    "    if inp_type == \"text\":\n",
    "        inputs = processor(text=inp, return_tensors=\"pt\", padding=True)\n",
    "        return model.get_text_features(**inputs).detach().cpu().numpy()"
   ]
  },
  {
   "cell_type": "code",
   "execution_count": null,
   "id": "ce8dfefc-a3ee-4fd4-992f-6bdf7edda1ba",
   "metadata": {},
   "outputs": [],
   "source": [
    "collection = collection.embed(\"downloaded_image\", embedding_fn=clip_embeddings_fn, inp_type=\"image\", to=\"image_embeddings\").execute()"
   ]
  },
  {
   "cell_type": "markdown",
   "id": "c871d1a3-b2bc-46ff-b1a8-97708c060577",
   "metadata": {},
   "source": [
    "#### This can also be done with the `apply` function"
   ]
  },
  {
   "cell_type": "code",
   "execution_count": null,
   "id": "4462c3d3-0932-405a-aa42-74f81ec7c6e1",
   "metadata": {},
   "outputs": [],
   "source": [
    "collection = collection.apply(clip_embeddings_fn, collection[\"downloaded_image\"], inp_type=\"image\", to=\"image_embeddings\").execute()"
   ]
  },
  {
   "cell_type": "code",
   "execution_count": null,
   "id": "2f1e4a9e-7107-4255-9680-19ce496329f6",
   "metadata": {},
   "outputs": [],
   "source": [
    "collection.show(5)"
   ]
  },
  {
   "cell_type": "markdown",
   "id": "0b982406-47dd-4ed1-8443-c81280837c22",
   "metadata": {},
   "source": [
    "### Query Images with text"
   ]
  },
  {
   "cell_type": "markdown",
   "id": "fd3b6771-fd68-45e4-b0f5-4440e8fa4782",
   "metadata": {},
   "source": [
    "#### Querying for red pokemon"
   ]
  },
  {
   "cell_type": "code",
   "execution_count": null,
   "id": "d87f197e-dd90-4979-84ac-17d72ae7bf15",
   "metadata": {},
   "outputs": [],
   "source": [
    "red_pokemon = collection.query(\"image_embeddings\", query=[\"Fire Pokemon that has red and orange skin and looks like a lizard\"], k=10, inp_type=\"text\") \\\n",
    "                        .execute()\n",
    "red_pokemon.show(5)"
   ]
  },
  {
   "cell_type": "code",
   "execution_count": null,
   "id": "f815ceea-7f73-4016-a96f-1c3d886215ee",
   "metadata": {},
   "outputs": [],
   "source": [
    "red_pokemon = collection.query(\"image_embeddings\", [\"Fire Pokemon that has red and orange skin and looks like a lizard\"], k=10, inp_type=\"text\") \\\n",
    "                        .filter({\"base.Attack\":{\"gte\":60}}) \\\n",
    "                        .execute()\n",
    "red_pokemon.show(5)"
   ]
  },
  {
   "cell_type": "markdown",
   "id": "dfcdce20-d417-44e8-abd4-0c21fd11b517",
   "metadata": {},
   "source": [
    "#### Querying for pokemon that look like plants"
   ]
  },
  {
   "cell_type": "code",
   "execution_count": null,
   "id": "14722b25-4406-4152-b5f9-77fe9d471f4b",
   "metadata": {},
   "outputs": [],
   "source": [
    "plant_pokemon = collection.query(\"image_embeddings\", query=[\"Pokemon that looks like a plant\"], k=10, inp_type=\"text\") \\\n",
    "                        .execute()\n",
    "plant_pokemon.show(5)"
   ]
  },
  {
   "cell_type": "markdown",
   "id": "9d87b91d-a6ea-45b1-aea5-d4044476b0bc",
   "metadata": {},
   "source": [
    "#### Querying for Plant pokemon, but filtering out Bug pokemon"
   ]
  },
  {
   "cell_type": "markdown",
   "id": "6325cf3a-f45b-4a3e-9026-e49f937b2df3",
   "metadata": {},
   "source": [
    "##### We can use a custom filter or the built in `notcontains` method!"
   ]
  },
  {
   "cell_type": "markdown",
   "id": "d7cd4b44-a965-4192-b269-b8136b82f39f",
   "metadata": {},
   "source": [
    "```python\n",
    "# using custom filter\n",
    "def filter_by_type(typ, avoid_type):\n",
    "    return avoid_type not in typ\n",
    "\n",
    "filter_condition = {\n",
    "    \"type\": {\n",
    "        \"custom\": (filter_by_type, {\"avoid_type\":\"Bug\"})\n",
    "    }\n",
    "}\n",
    "```"
   ]
  },
  {
   "cell_type": "code",
   "execution_count": null,
   "id": "3ca169dc-a4d2-4b7f-ba70-24fbb1cf63f8",
   "metadata": {},
   "outputs": [],
   "source": [
    "filter_condition = {\n",
    "    \"type\": {\n",
    "        \"notcontains\": \"Bug\"\n",
    "    }\n",
    "}"
   ]
  },
  {
   "cell_type": "code",
   "execution_count": null,
   "id": "bbbccd24-d159-45d5-950b-d9b4633682e0",
   "metadata": {},
   "outputs": [],
   "source": [
    "plant_pokemon = collection.query(\n",
    "    \"image_embeddings\",\n",
    "    query=[\"Pokemon that looks like a plant\"],\n",
    "    k=10,\n",
    "    inp_type=\"text\",\n",
    "    filter_conditions=filter_condition\n",
    ")\n",
    "plant_pokemon.show(5)"
   ]
  },
  {
   "cell_type": "markdown",
   "id": "41055fb1-b4c2-424f-ae22-6c649b87f398",
   "metadata": {},
   "source": [
    "### Averaging text and image embeddings"
   ]
  },
  {
   "cell_type": "code",
   "execution_count": null,
   "id": "676cdf9d-0ad5-4aea-b328-27de4269d234",
   "metadata": {},
   "outputs": [],
   "source": [
    "collection = collection.embed(\"description\", embedding_fn=clip_embeddings_fn, inp_type=\"text\", to=\"text_embeddings\").execute()"
   ]
  },
  {
   "cell_type": "code",
   "execution_count": null,
   "id": "193be9f9-3377-4803-a9bc-004920c326c0",
   "metadata": {},
   "outputs": [],
   "source": [
    "collection.show(10)"
   ]
  },
  {
   "cell_type": "code",
   "execution_count": null,
   "id": "47c6bde7-742d-4e99-a9b8-ba619b6437c5",
   "metadata": {},
   "outputs": [],
   "source": [
    "@transformation\n",
    "def combine_embeddings(text_embeddings, image_embeddings, text_embedding_weight = 0.25, image_embeddings_weight = 0.75):\n",
    "    text_embeddings = np.stack(text_embeddings)\n",
    "    image_embeddings = np.stack(image_embeddings)\n",
    "    averaged = text_embedding_weight*text_embeddings + image_embeddings_weight*image_embeddings\n",
    "    return [average for average in averaged]"
   ]
  },
  {
   "cell_type": "code",
   "execution_count": null,
   "id": "7303c70e-2f9e-4426-8eaa-aa6da89bc5d6",
   "metadata": {},
   "outputs": [],
   "source": [
    "collection = collection.apply(\n",
    "    combine_embeddings,\n",
    "    collection[\"text_embeddings\"],\n",
    "    collection[\"image_embeddings\"],\n",
    "    text_embedding_weight=0.25,\n",
    "    image_embeddings_weight=0.75,\n",
    "    to=\"combined_embeddings\"\n",
    ").execute()"
   ]
  },
  {
   "cell_type": "code",
   "execution_count": null,
   "id": "de4c3754-3727-466a-97e9-714921021ac6",
   "metadata": {},
   "outputs": [],
   "source": [
    "red_pokemon = collection.query(\n",
    "                        \"combined_embeddings\",\n",
    "                        query=[\"Fire Pokemon that has red and orange skin and looks like a lizard\"],\n",
    "                        k=10,\n",
    "                        inp_type=\"text\",\n",
    "                        embedding_fn=clip_embeddings_fn\n",
    "                    ).execute()\n",
    "red_pokemon.show(5)"
   ]
  }
 ],
 "metadata": {
  "kernelspec": {
   "display_name": "Python [conda env:py39] *",
   "language": "python",
   "name": "conda-env-py39-py"
  },
  "language_info": {
   "codemirror_mode": {
    "name": "ipython",
    "version": 3
   },
   "file_extension": ".py",
   "mimetype": "text/x-python",
   "name": "python",
   "nbconvert_exporter": "python",
   "pygments_lexer": "ipython3",
   "version": "3.9.0"
  }
 },
 "nbformat": 4,
 "nbformat_minor": 5
}
