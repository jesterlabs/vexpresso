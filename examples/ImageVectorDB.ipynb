{
 "cells": [
  {
   "cell_type": "markdown",
   "id": "7adf9e8b-7e27-4467-8912-2a954639a8f4",
   "metadata": {},
   "source": [
    "# Vexpresso image vector db using CLIP"
   ]
  },
  {
   "cell_type": "markdown",
   "id": "24a14497-01c3-4963-8011-05116c5b03b1",
   "metadata": {},
   "source": [
    "## In this walkthrough, we will be using a small dataset of Pokemon images and clip to embed"
   ]
  },
  {
   "cell_type": "code",
   "execution_count": null,
   "id": "52859850-8a79-4f1b-9fbf-3b1b3e2552f5",
   "metadata": {},
   "outputs": [],
   "source": [
    "import json\n",
    "import pandas as pd\n",
    "from langchain.embeddings import HuggingFaceHubEmbeddings, HuggingFaceEmbeddings\n",
    "import numpy as np\n",
    "import daft\n",
    "import vexpresso\n",
    "from vexpresso.retriever import NumpyRetriever"
   ]
  }
 ],
 "metadata": {
  "kernelspec": {
   "display_name": "Python [conda env:py39] *",
   "language": "python",
   "name": "conda-env-py39-py"
  },
  "language_info": {
   "codemirror_mode": {
    "name": "ipython",
    "version": 3
   },
   "file_extension": ".py",
   "mimetype": "text/x-python",
   "name": "python",
   "nbconvert_exporter": "python",
   "pygments_lexer": "ipython3",
   "version": "3.9.0"
  }
 },
 "nbformat": 4,
 "nbformat_minor": 5
}
