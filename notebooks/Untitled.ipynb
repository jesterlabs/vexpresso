{
 "cells": [
  {
   "cell_type": "code",
   "execution_count": 1,
   "id": "7b4e6619-5e45-4534-9399-b13385944b20",
   "metadata": {},
   "outputs": [],
   "source": [
    "import numpy as np"
   ]
  },
  {
   "cell_type": "code",
   "execution_count": 3,
   "id": "940c10f0-96eb-4eae-9eb8-277640e88902",
   "metadata": {},
   "outputs": [],
   "source": [
    "a = np.zeros((4,320))"
   ]
  },
  {
   "cell_type": "code",
   "execution_count": 9,
   "id": "5369cdb7-c757-48b8-9833-69061a83567f",
   "metadata": {},
   "outputs": [],
   "source": [
    "b = np.ones((100,320))"
   ]
  },
  {
   "cell_type": "code",
   "execution_count": 13,
   "id": "141715fd-292f-4bf5-9685-6f72dc6516d7",
   "metadata": {},
   "outputs": [],
   "source": [
    "o = b-a[:, np.newaxis]"
   ]
  },
  {
   "cell_type": "code",
   "execution_count": 14,
   "id": "6e3fe55f-03c9-4b32-9ae5-6cbe9e562c5f",
   "metadata": {},
   "outputs": [
    {
     "data": {
      "text/plain": [
       "(4, 100, 320)"
      ]
     },
     "execution_count": 14,
     "metadata": {},
     "output_type": "execute_result"
    }
   ],
   "source": [
    "o.shape"
   ]
  }
 ],
 "metadata": {
  "kernelspec": {
   "display_name": "Python [conda env:py39] *",
   "language": "python",
   "name": "conda-env-py39-py"
  },
  "language_info": {
   "codemirror_mode": {
    "name": "ipython",
    "version": 3
   },
   "file_extension": ".py",
   "mimetype": "text/x-python",
   "name": "python",
   "nbconvert_exporter": "python",
   "pygments_lexer": "ipython3",
   "version": "3.9.0"
  }
 },
 "nbformat": 4,
 "nbformat_minor": 5
}
