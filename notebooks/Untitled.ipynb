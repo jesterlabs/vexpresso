{
 "cells": [
  {
   "cell_type": "code",
   "execution_count": 1,
   "id": "7b4e6619-5e45-4534-9399-b13385944b20",
   "metadata": {},
   "outputs": [],
   "source": [
    "import numpy as np"
   ]
  },
  {
   "cell_type": "code",
   "execution_count": 27,
   "id": "3d17b1cc-08a7-49ca-b14f-95f33a64152d",
   "metadata": {},
   "outputs": [],
   "source": [
    "import numpy as np\n",
    "np.random.seed(123)\n",
    "\n",
    "a = np.random.uniform(size=(10,768)) # or (512,3)\n",
    "b = np.random.uniform(size=(100,768)) # or (1024,3)\n",
    "\n",
    "diff = b[np.newaxis,:,:] - a[:,np.newaxis,:]\n",
    "\n",
    "dist = np.linalg.norm(diff, axis=-1)"
   ]
  },
  {
   "cell_type": "code",
   "execution_count": 28,
   "id": "354e075b-42ad-46b2-9930-f77284155e18",
   "metadata": {},
   "outputs": [
    {
     "data": {
      "text/plain": [
       "(10, 100)"
      ]
     },
     "execution_count": 28,
     "metadata": {},
     "output_type": "execute_result"
    }
   ],
   "source": [
    "dist.shape"
   ]
  },
  {
   "cell_type": "code",
   "execution_count": 29,
   "id": "d825147f-4a6d-4a7e-aede-05360009a784",
   "metadata": {},
   "outputs": [
    {
     "data": {
      "text/plain": [
       "(10, 4)"
      ]
     },
     "execution_count": 29,
     "metadata": {},
     "output_type": "execute_result"
    }
   ],
   "source": [
    "np.argsort(dist, axis=-1)[:, -4:].shape"
   ]
  },
  {
   "cell_type": "code",
   "execution_count": 1,
   "id": "a9f7ead0-cdca-4511-abeb-64b1f93d6e78",
   "metadata": {},
   "outputs": [],
   "source": [
    "import json"
   ]
  },
  {
   "cell_type": "code",
   "execution_count": 2,
   "id": "2a97e9e3-60d2-4f81-9336-8d7f836727c7",
   "metadata": {},
   "outputs": [],
   "source": [
    "documents = []\n",
    "with open(\"./data/pokemon.json\", \"r\") as f:\n",
    "    for line in f:\n",
    "        documents.append(json.loads(line))\n"
   ]
  },
  {
   "cell_type": "code",
   "execution_count": 3,
   "id": "c6a320f2-6e59-498c-a8cd-538f08a2cf80",
   "metadata": {},
   "outputs": [],
   "source": [
    "import pandas as pd"
   ]
  },
  {
   "cell_type": "code",
   "execution_count": 20,
   "id": "d2616d1c-0c5c-4149-b89f-25ea658275fa",
   "metadata": {},
   "outputs": [],
   "source": [
    "df = pd.DataFrame(documents)"
   ]
  },
  {
   "cell_type": "code",
   "execution_count": 21,
   "id": "c67ce033-daec-42c3-ad94-fdcb28399772",
   "metadata": {},
   "outputs": [
    {
     "data": {
      "text/html": [
       "<div>\n",
       "<style scoped>\n",
       "    .dataframe tbody tr th:only-of-type {\n",
       "        vertical-align: middle;\n",
       "    }\n",
       "\n",
       "    .dataframe tbody tr th {\n",
       "        vertical-align: top;\n",
       "    }\n",
       "\n",
       "    .dataframe thead th {\n",
       "        text-align: right;\n",
       "    }\n",
       "</style>\n",
       "<table border=\"1\" class=\"dataframe\">\n",
       "  <thead>\n",
       "    <tr style=\"text-align: right;\">\n",
       "      <th></th>\n",
       "      <th>name</th>\n",
       "      <th>shortname</th>\n",
       "      <th>hp</th>\n",
       "      <th>info</th>\n",
       "      <th>images</th>\n",
       "      <th>moves</th>\n",
       "    </tr>\n",
       "  </thead>\n",
       "  <tbody>\n",
       "    <tr>\n",
       "      <th>0</th>\n",
       "      <td>Abra</td>\n",
       "      <td>abra</td>\n",
       "      <td>160</td>\n",
       "      <td>{'id': 63, 'type': 'psychic', 'weakness': 'dar...</td>\n",
       "      <td>{'photo': 'images/abra.jpg', 'typeIcon': 'icon...</td>\n",
       "      <td>[{'name': 'Double Team', 'type': 'normal'}, {'...</td>\n",
       "    </tr>\n",
       "    <tr>\n",
       "      <th>1</th>\n",
       "      <td>Aerodactyl</td>\n",
       "      <td>aerodactyl</td>\n",
       "      <td>270</td>\n",
       "      <td>{'id': 142, 'type': 'flying', 'weakness': 'wat...</td>\n",
       "      <td>{'photo': 'images/aerodactyl.jpg', 'typeIcon':...</td>\n",
       "      <td>[{'name': 'Bite', 'dp': 60, 'type': 'dark'}, {...</td>\n",
       "    </tr>\n",
       "    <tr>\n",
       "      <th>2</th>\n",
       "      <td>Alakazam</td>\n",
       "      <td>alakazam</td>\n",
       "      <td>220</td>\n",
       "      <td>{'id': 65, 'type': 'psychic', 'weakness': 'dar...</td>\n",
       "      <td>{'photo': 'images/alakazam.jpg', 'typeIcon': '...</td>\n",
       "      <td>[{'name': 'Focus Blast', 'dp': 120, 'type': 'f...</td>\n",
       "    </tr>\n",
       "    <tr>\n",
       "      <th>3</th>\n",
       "      <td>Arbok</td>\n",
       "      <td>arbok</td>\n",
       "      <td>230</td>\n",
       "      <td>{'id': 24, 'type': 'poison', 'weakness': 'psyc...</td>\n",
       "      <td>{'photo': 'images/arbok.jpg', 'typeIcon': 'ico...</td>\n",
       "      <td>[{'name': 'Acid', 'dp': 40, 'type': 'poison'},...</td>\n",
       "    </tr>\n",
       "    <tr>\n",
       "      <th>4</th>\n",
       "      <td>Arcanine</td>\n",
       "      <td>arcanine</td>\n",
       "      <td>290</td>\n",
       "      <td>{'id': 59, 'type': 'fire', 'weakness': 'water'...</td>\n",
       "      <td>{'photo': 'images/arcanine.jpg', 'typeIcon': '...</td>\n",
       "      <td>[{'name': 'Bite', 'dp': 60, 'type': 'dark'}, {...</td>\n",
       "    </tr>\n",
       "    <tr>\n",
       "      <th>...</th>\n",
       "      <td>...</td>\n",
       "      <td>...</td>\n",
       "      <td>...</td>\n",
       "      <td>...</td>\n",
       "      <td>...</td>\n",
       "      <td>...</td>\n",
       "    </tr>\n",
       "    <tr>\n",
       "      <th>146</th>\n",
       "      <td>Weepinbell</td>\n",
       "      <td>weepinbell</td>\n",
       "      <td>160</td>\n",
       "      <td>{'id': 70, 'type': 'grass', 'weakness': 'fire'...</td>\n",
       "      <td>{'photo': 'images/weepinbell.jpg', 'typeIcon':...</td>\n",
       "      <td>[{'name': 'Acid', 'dp': 40, 'type': 'poison'},...</td>\n",
       "    </tr>\n",
       "    <tr>\n",
       "      <th>147</th>\n",
       "      <td>Weezing</td>\n",
       "      <td>weezing</td>\n",
       "      <td>160</td>\n",
       "      <td>{'id': 110, 'type': 'poison', 'weakness': 'psy...</td>\n",
       "      <td>{'photo': 'images/weezing.jpg', 'typeIcon': 'i...</td>\n",
       "      <td>[{'name': 'Assurance', 'dp': 60, 'type': 'dark...</td>\n",
       "    </tr>\n",
       "    <tr>\n",
       "      <th>148</th>\n",
       "      <td>Wigglytuff</td>\n",
       "      <td>wigglytuff</td>\n",
       "      <td>160</td>\n",
       "      <td>{'id': 40, 'type': 'fairy', 'weakness': 'poiso...</td>\n",
       "      <td>{'photo': 'images/wigglytuff.jpg', 'typeIcon':...</td>\n",
       "      <td>[{'name': 'Brick Break', 'dp': 75, 'type': 'fi...</td>\n",
       "    </tr>\n",
       "    <tr>\n",
       "      <th>149</th>\n",
       "      <td>Zapdos</td>\n",
       "      <td>zapdos</td>\n",
       "      <td>160</td>\n",
       "      <td>{'id': 145, 'type': 'electric', 'weakness': 'r...</td>\n",
       "      <td>{'photo': 'images/zapdos.jpg', 'typeIcon': 'ic...</td>\n",
       "      <td>[{'name': 'Ancient Power', 'dp': 120, 'type': ...</td>\n",
       "    </tr>\n",
       "    <tr>\n",
       "      <th>150</th>\n",
       "      <td>Zubat</td>\n",
       "      <td>zubat</td>\n",
       "      <td>160</td>\n",
       "      <td>{'id': 41, 'type': 'poison', 'weakness': 'psyc...</td>\n",
       "      <td>{'photo': 'images/zubat.jpg', 'typeIcon': 'ico...</td>\n",
       "      <td>[{'name': 'Bite', 'dp': 60, 'type': 'dark'}, {...</td>\n",
       "    </tr>\n",
       "  </tbody>\n",
       "</table>\n",
       "<p>151 rows × 6 columns</p>\n",
       "</div>"
      ],
      "text/plain": [
       "           name   shortname   hp   \n",
       "0          Abra        abra  160  \\\n",
       "1    Aerodactyl  aerodactyl  270   \n",
       "2      Alakazam    alakazam  220   \n",
       "3         Arbok       arbok  230   \n",
       "4      Arcanine    arcanine  290   \n",
       "..          ...         ...  ...   \n",
       "146  Weepinbell  weepinbell  160   \n",
       "147     Weezing     weezing  160   \n",
       "148  Wigglytuff  wigglytuff  160   \n",
       "149      Zapdos      zapdos  160   \n",
       "150       Zubat       zubat  160   \n",
       "\n",
       "                                                  info   \n",
       "0    {'id': 63, 'type': 'psychic', 'weakness': 'dar...  \\\n",
       "1    {'id': 142, 'type': 'flying', 'weakness': 'wat...   \n",
       "2    {'id': 65, 'type': 'psychic', 'weakness': 'dar...   \n",
       "3    {'id': 24, 'type': 'poison', 'weakness': 'psyc...   \n",
       "4    {'id': 59, 'type': 'fire', 'weakness': 'water'...   \n",
       "..                                                 ...   \n",
       "146  {'id': 70, 'type': 'grass', 'weakness': 'fire'...   \n",
       "147  {'id': 110, 'type': 'poison', 'weakness': 'psy...   \n",
       "148  {'id': 40, 'type': 'fairy', 'weakness': 'poiso...   \n",
       "149  {'id': 145, 'type': 'electric', 'weakness': 'r...   \n",
       "150  {'id': 41, 'type': 'poison', 'weakness': 'psyc...   \n",
       "\n",
       "                                                images   \n",
       "0    {'photo': 'images/abra.jpg', 'typeIcon': 'icon...  \\\n",
       "1    {'photo': 'images/aerodactyl.jpg', 'typeIcon':...   \n",
       "2    {'photo': 'images/alakazam.jpg', 'typeIcon': '...   \n",
       "3    {'photo': 'images/arbok.jpg', 'typeIcon': 'ico...   \n",
       "4    {'photo': 'images/arcanine.jpg', 'typeIcon': '...   \n",
       "..                                                 ...   \n",
       "146  {'photo': 'images/weepinbell.jpg', 'typeIcon':...   \n",
       "147  {'photo': 'images/weezing.jpg', 'typeIcon': 'i...   \n",
       "148  {'photo': 'images/wigglytuff.jpg', 'typeIcon':...   \n",
       "149  {'photo': 'images/zapdos.jpg', 'typeIcon': 'ic...   \n",
       "150  {'photo': 'images/zubat.jpg', 'typeIcon': 'ico...   \n",
       "\n",
       "                                                 moves  \n",
       "0    [{'name': 'Double Team', 'type': 'normal'}, {'...  \n",
       "1    [{'name': 'Bite', 'dp': 60, 'type': 'dark'}, {...  \n",
       "2    [{'name': 'Focus Blast', 'dp': 120, 'type': 'f...  \n",
       "3    [{'name': 'Acid', 'dp': 40, 'type': 'poison'},...  \n",
       "4    [{'name': 'Bite', 'dp': 60, 'type': 'dark'}, {...  \n",
       "..                                                 ...  \n",
       "146  [{'name': 'Acid', 'dp': 40, 'type': 'poison'},...  \n",
       "147  [{'name': 'Assurance', 'dp': 60, 'type': 'dark...  \n",
       "148  [{'name': 'Brick Break', 'dp': 75, 'type': 'fi...  \n",
       "149  [{'name': 'Ancient Power', 'dp': 120, 'type': ...  \n",
       "150  [{'name': 'Bite', 'dp': 60, 'type': 'dark'}, {...  \n",
       "\n",
       "[151 rows x 6 columns]"
      ]
     },
     "execution_count": 21,
     "metadata": {},
     "output_type": "execute_result"
    }
   ],
   "source": [
    "df"
   ]
  },
  {
   "cell_type": "code",
   "execution_count": 22,
   "id": "09d5334d-1bae-492f-8cdc-ec6e2c4914f0",
   "metadata": {},
   "outputs": [
    {
     "data": {
      "text/plain": [
       "['name', 'shortname', 'hp', 'info', 'images', 'moves']"
      ]
     },
     "execution_count": 22,
     "metadata": {},
     "output_type": "execute_result"
    }
   ],
   "source": [
    "list(df.columns)"
   ]
  },
  {
   "cell_type": "code",
   "execution_count": 23,
   "id": "c982dc34-77e9-4651-b97b-ea26481c4423",
   "metadata": {},
   "outputs": [
    {
     "data": {
      "text/html": [
       "<div>\n",
       "<style scoped>\n",
       "    .dataframe tbody tr th:only-of-type {\n",
       "        vertical-align: middle;\n",
       "    }\n",
       "\n",
       "    .dataframe tbody tr th {\n",
       "        vertical-align: top;\n",
       "    }\n",
       "\n",
       "    .dataframe thead th {\n",
       "        text-align: right;\n",
       "    }\n",
       "</style>\n",
       "<table border=\"1\" class=\"dataframe\">\n",
       "  <thead>\n",
       "    <tr style=\"text-align: right;\">\n",
       "      <th></th>\n",
       "      <th>name</th>\n",
       "      <th>shortname</th>\n",
       "      <th>hp</th>\n",
       "      <th>info</th>\n",
       "      <th>images</th>\n",
       "      <th>moves</th>\n",
       "    </tr>\n",
       "  </thead>\n",
       "  <tbody>\n",
       "    <tr>\n",
       "      <th>10</th>\n",
       "      <td>Butterfree</td>\n",
       "      <td>butterfree</td>\n",
       "      <td>230</td>\n",
       "      <td>{'id': 12, 'type': 'flying', 'weakness': 'fire...</td>\n",
       "      <td>{'photo': 'images/butterfree.jpg', 'typeIcon':...</td>\n",
       "      <td>[{'name': 'Double Team', 'type': 'normal'}, {'...</td>\n",
       "    </tr>\n",
       "    <tr>\n",
       "      <th>11</th>\n",
       "      <td>Caterpie</td>\n",
       "      <td>caterpie</td>\n",
       "      <td>200</td>\n",
       "      <td>{'id': 10, 'type': 'grass', 'weakness': 'fire'...</td>\n",
       "      <td>{'photo': 'images/caterpie.jpg', 'typeIcon': '...</td>\n",
       "      <td>[{'name': 'Bug Bite', 'dp': 60, 'type': 'bug'}...</td>\n",
       "    </tr>\n",
       "    <tr>\n",
       "      <th>12</th>\n",
       "      <td>Chansey</td>\n",
       "      <td>chansey</td>\n",
       "      <td>610</td>\n",
       "      <td>{'id': 113, 'type': 'normal', 'weakness': 'fig...</td>\n",
       "      <td>{'photo': 'images/chansey.jpg', 'typeIcon': 'i...</td>\n",
       "      <td>[{'name': 'Defense Curl', 'type': 'normal'}, {...</td>\n",
       "    </tr>\n",
       "  </tbody>\n",
       "</table>\n",
       "</div>"
      ],
      "text/plain": [
       "          name   shortname   hp   \n",
       "10  Butterfree  butterfree  230  \\\n",
       "11    Caterpie    caterpie  200   \n",
       "12     Chansey     chansey  610   \n",
       "\n",
       "                                                 info   \n",
       "10  {'id': 12, 'type': 'flying', 'weakness': 'fire...  \\\n",
       "11  {'id': 10, 'type': 'grass', 'weakness': 'fire'...   \n",
       "12  {'id': 113, 'type': 'normal', 'weakness': 'fig...   \n",
       "\n",
       "                                               images   \n",
       "10  {'photo': 'images/butterfree.jpg', 'typeIcon':...  \\\n",
       "11  {'photo': 'images/caterpie.jpg', 'typeIcon': '...   \n",
       "12  {'photo': 'images/chansey.jpg', 'typeIcon': 'i...   \n",
       "\n",
       "                                                moves  \n",
       "10  [{'name': 'Double Team', 'type': 'normal'}, {'...  \n",
       "11  [{'name': 'Bug Bite', 'dp': 60, 'type': 'bug'}...  \n",
       "12  [{'name': 'Defense Curl', 'type': 'normal'}, {...  "
      ]
     },
     "execution_count": 23,
     "metadata": {},
     "output_type": "execute_result"
    }
   ],
   "source": [
    "df.iloc[[10,11,12]]"
   ]
  },
  {
   "cell_type": "code",
   "execution_count": 32,
   "id": "9d57e350-bb26-4869-9be7-32eb5bfc0445",
   "metadata": {},
   "outputs": [],
   "source": [
    "edf = pd.DataFrame({\"name\":[\"TEST\"]})"
   ]
  },
  {
   "cell_type": "code",
   "execution_count": 34,
   "id": "6c92f803-756c-4204-9041-ec9aecd9bba3",
   "metadata": {},
   "outputs": [
    {
     "data": {
      "text/plain": [
       "True"
      ]
     },
     "execution_count": 34,
     "metadata": {},
     "output_type": "execute_result"
    }
   ],
   "source": [
    "\"hp\" in df.columns"
   ]
  },
  {
   "cell_type": "code",
   "execution_count": 33,
   "id": "d6619f45-d103-42f4-a5e4-dd8fe1b72edd",
   "metadata": {},
   "outputs": [
    {
     "data": {
      "text/html": [
       "<div>\n",
       "<style scoped>\n",
       "    .dataframe tbody tr th:only-of-type {\n",
       "        vertical-align: middle;\n",
       "    }\n",
       "\n",
       "    .dataframe tbody tr th {\n",
       "        vertical-align: top;\n",
       "    }\n",
       "\n",
       "    .dataframe thead th {\n",
       "        text-align: right;\n",
       "    }\n",
       "</style>\n",
       "<table border=\"1\" class=\"dataframe\">\n",
       "  <thead>\n",
       "    <tr style=\"text-align: right;\">\n",
       "      <th></th>\n",
       "      <th>name</th>\n",
       "      <th>shortname</th>\n",
       "      <th>hp</th>\n",
       "      <th>info</th>\n",
       "      <th>images</th>\n",
       "      <th>moves</th>\n",
       "    </tr>\n",
       "  </thead>\n",
       "  <tbody>\n",
       "    <tr>\n",
       "      <th>0</th>\n",
       "      <td>TEST</td>\n",
       "      <td>NaN</td>\n",
       "      <td>NaN</td>\n",
       "      <td>NaN</td>\n",
       "      <td>NaN</td>\n",
       "      <td>NaN</td>\n",
       "    </tr>\n",
       "    <tr>\n",
       "      <th>1</th>\n",
       "      <td>Abra</td>\n",
       "      <td>abra</td>\n",
       "      <td>160.0</td>\n",
       "      <td>{'id': 63, 'type': 'psychic', 'weakness': 'dar...</td>\n",
       "      <td>{'photo': 'images/abra.jpg', 'typeIcon': 'icon...</td>\n",
       "      <td>[{'name': 'Double Team', 'type': 'normal'}, {'...</td>\n",
       "    </tr>\n",
       "    <tr>\n",
       "      <th>2</th>\n",
       "      <td>Aerodactyl</td>\n",
       "      <td>aerodactyl</td>\n",
       "      <td>270.0</td>\n",
       "      <td>{'id': 142, 'type': 'flying', 'weakness': 'wat...</td>\n",
       "      <td>{'photo': 'images/aerodactyl.jpg', 'typeIcon':...</td>\n",
       "      <td>[{'name': 'Bite', 'dp': 60, 'type': 'dark'}, {...</td>\n",
       "    </tr>\n",
       "    <tr>\n",
       "      <th>3</th>\n",
       "      <td>Alakazam</td>\n",
       "      <td>alakazam</td>\n",
       "      <td>220.0</td>\n",
       "      <td>{'id': 65, 'type': 'psychic', 'weakness': 'dar...</td>\n",
       "      <td>{'photo': 'images/alakazam.jpg', 'typeIcon': '...</td>\n",
       "      <td>[{'name': 'Focus Blast', 'dp': 120, 'type': 'f...</td>\n",
       "    </tr>\n",
       "    <tr>\n",
       "      <th>4</th>\n",
       "      <td>Arbok</td>\n",
       "      <td>arbok</td>\n",
       "      <td>230.0</td>\n",
       "      <td>{'id': 24, 'type': 'poison', 'weakness': 'psyc...</td>\n",
       "      <td>{'photo': 'images/arbok.jpg', 'typeIcon': 'ico...</td>\n",
       "      <td>[{'name': 'Acid', 'dp': 40, 'type': 'poison'},...</td>\n",
       "    </tr>\n",
       "    <tr>\n",
       "      <th>...</th>\n",
       "      <td>...</td>\n",
       "      <td>...</td>\n",
       "      <td>...</td>\n",
       "      <td>...</td>\n",
       "      <td>...</td>\n",
       "      <td>...</td>\n",
       "    </tr>\n",
       "    <tr>\n",
       "      <th>147</th>\n",
       "      <td>Weepinbell</td>\n",
       "      <td>weepinbell</td>\n",
       "      <td>160.0</td>\n",
       "      <td>{'id': 70, 'type': 'grass', 'weakness': 'fire'...</td>\n",
       "      <td>{'photo': 'images/weepinbell.jpg', 'typeIcon':...</td>\n",
       "      <td>[{'name': 'Acid', 'dp': 40, 'type': 'poison'},...</td>\n",
       "    </tr>\n",
       "    <tr>\n",
       "      <th>148</th>\n",
       "      <td>Weezing</td>\n",
       "      <td>weezing</td>\n",
       "      <td>160.0</td>\n",
       "      <td>{'id': 110, 'type': 'poison', 'weakness': 'psy...</td>\n",
       "      <td>{'photo': 'images/weezing.jpg', 'typeIcon': 'i...</td>\n",
       "      <td>[{'name': 'Assurance', 'dp': 60, 'type': 'dark...</td>\n",
       "    </tr>\n",
       "    <tr>\n",
       "      <th>149</th>\n",
       "      <td>Wigglytuff</td>\n",
       "      <td>wigglytuff</td>\n",
       "      <td>160.0</td>\n",
       "      <td>{'id': 40, 'type': 'fairy', 'weakness': 'poiso...</td>\n",
       "      <td>{'photo': 'images/wigglytuff.jpg', 'typeIcon':...</td>\n",
       "      <td>[{'name': 'Brick Break', 'dp': 75, 'type': 'fi...</td>\n",
       "    </tr>\n",
       "    <tr>\n",
       "      <th>150</th>\n",
       "      <td>Zapdos</td>\n",
       "      <td>zapdos</td>\n",
       "      <td>160.0</td>\n",
       "      <td>{'id': 145, 'type': 'electric', 'weakness': 'r...</td>\n",
       "      <td>{'photo': 'images/zapdos.jpg', 'typeIcon': 'ic...</td>\n",
       "      <td>[{'name': 'Ancient Power', 'dp': 120, 'type': ...</td>\n",
       "    </tr>\n",
       "    <tr>\n",
       "      <th>151</th>\n",
       "      <td>Zubat</td>\n",
       "      <td>zubat</td>\n",
       "      <td>160.0</td>\n",
       "      <td>{'id': 41, 'type': 'poison', 'weakness': 'psyc...</td>\n",
       "      <td>{'photo': 'images/zubat.jpg', 'typeIcon': 'ico...</td>\n",
       "      <td>[{'name': 'Bite', 'dp': 60, 'type': 'dark'}, {...</td>\n",
       "    </tr>\n",
       "  </tbody>\n",
       "</table>\n",
       "<p>152 rows × 6 columns</p>\n",
       "</div>"
      ],
      "text/plain": [
       "           name   shortname     hp   \n",
       "0          TEST         NaN    NaN  \\\n",
       "1          Abra        abra  160.0   \n",
       "2    Aerodactyl  aerodactyl  270.0   \n",
       "3      Alakazam    alakazam  220.0   \n",
       "4         Arbok       arbok  230.0   \n",
       "..          ...         ...    ...   \n",
       "147  Weepinbell  weepinbell  160.0   \n",
       "148     Weezing     weezing  160.0   \n",
       "149  Wigglytuff  wigglytuff  160.0   \n",
       "150      Zapdos      zapdos  160.0   \n",
       "151       Zubat       zubat  160.0   \n",
       "\n",
       "                                                  info   \n",
       "0                                                  NaN  \\\n",
       "1    {'id': 63, 'type': 'psychic', 'weakness': 'dar...   \n",
       "2    {'id': 142, 'type': 'flying', 'weakness': 'wat...   \n",
       "3    {'id': 65, 'type': 'psychic', 'weakness': 'dar...   \n",
       "4    {'id': 24, 'type': 'poison', 'weakness': 'psyc...   \n",
       "..                                                 ...   \n",
       "147  {'id': 70, 'type': 'grass', 'weakness': 'fire'...   \n",
       "148  {'id': 110, 'type': 'poison', 'weakness': 'psy...   \n",
       "149  {'id': 40, 'type': 'fairy', 'weakness': 'poiso...   \n",
       "150  {'id': 145, 'type': 'electric', 'weakness': 'r...   \n",
       "151  {'id': 41, 'type': 'poison', 'weakness': 'psyc...   \n",
       "\n",
       "                                                images   \n",
       "0                                                  NaN  \\\n",
       "1    {'photo': 'images/abra.jpg', 'typeIcon': 'icon...   \n",
       "2    {'photo': 'images/aerodactyl.jpg', 'typeIcon':...   \n",
       "3    {'photo': 'images/alakazam.jpg', 'typeIcon': '...   \n",
       "4    {'photo': 'images/arbok.jpg', 'typeIcon': 'ico...   \n",
       "..                                                 ...   \n",
       "147  {'photo': 'images/weepinbell.jpg', 'typeIcon':...   \n",
       "148  {'photo': 'images/weezing.jpg', 'typeIcon': 'i...   \n",
       "149  {'photo': 'images/wigglytuff.jpg', 'typeIcon':...   \n",
       "150  {'photo': 'images/zapdos.jpg', 'typeIcon': 'ic...   \n",
       "151  {'photo': 'images/zubat.jpg', 'typeIcon': 'ico...   \n",
       "\n",
       "                                                 moves  \n",
       "0                                                  NaN  \n",
       "1    [{'name': 'Double Team', 'type': 'normal'}, {'...  \n",
       "2    [{'name': 'Bite', 'dp': 60, 'type': 'dark'}, {...  \n",
       "3    [{'name': 'Focus Blast', 'dp': 120, 'type': 'f...  \n",
       "4    [{'name': 'Acid', 'dp': 40, 'type': 'poison'},...  \n",
       "..                                                 ...  \n",
       "147  [{'name': 'Acid', 'dp': 40, 'type': 'poison'},...  \n",
       "148  [{'name': 'Assurance', 'dp': 60, 'type': 'dark...  \n",
       "149  [{'name': 'Brick Break', 'dp': 75, 'type': 'fi...  \n",
       "150  [{'name': 'Ancient Power', 'dp': 120, 'type': ...  \n",
       "151  [{'name': 'Bite', 'dp': 60, 'type': 'dark'}, {...  \n",
       "\n",
       "[152 rows x 6 columns]"
      ]
     },
     "execution_count": 33,
     "metadata": {},
     "output_type": "execute_result"
    }
   ],
   "source": [
    "pd.concat([edf, df], ignore_index=True)"
   ]
  },
  {
   "cell_type": "code",
   "execution_count": 35,
   "id": "5591860d-79bd-4075-b683-c2cca3f7d950",
   "metadata": {},
   "outputs": [],
   "source": [
    "from typing import Iterable"
   ]
  },
  {
   "cell_type": "code",
   "execution_count": 37,
   "id": "6fa6c2c9-d409-4091-ba0e-f8c80a320bea",
   "metadata": {},
   "outputs": [],
   "source": [
    "import numpy as np"
   ]
  },
  {
   "cell_type": "code",
   "execution_count": 38,
   "id": "51464aa5-7134-4c13-bb53-c761c4b92633",
   "metadata": {},
   "outputs": [],
   "source": [
    "a = np.array([1,2,3])"
   ]
  },
  {
   "cell_type": "code",
   "execution_count": 39,
   "id": "996c3e9f-3006-4819-8a80-311162bfd4ce",
   "metadata": {},
   "outputs": [
    {
     "data": {
      "text/plain": [
       "True"
      ]
     },
     "execution_count": 39,
     "metadata": {},
     "output_type": "execute_result"
    }
   ],
   "source": [
    "isinstance(a, Iterable)"
   ]
  },
  {
   "cell_type": "code",
   "execution_count": 13,
   "id": "ef73fd7d-36ee-4f9a-b1a1-5c4ac1d07d57",
   "metadata": {},
   "outputs": [],
   "source": [
    "class Test:\n",
    "    def append(self, t2):\n",
    "        if isinstance(t2, pd.DataFrame):\n",
    "            self = t2"
   ]
  },
  {
   "cell_type": "code",
   "execution_count": 14,
   "id": "f8488a07-6ffd-47f4-a3c7-4cb6595c9092",
   "metadata": {},
   "outputs": [],
   "source": [
    "t = Test()"
   ]
  },
  {
   "cell_type": "code",
   "execution_count": 15,
   "id": "88476689-24cb-4c8a-9d0d-6d9027bae0c6",
   "metadata": {},
   "outputs": [],
   "source": [
    "t.append(df)"
   ]
  },
  {
   "cell_type": "code",
   "execution_count": 18,
   "id": "89094ca6-0b0e-45dd-bc45-777ed637a4fc",
   "metadata": {},
   "outputs": [
    {
     "data": {
      "text/plain": [
       "True"
      ]
     },
     "execution_count": 18,
     "metadata": {},
     "output_type": "execute_result"
    }
   ],
   "source": [
    "isinstance(df, pd.DataFrame)"
   ]
  },
  {
   "cell_type": "code",
   "execution_count": 6,
   "id": "1f3b627c-c801-412f-9050-084d061a905f",
   "metadata": {},
   "outputs": [],
   "source": [
    "from langchain.embeddings import OpenAIEmbeddings\n"
   ]
  },
  {
   "cell_type": "code",
   "execution_count": 7,
   "id": "b12541b3-4145-4287-b3e6-49f8f8fe4747",
   "metadata": {},
   "outputs": [
    {
     "ename": "ValidationError",
     "evalue": "1 validation error for OpenAIEmbeddings\n__root__\n  Could not import openai python package. Please install it with `pip install openai`. (type=value_error)",
     "output_type": "error",
     "traceback": [
      "\u001b[0;31m---------------------------------------------------------------------------\u001b[0m",
      "\u001b[0;31mValidationError\u001b[0m                           Traceback (most recent call last)",
      "Cell \u001b[0;32mIn[7], line 1\u001b[0m\n\u001b[0;32m----> 1\u001b[0m embeddings \u001b[38;5;241m=\u001b[39m \u001b[43mOpenAIEmbeddings\u001b[49m\u001b[43m(\u001b[49m\u001b[43m)\u001b[49m\n",
      "File \u001b[0;32m~/miniconda3/envs/py39/lib/python3.9/site-packages/pydantic/main.py:341\u001b[0m, in \u001b[0;36mpydantic.main.BaseModel.__init__\u001b[0;34m()\u001b[0m\n",
      "\u001b[0;31mValidationError\u001b[0m: 1 validation error for OpenAIEmbeddings\n__root__\n  Could not import openai python package. Please install it with `pip install openai`. (type=value_error)"
     ]
    }
   ],
   "source": [
    "embeddings = OpenAIEmbeddings()\n"
   ]
  },
  {
   "cell_type": "code",
   "execution_count": 8,
   "id": "940c10f0-96eb-4eae-9eb8-277640e88902",
   "metadata": {},
   "outputs": [
    {
     "ename": "NameError",
     "evalue": "name 'np' is not defined",
     "output_type": "error",
     "traceback": [
      "\u001b[0;31m---------------------------------------------------------------------------\u001b[0m",
      "\u001b[0;31mNameError\u001b[0m                                 Traceback (most recent call last)",
      "Cell \u001b[0;32mIn[8], line 1\u001b[0m\n\u001b[0;32m----> 1\u001b[0m a \u001b[38;5;241m=\u001b[39m \u001b[43mnp\u001b[49m\u001b[38;5;241m.\u001b[39mzeros((\u001b[38;5;241m4\u001b[39m,\u001b[38;5;241m320\u001b[39m))\n",
      "\u001b[0;31mNameError\u001b[0m: name 'np' is not defined"
     ]
    }
   ],
   "source": [
    "a = np.zeros((4,320))"
   ]
  },
  {
   "cell_type": "code",
   "execution_count": 9,
   "id": "5369cdb7-c757-48b8-9833-69061a83567f",
   "metadata": {},
   "outputs": [],
   "source": [
    "b = np.ones((100,320))"
   ]
  },
  {
   "cell_type": "code",
   "execution_count": 13,
   "id": "141715fd-292f-4bf5-9685-6f72dc6516d7",
   "metadata": {},
   "outputs": [],
   "source": [
    "o = b-a[:, np.newaxis]"
   ]
  },
  {
   "cell_type": "code",
   "execution_count": 14,
   "id": "6e3fe55f-03c9-4b32-9ae5-6cbe9e562c5f",
   "metadata": {},
   "outputs": [
    {
     "data": {
      "text/plain": [
       "(4, 100, 320)"
      ]
     },
     "execution_count": 14,
     "metadata": {},
     "output_type": "execute_result"
    }
   ],
   "source": [
    "o.shape"
   ]
  },
  {
   "cell_type": "code",
   "execution_count": 2,
   "id": "6e49533c-8af5-42a5-97ba-02be7eea92ba",
   "metadata": {},
   "outputs": [],
   "source": [
    "import pandas as pd\n",
    "import duckdb\n",
    "\n",
    "class Test:\n",
    "    def __init__(self):\n",
    "        self.con = duckdb.connect()\n",
    "        self.mydf = pd.DataFrame({'a' : [1, 2, 3], 'b':[0,0,10]})\n",
    "        rel = self.con.from_df(self.mydf)\n",
    "        self.filtered = rel.filter('b == 0').df()"
   ]
  },
  {
   "cell_type": "code",
   "execution_count": 3,
   "id": "923342bd-80b8-48c5-a1df-d1e0d8685b47",
   "metadata": {},
   "outputs": [],
   "source": [
    "t = Test()"
   ]
  },
  {
   "cell_type": "code",
   "execution_count": 4,
   "id": "3865d2af-ce65-4047-b4e1-a9f5b720326a",
   "metadata": {},
   "outputs": [
    {
     "data": {
      "text/html": [
       "<div>\n",
       "<style scoped>\n",
       "    .dataframe tbody tr th:only-of-type {\n",
       "        vertical-align: middle;\n",
       "    }\n",
       "\n",
       "    .dataframe tbody tr th {\n",
       "        vertical-align: top;\n",
       "    }\n",
       "\n",
       "    .dataframe thead th {\n",
       "        text-align: right;\n",
       "    }\n",
       "</style>\n",
       "<table border=\"1\" class=\"dataframe\">\n",
       "  <thead>\n",
       "    <tr style=\"text-align: right;\">\n",
       "      <th></th>\n",
       "      <th>a</th>\n",
       "      <th>b</th>\n",
       "    </tr>\n",
       "  </thead>\n",
       "  <tbody>\n",
       "    <tr>\n",
       "      <th>0</th>\n",
       "      <td>1</td>\n",
       "      <td>0</td>\n",
       "    </tr>\n",
       "    <tr>\n",
       "      <th>1</th>\n",
       "      <td>2</td>\n",
       "      <td>0</td>\n",
       "    </tr>\n",
       "  </tbody>\n",
       "</table>\n",
       "</div>"
      ],
      "text/plain": [
       "   a  b\n",
       "0  1  0\n",
       "1  2  0"
      ]
     },
     "execution_count": 4,
     "metadata": {},
     "output_type": "execute_result"
    }
   ],
   "source": [
    "t.filtered"
   ]
  },
  {
   "cell_type": "code",
   "execution_count": 5,
   "id": "24639cb6-05b6-4705-a23b-3dab77d8a6d4",
   "metadata": {},
   "outputs": [
    {
     "data": {
      "text/plain": [
       "<duckdb.DuckDBPyConnection at 0x7f812091a530>"
      ]
     },
     "execution_count": 5,
     "metadata": {},
     "output_type": "execute_result"
    }
   ],
   "source": [
    "t.con"
   ]
  },
  {
   "cell_type": "code",
   "execution_count": 15,
   "id": "5df1c8b1-521b-49fa-99d5-fd5511c03812",
   "metadata": {},
   "outputs": [],
   "source": [
    "a = np.ones((32,32))"
   ]
  },
  {
   "cell_type": "code",
   "execution_count": 1,
   "id": "633d3c29-9ab1-4ec4-b928-dc257cc4ed10",
   "metadata": {},
   "outputs": [],
   "source": [
    "a = [1,2,3,4]"
   ]
  },
  {
   "cell_type": "code",
   "execution_count": 2,
   "id": "6f04e8e9-cb92-4068-9659-f62a000964c3",
   "metadata": {},
   "outputs": [],
   "source": [
    "from typing import Iterable"
   ]
  },
  {
   "cell_type": "code",
   "execution_count": 6,
   "id": "b4bdb2c4-540a-4ad5-88c0-97c30550dec7",
   "metadata": {},
   "outputs": [
    {
     "data": {
      "text/plain": [
       "True"
      ]
     },
     "execution_count": 6,
     "metadata": {},
     "output_type": "execute_result"
    }
   ],
   "source": [
    "isinstance(a, Iterable)"
   ]
  },
  {
   "cell_type": "code",
   "execution_count": 13,
   "id": "319c1a77-80bf-41b2-8573-37953ca9071a",
   "metadata": {},
   "outputs": [
    {
     "ename": "ValueError",
     "evalue": "If using all scalar values, you must pass an index",
     "output_type": "error",
     "traceback": [
      "\u001b[0;31m---------------------------------------------------------------------------\u001b[0m",
      "\u001b[0;31mValueError\u001b[0m                                Traceback (most recent call last)",
      "Cell \u001b[0;32mIn[14], line 1\u001b[0m\n\u001b[0;32m----> 1\u001b[0m pd\u001b[38;5;241m.\u001b[39mconcat([t\u001b[38;5;241m.\u001b[39mmydf, \u001b[43mpd\u001b[49m\u001b[38;5;241;43m.\u001b[39;49m\u001b[43mDataFrame\u001b[49m\u001b[43m(\u001b[49m\u001b[43m{\u001b[49m\u001b[38;5;124;43m\"\u001b[39;49m\u001b[38;5;124;43ma\u001b[39;49m\u001b[38;5;124;43m\"\u001b[39;49m\u001b[43m:\u001b[49m\u001b[38;5;241;43m1\u001b[39;49m\u001b[43m,\u001b[49m\u001b[43m \u001b[49m\u001b[38;5;124;43m\"\u001b[39;49m\u001b[38;5;124;43mb\u001b[39;49m\u001b[38;5;124;43m\"\u001b[39;49m\u001b[43m:\u001b[49m\u001b[38;5;241;43m3\u001b[39;49m\u001b[43m}\u001b[49m\u001b[43m)\u001b[49m], ignore_index\u001b[38;5;241m=\u001b[39m\u001b[38;5;28;01mTrue\u001b[39;00m)\n",
      "File \u001b[0;32m~/miniconda3/envs/py39/lib/python3.9/site-packages/pandas/core/frame.py:709\u001b[0m, in \u001b[0;36mDataFrame.__init__\u001b[0;34m(self, data, index, columns, dtype, copy)\u001b[0m\n\u001b[1;32m    703\u001b[0m     mgr \u001b[38;5;241m=\u001b[39m \u001b[38;5;28mself\u001b[39m\u001b[38;5;241m.\u001b[39m_init_mgr(\n\u001b[1;32m    704\u001b[0m         data, axes\u001b[38;5;241m=\u001b[39m{\u001b[38;5;124m\"\u001b[39m\u001b[38;5;124mindex\u001b[39m\u001b[38;5;124m\"\u001b[39m: index, \u001b[38;5;124m\"\u001b[39m\u001b[38;5;124mcolumns\u001b[39m\u001b[38;5;124m\"\u001b[39m: columns}, dtype\u001b[38;5;241m=\u001b[39mdtype, copy\u001b[38;5;241m=\u001b[39mcopy\n\u001b[1;32m    705\u001b[0m     )\n\u001b[1;32m    707\u001b[0m \u001b[38;5;28;01melif\u001b[39;00m \u001b[38;5;28misinstance\u001b[39m(data, \u001b[38;5;28mdict\u001b[39m):\n\u001b[1;32m    708\u001b[0m     \u001b[38;5;66;03m# GH#38939 de facto copy defaults to False only in non-dict cases\u001b[39;00m\n\u001b[0;32m--> 709\u001b[0m     mgr \u001b[38;5;241m=\u001b[39m \u001b[43mdict_to_mgr\u001b[49m\u001b[43m(\u001b[49m\u001b[43mdata\u001b[49m\u001b[43m,\u001b[49m\u001b[43m \u001b[49m\u001b[43mindex\u001b[49m\u001b[43m,\u001b[49m\u001b[43m \u001b[49m\u001b[43mcolumns\u001b[49m\u001b[43m,\u001b[49m\u001b[43m \u001b[49m\u001b[43mdtype\u001b[49m\u001b[38;5;241;43m=\u001b[39;49m\u001b[43mdtype\u001b[49m\u001b[43m,\u001b[49m\u001b[43m \u001b[49m\u001b[43mcopy\u001b[49m\u001b[38;5;241;43m=\u001b[39;49m\u001b[43mcopy\u001b[49m\u001b[43m,\u001b[49m\u001b[43m \u001b[49m\u001b[43mtyp\u001b[49m\u001b[38;5;241;43m=\u001b[39;49m\u001b[43mmanager\u001b[49m\u001b[43m)\u001b[49m\n\u001b[1;32m    710\u001b[0m \u001b[38;5;28;01melif\u001b[39;00m \u001b[38;5;28misinstance\u001b[39m(data, ma\u001b[38;5;241m.\u001b[39mMaskedArray):\n\u001b[1;32m    711\u001b[0m     \u001b[38;5;28;01mfrom\u001b[39;00m \u001b[38;5;21;01mnumpy\u001b[39;00m\u001b[38;5;21;01m.\u001b[39;00m\u001b[38;5;21;01mma\u001b[39;00m \u001b[38;5;28;01mimport\u001b[39;00m mrecords\n",
      "File \u001b[0;32m~/miniconda3/envs/py39/lib/python3.9/site-packages/pandas/core/internals/construction.py:481\u001b[0m, in \u001b[0;36mdict_to_mgr\u001b[0;34m(data, index, columns, dtype, typ, copy)\u001b[0m\n\u001b[1;32m    477\u001b[0m     \u001b[38;5;28;01melse\u001b[39;00m:\n\u001b[1;32m    478\u001b[0m         \u001b[38;5;66;03m# dtype check to exclude e.g. range objects, scalars\u001b[39;00m\n\u001b[1;32m    479\u001b[0m         arrays \u001b[38;5;241m=\u001b[39m [x\u001b[38;5;241m.\u001b[39mcopy() \u001b[38;5;28;01mif\u001b[39;00m \u001b[38;5;28mhasattr\u001b[39m(x, \u001b[38;5;124m\"\u001b[39m\u001b[38;5;124mdtype\u001b[39m\u001b[38;5;124m\"\u001b[39m) \u001b[38;5;28;01melse\u001b[39;00m x \u001b[38;5;28;01mfor\u001b[39;00m x \u001b[38;5;129;01min\u001b[39;00m arrays]\n\u001b[0;32m--> 481\u001b[0m \u001b[38;5;28;01mreturn\u001b[39;00m \u001b[43marrays_to_mgr\u001b[49m\u001b[43m(\u001b[49m\u001b[43marrays\u001b[49m\u001b[43m,\u001b[49m\u001b[43m \u001b[49m\u001b[43mcolumns\u001b[49m\u001b[43m,\u001b[49m\u001b[43m \u001b[49m\u001b[43mindex\u001b[49m\u001b[43m,\u001b[49m\u001b[43m \u001b[49m\u001b[43mdtype\u001b[49m\u001b[38;5;241;43m=\u001b[39;49m\u001b[43mdtype\u001b[49m\u001b[43m,\u001b[49m\u001b[43m \u001b[49m\u001b[43mtyp\u001b[49m\u001b[38;5;241;43m=\u001b[39;49m\u001b[43mtyp\u001b[49m\u001b[43m,\u001b[49m\u001b[43m \u001b[49m\u001b[43mconsolidate\u001b[49m\u001b[38;5;241;43m=\u001b[39;49m\u001b[43mcopy\u001b[49m\u001b[43m)\u001b[49m\n",
      "File \u001b[0;32m~/miniconda3/envs/py39/lib/python3.9/site-packages/pandas/core/internals/construction.py:115\u001b[0m, in \u001b[0;36marrays_to_mgr\u001b[0;34m(arrays, columns, index, dtype, verify_integrity, typ, consolidate)\u001b[0m\n\u001b[1;32m    112\u001b[0m \u001b[38;5;28;01mif\u001b[39;00m verify_integrity:\n\u001b[1;32m    113\u001b[0m     \u001b[38;5;66;03m# figure out the index, if necessary\u001b[39;00m\n\u001b[1;32m    114\u001b[0m     \u001b[38;5;28;01mif\u001b[39;00m index \u001b[38;5;129;01mis\u001b[39;00m \u001b[38;5;28;01mNone\u001b[39;00m:\n\u001b[0;32m--> 115\u001b[0m         index \u001b[38;5;241m=\u001b[39m \u001b[43m_extract_index\u001b[49m\u001b[43m(\u001b[49m\u001b[43marrays\u001b[49m\u001b[43m)\u001b[49m\n\u001b[1;32m    116\u001b[0m     \u001b[38;5;28;01melse\u001b[39;00m:\n\u001b[1;32m    117\u001b[0m         index \u001b[38;5;241m=\u001b[39m ensure_index(index)\n",
      "File \u001b[0;32m~/miniconda3/envs/py39/lib/python3.9/site-packages/pandas/core/internals/construction.py:645\u001b[0m, in \u001b[0;36m_extract_index\u001b[0;34m(data)\u001b[0m\n\u001b[1;32m    642\u001b[0m         \u001b[38;5;28;01mraise\u001b[39;00m \u001b[38;5;167;01mValueError\u001b[39;00m(\u001b[38;5;124m\"\u001b[39m\u001b[38;5;124mPer-column arrays must each be 1-dimensional\u001b[39m\u001b[38;5;124m\"\u001b[39m)\n\u001b[1;32m    644\u001b[0m \u001b[38;5;28;01mif\u001b[39;00m \u001b[38;5;129;01mnot\u001b[39;00m indexes \u001b[38;5;129;01mand\u001b[39;00m \u001b[38;5;129;01mnot\u001b[39;00m raw_lengths:\n\u001b[0;32m--> 645\u001b[0m     \u001b[38;5;28;01mraise\u001b[39;00m \u001b[38;5;167;01mValueError\u001b[39;00m(\u001b[38;5;124m\"\u001b[39m\u001b[38;5;124mIf using all scalar values, you must pass an index\u001b[39m\u001b[38;5;124m\"\u001b[39m)\n\u001b[1;32m    647\u001b[0m \u001b[38;5;28;01mif\u001b[39;00m have_series:\n\u001b[1;32m    648\u001b[0m     index \u001b[38;5;241m=\u001b[39m union_indexes(indexes)\n",
      "\u001b[0;31mValueError\u001b[0m: If using all scalar values, you must pass an index"
     ]
    }
   ],
   "source": [
    "pd.concat([t.mydf, pd.DataFrame([{\"a\":1, \"b\":3}, {\"a\":1, \"b\":3}])], ignore_index=True)"
   ]
  }
 ],
 "metadata": {
  "kernelspec": {
   "display_name": "Python [conda env:py39] *",
   "language": "python",
   "name": "conda-env-py39-py"
  },
  "language_info": {
   "codemirror_mode": {
    "name": "ipython",
    "version": 3
   },
   "file_extension": ".py",
   "mimetype": "text/x-python",
   "name": "python",
   "nbconvert_exporter": "python",
   "pygments_lexer": "ipython3",
   "version": "3.9.0"
  }
 },
 "nbformat": 4,
 "nbformat_minor": 5
}
